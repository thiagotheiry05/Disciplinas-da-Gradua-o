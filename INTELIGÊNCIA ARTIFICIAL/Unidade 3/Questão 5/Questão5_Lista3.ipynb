{
  "nbformat": 4,
  "nbformat_minor": 0,
  "metadata": {
    "colab": {
      "provenance": [],
      "authorship_tag": "ABX9TyNFXPfItEqM86wC/nFW9r90",
      "include_colab_link": true
    },
    "kernelspec": {
      "name": "python3",
      "display_name": "Python 3"
    },
    "language_info": {
      "name": "python"
    }
  },
  "cells": [
    {
      "cell_type": "markdown",
      "metadata": {
        "id": "view-in-github",
        "colab_type": "text"
      },
      "source": [
        "<a href=\"https://colab.research.google.com/github/thiagotheiry05/Disciplinas-da-Graduacao/blob/main/INTELIG%C3%8ANCIA%20ARTIFICIAL/Unidade%203/Quest%C3%A3o5_Lista3.ipynb\" target=\"_parent\"><img src=\"https://colab.research.google.com/assets/colab-badge.svg\" alt=\"Open In Colab\"/></a>"
      ]
    },
    {
      "cell_type": "code",
      "execution_count": null,
      "metadata": {
        "id": "9zWKuzoZwpjA"
      },
      "outputs": [],
      "source": [
        "# Instalando a biblioteca necessaria para a implementação\n",
        "pip install scikit-fuzzy\n"
      ]
    },
    {
      "cell_type": "code",
      "source": [
        "# Importando os pacotes\n",
        "import numpy as np\n",
        "import skfuzzy as fuzz\n",
        "from skfuzzy import control as ctrl"
      ],
      "metadata": {
        "id": "qu2XoJZwyUz9"
      },
      "execution_count": 60,
      "outputs": []
    },
    {
      "cell_type": "code",
      "source": [
        "# Definindo o intervalo dos valores das variáveis linguísticas fuzzy: temperatura e velocidade\n",
        "temperature = ctrl.Antecedent(np.arange(0, 41, 1), 'temperature')\n",
        "speed = ctrl.Consequent(np.arange(0, 21, 1), 'speed')"
      ],
      "metadata": {
        "id": "b0gXPCeyyWDS"
      },
      "execution_count": 61,
      "outputs": []
    },
    {
      "cell_type": "code",
      "source": [
        "# Definindo as funções de pertinência com três conjuntos para cada variavel\n",
        "temperature['cold'] = fuzz.trimf(temperature.universe, [0, 0, 20])\n",
        "temperature['moderate'] = fuzz.trimf(temperature.universe, [0, 20, 40])\n",
        "temperature['hot'] = fuzz.trimf(temperature.universe, [20, 40, 40])\n",
        "\n",
        "speed['slow'] = fuzz.trimf(speed.universe, [0, 0, 10])\n",
        "speed['medium'] = fuzz.trimf(speed.universe, [0, 10, 20])\n",
        "speed['fast'] = fuzz.trimf(speed.universe, [10, 20, 20])"
      ],
      "metadata": {
        "id": "GOzNta-CyYPh"
      },
      "execution_count": 62,
      "outputs": []
    },
    {
      "cell_type": "code",
      "source": [
        "# Definindo as regras fuzzy que relacionam as variáveis linguísticas de entrada e saída\n",
        "rule1 = ctrl.Rule(temperature['cold'], speed['slow'])\n",
        "rule2 = ctrl.Rule(temperature['moderate'], speed['medium'])\n",
        "rule3 = ctrl.Rule(temperature['hot'], speed['fast'])"
      ],
      "metadata": {
        "id": "BP8PM-ZlyZ2J"
      },
      "execution_count": 63,
      "outputs": []
    },
    {
      "cell_type": "code",
      "source": [
        "# Criando o sistema de controle fuzzy e uma simulação\n",
        "speed_ctrl = ctrl.ControlSystem([rule1, rule2, rule3])\n",
        "speeding = ctrl.ControlSystemSimulation(speed_ctrl)"
      ],
      "metadata": {
        "id": "rCpvmsn5ycy5"
      },
      "execution_count": 64,
      "outputs": []
    },
    {
      "cell_type": "code",
      "source": [
        "# Aplicando um valor de entrada e usando o compute() para executar o sistema de controle.\n",
        "speeding.input['temperature'] = 40\n",
        "speeding.compute()"
      ],
      "metadata": {
        "id": "xWrLgmr8yesw"
      },
      "execution_count": null,
      "outputs": []
    },
    {
      "cell_type": "code",
      "source": [
        "# Acessando e imprimindo o valor de saída da variável\n",
        "print(\"Speed:\", speeding.output['speed'])\n"
      ],
      "metadata": {
        "colab": {
          "base_uri": "https://localhost:8080/"
        },
        "id": "IxxxVkl2ygjE",
        "outputId": "69affc57-2ebd-4051-982a-42c8c9a64a24"
      },
      "execution_count": null,
      "outputs": [
        {
          "output_type": "stream",
          "name": "stdout",
          "text": [
            "Speed: 16.666666666666664\n"
          ]
        }
      ]
    },
    {
      "cell_type": "markdown",
      "source": [
        "# Quanto maior for o valor de input (temperatura ambiente), maior será o output (velocidade do motor para controlar a temperatura)"
      ],
      "metadata": {
        "id": "w1fpH8sx6gCz"
      }
    }
  ]
}