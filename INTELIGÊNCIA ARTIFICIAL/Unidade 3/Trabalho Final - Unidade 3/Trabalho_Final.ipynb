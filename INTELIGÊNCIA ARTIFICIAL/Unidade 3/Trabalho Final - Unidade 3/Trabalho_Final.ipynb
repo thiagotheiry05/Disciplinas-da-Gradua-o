{
  "nbformat": 4,
  "nbformat_minor": 0,
  "metadata": {
    "colab": {
      "provenance": []
    },
    "kernelspec": {
      "name": "python3",
      "display_name": "Python 3"
    },
    "language_info": {
      "name": "python"
    }
  },
  "cells": [
    {
      "cell_type": "code",
      "source": [
        "# Instalando a biblioteca necessaria para a implementação\n",
        "!pip install scikit-fuzzy"
      ],
      "metadata": {
        "id": "r6iWI2M-URcB"
      },
      "execution_count": null,
      "outputs": []
    },
    {
      "cell_type": "code",
      "execution_count": 7,
      "metadata": {
        "id": "KTY3OX0HODK4"
      },
      "outputs": [],
      "source": [
        "# Importando os pacotes\n",
        "import numpy as np\n",
        "import skfuzzy as fuzz\n",
        "from skfuzzy import control as ctrl"
      ]
    },
    {
      "cell_type": "code",
      "source": [
        "# Definir as variáveis de entrada e saída\n",
        "velocidade = ctrl.Antecedent(np.arange(0,101,1), \"velocidade\")\n",
        "distancia = ctrl.Antecedent(np.arange(0,251,1), \"distancia\")\n",
        "acao = ctrl.Consequent(np.arange(-1, 2, 1), 'acao')"
      ],
      "metadata": {
        "id": "xScgTV4qU8Nj"
      },
      "execution_count": 110,
      "outputs": []
    },
    {
      "cell_type": "code",
      "source": [
        "# Definir as funções de pertinência para as variáveis\n",
        "velocidade['baixa'] = fuzz.trimf(velocidade.universe, [0,20,40])\n",
        "velocidade['media'] = fuzz.trimf(velocidade.universe, [30,50,70])\n",
        "velocidade['alta'] = fuzz.trimf(velocidade.universe, [60,80,100])\n",
        "\n",
        "distancia['pequena'] = fuzz.trimf(distancia.universe, [10,60,100])\n",
        "distancia['media'] = fuzz.trimf(distancia.universe, [80,120,160])\n",
        "distancia['grande'] = fuzz.trimf(distancia.universe, [140,200,250])\n",
        "\n",
        "acao['frear muito'] = fuzz.trimf(acao.universe, [-1, -1, 0])\n",
        "acao['frear'] = fuzz.trimf(acao.universe, [-0.5, -0.5, 0])\n",
        "acao['mantenha'] = fuzz.trimf(acao.universe, [-1, 0, 1])\n",
        "acao['acelerar'] = fuzz.trimf(acao.universe, [0, 1, 1])\n"
      ],
      "metadata": {
        "id": "BkTYPhdNT_Zc"
      },
      "execution_count": 129,
      "outputs": []
    },
    {
      "cell_type": "code",
      "source": [
        "# Definir as regras fuzzy\n",
        "rule1 = ctrl.Rule(velocidade['baixa'] & distancia['pequena'], acao['frear'])\n",
        "rule2 = ctrl.Rule(velocidade['baixa'] & distancia['media'], acao['mantenha'])\n",
        "rule3 = ctrl.Rule(velocidade['baixa'] & distancia['grande'], acao['acelerar'])\n",
        "\n",
        "rule4 = ctrl.Rule(velocidade['media'] & distancia['pequena'], acao['frear'])\n",
        "rule5 = ctrl.Rule(velocidade['media'] & distancia['media'], acao['mantenha'])\n",
        "rule6 = ctrl.Rule(velocidade['media'] & distancia['grande'], acao['acelerar'])\n",
        "\n",
        "rule7 = ctrl.Rule(velocidade['alta'] & distancia['pequena'], acao['frear muito'])\n",
        "rule8 = ctrl.Rule(velocidade['alta'] & distancia['media'], acao['frear'])\n",
        "rule9 = ctrl.Rule(velocidade['alta'] & distancia['grande'], acao['mantenha'])\n"
      ],
      "metadata": {
        "id": "a0tFvY2wXo3B"
      },
      "execution_count": 130,
      "outputs": []
    },
    {
      "cell_type": "code",
      "source": [
        "# Criar o sistema de controle fuzzy\n",
        "sistema_controle = ctrl.ControlSystem([rule1, rule2, rule3, rule4, rule5, rule6, rule7, rule8, rule9])\n",
        "sistema = ctrl.ControlSystemSimulation(sistema_controle)"
      ],
      "metadata": {
        "id": "7b7FncGBckQy"
      },
      "execution_count": 131,
      "outputs": []
    },
    {
      "cell_type": "code",
      "source": [
        "sistema.input['velocidade'] = 20\n",
        "sistema.input['distancia'] = 150\n",
        "sistema.compute()\n",
        "acao_carro = sistema.output['acao']"
      ],
      "metadata": {
        "id": "8ua6Sa4DfPXM"
      },
      "execution_count": 145,
      "outputs": []
    },
    {
      "cell_type": "code",
      "source": [
        "# Determinar ação do carro\n",
        "\n",
        "if acao_carro < -0.5:\n",
        "    acao_texto = \"Frear Muito\"\n",
        "elif acao_carro < 0:\n",
        "    acao_texto = 'Frear'\n",
        "elif acao_carro > 0:\n",
        "    acao_texto = \"Acelerar\"\n",
        "else:\n",
        "    acao_texto = \"Manter\"\n",
        "\n",
        "# Imprimir a ação do carro\n",
        "print(\"Ação do carro será:\", acao_texto)"
      ],
      "metadata": {
        "colab": {
          "base_uri": "https://localhost:8080/"
        },
        "id": "qdpTcCynqlYK",
        "outputId": "e0bfd407-ca6a-4dbe-c6fe-9a795fabc7fa"
      },
      "execution_count": 146,
      "outputs": [
        {
          "output_type": "stream",
          "name": "stdout",
          "text": [
            "Ação do carro será: Acelerar\n"
          ]
        }
      ]
    },
    {
      "cell_type": "code",
      "source": [
        "# Exemplo de frear Muito\n",
        "\n",
        "sistema.input['velocidade'] = 90\n",
        "sistema.input['distancia'] = 15\n",
        "sistema.compute()\n",
        "acao_carro = sistema.output['acao']\n",
        "\n",
        "# Determinar ação do carro\n",
        "if acao_carro < -0.5:\n",
        "    acao_texto = \"Frear Muito\"\n",
        "elif acao_carro < 0:\n",
        "    acao_texto = 'Frear'\n",
        "elif acao_carro > 0:\n",
        "    acao_texto = \"Acelerar\"\n",
        "else:\n",
        "    acao_texto = \"Manter\"\n",
        "\n",
        "# Imprimir a ação do carro\n",
        "print(\"Ação do carro será:\", acao_texto)"
      ],
      "metadata": {
        "colab": {
          "base_uri": "https://localhost:8080/"
        },
        "id": "wKEb0rMbsWjO",
        "outputId": "6d6ea856-e3b8-4187-a681-2c138aeb3ad8"
      },
      "execution_count": 142,
      "outputs": [
        {
          "output_type": "stream",
          "name": "stdout",
          "text": [
            "Ação do carro será: Frear Muito\n"
          ]
        }
      ]
    },
    {
      "cell_type": "code",
      "source": [
        "# Exemplo de frear\n",
        "\n",
        "sistema.input['velocidade'] = 90\n",
        "sistema.input['distancia'] = 150\n",
        "sistema.compute()\n",
        "acao_carro = sistema.output['acao']\n",
        "\n",
        "# Determinar ação do carro\n",
        "if acao_carro < -0.5:\n",
        "    acao_texto = \"Frear Muito\"\n",
        "elif acao_carro < 0:\n",
        "    acao_texto = 'Frear'\n",
        "elif acao_carro > 0:\n",
        "    acao_texto = \"Acelerar\"\n",
        "else:\n",
        "    acao_texto = \"Manter\"\n",
        "\n",
        "# Imprimir a ação do carro\n",
        "print(\"Ação do carro será:\", acao_texto)"
      ],
      "metadata": {
        "colab": {
          "base_uri": "https://localhost:8080/"
        },
        "id": "L7WHV818sgzB",
        "outputId": "34ac45a2-c619-44b7-e567-a87f66f879d2"
      },
      "execution_count": 143,
      "outputs": [
        {
          "output_type": "stream",
          "name": "stdout",
          "text": [
            "Ação do carro será: Frear\n"
          ]
        }
      ]
    }
  ]
}