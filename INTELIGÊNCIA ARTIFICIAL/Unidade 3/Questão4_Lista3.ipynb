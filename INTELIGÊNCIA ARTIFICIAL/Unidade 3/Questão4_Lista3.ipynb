{
  "nbformat": 4,
  "nbformat_minor": 0,
  "metadata": {
    "colab": {
      "provenance": [],
      "authorship_tag": "ABX9TyOXFLFCCpiN2b7rKwgq0qT9",
      "include_colab_link": true
    },
    "kernelspec": {
      "name": "python3",
      "display_name": "Python 3"
    },
    "language_info": {
      "name": "python"
    }
  },
  "cells": [
    {
      "cell_type": "markdown",
      "metadata": {
        "id": "view-in-github",
        "colab_type": "text"
      },
      "source": [
        "<a href=\"https://colab.research.google.com/github/thiagotheiry05/Disciplinas-da-Graduacao/blob/main/INTELIG%C3%8ANCIA%20ARTIFICIAL/Unidade%203/Quest%C3%A3o4_Lista3.ipynb\" target=\"_parent\"><img src=\"https://colab.research.google.com/assets/colab-badge.svg\" alt=\"Open In Colab\"/></a>"
      ]
    },
    {
      "cell_type": "code",
      "source": [
        "# Sistema Especialista em diagnóstico médico\n",
        "\n",
        "class SistemaEspecialista:\n",
        "    def __init__(self):\n",
        "        self.base_conhecimento = {}\n",
        "\n",
        "    def adicionar_sintoma(self, sintoma, doenca):\n",
        "        if sintoma not in self.base_conhecimento:\n",
        "            self.base_conhecimento[sintoma] = [doenca]\n",
        "        else:\n",
        "            self.base_conhecimento[sintoma].append(doenca)\n",
        "\n",
        "    def diagnosticar(self, sintomas):\n",
        "        for sintoma in sintomas:\n",
        "            if sintoma in self.base_conhecimento:\n",
        "                return self.base_conhecimento[sintoma]\n",
        "        return \"Doença não encontrada\"\n",
        "\n",
        "\n",
        "sistema = SistemaEspecialista()\n",
        "sistema.adicionar_sintoma(\"febre\", \"resfriado\")\n",
        "sistema.adicionar_sintoma(\"tosse\", \"resfriado\")\n",
        "sistema.adicionar_sintoma(\"dor de cabeça\", \"enxaqueca\")\n",
        "sistema.adicionar_sintoma(\"vomito\", \"enxaqueca\")\n",
        "\n",
        "sintomas_paciente = [\"febre\", \"dor de cabeça\"]\n",
        "resultado_diagnostico = sistema.diagnosticar(sintomas_paciente)\n",
        "print(resultado_diagnostico)"
      ],
      "metadata": {
        "colab": {
          "base_uri": "https://localhost:8080/"
        },
        "id": "LLTJi6M0Exos",
        "outputId": "d12a55cb-2784-4fa7-a91d-a5d6c046e381"
      },
      "execution_count": 42,
      "outputs": [
        {
          "output_type": "stream",
          "name": "stdout",
          "text": [
            "['resfriado']\n"
          ]
        }
      ]
    },
    {
      "cell_type": "code",
      "source": [
        "# Inserindo os sintomas como usuario\n",
        "\n",
        "print(\"Bem-vindo ao Sistema Especialista em diagnóstico médico!\")\n",
        "print(\"Por favor, informe os sintomas que você está sentindo (separados por vírgula):\")\n",
        "sintomas_paciente = input().split(\",\")\n",
        "\n",
        "resultado_diagnostico = sistema.diagnosticar(sintomas_paciente)\n",
        "print(\"O sistema diagnosticou as seguintes doenças:\")\n",
        "print(resultado_diagnostico)\n"
      ],
      "metadata": {
        "colab": {
          "base_uri": "https://localhost:8080/"
        },
        "id": "cFwW50u7Hfon",
        "outputId": "28a738d9-06c4-4be0-cff8-8ee56442245c"
      },
      "execution_count": 43,
      "outputs": [
        {
          "output_type": "stream",
          "name": "stdout",
          "text": [
            "Bem-vindo ao Sistema Especialista em diagnóstico médico!\n",
            "Por favor, informe os sintomas que você está sentindo (separados por vírgula):\n",
            "dor de cabeça, vomito\n",
            "O sistema diagnosticou as seguintes doenças:\n",
            "['enxaqueca']\n"
          ]
        }
      ]
    }
  ]
}