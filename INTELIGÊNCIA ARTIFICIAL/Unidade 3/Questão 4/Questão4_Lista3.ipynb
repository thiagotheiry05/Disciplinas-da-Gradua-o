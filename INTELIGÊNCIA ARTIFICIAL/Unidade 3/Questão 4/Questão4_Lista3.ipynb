{
  "nbformat": 4,
  "nbformat_minor": 0,
  "metadata": {
    "colab": {
      "provenance": []
    },
    "kernelspec": {
      "name": "python3",
      "display_name": "Python 3"
    },
    "language_info": {
      "name": "python"
    }
  },
  "cells": [
    {
      "cell_type": "markdown",
      "metadata": {
        "id": "view-in-github"
      },
      "source": [
        "<a href=\"https://colab.research.google.com/github/thiagotheiry05/Disciplinas-da-Graduacao/blob/main/INTELIG%C3%8ANCIA%20ARTIFICIAL/Unidade%203/Quest%C3%A3o4_Lista3.ipynb\" target=\"_parent\"><img src=\"https://colab.research.google.com/assets/colab-badge.svg\" alt=\"Open In Colab\"/></a>"
      ]
    },
    {
      "cell_type": "code",
      "source": [
        "# Sistema Especialista em diagnóstico médico\n",
        "\n",
        "class SistemaEspecialista:\n",
        "    def __init__(self):\n",
        "        self.base_conhecimento = {}\n",
        "\n",
        "    def adicionar_sintoma(self, sintoma, doenca):\n",
        "        if sintoma not in self.base_conhecimento:\n",
        "            self.base_conhecimento[sintoma] = [doenca]\n",
        "        else:\n",
        "            self.base_conhecimento[sintoma].append(doenca)\n",
        "\n",
        "    def diagnosticar(self, sintomas):\n",
        "        doencas_diagnosticadas = []\n",
        "        for sintoma in sintomas:\n",
        "            if sintoma in self.base_conhecimento:\n",
        "                doencas_diagnosticadas.extend(self.base_conhecimento[sintoma])\n",
        "        if len(doencas_diagnosticadas) > 0:\n",
        "            return list(set(doencas_diagnosticadas))  # Remover duplicatas e retornar como lista\n",
        "        else:\n",
        "            return [\"Doença não encontrada\"]\n",
        "\n",
        "\n",
        "sistema = SistemaEspecialista()\n",
        "sistema.adicionar_sintoma(\"febre\", \"resfriado\")\n",
        "sistema.adicionar_sintoma(\"tosse\", \"resfriado\")\n",
        "sistema.adicionar_sintoma(\"dor de cabeça\", \"resfriado\")\n",
        "sistema.adicionar_sintoma(\"dor de cabeça\", \"enxaqueca\")\n",
        "sistema.adicionar_sintoma(\"vomito\", \"enxaqueca\")\n",
        "sistema.adicionar_sintoma(\"azia\", \"Gastrite\")\n",
        "sistema.adicionar_sintoma(\"dor de barriga\", \"Gastrite\")\n",
        "\n",
        "sintomas_paciente = [\"febre\", \"dor de cabeça\"]\n",
        "resultado_diagnostico = sistema.diagnosticar(sintomas_paciente)\n",
        "print(resultado_diagnostico)"
      ],
      "metadata": {
        "colab": {
          "base_uri": "https://localhost:8080/"
        },
        "id": "LLTJi6M0Exos",
        "outputId": "a465a414-80b2-48b2-b727-2216dfdd3a6a"
      },
      "execution_count": 9,
      "outputs": [
        {
          "output_type": "stream",
          "name": "stdout",
          "text": [
            "['resfriado', 'enxaqueca']\n"
          ]
        }
      ]
    },
    {
      "cell_type": "markdown",
      "source": [
        "# Vale resslatar que o programa ainda não consegue destinguir sintomas identicos de doenças diferentes. Por isso, por mais que dor de cabeça também seja causada por um resfriado, é associada a enxaqueca"
      ],
      "metadata": {
        "id": "nhIQKDserXZX"
      }
    },
    {
      "cell_type": "code",
      "source": [
        "# Testando com sintomas não cadastrados\n",
        "sintomas_paciente = [\"calafrios\", \"nausea\"]\n",
        "resultado_diagnostico = sistema.diagnosticar(sintomas_paciente)\n",
        "print(resultado_diagnostico)"
      ],
      "metadata": {
        "colab": {
          "base_uri": "https://localhost:8080/"
        },
        "id": "MKM3bKPmpS6Q",
        "outputId": "6373a2fa-51b3-47da-8ac4-6b3e713a8cbb"
      },
      "execution_count": 2,
      "outputs": [
        {
          "output_type": "stream",
          "name": "stdout",
          "text": [
            "Doença não encontrada\n"
          ]
        }
      ]
    },
    {
      "cell_type": "markdown",
      "source": [
        "# Para ter uma interação com o usuario, nesse trecho abaixo, é pedido que seja inserido os sintomas\n"
      ],
      "metadata": {
        "id": "B8CxNYt5r6DD"
      }
    },
    {
      "cell_type": "code",
      "source": [
        "# Inserindo os sintomas como usuario\n",
        "print(\"Bem-vindo ao Sistema Especialista em diagnóstico médico!\")\n",
        "print(\"Por favor, informe os sintomas que você está sentindo (separados por vírgula):\")\n",
        "sintomas_paciente = input().replace(\" \", \"\").split(\",\")\n",
        "\n",
        "resultado_diagnostico = sistema.diagnosticar(sintomas_paciente)\n",
        "print(\"O sistema diagnosticou as seguintes doenças:\")\n",
        "print(resultado_diagnostico)\n"
      ],
      "metadata": {
        "colab": {
          "base_uri": "https://localhost:8080/"
        },
        "id": "cFwW50u7Hfon",
        "outputId": "342c48c7-b35e-4bf3-801a-f460d5f342f9"
      },
      "execution_count": 10,
      "outputs": [
        {
          "output_type": "stream",
          "name": "stdout",
          "text": [
            "Bem-vindo ao Sistema Especialista em diagnóstico médico!\n",
            "Por favor, informe os sintomas que você está sentindo (separados por vírgula):\n",
            "tosse, azia\n",
            "O sistema diagnosticou as seguintes doenças:\n",
            "['Gastrite', 'resfriado']\n"
          ]
        }
      ]
    }
  ]
}