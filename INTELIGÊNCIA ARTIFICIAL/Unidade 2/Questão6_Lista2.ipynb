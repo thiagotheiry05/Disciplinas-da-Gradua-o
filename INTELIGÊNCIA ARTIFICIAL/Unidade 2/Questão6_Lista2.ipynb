{
  "cells": [
    {
      "cell_type": "code",
      "execution_count": null,
      "metadata": {
        "colab": {
          "base_uri": "https://localhost:8080/"
        },
        "id": "H61qlZqeBZOG",
        "outputId": "ffa91b69-d4b2-4b5e-d4c2-cd3dd70b5300"
      },
      "outputs": [
        {
          "name": "stdout",
          "output_type": "stream",
          "text": [
            "quantidade de palavras:  581533\n"
          ]
        }
      ],
      "source": [
        "import numpy as np\n",
        "from nltk.tokenize import RegexpTokenizer\n",
        "from keras.models import Sequential, load_model\n",
        "from keras.layers import LSTM\n",
        "from keras.layers.core import Dense, Activation\n",
        "from keras.optimizers import RMSprop\n",
        "import heapq\n",
        "import pickle\n",
        "\n",
        "\n",
        "# usando o arquivo '1661-0.txt' que é muito utilizado para desenvolvimento de uma LSTM\n",
        "path = '1661-0.txt'\n",
        "text = open(path).read().lower()\n",
        "print('quantidade de palavras: ', len(text))"
      ]
    },
    {
      "cell_type": "code",
      "execution_count": null,
      "metadata": {
        "colab": {
          "base_uri": "https://localhost:8080/"
        },
        "id": "xonclcWRQK-X",
        "outputId": "3f3d08bc-6654-4aff-e87d-65395395fc4a"
      },
      "outputs": [
        {
          "name": "stdout",
          "output_type": "stream",
          "text": [
            "['the', 'project', 'gutenberg', 'ebook', 'of'] ['project', 'gutenberg', 'ebook', 'of', 'the'] ['gutenberg', 'ebook', 'of', 'the', 'adventures']\n",
            "the adventures\n"
          ]
        }
      ],
      "source": [
        "# Tokenização para apenas os caracteres alfanuméricos serem considerados como parte dos tokens \n",
        "# E cada token ser uma palavra do texto original guardada em word\n",
        "tokenizer = RegexpTokenizer(r'\\w+')\n",
        "words = tokenizer.tokenize(text)\n",
        "\n",
        "# Criação do dicionário de palavras únicas\n",
        "# O NumPy é usado para realizar essa operação de forma eficiente\n",
        "\n",
        "unique_words = np.unique(words)\n",
        "unique_word_index = dict((c, i) for i, c in enumerate(unique_words))\n",
        "\n",
        "# Essa variável representa o número de palavras consecutivas que serão usadas como entrada\n",
        "WORD_LENGTH = 5\n",
        "\n",
        "# Essas variáveis são usadas em um loop posterior para criar as sequências de palavras anteriores e suas respectivas palavras seguintes.\n",
        "prev_words = []\n",
        "next_words = []\n",
        "\n",
        "# Geração dos pares de palavras de entrada e saída\n",
        "\n",
        "for i in range(len(words) - WORD_LENGTH):\n",
        "    prev_words.append(words[i:i + WORD_LENGTH])\n",
        "    next_words.append(words[i + WORD_LENGTH])\n",
        "\n",
        "print(prev_words[0], prev_words[1], prev_words[2])\n",
        "print(next_words[0], next_words[1])\n"
      ]
    },
    {
      "cell_type": "code",
      "execution_count": null,
      "metadata": {
        "colab": {
          "background_save": true,
          "base_uri": "https://localhost:8080/"
        },
        "id": "DenOFVMBOyRM",
        "outputId": "7e3bdf6b-4c19-42b0-a89d-d141fd70fc6d"
      },
      "outputs": [
        {
          "name": "stderr",
          "output_type": "stream",
          "text": [
            "/usr/local/lib/python3.10/dist-packages/keras/optimizers/legacy/rmsprop.py:143: UserWarning: The `lr` argument is deprecated, use `learning_rate` instead.\n",
            "  super().__init__(name, **kwargs)\n"
          ]
        },
        {
          "name": "stdout",
          "output_type": "stream",
          "text": [
            "Epoch 1/5\n",
            "406/406 [==============================] - 271s 660ms/step - loss: 6.0702 - accuracy: 0.0990 - val_loss: 6.9160 - val_accuracy: 0.0951\n",
            "Epoch 2/5\n",
            "406/406 [==============================] - 269s 662ms/step - loss: 5.4425 - accuracy: 0.1471 - val_loss: 7.0179 - val_accuracy: 0.1077\n",
            "Epoch 3/5\n",
            "406/406 [==============================] - 269s 663ms/step - loss: 5.2222 - accuracy: 0.1794 - val_loss: 7.5196 - val_accuracy: 0.1070\n",
            "Epoch 4/5\n",
            "406/406 [==============================] - 270s 664ms/step - loss: 5.0457 - accuracy: 0.2171 - val_loss: 8.1376 - val_accuracy: 0.1009\n",
            "Epoch 5/5\n",
            "406/406 [==============================] - 263s 649ms/step - loss: 4.8041 - accuracy: 0.2615 - val_loss: 8.0259 - val_accuracy: 0.0987\n",
            "correct sentence:  Your life will never be the same again\n",
            "Sequence:  your life will never be\n",
            "next possible words:  ['a', 'an', 'the', 'your', 'to']\n"
          ]
        }
      ],
      "source": [
        "# criamos matrizes vazias X e Y\n",
        "# onde X será usada para armazenar a codificação one-hot das sequências de palavras anteriores \n",
        "# Y será usada para armazenar a codificação one-hot das palavras seguintes correspondentes.\n",
        "X = np.zeros((len(prev_words), WORD_LENGTH, len(unique_words)), dtype=bool)\n",
        "Y = np.zeros((len(next_words), len(unique_words)), dtype=bool)\n",
        "\n",
        "# preencher as matrizes X e Y \n",
        "# com os valores da codificação one-hot das sequências de palavras anteriores e suas respectivas palavras seguintes\n",
        "for i, each_words in enumerate(prev_words):\n",
        "    for j, each_word in enumerate(each_words):\n",
        "        X[i, j, unique_word_index[each_word]] = 1\n",
        "    Y[i, unique_word_index[next_words[i]]] = 1\n",
        "\n",
        "\n",
        "# Definição e compilação do modelo LSTM\n",
        "model = Sequential()\n",
        "model.add(LSTM(128, input_shape=(WORD_LENGTH, len(unique_words))))\n",
        "model.add(Dense(len(unique_words)))\n",
        "model.add(Activation('softmax'))\n",
        "\n",
        "# definir o otimizador RMSprop como o otimizador para o modelo.\n",
        "optimizer = RMSprop(lr=0.01)\n",
        "model.compile(loss='categorical_crossentropy', optimizer=optimizer, metrics=['accuracy'])\n",
        "\n",
        "# Treinamento do modelo\n",
        "history = model.fit(X, Y, validation_split=0.05, batch_size=256, epochs=5, shuffle=True)\n",
        "\n",
        "# Função para preparar a entrada do modelo\n",
        "def prepare_input(text):\n",
        "    x = np.zeros((1, WORD_LENGTH, len(unique_words)))\n",
        "    for t, word in enumerate(text.split()):\n",
        "        x[0, t, unique_word_index[word]] = 1\n",
        "    return x\n",
        "\n",
        "prepare_input(\"It is not a lack\".lower())\n",
        "\n",
        "# Função para amostragem de palavras com base nas probabilidades preditas\n",
        "def sample(preds, top_n=3):\n",
        "    preds = np.asarray(preds).astype('float64')\n",
        "    preds = np.log(preds)\n",
        "    exp_preds = np.exp(preds)\n",
        "    preds = exp_preds / np.sum(exp_preds)\n",
        "\n",
        "    return heapq.nlargest(top_n, range(len(preds)), preds.take)\n",
        "\n",
        "# Função para prever as próximas palavras\n",
        "def predict_completions(text, n=3):\n",
        "    if text == \"\":\n",
        "        return(\"0\")\n",
        "    x = prepare_input(text)\n",
        "    preds = model.predict(x, verbose=0)[0]\n",
        "    next_indices = sample(preds, n)\n",
        "    return [unique_words[idx] for idx in next_indices]\n",
        "\n",
        "# Teste de predição de palavras\n",
        "q = \"Your life will never be the same again\"\n",
        "print(\"correct sentence: \", q)\n",
        "seq = \" \".join(tokenizer.tokenize(q.lower())[0:5])\n",
        "print(\"Sequence: \", seq)\n",
        "print(\"next possible words: \", predict_completions(seq, 5))\n"
      ]
    }
  ],
  "metadata": {
    "colab": {
      "provenance": []
    },
    "gpuClass": "standard",
    "kernelspec": {
      "display_name": "Python 3",
      "name": "python3"
    },
    "language_info": {
      "name": "python"
    }
  },
  "nbformat": 4,
  "nbformat_minor": 0
}