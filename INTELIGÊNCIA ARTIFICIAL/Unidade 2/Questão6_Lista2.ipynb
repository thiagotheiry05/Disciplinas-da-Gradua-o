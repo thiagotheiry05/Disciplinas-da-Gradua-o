{
  "cells": [
    {
      "cell_type": "code",
      "execution_count": 1,
      "metadata": {
        "colab": {
          "base_uri": "https://localhost:8080/"
        },
        "id": "H61qlZqeBZOG",
        "outputId": "7578db84-9842-48f6-86ba-c7730f9893d9"
      },
      "outputs": [
        {
          "output_type": "stream",
          "name": "stdout",
          "text": [
            "quantidade de palavras:  581533\n"
          ]
        }
      ],
      "source": [
        "import numpy as np\n",
        "from nltk.tokenize import RegexpTokenizer\n",
        "from keras.models import Sequential, load_model\n",
        "from keras.layers import LSTM\n",
        "from keras.layers.core import Dense, Activation\n",
        "from keras.optimizers import RMSprop\n",
        "import heapq\n",
        "import pickle\n",
        "\n",
        "\n",
        "# usando o arquivo '1661-0.txt' que é muito utilizado para desenvolvimento de uma LSTM\n",
        "path = '1661-0.txt'\n",
        "text = open(path).read().lower()\n",
        "print('quantidade de palavras: ', len(text))"
      ]
    },
    {
      "cell_type": "code",
      "execution_count": 2,
      "metadata": {
        "colab": {
          "base_uri": "https://localhost:8080/"
        },
        "id": "xonclcWRQK-X",
        "outputId": "69168d30-8927-48d5-fc96-c37ba4dbd6ec"
      },
      "outputs": [
        {
          "output_type": "stream",
          "name": "stdout",
          "text": [
            "['the', 'project', 'gutenberg', 'ebook', 'of'] ['project', 'gutenberg', 'ebook', 'of', 'the'] ['gutenberg', 'ebook', 'of', 'the', 'adventures']\n",
            "the adventures\n"
          ]
        }
      ],
      "source": [
        "# Tokenização para apenas os caracteres alfanuméricos serem considerados como parte dos tokens \n",
        "# E cada token ser uma palavra do texto original guardada em word\n",
        "tokenizer = RegexpTokenizer(r'\\w+')\n",
        "words = tokenizer.tokenize(text)\n",
        "\n",
        "# Criação do dicionário de palavras únicas\n",
        "# O NumPy é usado para realizar essa operação de forma eficiente\n",
        "\n",
        "unique_words = np.unique(words)\n",
        "unique_word_index = dict((c, i) for i, c in enumerate(unique_words))\n",
        "\n",
        "# Essa variável representa o número de palavras consecutivas que serão usadas como entrada\n",
        "WORD_LENGTH = 5\n",
        "\n",
        "# Essas variáveis são usadas em um loop posterior para criar as sequências de palavras anteriores e suas respectivas palavras seguintes.\n",
        "prev_words = []\n",
        "next_words = []\n",
        "\n",
        "# Geração dos pares de palavras de entrada e saída\n",
        "\n",
        "for i in range(len(words) - WORD_LENGTH):\n",
        "    prev_words.append(words[i:i + WORD_LENGTH])\n",
        "    next_words.append(words[i + WORD_LENGTH])\n",
        "\n",
        "print(prev_words[0], prev_words[1], prev_words[2])\n",
        "print(next_words[0], next_words[1])\n"
      ]
    },
    {
      "cell_type": "code",
      "execution_count": 3,
      "metadata": {
        "colab": {
          "base_uri": "https://localhost:8080/"
        },
        "id": "DenOFVMBOyRM",
        "outputId": "66d0c0ea-03bf-49ac-f1a9-2c4581e2a1c6"
      },
      "outputs": [
        {
          "output_type": "stream",
          "name": "stderr",
          "text": [
            "/usr/local/lib/python3.10/dist-packages/keras/optimizers/legacy/rmsprop.py:143: UserWarning: The `lr` argument is deprecated, use `learning_rate` instead.\n",
            "  super().__init__(name, **kwargs)\n"
          ]
        },
        {
          "output_type": "stream",
          "name": "stdout",
          "text": [
            "Epoch 1/5\n",
            "811/811 [==============================] - 20s 16ms/step - loss: 6.0140 - accuracy: 0.1074 - val_loss: 6.9978 - val_accuracy: 0.1057\n",
            "Epoch 2/5\n",
            "811/811 [==============================] - 12s 15ms/step - loss: 5.7603 - accuracy: 0.1455 - val_loss: 7.9987 - val_accuracy: 0.1084\n",
            "Epoch 3/5\n",
            "811/811 [==============================] - 11s 14ms/step - loss: 5.7662 - accuracy: 0.1747 - val_loss: 7.9584 - val_accuracy: 0.1020\n",
            "Epoch 4/5\n",
            "811/811 [==============================] - 12s 14ms/step - loss: 5.4171 - accuracy: 0.2088 - val_loss: 8.1269 - val_accuracy: 0.1068\n",
            "Epoch 5/5\n",
            "811/811 [==============================] - 12s 15ms/step - loss: 5.0635 - accuracy: 0.2499 - val_loss: 8.2898 - val_accuracy: 0.0962\n"
          ]
        }
      ],
      "source": [
        "# criamos matrizes vazias X e Y\n",
        "# onde X será usada para armazenar a codificação one-hot das sequências de palavras anteriores \n",
        "# Y será usada para armazenar a codificação one-hot das palavras seguintes correspondentes.\n",
        "X = np.zeros((len(prev_words), WORD_LENGTH, len(unique_words)), dtype=bool)\n",
        "Y = np.zeros((len(next_words), len(unique_words)), dtype=bool)\n",
        "\n",
        "# preencher as matrizes X e Y \n",
        "# com os valores da codificação one-hot das sequências de palavras anteriores e suas respectivas palavras seguintes\n",
        "for i, each_words in enumerate(prev_words):\n",
        "    for j, each_word in enumerate(each_words):\n",
        "        X[i, j, unique_word_index[each_word]] = 1\n",
        "    Y[i, unique_word_index[next_words[i]]] = 1\n",
        "\n",
        "\n",
        "# Definição e compilação do modelo LSTM\n",
        "model = Sequential()\n",
        "model.add(LSTM(128, input_shape=(WORD_LENGTH, len(unique_words))))\n",
        "model.add(Dense(len(unique_words)))\n",
        "model.add(Activation('softmax'))\n",
        "\n",
        "# definir o otimizador RMSprop como o otimizador para o modelo.\n",
        "optimizer = RMSprop(lr=0.01)\n",
        "model.compile(loss='categorical_crossentropy', optimizer=optimizer, metrics=['accuracy'])\n",
        "\n",
        "# Treinamento do modelo\n",
        "history = model.fit(X, Y, validation_split=0.05, batch_size=128, epochs=5, shuffle=True)\n",
        "\n"
      ]
    },
    {
      "cell_type": "code",
      "source": [
        "\n",
        "# Função para preparar a entrada do modelo e prever as próximas palavras\n",
        "def predict_completions(text, n=3):\n",
        "    x = np.zeros((1, WORD_LENGTH, len(unique_words)))\n",
        "    for t, word in enumerate(text.split()):\n",
        "        x[0, t, unique_word_index[word]] = 1\n",
        "\n",
        "    preds = model.predict(x, verbose=0)[0]\n",
        "    \n",
        "    preds = np.asarray(preds).astype('float64')\n",
        "    preds = np.log(preds)\n",
        "    exp_preds = np.exp(preds)\n",
        "    preds = exp_preds / np.sum(exp_preds)\n",
        "\n",
        "    next_indices = heapq.nlargest(n, range(len(preds)), preds.take)\n",
        "    return [unique_words[idx] for idx in next_indices]\n",
        "\n",
        "# Teste de predição de palavras\n",
        "setence = \"Your life will never be the same again\"\n",
        "print(\"Correct sentence:\", setence)\n",
        "sequencia = \" \".join(tokenizer.tokenize(setence.lower())[0:4])\n",
        "print(\"Sequence:\", sequencia)\n",
        "print(\"Next possible words:\", predict_completions(sequencia, 3))\n",
        "\n"
      ],
      "metadata": {
        "colab": {
          "base_uri": "https://localhost:8080/"
        },
        "id": "arrcT0qaeqcu",
        "outputId": "f6e48606-f43d-4d64-84c8-013944b2e823"
      },
      "execution_count": 18,
      "outputs": [
        {
          "output_type": "stream",
          "name": "stdout",
          "text": [
            "Correct sentence: Your life will never be the same again\n",
            "Sequence: your life will never\n",
            "Next possible words: ['back', 'been', 'out']\n"
          ]
        }
      ]
    }
  ],
  "metadata": {
    "colab": {
      "provenance": [],
      "gpuType": "T4"
    },
    "gpuClass": "standard",
    "kernelspec": {
      "display_name": "Python 3",
      "name": "python3"
    },
    "language_info": {
      "name": "python"
    },
    "accelerator": "GPU"
  },
  "nbformat": 4,
  "nbformat_minor": 0
}