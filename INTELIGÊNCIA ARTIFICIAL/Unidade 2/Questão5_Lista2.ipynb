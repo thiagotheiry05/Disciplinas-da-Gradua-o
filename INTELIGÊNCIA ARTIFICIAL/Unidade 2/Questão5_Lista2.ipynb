{
  "nbformat": 4,
  "nbformat_minor": 0,
  "metadata": {
    "colab": {
      "provenance": []
    },
    "kernelspec": {
      "name": "python3",
      "display_name": "Python 3"
    },
    "language_info": {
      "name": "python"
    }
  },
  "cells": [
    {
      "cell_type": "code",
      "source": [
        "import torch\n",
        "import torch.nn as nn\n",
        "import torch.optim as optim\n",
        "import torchvision.datasets as datasets\n",
        "import torchvision.transforms as transforms\n",
        "from torch.utils.data import DataLoader\n",
        "import matplotlib.pyplot as plt\n"
      ],
      "metadata": {
        "id": "Imbr3XGC5OoG"
      },
      "execution_count": 7,
      "outputs": []
    },
    {
      "cell_type": "code",
      "source": [
        "# Definir a arquitetura do autoencoder\n",
        "class Autoencoder(nn.Module):\n",
        "    def __init__(self):\n",
        "        super(Autoencoder, self).__init__()\n",
        "\n",
        "        self.encoder = nn.Sequential(\n",
        "            nn.Conv2d(1, 16, 3, stride=1, padding=1),\n",
        "            nn.ReLU(),\n",
        "            nn.MaxPool2d(2, stride=2)\n",
        "        )\n",
        "\n",
        "        self.decoder = nn.Sequential(\n",
        "            nn.Conv2d(16, 16, 3, stride=1, padding=1),\n",
        "            nn.ReLU(),\n",
        "            nn.Upsample(scale_factor=2, mode='nearest'),\n",
        "            nn.Conv2d(16, 1, 3, stride=1, padding=1),\n",
        "            nn.Sigmoid()\n",
        "        )\n",
        "\n",
        "    def forward(self, x):\n",
        "        x = self.encoder(x)\n",
        "        x = self.decoder(x)\n",
        "        return x"
      ],
      "metadata": {
        "id": "V85Mx9gq5QqF"
      },
      "execution_count": 8,
      "outputs": []
    },
    {
      "cell_type": "code",
      "source": [
        "# Definir as transformações a serem aplicadas às imagens\n",
        "transform = transforms.Compose([\n",
        "    transforms.Resize((32, 32)),\n",
        "    transforms.ToTensor()\n",
        "])"
      ],
      "metadata": {
        "id": "7OsL4LFP5SVg"
      },
      "execution_count": 9,
      "outputs": []
    },
    {
      "cell_type": "code",
      "source": [
        "# Definir os parâmetros de treinamento\n",
        "batch_size = 64\n",
        "learning_rate = 0.001\n",
        "num_epochs = 10\n"
      ],
      "metadata": {
        "id": "U4IUE6XD5Vcm"
      },
      "execution_count": 10,
      "outputs": []
    },
    {
      "cell_type": "code",
      "source": [
        "\n",
        "# Criar o conjunto de dados MNIST\n",
        "train_dataset = datasets.MNIST(root=\"./data\", train=True, transform=transform, download=True)\n",
        "\n",
        "# Criar um DataLoader para o conjunto de dados de treinamento\n",
        "train_loader = DataLoader(train_dataset, batch_size=batch_size, shuffle=True)\n",
        "\n",
        "# Criar uma instância do modelo Autoencoder\n",
        "autoencoder = Autoencoder()\n",
        "\n",
        "# Definir a função de perda e o otimizador\n",
        "criterion = nn.MSELoss()\n",
        "optimizer = optim.Adam(autoencoder.parameters(), lr=learning_rate)"
      ],
      "metadata": {
        "id": "OKDf8Ln-5Yhz"
      },
      "execution_count": 11,
      "outputs": []
    },
    {
      "cell_type": "code",
      "source": [
        "# Realizar o treinamento\n",
        "for epoch in range(num_epochs):\n",
        "    for data in train_loader:\n",
        "        images, _ = data\n",
        "        optimizer.zero_grad()\n",
        "        outputs = autoencoder(images)\n",
        "        loss = criterion(outputs, images)\n",
        "        loss.backward()\n",
        "        optimizer.step()\n",
        "    print(f\"Epoch [{epoch+1}/{num_epochs}], Loss: {loss.item()}\")\n",
        "\n",
        "# Salvar os pesos do modelo\n",
        "torch.save(autoencoder.state_dict(), 'autoencoder.pth')\n"
      ],
      "metadata": {
        "colab": {
          "base_uri": "https://localhost:8080/"
        },
        "id": "B-ayOXoW5bfX",
        "outputId": "d1c125cc-ea6a-4501-aafa-21ae898e3b60"
      },
      "execution_count": 12,
      "outputs": [
        {
          "output_type": "stream",
          "name": "stdout",
          "text": [
            "Epoch [1/10], Loss: 0.000986407627351582\n",
            "Epoch [2/10], Loss: 0.0006982242921367288\n",
            "Epoch [3/10], Loss: 0.0005356230540201068\n",
            "Epoch [4/10], Loss: 0.0004873396537732333\n",
            "Epoch [5/10], Loss: 0.0005189660587348044\n",
            "Epoch [6/10], Loss: 0.00041596314986236393\n",
            "Epoch [7/10], Loss: 0.0004264861054252833\n",
            "Epoch [8/10], Loss: 0.00037688988959416747\n",
            "Epoch [9/10], Loss: 0.0003579820622690022\n",
            "Epoch [10/10], Loss: 0.00033744622487574816\n"
          ]
        }
      ]
    },
    {
      "cell_type": "code",
      "source": [
        "# Obter uma imagem do train_dataset\n",
        "test_tensor, _ = train_dataset[0]\n",
        "\n",
        "test_tensor = test_tensor.unsqueeze(0)\n",
        "compressed_image = autoencoder.encoder(test_tensor)\n",
        "reconstructed_image = autoencoder.decoder(compressed_image)\n",
        "\n",
        "test_image = test_tensor.squeeze(0).detach().numpy()\n",
        "compressed_image = compressed_image.squeeze(0).detach().numpy()\n",
        "reconstructed_image = reconstructed_image.squeeze(0).detach().numpy()\n",
        "\n",
        "# Exibindo as imagens\n",
        "fig, (ax1, ax2, ax3) = plt.subplots(1, 3, figsize=(10, 5))\n",
        "ax1.imshow(test_image[0], cmap='gray')\n",
        "ax1.axis('off')\n",
        "ax1.set_title('Original (32x32)')\n",
        "ax2.imshow(compressed_image[0], cmap='gray')\n",
        "ax2.axis('off')\n",
        "ax2.set_title('Comprimida (16x16)')\n",
        "ax3.imshow(reconstructed_image[0], cmap='gray')\n",
        "ax3.axis('off')\n",
        "ax3.set_title('Reconstrução (32x32)')\n",
        "plt.tight_layout()\n",
        "plt.show()\n"
      ],
      "metadata": {
        "colab": {
          "base_uri": "https://localhost:8080/",
          "height": 372
        },
        "id": "AzywKVGD1dse",
        "outputId": "f58e2ed8-20fb-4fd2-bd8a-f33b4487f802"
      },
      "execution_count": 13,
      "outputs": [
        {
          "output_type": "display_data",
          "data": {
            "text/plain": [
              "<Figure size 1000x500 with 3 Axes>"
            ],
            "image/png": "[encoded data removed]"
          },
          "metadata": {}
        }
      ]
    },
    {
      "cell_type": "code",
      "source": [
        "# Converter as imagens em tensores\n",
        "original_tensor = torch.from_numpy(test_image)\n",
        "reconstructed_tensor = torch.from_numpy(reconstructed_image)\n",
        "\n",
        "# Calcular a diferença entre as imagens (ruído)\n",
        "diff = original_tensor - reconstructed_tensor\n",
        "\n",
        "# Calcular a potência do sinal original (PS)\n",
        "power_signal = torch.mean(original_tensor**2)\n",
        "\n",
        "# Calcular a potência do ruído (PR)\n",
        "power_noise = torch.mean(diff**2)\n",
        "\n",
        "# Calcular o SNR em dB\n",
        "snr_db = 10 * torch.log10(power_signal / power_noise)\n",
        "\n",
        "# Imprimir o valor do SNR em dB\n",
        "print(f\"SNR (dB): {snr_db.item()}\")"
      ],
      "metadata": {
        "colab": {
          "base_uri": "https://localhost:8080/"
        },
        "id": "0KpRP5UG6o_N",
        "outputId": "7de90dc0-c974-4991-ac72-4fb5459d2a32"
      },
      "execution_count": 14,
      "outputs": [
        {
          "output_type": "stream",
          "name": "stdout",
          "text": [
            "SNR (dB): 24.570226669311523\n"
          ]
        }
      ]
    }
  ]
}