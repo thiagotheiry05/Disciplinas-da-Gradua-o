{
  "nbformat": 4,
  "nbformat_minor": 0,
  "metadata": {
    "colab": {
      "provenance": []
    },
    "kernelspec": {
      "name": "python3",
      "display_name": "Python 3"
    },
    "language_info": {
      "name": "python"
    }
  },
  "cells": [
    {
      "cell_type": "code",
      "execution_count": 1,
      "metadata": {
        "id": "5DQnkhI0KPaR"
      },
      "outputs": [],
      "source": [
        "\n",
        "from sklearn.naive_bayes import GaussianNB"
      ]
    },
    {
      "cell_type": "code",
      "source": [
        "import pandas as pd"
      ],
      "metadata": {
        "id": "wjwhWZDLR0Yp"
      },
      "execution_count": 2,
      "outputs": []
    },
    {
      "cell_type": "code",
      "source": [
        "base_risco_credito = pd.read_excel('/content/RiscoCredito.xlsx')"
      ],
      "metadata": {
        "id": "tZSOnXVqR37e"
      },
      "execution_count": 3,
      "outputs": []
    },
    {
      "cell_type": "markdown",
      "source": [
        "1-) A tabela de dados abaixo ilustra a aplicação do método Naïve-Bayes. Um determinado\n",
        "banco deve decidir se um cliente deve ou não receber um empréstimo bancário em função\n",
        "da sua condição de bom ou mau pagador. Considerando os dados de treinamento abaixo,\n",
        "aplique o classificador Naive-Bayes, para atribuir a classe (rótulo) para os registros 12 e\n",
        "13:"
      ],
      "metadata": {
        "id": "abDm51hb8ArM"
      }
    },
    {
      "cell_type": "code",
      "source": [
        "base_risco_credito"
      ],
      "metadata": {
        "colab": {
          "base_uri": "https://localhost:8080/",
          "height": 457
        },
        "id": "qTjts4-PSF-0",
        "outputId": "02db15eb-6ede-4684-daf8-acefccd95c2e"
      },
      "execution_count": 4,
      "outputs": [
        {
          "output_type": "execute_result",
          "data": {
            "text/plain": [
              "   Tem casa própria Estado Civil Possui Carro Rendimentos Bom Pagador\n",
              "0               Sim     Solteiro          Sim        Alto         Sim\n",
              "1               Não       Casado          Sim       Médio         Não\n",
              "2               Não     Solteiro          Não       Baixo         Não\n",
              "3               Sim       Casado          Sim        Alto         Não\n",
              "4               Não   Divorciado          Não       Médio         Sim\n",
              "5               Não       Casado          Não       Baixo         Não\n",
              "6               Sim   Divorciado          Sim        Alto         Sim\n",
              "7               Não     Solteiro          Sim       Médio         Sim\n",
              "8               Não       Casado          Sim       Baixo         Não\n",
              "9               Não     Solteiro          Não       Médio         Sim\n",
              "10              Sim   Divorciado          Não       Médio         Não\n",
              "11              Não   Divorciado          Sim        Alto         NaN\n",
              "12              Sim     Solteiro          Não       Médio         NaN"
            ],
            "text/html": [
              "\n",
              "  <div id=\"df-28df0037-d770-4613-9062-a610f8035b3c\">\n",
              "    <div class=\"colab-df-container\">\n",
              "      <div>\n",
              "<style scoped>\n",
              "    .dataframe tbody tr th:only-of-type {\n",
              "        vertical-align: middle;\n",
              "    }\n",
              "\n",
              "    .dataframe tbody tr th {\n",
              "        vertical-align: top;\n",
              "    }\n",
              "\n",
              "    .dataframe thead th {\n",
              "        text-align: right;\n",
              "    }\n",
              "</style>\n",
              "<table border=\"1\" class=\"dataframe\">\n",
              "  <thead>\n",
              "    <tr style=\"text-align: right;\">\n",
              "      <th></th>\n",
              "      <th>Tem casa própria</th>\n",
              "      <th>Estado Civil</th>\n",
              "      <th>Possui Carro</th>\n",
              "      <th>Rendimentos</th>\n",
              "      <th>Bom Pagador</th>\n",
              "    </tr>\n",
              "  </thead>\n",
              "  <tbody>\n",
              "    <tr>\n",
              "      <th>0</th>\n",
              "      <td>Sim</td>\n",
              "      <td>Solteiro</td>\n",
              "      <td>Sim</td>\n",
              "      <td>Alto</td>\n",
              "      <td>Sim</td>\n",
              "    </tr>\n",
              "    <tr>\n",
              "      <th>1</th>\n",
              "      <td>Não</td>\n",
              "      <td>Casado</td>\n",
              "      <td>Sim</td>\n",
              "      <td>Médio</td>\n",
              "      <td>Não</td>\n",
              "    </tr>\n",
              "    <tr>\n",
              "      <th>2</th>\n",
              "      <td>Não</td>\n",
              "      <td>Solteiro</td>\n",
              "      <td>Não</td>\n",
              "      <td>Baixo</td>\n",
              "      <td>Não</td>\n",
              "    </tr>\n",
              "    <tr>\n",
              "      <th>3</th>\n",
              "      <td>Sim</td>\n",
              "      <td>Casado</td>\n",
              "      <td>Sim</td>\n",
              "      <td>Alto</td>\n",
              "      <td>Não</td>\n",
              "    </tr>\n",
              "    <tr>\n",
              "      <th>4</th>\n",
              "      <td>Não</td>\n",
              "      <td>Divorciado</td>\n",
              "      <td>Não</td>\n",
              "      <td>Médio</td>\n",
              "      <td>Sim</td>\n",
              "    </tr>\n",
              "    <tr>\n",
              "      <th>5</th>\n",
              "      <td>Não</td>\n",
              "      <td>Casado</td>\n",
              "      <td>Não</td>\n",
              "      <td>Baixo</td>\n",
              "      <td>Não</td>\n",
              "    </tr>\n",
              "    <tr>\n",
              "      <th>6</th>\n",
              "      <td>Sim</td>\n",
              "      <td>Divorciado</td>\n",
              "      <td>Sim</td>\n",
              "      <td>Alto</td>\n",
              "      <td>Sim</td>\n",
              "    </tr>\n",
              "    <tr>\n",
              "      <th>7</th>\n",
              "      <td>Não</td>\n",
              "      <td>Solteiro</td>\n",
              "      <td>Sim</td>\n",
              "      <td>Médio</td>\n",
              "      <td>Sim</td>\n",
              "    </tr>\n",
              "    <tr>\n",
              "      <th>8</th>\n",
              "      <td>Não</td>\n",
              "      <td>Casado</td>\n",
              "      <td>Sim</td>\n",
              "      <td>Baixo</td>\n",
              "      <td>Não</td>\n",
              "    </tr>\n",
              "    <tr>\n",
              "      <th>9</th>\n",
              "      <td>Não</td>\n",
              "      <td>Solteiro</td>\n",
              "      <td>Não</td>\n",
              "      <td>Médio</td>\n",
              "      <td>Sim</td>\n",
              "    </tr>\n",
              "    <tr>\n",
              "      <th>10</th>\n",
              "      <td>Sim</td>\n",
              "      <td>Divorciado</td>\n",
              "      <td>Não</td>\n",
              "      <td>Médio</td>\n",
              "      <td>Não</td>\n",
              "    </tr>\n",
              "    <tr>\n",
              "      <th>11</th>\n",
              "      <td>Não</td>\n",
              "      <td>Divorciado</td>\n",
              "      <td>Sim</td>\n",
              "      <td>Alto</td>\n",
              "      <td>NaN</td>\n",
              "    </tr>\n",
              "    <tr>\n",
              "      <th>12</th>\n",
              "      <td>Sim</td>\n",
              "      <td>Solteiro</td>\n",
              "      <td>Não</td>\n",
              "      <td>Médio</td>\n",
              "      <td>NaN</td>\n",
              "    </tr>\n",
              "  </tbody>\n",
              "</table>\n",
              "</div>\n",
              "      <button class=\"colab-df-convert\" onclick=\"convertToInteractive('df-28df0037-d770-4613-9062-a610f8035b3c')\"\n",
              "              title=\"Convert this dataframe to an interactive table.\"\n",
              "              style=\"display:none;\">\n",
              "        \n",
              "  <svg xmlns=\"http://www.w3.org/2000/svg\" height=\"24px\"viewBox=\"0 0 24 24\"\n",
              "       width=\"24px\">\n",
              "    <path d=\"M0 0h24v24H0V0z\" fill=\"none\"/>\n",
              "    <path d=\"M18.56 5.44l.94 2.06.94-2.06 2.06-.94-2.06-.94-.94-2.06-.94 2.06-2.06.94zm-11 1L8.5 8.5l.94-2.06 2.06-.94-2.06-.94L8.5 2.5l-.94 2.06-2.06.94zm10 10l.94 2.06.94-2.06 2.06-.94-2.06-.94-.94-2.06-.94 2.06-2.06.94z\"/><path d=\"M17.41 7.96l-1.37-1.37c-.4-.4-.92-.59-1.43-.59-.52 0-1.04.2-1.43.59L10.3 9.45l-7.72 7.72c-.78.78-.78 2.05 0 2.83L4 21.41c.39.39.9.59 1.41.59.51 0 1.02-.2 1.41-.59l7.78-7.78 2.81-2.81c.8-.78.8-2.07 0-2.86zM5.41 20L4 18.59l7.72-7.72 1.47 1.35L5.41 20z\"/>\n",
              "  </svg>\n",
              "      </button>\n",
              "      \n",
              "  <style>\n",
              "    .colab-df-container {\n",
              "      display:flex;\n",
              "      flex-wrap:wrap;\n",
              "      gap: 12px;\n",
              "    }\n",
              "\n",
              "    .colab-df-convert {\n",
              "      background-color: #E8F0FE;\n",
              "      border: none;\n",
              "      border-radius: 50%;\n",
              "      cursor: pointer;\n",
              "      display: none;\n",
              "      fill: #1967D2;\n",
              "      height: 32px;\n",
              "      padding: 0 0 0 0;\n",
              "      width: 32px;\n",
              "    }\n",
              "\n",
              "    .colab-df-convert:hover {\n",
              "      background-color: #E2EBFA;\n",
              "      box-shadow: 0px 1px 2px rgba(60, 64, 67, 0.3), 0px 1px 3px 1px rgba(60, 64, 67, 0.15);\n",
              "      fill: #174EA6;\n",
              "    }\n",
              "\n",
              "    [theme=dark] .colab-df-convert {\n",
              "      background-color: #3B4455;\n",
              "      fill: #D2E3FC;\n",
              "    }\n",
              "\n",
              "    [theme=dark] .colab-df-convert:hover {\n",
              "      background-color: #434B5C;\n",
              "      box-shadow: 0px 1px 3px 1px rgba(0, 0, 0, 0.15);\n",
              "      filter: drop-shadow(0px 1px 2px rgba(0, 0, 0, 0.3));\n",
              "      fill: #FFFFFF;\n",
              "    }\n",
              "  </style>\n",
              "\n",
              "      <script>\n",
              "        const buttonEl =\n",
              "          document.querySelector('#df-28df0037-d770-4613-9062-a610f8035b3c button.colab-df-convert');\n",
              "        buttonEl.style.display =\n",
              "          google.colab.kernel.accessAllowed ? 'block' : 'none';\n",
              "\n",
              "        async function convertToInteractive(key) {\n",
              "          const element = document.querySelector('#df-28df0037-d770-4613-9062-a610f8035b3c');\n",
              "          const dataTable =\n",
              "            await google.colab.kernel.invokeFunction('convertToInteractive',\n",
              "                                                     [key], {});\n",
              "          if (!dataTable) return;\n",
              "\n",
              "          const docLinkHtml = 'Like what you see? Visit the ' +\n",
              "            '<a target=\"_blank\" href=https://colab.research.google.com/notebooks/data_table.ipynb>data table notebook</a>'\n",
              "            + ' to learn more about interactive tables.';\n",
              "          element.innerHTML = '';\n",
              "          dataTable['output_type'] = 'display_data';\n",
              "          await google.colab.output.renderOutput(dataTable, element);\n",
              "          const docLink = document.createElement('div');\n",
              "          docLink.innerHTML = docLinkHtml;\n",
              "          element.appendChild(docLink);\n",
              "        }\n",
              "      </script>\n",
              "    </div>\n",
              "  </div>\n",
              "  "
            ]
          },
          "metadata": {},
          "execution_count": 4
        }
      ]
    },
    {
      "cell_type": "markdown",
      "source": [
        "Separando a base de teste\n"
      ],
      "metadata": {
        "id": "EMu1XQyE8OF-"
      }
    },
    {
      "cell_type": "code",
      "source": [
        "X_risco_credito = base_risco_credito.iloc[0:11, 0:4].values\n",
        "X_risco_credito"
      ],
      "metadata": {
        "colab": {
          "base_uri": "https://localhost:8080/"
        },
        "id": "NORq7C7QUI-g",
        "outputId": "945c152b-1483-4c77-94d3-87378fedaba7"
      },
      "execution_count": 5,
      "outputs": [
        {
          "output_type": "execute_result",
          "data": {
            "text/plain": [
              "array([['Sim', 'Solteiro', 'Sim', 'Alto'],\n",
              "       ['Não', 'Casado', 'Sim', 'Médio'],\n",
              "       ['Não', 'Solteiro', 'Não', 'Baixo'],\n",
              "       ['Sim', 'Casado', 'Sim', 'Alto'],\n",
              "       ['Não', 'Divorciado', 'Não', 'Médio'],\n",
              "       ['Não', 'Casado', 'Não', 'Baixo'],\n",
              "       ['Sim', 'Divorciado', 'Sim', 'Alto'],\n",
              "       ['Não', 'Solteiro', 'Sim', 'Médio'],\n",
              "       ['Não', 'Casado', 'Sim', 'Baixo'],\n",
              "       ['Não', 'Solteiro', 'Não', 'Médio'],\n",
              "       ['Sim', 'Divorciado', 'Não', 'Médio']], dtype=object)"
            ]
          },
          "metadata": {},
          "execution_count": 5
        }
      ]
    },
    {
      "cell_type": "markdown",
      "source": [
        "A base de Resposta"
      ],
      "metadata": {
        "id": "Gmd9mVtb8g91"
      }
    },
    {
      "cell_type": "code",
      "source": [
        "Y_risco_credito = base_risco_credito.iloc[0:11, 4].values\n",
        "Y_risco_credito"
      ],
      "metadata": {
        "colab": {
          "base_uri": "https://localhost:8080/"
        },
        "id": "KAtADTP5Ub0S",
        "outputId": "f60aeb1e-a1a4-46cb-bc5f-6219515e278f"
      },
      "execution_count": 6,
      "outputs": [
        {
          "output_type": "execute_result",
          "data": {
            "text/plain": [
              "array(['Sim', 'Não', 'Não', 'Não', 'Sim', 'Não', 'Sim', 'Sim', 'Não',\n",
              "       'Sim', 'Não'], dtype=object)"
            ]
          },
          "metadata": {},
          "execution_count": 6
        }
      ]
    },
    {
      "cell_type": "markdown",
      "source": [
        "Transformando os Rotulos da base de teste em inteiros para podermos classificar o Registro 12 e 13\n"
      ],
      "metadata": {
        "id": "FZEJrx8C8zsT"
      }
    },
    {
      "cell_type": "code",
      "source": [
        "from sklearn.preprocessing import LabelEncoder\n",
        "label_encoder_casapropria = LabelEncoder()\n",
        "label_encoder_estadocivil = LabelEncoder()\n",
        "label_encoder_carro = LabelEncoder()\n",
        "label_encoder_rendimentos = LabelEncoder()"
      ],
      "metadata": {
        "id": "bK2hGV-TVKCT"
      },
      "execution_count": 7,
      "outputs": []
    },
    {
      "cell_type": "code",
      "source": [
        "X_risco_credito[:,0] = label_encoder_casapropria.fit_transform(X_risco_credito[:,0])\n",
        "X_risco_credito[:,1] = label_encoder_estadocivil.fit_transform(X_risco_credito[:,1])\n",
        "X_risco_credito[:,2] = label_encoder_carro.fit_transform(X_risco_credito[:,2])\n",
        "X_risco_credito[:,3] = label_encoder_rendimentos.fit_transform(X_risco_credito[:,3])"
      ],
      "metadata": {
        "id": "aIKpEcXsVMTw"
      },
      "execution_count": 8,
      "outputs": []
    },
    {
      "cell_type": "code",
      "source": [
        "X_risco_credito"
      ],
      "metadata": {
        "colab": {
          "base_uri": "https://localhost:8080/"
        },
        "id": "XAgWCYtPVaV4",
        "outputId": "9167dfd6-de50-4a62-bdf2-42f29a43aea4"
      },
      "execution_count": 9,
      "outputs": [
        {
          "output_type": "execute_result",
          "data": {
            "text/plain": [
              "array([[1, 2, 1, 0],\n",
              "       [0, 0, 1, 2],\n",
              "       [0, 2, 0, 1],\n",
              "       [1, 0, 1, 0],\n",
              "       [0, 1, 0, 2],\n",
              "       [0, 0, 0, 1],\n",
              "       [1, 1, 1, 0],\n",
              "       [0, 2, 1, 2],\n",
              "       [0, 0, 1, 1],\n",
              "       [0, 2, 0, 2],\n",
              "       [1, 1, 0, 2]], dtype=object)"
            ]
          },
          "metadata": {},
          "execution_count": 9
        }
      ]
    },
    {
      "cell_type": "markdown",
      "source": [
        "1º Coluna: [1] = Tem casa Propria ; [0] = Não tem casa Propria\n",
        "\n",
        "2º Coluna: [2] = Solteiro ; [1] = Divorciado ; [0] = Casado\n",
        "\n",
        "3º Coluna: [1] = Possui Carro ; [0] = Não Possui Carro\n",
        "\n",
        "4º Coluna: [1] = Baixo ; [2] = Medio; [0] = Alto"
      ],
      "metadata": {
        "id": "M89owcY09ZbC"
      }
    },
    {
      "cell_type": "code",
      "source": [
        "naive_risco_credito = GaussianNB()\n",
        "naive_risco_credito.fit(X_risco_credito, Y_risco_credito)"
      ],
      "metadata": {
        "colab": {
          "base_uri": "https://localhost:8080/",
          "height": 75
        },
        "id": "QcILDVpFWtOZ",
        "outputId": "04c24169-9af8-4973-fda4-3b34685074fe"
      },
      "execution_count": 10,
      "outputs": [
        {
          "output_type": "execute_result",
          "data": {
            "text/plain": [
              "GaussianNB()"
            ],
            "text/html": [
              "<style>#sk-container-id-1 {color: black;background-color: white;}#sk-container-id-1 pre{padding: 0;}#sk-container-id-1 div.sk-toggleable {background-color: white;}#sk-container-id-1 label.sk-toggleable__label {cursor: pointer;display: block;width: 100%;margin-bottom: 0;padding: 0.3em;box-sizing: border-box;text-align: center;}#sk-container-id-1 label.sk-toggleable__label-arrow:before {content: \"▸\";float: left;margin-right: 0.25em;color: #696969;}#sk-container-id-1 label.sk-toggleable__label-arrow:hover:before {color: black;}#sk-container-id-1 div.sk-estimator:hover label.sk-toggleable__label-arrow:before {color: black;}#sk-container-id-1 div.sk-toggleable__content {max-height: 0;max-width: 0;overflow: hidden;text-align: left;background-color: #f0f8ff;}#sk-container-id-1 div.sk-toggleable__content pre {margin: 0.2em;color: black;border-radius: 0.25em;background-color: #f0f8ff;}#sk-container-id-1 input.sk-toggleable__control:checked~div.sk-toggleable__content {max-height: 200px;max-width: 100%;overflow: auto;}#sk-container-id-1 input.sk-toggleable__control:checked~label.sk-toggleable__label-arrow:before {content: \"▾\";}#sk-container-id-1 div.sk-estimator input.sk-toggleable__control:checked~label.sk-toggleable__label {background-color: #d4ebff;}#sk-container-id-1 div.sk-label input.sk-toggleable__control:checked~label.sk-toggleable__label {background-color: #d4ebff;}#sk-container-id-1 input.sk-hidden--visually {border: 0;clip: rect(1px 1px 1px 1px);clip: rect(1px, 1px, 1px, 1px);height: 1px;margin: -1px;overflow: hidden;padding: 0;position: absolute;width: 1px;}#sk-container-id-1 div.sk-estimator {font-family: monospace;background-color: #f0f8ff;border: 1px dotted black;border-radius: 0.25em;box-sizing: border-box;margin-bottom: 0.5em;}#sk-container-id-1 div.sk-estimator:hover {background-color: #d4ebff;}#sk-container-id-1 div.sk-parallel-item::after {content: \"\";width: 100%;border-bottom: 1px solid gray;flex-grow: 1;}#sk-container-id-1 div.sk-label:hover label.sk-toggleable__label {background-color: #d4ebff;}#sk-container-id-1 div.sk-serial::before {content: \"\";position: absolute;border-left: 1px solid gray;box-sizing: border-box;top: 0;bottom: 0;left: 50%;z-index: 0;}#sk-container-id-1 div.sk-serial {display: flex;flex-direction: column;align-items: center;background-color: white;padding-right: 0.2em;padding-left: 0.2em;position: relative;}#sk-container-id-1 div.sk-item {position: relative;z-index: 1;}#sk-container-id-1 div.sk-parallel {display: flex;align-items: stretch;justify-content: center;background-color: white;position: relative;}#sk-container-id-1 div.sk-item::before, #sk-container-id-1 div.sk-parallel-item::before {content: \"\";position: absolute;border-left: 1px solid gray;box-sizing: border-box;top: 0;bottom: 0;left: 50%;z-index: -1;}#sk-container-id-1 div.sk-parallel-item {display: flex;flex-direction: column;z-index: 1;position: relative;background-color: white;}#sk-container-id-1 div.sk-parallel-item:first-child::after {align-self: flex-end;width: 50%;}#sk-container-id-1 div.sk-parallel-item:last-child::after {align-self: flex-start;width: 50%;}#sk-container-id-1 div.sk-parallel-item:only-child::after {width: 0;}#sk-container-id-1 div.sk-dashed-wrapped {border: 1px dashed gray;margin: 0 0.4em 0.5em 0.4em;box-sizing: border-box;padding-bottom: 0.4em;background-color: white;}#sk-container-id-1 div.sk-label label {font-family: monospace;font-weight: bold;display: inline-block;line-height: 1.2em;}#sk-container-id-1 div.sk-label-container {text-align: center;}#sk-container-id-1 div.sk-container {/* jupyter's `normalize.less` sets `[hidden] { display: none; }` but bootstrap.min.css set `[hidden] { display: none !important; }` so we also need the `!important` here to be able to override the default hidden behavior on the sphinx rendered scikit-learn.org. See: https://github.com/scikit-learn/scikit-learn/issues/21755 */display: inline-block !important;position: relative;}#sk-container-id-1 div.sk-text-repr-fallback {display: none;}</style><div id=\"sk-container-id-1\" class=\"sk-top-container\"><div class=\"sk-text-repr-fallback\"><pre>GaussianNB()</pre><b>In a Jupyter environment, please rerun this cell to show the HTML representation or trust the notebook. <br />On GitHub, the HTML representation is unable to render, please try loading this page with nbviewer.org.</b></div><div class=\"sk-container\" hidden><div class=\"sk-item\"><div class=\"sk-estimator sk-toggleable\"><input class=\"sk-toggleable__control sk-hidden--visually\" id=\"sk-estimator-id-1\" type=\"checkbox\" checked><label for=\"sk-estimator-id-1\" class=\"sk-toggleable__label sk-toggleable__label-arrow\">GaussianNB</label><div class=\"sk-toggleable__content\"><pre>GaussianNB()</pre></div></div></div></div></div>"
            ]
          },
          "metadata": {},
          "execution_count": 10
        }
      ]
    },
    {
      "cell_type": "markdown",
      "source": [
        "Fazendo a Previsão do Registro 12"
      ],
      "metadata": {
        "id": "8up8z2hC9Mqi"
      }
    },
    {
      "cell_type": "code",
      "source": [
        "previsao = naive_risco_credito.predict([[0, 1, 1, 0]])\n",
        "print(previsao)"
      ],
      "metadata": {
        "colab": {
          "base_uri": "https://localhost:8080/"
        },
        "id": "lhOj1bDBW1PL",
        "outputId": "55729aaa-0f9d-4de8-e54a-b7b47623088a"
      },
      "execution_count": 11,
      "outputs": [
        {
          "output_type": "stream",
          "name": "stdout",
          "text": [
            "['Sim']\n"
          ]
        }
      ]
    },
    {
      "cell_type": "markdown",
      "source": [
        "Fazendo a Previsão do Registro 13\n"
      ],
      "metadata": {
        "id": "i1fXFhrm-zkF"
      }
    },
    {
      "cell_type": "code",
      "source": [
        "previsao = naive_risco_credito.predict([[1,0,0,2]])\n",
        "print(previsao)"
      ],
      "metadata": {
        "colab": {
          "base_uri": "https://localhost:8080/"
        },
        "id": "jatE48ByXrOi",
        "outputId": "b8d34b6d-015a-48e1-d8dd-76125eead201"
      },
      "execution_count": 12,
      "outputs": [
        {
          "output_type": "stream",
          "name": "stdout",
          "text": [
            "['Não']\n"
          ]
        }
      ]
    }
  ]
}