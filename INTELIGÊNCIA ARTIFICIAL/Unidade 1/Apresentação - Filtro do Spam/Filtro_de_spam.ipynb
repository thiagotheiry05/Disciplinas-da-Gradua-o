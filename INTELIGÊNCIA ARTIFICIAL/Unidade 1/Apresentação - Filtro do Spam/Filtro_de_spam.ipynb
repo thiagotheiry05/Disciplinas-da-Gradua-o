{
  "nbformat": 4,
  "nbformat_minor": 0,
  "metadata": {
    "colab": {
      "provenance": []
    },
    "kernelspec": {
      "name": "python3",
      "display_name": "Python 3"
    },
    "language_info": {
      "name": "python"
    }
  },
  "cells": [
    {
      "cell_type": "code",
      "execution_count": 1,
      "metadata": {
        "id": "WDxegBxjcFMA"
      },
      "outputs": [],
      "source": [
        "import pandas as pd\n",
        "from sklearn.model_selection import train_test_split \n",
        "from sklearn.feature_extraction.text import CountVectorizer\n",
        "from sklearn.naive_bayes import MultinomialNB"
      ]
    },
    {
      "cell_type": "code",
      "source": [
        "#Importando os dados e tratando a tabela\n",
        "emails = pd.read_csv('/content/spam.csv', encoding='latin-1')\n",
        "emails = emails.drop(['Unnamed: 2','Unnamed: 3','Unnamed: 4'], axis=1)\n",
        "emails = emails.rename(columns={'v1': 'categoria', 'v2': 'mensagens' })\n",
        "print(emails)"
      ],
      "metadata": {
        "colab": {
          "base_uri": "https://localhost:8080/"
        },
        "id": "dqEPb_JKr9ag",
        "outputId": "31ce4bc6-5b3c-483a-f61c-2f2b7c1dcad2"
      },
      "execution_count": 2,
      "outputs": [
        {
          "output_type": "stream",
          "name": "stdout",
          "text": [
            "     categoria                                          mensagens\n",
            "0          ham  Go until jurong point, crazy.. Available only ...\n",
            "1          ham                      Ok lar... Joking wif u oni...\n",
            "2         spam  Free entry in 2 a wkly comp to win FA Cup fina...\n",
            "3          ham  U dun say so early hor... U c already then say...\n",
            "4          ham  Nah I don't think he goes to usf, he lives aro...\n",
            "...        ...                                                ...\n",
            "5567      spam  This is the 2nd time we have tried 2 contact u...\n",
            "5568       ham              Will Ì_ b going to esplanade fr home?\n",
            "5569       ham  Pity, * was in mood for that. So...any other s...\n",
            "5570       ham  The guy did some bitching but I acted like i'd...\n",
            "5571       ham                         Rofl. Its true to its name\n",
            "\n",
            "[5572 rows x 2 columns]\n"
          ]
        }
      ]
    },
    {
      "cell_type": "code",
      "source": [
        "#Criando uma coluna chamada spam \n",
        "emails['spam'] = emails['categoria'].apply(lambda x:1 if x=='spam' else 0)\n",
        "print(emails)"
      ],
      "metadata": {
        "colab": {
          "base_uri": "https://localhost:8080/"
        },
        "id": "UTvKz6odxy-O",
        "outputId": "84b6a2e8-a54b-4fb6-b72d-53a9c51b92b5"
      },
      "execution_count": 3,
      "outputs": [
        {
          "output_type": "stream",
          "name": "stdout",
          "text": [
            "     categoria                                          mensagens  spam\n",
            "0          ham  Go until jurong point, crazy.. Available only ...     0\n",
            "1          ham                      Ok lar... Joking wif u oni...     0\n",
            "2         spam  Free entry in 2 a wkly comp to win FA Cup fina...     1\n",
            "3          ham  U dun say so early hor... U c already then say...     0\n",
            "4          ham  Nah I don't think he goes to usf, he lives aro...     0\n",
            "...        ...                                                ...   ...\n",
            "5567      spam  This is the 2nd time we have tried 2 contact u...     1\n",
            "5568       ham              Will Ì_ b going to esplanade fr home?     0\n",
            "5569       ham  Pity, * was in mood for that. So...any other s...     0\n",
            "5570       ham  The guy did some bitching but I acted like i'd...     0\n",
            "5571       ham                         Rofl. Its true to its name     0\n",
            "\n",
            "[5572 rows x 3 columns]\n"
          ]
        }
      ]
    },
    {
      "cell_type": "code",
      "source": [
        "#Dividindo nossa tabela em treino e teste. Forçando uma divisão em 80/20\n",
        "x_treino, x_teste, y_treino, y_teste = train_test_split(emails.mensagens, emails.spam, test_size= 0.20)"
      ],
      "metadata": {
        "id": "RSKZe-uyx_Dt"
      },
      "execution_count": 4,
      "outputs": []
    },
    {
      "cell_type": "code",
      "source": [
        "#Nossa base de treino\n",
        "x_treino.describe()"
      ],
      "metadata": {
        "colab": {
          "base_uri": "https://localhost:8080/"
        },
        "id": "EeHjIun4NaO_",
        "outputId": "162e5d1b-577d-4939-bb0a-2b6dab10256b"
      },
      "execution_count": 5,
      "outputs": [
        {
          "output_type": "execute_result",
          "data": {
            "text/plain": [
              "count                       4457\n",
              "unique                      4175\n",
              "top       Sorry, I'll call later\n",
              "freq                          24\n",
              "Name: mensagens, dtype: object"
            ]
          },
          "metadata": {},
          "execution_count": 5
        }
      ]
    },
    {
      "cell_type": "code",
      "source": [
        "#Nossa base de teste\n",
        "x_teste.describe()"
      ],
      "metadata": {
        "colab": {
          "base_uri": "https://localhost:8080/"
        },
        "id": "s3d5k7nzNu2q",
        "outputId": "107bfcec-e850-422f-d322-0dbad7c17397"
      },
      "execution_count": 6,
      "outputs": [
        {
          "output_type": "execute_result",
          "data": {
            "text/plain": [
              "count                       1115\n",
              "unique                      1092\n",
              "top       Sorry, I'll call later\n",
              "freq                           6\n",
              "Name: mensagens, dtype: object"
            ]
          },
          "metadata": {},
          "execution_count": 6
        }
      ]
    },
    {
      "cell_type": "code",
      "source": [
        "#chamamos a função CountVectorizer com o fit_transform para transformar\n",
        "#nossa base de treinamento em uma matriz  \n",
        "cv = CountVectorizer()\n",
        "x_treino_num = cv.fit_transform(x_treino.values)\n",
        "x_treino_num"
      ],
      "metadata": {
        "id": "98lmC0j2N9IY",
        "colab": {
          "base_uri": "https://localhost:8080/"
        },
        "outputId": "3676acb0-b995-4382-caa0-1cdb24c31c05"
      },
      "execution_count": 7,
      "outputs": [
        {
          "output_type": "execute_result",
          "data": {
            "text/plain": [
              "<4457x7687 sparse matrix of type '<class 'numpy.int64'>'\n",
              "\twith 58648 stored elements in Compressed Sparse Row format>"
            ]
          },
          "metadata": {},
          "execution_count": 7
        }
      ]
    },
    {
      "cell_type": "code",
      "source": [
        "#Ajustamos a nossa base de mensagens de treino já transformada com nossa base de verificação. \n",
        "modelo = MultinomialNB()\n",
        "modelo.fit(x_treino_num, y_treino)"
      ],
      "metadata": {
        "colab": {
          "base_uri": "https://localhost:8080/",
          "height": 75
        },
        "id": "5gNdnGSBOz1y",
        "outputId": "4edff6c8-bee4-4992-fd1c-198fad207962"
      },
      "execution_count": 8,
      "outputs": [
        {
          "output_type": "execute_result",
          "data": {
            "text/plain": [
              "MultinomialNB()"
            ],
            "text/html": [
              "<style>#sk-container-id-1 {color: black;background-color: white;}#sk-container-id-1 pre{padding: 0;}#sk-container-id-1 div.sk-toggleable {background-color: white;}#sk-container-id-1 label.sk-toggleable__label {cursor: pointer;display: block;width: 100%;margin-bottom: 0;padding: 0.3em;box-sizing: border-box;text-align: center;}#sk-container-id-1 label.sk-toggleable__label-arrow:before {content: \"▸\";float: left;margin-right: 0.25em;color: #696969;}#sk-container-id-1 label.sk-toggleable__label-arrow:hover:before {color: black;}#sk-container-id-1 div.sk-estimator:hover label.sk-toggleable__label-arrow:before {color: black;}#sk-container-id-1 div.sk-toggleable__content {max-height: 0;max-width: 0;overflow: hidden;text-align: left;background-color: #f0f8ff;}#sk-container-id-1 div.sk-toggleable__content pre {margin: 0.2em;color: black;border-radius: 0.25em;background-color: #f0f8ff;}#sk-container-id-1 input.sk-toggleable__control:checked~div.sk-toggleable__content {max-height: 200px;max-width: 100%;overflow: auto;}#sk-container-id-1 input.sk-toggleable__control:checked~label.sk-toggleable__label-arrow:before {content: \"▾\";}#sk-container-id-1 div.sk-estimator input.sk-toggleable__control:checked~label.sk-toggleable__label {background-color: #d4ebff;}#sk-container-id-1 div.sk-label input.sk-toggleable__control:checked~label.sk-toggleable__label {background-color: #d4ebff;}#sk-container-id-1 input.sk-hidden--visually {border: 0;clip: rect(1px 1px 1px 1px);clip: rect(1px, 1px, 1px, 1px);height: 1px;margin: -1px;overflow: hidden;padding: 0;position: absolute;width: 1px;}#sk-container-id-1 div.sk-estimator {font-family: monospace;background-color: #f0f8ff;border: 1px dotted black;border-radius: 0.25em;box-sizing: border-box;margin-bottom: 0.5em;}#sk-container-id-1 div.sk-estimator:hover {background-color: #d4ebff;}#sk-container-id-1 div.sk-parallel-item::after {content: \"\";width: 100%;border-bottom: 1px solid gray;flex-grow: 1;}#sk-container-id-1 div.sk-label:hover label.sk-toggleable__label {background-color: #d4ebff;}#sk-container-id-1 div.sk-serial::before {content: \"\";position: absolute;border-left: 1px solid gray;box-sizing: border-box;top: 0;bottom: 0;left: 50%;z-index: 0;}#sk-container-id-1 div.sk-serial {display: flex;flex-direction: column;align-items: center;background-color: white;padding-right: 0.2em;padding-left: 0.2em;position: relative;}#sk-container-id-1 div.sk-item {position: relative;z-index: 1;}#sk-container-id-1 div.sk-parallel {display: flex;align-items: stretch;justify-content: center;background-color: white;position: relative;}#sk-container-id-1 div.sk-item::before, #sk-container-id-1 div.sk-parallel-item::before {content: \"\";position: absolute;border-left: 1px solid gray;box-sizing: border-box;top: 0;bottom: 0;left: 50%;z-index: -1;}#sk-container-id-1 div.sk-parallel-item {display: flex;flex-direction: column;z-index: 1;position: relative;background-color: white;}#sk-container-id-1 div.sk-parallel-item:first-child::after {align-self: flex-end;width: 50%;}#sk-container-id-1 div.sk-parallel-item:last-child::after {align-self: flex-start;width: 50%;}#sk-container-id-1 div.sk-parallel-item:only-child::after {width: 0;}#sk-container-id-1 div.sk-dashed-wrapped {border: 1px dashed gray;margin: 0 0.4em 0.5em 0.4em;box-sizing: border-box;padding-bottom: 0.4em;background-color: white;}#sk-container-id-1 div.sk-label label {font-family: monospace;font-weight: bold;display: inline-block;line-height: 1.2em;}#sk-container-id-1 div.sk-label-container {text-align: center;}#sk-container-id-1 div.sk-container {/* jupyter's `normalize.less` sets `[hidden] { display: none; }` but bootstrap.min.css set `[hidden] { display: none !important; }` so we also need the `!important` here to be able to override the default hidden behavior on the sphinx rendered scikit-learn.org. See: https://github.com/scikit-learn/scikit-learn/issues/21755 */display: inline-block !important;position: relative;}#sk-container-id-1 div.sk-text-repr-fallback {display: none;}</style><div id=\"sk-container-id-1\" class=\"sk-top-container\"><div class=\"sk-text-repr-fallback\"><pre>MultinomialNB()</pre><b>In a Jupyter environment, please rerun this cell to show the HTML representation or trust the notebook. <br />On GitHub, the HTML representation is unable to render, please try loading this page with nbviewer.org.</b></div><div class=\"sk-container\" hidden><div class=\"sk-item\"><div class=\"sk-estimator sk-toggleable\"><input class=\"sk-toggleable__control sk-hidden--visually\" id=\"sk-estimator-id-1\" type=\"checkbox\" checked><label for=\"sk-estimator-id-1\" class=\"sk-toggleable__label sk-toggleable__label-arrow\">MultinomialNB</label><div class=\"sk-toggleable__content\"><pre>MultinomialNB()</pre></div></div></div></div></div>"
            ]
          },
          "metadata": {},
          "execution_count": 8
        }
      ]
    },
    {
      "cell_type": "code",
      "source": [
        "#Testando o modelo com um exemplo de email ham\n",
        "email_ham = [\"do you go to IA class?\"]\n",
        "email_ham_num = cv.transform(email_ham)\n",
        "modelo.predict(email_ham_num)"
      ],
      "metadata": {
        "colab": {
          "base_uri": "https://localhost:8080/"
        },
        "id": "e_N-y3wEPfmQ",
        "outputId": "e15c31b9-d600-47a9-d20f-377a55057298"
      },
      "execution_count": 9,
      "outputs": [
        {
          "output_type": "execute_result",
          "data": {
            "text/plain": [
              "array([0])"
            ]
          },
          "metadata": {},
          "execution_count": 9
        }
      ]
    },
    {
      "cell_type": "code",
      "source": [
        "#Testando o modelo com um exemplo de email spam\n",
        "email_spam = [\"click here for reward\"]\n",
        "email_spam_num = cv.transform(email_spam)\n",
        "modelo.predict(email_spam_num)"
      ],
      "metadata": {
        "colab": {
          "base_uri": "https://localhost:8080/"
        },
        "id": "vs7wg0nvPGlh",
        "outputId": "193adc1a-6562-4060-86df-975fc1a53dd9"
      },
      "execution_count": 10,
      "outputs": [
        {
          "output_type": "execute_result",
          "data": {
            "text/plain": [
              "array([1])"
            ]
          },
          "metadata": {},
          "execution_count": 10
        }
      ]
    },
    {
      "cell_type": "code",
      "source": [
        "#Testando nosso modelo com nossa base de teste\n",
        "x_teste_num = cv.transform(x_teste)\n",
        "modelo.score(x_teste_num,y_teste)"
      ],
      "metadata": {
        "colab": {
          "base_uri": "https://localhost:8080/"
        },
        "id": "dWyZr62JQ8zC",
        "outputId": "e018ae7c-1004-49a5-b819-68245efe95ea"
      },
      "execution_count": 11,
      "outputs": [
        {
          "output_type": "execute_result",
          "data": {
            "text/plain": [
              "0.9865470852017937"
            ]
          },
          "metadata": {},
          "execution_count": 11
        }
      ]
    }
  ]
}