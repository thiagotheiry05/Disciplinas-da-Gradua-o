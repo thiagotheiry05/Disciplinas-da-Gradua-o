{
  "nbformat": 4,
  "nbformat_minor": 0,
  "metadata": {
    "kernelspec": {
      "display_name": "Python 3",
      "language": "python",
      "name": "python3"
    },
    "language_info": {
      "codemirror_mode": {
        "name": "ipython",
        "version": 3
      },
      "file_extension": ".py",
      "mimetype": "text/x-python",
      "name": "python",
      "nbconvert_exporter": "python",
      "pygments_lexer": "ipython3",
      "version": "3.6.3"
    },
    "colab": {
      "provenance": []
    }
  },
  "cells": [
    {
      "cell_type": "markdown",
      "metadata": {
        "id": "UKkiGX1PnBHc"
      },
      "source": [
        "# Disciplina: Ciência de Dados (DCA-0131)\n",
        "Prof. Luiz Affonso Guedes\n",
        "\n",
        "### Departamento de Engenharia de Computação e Automação - DCA\n",
        "\n",
        "UFRN - 2022\n",
        "\n",
        "*OBS: Favor fazer cópia do notebook antes de alterá-lo."
      ]
    },
    {
      "cell_type": "markdown",
      "metadata": {
        "id": "ryYfh51anBHe"
      },
      "source": [
        "# Aula 2 - Computação Científica com o Pacote Numpy Python\n",
        "Objetivo:\n",
        "\n",
        "- Apresentação do Pacote Numpy para computação cietífica em Python.\n",
        "- Utiliza o tipo array, que sintaticamente é bastante similar a listas, porém muito mais eficiente em termos computacionais.\n",
        "sas\n",
        "- Os elementos de uma variável do tipo Array em Numpy, diferentemente de listas, são do mesmo tipo.\n",
        "   - Por isto, arrays são mais eficientes que listas."
      ]
    },
    {
      "cell_type": "markdown",
      "metadata": {
        "id": "FJLs58OonBHe"
      },
      "source": [
        "### Contextualização:\n",
        "- NumPy3 é o pacote básico para computação científica com o Python. \n",
        "- NumPy fornece, entre outras coisas, suporte para operações com vetores multidimensionais e funções de álgebra linear úteis. \n",
        "\n",
        "- Muitos outros pacotes Python usam as representações de array NumPy como uma estrutura de dados básica eficiente. \n",
        "\n",
        "- O pacote SciPy fornece uma coleção de algoritmos numéricos e toolboxs específicos do domínio, incluindo processamento de sinais, otimização, estatísticas e muito mais. \n",
        "\n",
        "- O Matplotlib é um pacote popular em Python para traçar gráficos. Este pacote utiliza o tipo array do Numpy como base.\n"
      ]
    },
    {
      "cell_type": "code",
      "metadata": {
        "id": "BL3zShLDnBHf",
        "colab": {
          "base_uri": "https://localhost:8080/",
          "height": 36
        },
        "outputId": "03b94a9d-7cf5-4c93-9616-f3a96aa3f52d"
      },
      "source": [
        "# importando o pacote numpy e verificando a sua versão.\n",
        "import numpy\n",
        "numpy.__version__"
      ],
      "execution_count": 2,
      "outputs": [
        {
          "output_type": "execute_result",
          "data": {
            "text/plain": [
              "'1.22.4'"
            ],
            "application/vnd.google.colaboratory.intrinsic+json": {
              "type": "string"
            }
          },
          "metadata": {},
          "execution_count": 2
        }
      ]
    },
    {
      "cell_type": "code",
      "metadata": {
        "id": "lo-1V1fAnBHk"
      },
      "source": [
        "# Por hábito e simplicidade, o pacote numpy é utilizado com o alias np \n",
        "import numpy as np"
      ],
      "execution_count": 3,
      "outputs": []
    },
    {
      "cell_type": "code",
      "metadata": {
        "id": "tNejuKPonBHn"
      },
      "source": [
        "# Para verificar o conteúdo do pacote\n",
        "np?"
      ],
      "execution_count": 4,
      "outputs": []
    },
    {
      "cell_type": "markdown",
      "metadata": {
        "id": "a8yRIVmhnBHs"
      },
      "source": [
        "### Observação:\n",
        "Não podemos esquecer que em Python todas as variáveis são tipadas dinamicamente. Assim, a cada variável é atribuída mais informação além de seu conteúdo. \n",
        " - Como Python é implementado em C, cada variável Python é implementada como uma estrutura em C.\n",
        "     - Isto acarreta alto overhead.\n",
        "     - Em tipos complexo, como lista, a eficiência pode ficar muito comprometida quando se tem grandes dimensões nos dados.\n",
        "     \n",
        "- Assim há um dilema entre flexibilidade e desempenho:\n",
        "    - Se uma lista possuir só elementos de um mesmo tipo, podemos tornar o manuseio dessa variável mais eficiente.\n",
        "    - Arrays em Numpy são \"listas\" cujos elementos são do mesmo tipo.\n",
        "        - Objeto ndarray no pacote Numpy.\n",
        "    - É importante ressaltar que Python possui um tipo array, que não é o o ARRAY Numpy."
      ]
    },
    {
      "cell_type": "markdown",
      "metadata": {
        "id": "-8DaejbWDR7M"
      },
      "source": []
    },
    {
      "cell_type": "code",
      "metadata": {
        "id": "coyucsj8nBHt",
        "colab": {
          "base_uri": "https://localhost:8080/"
        },
        "outputId": "59df57a4-42ea-42be-bbf0-2316f8266eb3"
      },
      "source": [
        "# Exemplo de uso do tipo array (Não é o Array do Numpy)\n",
        "import array\n",
        "L = list(range(10))\n",
        "print(type(L))\n",
        "print(L)\n",
        "print()\n",
        "#A = array.array('i', L) # i designa que a variável é do tipo inteiro\n",
        "A = array.array('i', L)\n",
        "print(type(A))\n",
        "print(A)"
      ],
      "execution_count": null,
      "outputs": [
        {
          "output_type": "stream",
          "name": "stdout",
          "text": [
            "<class 'list'>\n",
            "[0, 1, 2, 3, 4, 5, 6, 7, 8, 9]\n",
            "\n",
            "<class 'array.array'>\n",
            "array('i', [0, 1, 2, 3, 4, 5, 6, 7, 8, 9])\n"
          ]
        }
      ]
    },
    {
      "cell_type": "code",
      "metadata": {
        "id": "xCyBV8ocnBHx",
        "colab": {
          "base_uri": "https://localhost:8080/"
        },
        "outputId": "dfdcd83e-df1d-4977-a7f6-6c859b9dc45b"
      },
      "source": [
        "# Exemplo de uso do tipo Array do Pacote Numpy (objeto ndarray)\n",
        "import numpy as np\n",
        "# criação e inicialização de uma variável do tipo array numpy de inteiros:\n",
        "A = np.array([1, 4, 2, 5, 3])\n",
        "print(type(A))\n",
        "print(A)"
      ],
      "execution_count": null,
      "outputs": [
        {
          "output_type": "stream",
          "name": "stdout",
          "text": [
            "<class 'numpy.ndarray'>\n",
            "[1 4 2 5 3]\n"
          ]
        }
      ]
    },
    {
      "cell_type": "code",
      "metadata": {
        "id": "xJ0QLoA4nBH0",
        "colab": {
          "base_uri": "https://localhost:8080/"
        },
        "outputId": "053e23e3-1a16-44a3-826d-0f425ee2d551"
      },
      "source": [
        "# O Numpy tentará transformar todos os elementos para um mesmo tipo de dados\n",
        "A2 = np.array([3.14, 4, 2, 3])\n",
        "print(type(A2))\n",
        "print(A2)"
      ],
      "execution_count": null,
      "outputs": [
        {
          "output_type": "stream",
          "name": "stdout",
          "text": [
            "<class 'numpy.ndarray'>\n",
            "[3.14 4.   2.   3.  ]\n"
          ]
        }
      ]
    },
    {
      "cell_type": "code",
      "metadata": {
        "id": "og2eHgwynBH4",
        "colab": {
          "base_uri": "https://localhost:8080/"
        },
        "outputId": "e43903f7-2ca1-4a53-9e87-04449207a2a7"
      },
      "source": [
        "# É Possível determinar o tipo do dado\n",
        "A3 = np.array([1, 2, 3, 4], dtype='float32')\n",
        "print(type(A3))\n",
        "print(A3)"
      ],
      "execution_count": null,
      "outputs": [
        {
          "output_type": "stream",
          "name": "stdout",
          "text": [
            "<class 'numpy.ndarray'>\n",
            "[1. 2. 3. 4.]\n"
          ]
        }
      ]
    },
    {
      "cell_type": "code",
      "metadata": {
        "id": "kSBCFQ3wnBH9",
        "colab": {
          "base_uri": "https://localhost:8080/"
        },
        "outputId": "a723f13f-dd9f-44ef-a371-84154c432585"
      },
      "source": [
        "# Arrays em Numpy podem ser explicitamete multidimencionais\n",
        "# Exemplo de iniciação de Array como lista de lista\n",
        "np.array([range(i, i + 3) for i in [2, 4, 6]])\n",
        "np.array([range(i, i + 4) for i in [2, 4]])"
      ],
      "execution_count": null,
      "outputs": [
        {
          "output_type": "execute_result",
          "data": {
            "text/plain": [
              "array([[2, 3, 4, 5],\n",
              "       [4, 5, 6, 7]])"
            ]
          },
          "metadata": {},
          "execution_count": 10
        }
      ]
    },
    {
      "cell_type": "markdown",
      "metadata": {
        "id": "RBHXTJffnBIA"
      },
      "source": [
        "### Exemplos de inicializações típicas de Arrays:\n",
        "- np.zeros(dimensao, dtype=tipo_de_variavel)\n",
        "- np.ones(dimensao, dtype=tipo_de_variavel)\n",
        "- np.full(dimensao, valor)"
      ]
    },
    {
      "cell_type": "code",
      "metadata": {
        "id": "PV2XeuWonBIA",
        "colab": {
          "base_uri": "https://localhost:8080/"
        },
        "outputId": "495a7805-c6cf-4cc3-950f-1720e998c3cf"
      },
      "source": [
        "# Exemplo de iniciação de Arrays Numpy\n",
        "array1 = np.zeros(10, dtype=int)\n",
        "array2 = np.ones((3, 5), dtype=float)\n",
        "array3 = np.full((3, 5), 3.14)\n",
        "\n",
        "print(\"array1\")\n",
        "print(array1)\n",
        "print(\"array2\")\n",
        "print(array2)\n",
        "print(\"array3\")\n",
        "print(array3)"
      ],
      "execution_count": null,
      "outputs": [
        {
          "output_type": "stream",
          "name": "stdout",
          "text": [
            "array1\n",
            "[0 0 0 0 0 0 0 0 0 0]\n",
            "array2\n",
            "[[1. 1. 1. 1. 1.]\n",
            " [1. 1. 1. 1. 1.]\n",
            " [1. 1. 1. 1. 1.]]\n",
            "array3\n",
            "[[3.14 3.14 3.14 3.14 3.14]\n",
            " [3.14 3.14 3.14 3.14 3.14]\n",
            " [3.14 3.14 3.14 3.14 3.14]]\n"
          ]
        }
      ]
    },
    {
      "cell_type": "code",
      "metadata": {
        "id": "X2tJpqqYnBIE",
        "colab": {
          "base_uri": "https://localhost:8080/"
        },
        "outputId": "d6495354-d777-4018-eaf9-1e9c5a8e4b22"
      },
      "source": [
        "# Exercício 01 - crie 03 arrays Numpy\n",
        "# array1, de dimensão 7 por 2, com todos elementos iguais a 2.1\n",
        "# array2, vetor de dimensão 10, com todos os valores igauis a 1 em ponto flotuante\n",
        "# array3, de dimensão 2 por 3 por 4, com todos os valores iguais a zero \n",
        "# escreva o código aqui\n",
        "\n",
        "array1 = np.full((7, 2), 2.1) \n",
        "array2 = np.ones((10), dtype=float) \n",
        "array3 = np.zeros((2,3,4))\n",
        "\n",
        "print(array1)\n",
        "print(array2)\n",
        "print(array3)\n"
      ],
      "execution_count": null,
      "outputs": [
        {
          "output_type": "stream",
          "name": "stdout",
          "text": [
            "[[2.1 2.1]\n",
            " [2.1 2.1]\n",
            " [2.1 2.1]\n",
            " [2.1 2.1]\n",
            " [2.1 2.1]\n",
            " [2.1 2.1]\n",
            " [2.1 2.1]]\n",
            "[1. 1. 1. 1. 1. 1. 1. 1. 1. 1.]\n",
            "[[[0. 0. 0. 0.]\n",
            "  [0. 0. 0. 0.]\n",
            "  [0. 0. 0. 0.]]\n",
            "\n",
            " [[0. 0. 0. 0.]\n",
            "  [0. 0. 0. 0.]\n",
            "  [0. 0. 0. 0.]]]\n"
          ]
        }
      ]
    },
    {
      "cell_type": "code",
      "metadata": {
        "id": "hWkzqv9ZnBII",
        "colab": {
          "base_uri": "https://localhost:8080/"
        },
        "outputId": "c1976b27-cd93-462a-b0b6-7e6f864daf85"
      },
      "source": [
        "# Programa exemplificando outros tipos de iniciação de arrays numpy\n",
        "\n",
        "print(\"Outros exemplos de iniciação de Arrays Numpy\")\n",
        "print(\"Infira o que faz cada tipo de iniciação\")\n",
        "\n",
        "array1 = np.arange(0, 20, 2)\n",
        "array2 =np.linspace(0, 1, 5)\n",
        "array3 = np.eye(3)\n",
        "\n",
        "print(\"array1\")\n",
        "print(array1)\n",
        "print(\"array2\")\n",
        "print(array2)\n",
        "print(\"array3\")\n",
        "print(array3)"
      ],
      "execution_count": null,
      "outputs": [
        {
          "output_type": "stream",
          "name": "stdout",
          "text": [
            "Outros exemplos de iniciação de Arrays Numpy\n",
            "Infira o que faz cada tipo de iniciação\n",
            "array1\n",
            "[ 0  2  4  6  8 10 12 14 16 18]\n",
            "array2\n",
            "[0.   0.25 0.5  0.75 1.  ]\n",
            "array3\n",
            "[[1. 0. 0.]\n",
            " [0. 1. 0.]\n",
            " [0. 0. 1.]]\n"
          ]
        }
      ]
    },
    {
      "cell_type": "code",
      "metadata": {
        "id": "zwy1QJADnBIO",
        "colab": {
          "base_uri": "https://localhost:8080/"
        },
        "outputId": "67d08fef-038f-485e-ebae-7c84a08b5b83"
      },
      "source": [
        "# Exemplo de iniciação de um array numpy de forma randômica\n",
        "\n",
        "print(\"Os Arrays NumPy também podem ser inicializados de forma randômica\")\n",
        "media = 0\n",
        "desvio_padrao = 1\n",
        "num_linhas = 3\n",
        "num_colunas = 3\n",
        "inicio = 0 # início do intervalo da distribuição linear - fechado\n",
        "fim = 2    # fim do intervalo da distribuição linear - aberto\n",
        "           # o intervalo é [inicio, fim)\n",
        "\n",
        "array1 = np.random.normal(media,desvio_padrao, (num_linhas, num_colunas))\n",
        "array2 = np.random.random((num_linhas, num_colunas))\n",
        "array3 = np.random.randint(inicio,fim, (num_linhas, num_colunas))\n",
        "\n",
        "print(\"array1 - Iniciação randômica seguindo distribuição Normal\")\n",
        "print(array1)\n",
        "print(\"array2 - Iniciação randômica seguindo distribuição Uniforme ente 0 e 1\")\n",
        "print(array2)\n",
        "print(\"array3 - Iniciação randômica com números inteiros\")\n",
        "print(array3)"
      ],
      "execution_count": null,
      "outputs": [
        {
          "output_type": "stream",
          "name": "stdout",
          "text": [
            "Os Arrays NumPy também podem ser inicializados de forma randômica\n",
            "array1 - Iniciação randômica seguindo distribuição Normal\n",
            "[[ 0.99723934 -0.94302363  0.01148488]\n",
            " [ 1.99328704  1.04669973  1.01424954]\n",
            " [ 0.80946479  1.30352136  0.02069935]]\n",
            "array2 - Iniciação randômica seguindo distribuição Uniforme ente 0 e 1\n",
            "[[0.57524235 0.5169687  0.73342011]\n",
            " [0.27736116 0.79774316 0.66006452]\n",
            " [0.76006401 0.2986103  0.70820034]]\n",
            "array3 - Iniciação randômica com números inteiros\n",
            "[[0 0 1]\n",
            " [1 0 0]\n",
            " [0 0 1]]\n"
          ]
        }
      ]
    },
    {
      "cell_type": "code",
      "metadata": {
        "id": "oeJ7R8zbnBIR",
        "colab": {
          "base_uri": "https://localhost:8080/"
        },
        "outputId": "7acc0356-7ae3-4a70-9e34-c68548d4444a"
      },
      "source": [
        "# Exemplos de iniciação randômica de arrays Numpy, porém com semente definida.\n",
        "import numpy as np\n",
        "\n",
        "np.random.seed(0) # Iniciação da semente randômica\n",
        "x1 = np.random.randint(10, size=6) # Array unidimensional\n",
        "x2 = np.random.randint(10, size=(3, 4)) # Array bi-dimensional\n",
        "x3 = np.random.randint(10, size=(3, 4, 5)) # Array tri-dimensional\n",
        "\n",
        "print(x1) \n",
        "print('\\naqui comecça o x2')\n",
        "print(x2)\n",
        "print('\\naqui comecça o x3')\n",
        "print(x3)\n",
        "\n",
        "print('\\nExemplos de métodos para informar os tipos de dados dos Arrays\\n')\n",
        "\n",
        "print(\"x3 ndim: \", x3.ndim)\n",
        "print(\"x3 shape:\", x3.shape)\n",
        "print(\"x3 size: \", x3.size)\n",
        "print(\"x3 dtype:\", x3.dtype)\n",
        "print(\"x3 itemsize:\", x3.itemsize, \"bytes\")\n",
        "print(\"x3 nbytes:\", x3.nbytes, \"bytes\")"
      ],
      "execution_count": null,
      "outputs": [
        {
          "output_type": "stream",
          "name": "stdout",
          "text": [
            "[5 0 3 3 7 9]\n",
            "\n",
            "aqui comecça o x2\n",
            "[[3 5 2 4]\n",
            " [7 6 8 8]\n",
            " [1 6 7 7]]\n",
            "\n",
            "aqui comecça o x3\n",
            "[[[8 1 5 9 8]\n",
            "  [9 4 3 0 3]\n",
            "  [5 0 2 3 8]\n",
            "  [1 3 3 3 7]]\n",
            "\n",
            " [[0 1 9 9 0]\n",
            "  [4 7 3 2 7]\n",
            "  [2 0 0 4 5]\n",
            "  [5 6 8 4 1]]\n",
            "\n",
            " [[4 9 8 1 1]\n",
            "  [7 9 9 3 6]\n",
            "  [7 2 0 3 5]\n",
            "  [9 4 4 6 4]]]\n",
            "\n",
            "Exemplos de métodos para informar os tipos de dados dos Arrays\n",
            "\n",
            "x3 ndim:  3\n",
            "x3 shape: (3, 4, 5)\n",
            "x3 size:  60\n",
            "x3 dtype: int64\n",
            "x3 itemsize: 8 bytes\n",
            "x3 nbytes: 480 bytes\n"
          ]
        }
      ]
    },
    {
      "cell_type": "markdown",
      "metadata": {
        "id": "c0Sr9vXDnBIU"
      },
      "source": [
        "### Acesso de elementos e seguimentos de Array Numpy\n",
        "- Segue o mesmo modo de acesso de elementos em lista"
      ]
    },
    {
      "cell_type": "code",
      "metadata": {
        "id": "F1qyknqFnBIU",
        "colab": {
          "base_uri": "https://localhost:8080/"
        },
        "outputId": "5bd406e0-6d33-4be3-f0e7-593b8ea44fda"
      },
      "source": [
        "# Array x1, definido anteriormente\n",
        "print(x1)\n",
        "print(type(x1))\n",
        "x1"
      ],
      "execution_count": null,
      "outputs": [
        {
          "output_type": "stream",
          "name": "stdout",
          "text": [
            "[5 0 3 3 7 9]\n",
            "<class 'numpy.ndarray'>\n"
          ]
        },
        {
          "output_type": "execute_result",
          "data": {
            "text/plain": [
              "array([5, 0, 3, 3, 7, 9])"
            ]
          },
          "metadata": {},
          "execution_count": 24
        }
      ]
    },
    {
      "cell_type": "code",
      "metadata": {
        "id": "OsqPsf-AnBIX",
        "colab": {
          "base_uri": "https://localhost:8080/"
        },
        "outputId": "200b75ed-bbee-4d08-d685-d661b99047ae"
      },
      "source": [
        "# Exemplos de acesso de elementos de um array Numpy unidimensional\n",
        "print(\"Array x1 --> \", x1)\n",
        "print(\"x1[0] = \", x1[0])\n",
        "print(\"x1[-1] = \", x1[-1])\n",
        "print(\"x1[-2] = \", x1[-2])\n",
        "# print(\"x1[-7] = \", x1[-7])  # Isto irá funcionar??? resposta: Não irá"
      ],
      "execution_count": null,
      "outputs": [
        {
          "output_type": "stream",
          "name": "stdout",
          "text": [
            "Array x1 -->  [5 0 3 3 7 9]\n",
            "x1[0] =  5\n",
            "x1[-1] =  9\n",
            "x1[-2] =  7\n"
          ]
        }
      ]
    },
    {
      "cell_type": "code",
      "metadata": {
        "id": "9tYRdTsNnBIa",
        "colab": {
          "base_uri": "https://localhost:8080/"
        },
        "outputId": "9b9a5f11-c639-452c-9466-d9a90f370bca"
      },
      "source": [
        "# Array x2, definido anteriormente\n",
        "print(x2)\n",
        "print(type(x2))\n"
      ],
      "execution_count": null,
      "outputs": [
        {
          "output_type": "stream",
          "name": "stdout",
          "text": [
            "[[3 5 2 4]\n",
            " [7 6 8 8]\n",
            " [1 6 7 7]]\n",
            "<class 'numpy.ndarray'>\n"
          ]
        }
      ]
    },
    {
      "cell_type": "code",
      "metadata": {
        "id": "-VFXt0JynBIe",
        "colab": {
          "base_uri": "https://localhost:8080/"
        },
        "outputId": "76fbdcf1-9468-44bd-90b9-b288b1c70cd7"
      },
      "source": [
        "# Exemplos de acesso de elementos de um array Numpy multidimensional\n",
        "print(\"x2[0,0]  = \", x2[0,0])\n",
        "print(\"x2[2,-1] =  \",x2[2,-1])\n",
        "x2[0,0] = 10\n",
        "x2[2,-1] = 2.345\n",
        "print(x2)\n",
        "print(\"x2[0,0]  = \", x2[0,0])\n",
        "print(\"x2[2,-1] =  \",x2[2,-1])  # será um número inteiro ou ponto flutuante?"
      ],
      "execution_count": null,
      "outputs": [
        {
          "output_type": "stream",
          "name": "stdout",
          "text": [
            "x2[0,0]  =  3\n",
            "x2[2,-1] =   7\n",
            "[[10  5  2  4]\n",
            " [ 7  6  8  8]\n",
            " [ 1  6  7  2]]\n",
            "x2[0,0]  =  10\n",
            "x2[2,-1] =   2\n"
          ]
        }
      ]
    },
    {
      "cell_type": "code",
      "metadata": {
        "id": "kZdZ1d9XnBIk",
        "colab": {
          "base_uri": "https://localhost:8080/"
        },
        "outputId": "8ac5ab85-65eb-4c4b-906b-ce0a053c6210"
      },
      "source": [
        "# Exemplos de acesso de sub-arraays de um array Numpy unidimensional\n",
        "x = np.arange(10)\n",
        "print(\"x       = \", x)\n",
        "print(\"x[0:2]  = \", x[0:2])\n",
        "print(\"x[2:-1] = \", x[2:-1])\n",
        "print(\"x[:-1]  = \", x[:-1])\n",
        "print(\"x[1:]   = \", x[1:])\n",
        "print(\"x[:]    = \", x[:])"
      ],
      "execution_count": null,
      "outputs": [
        {
          "output_type": "stream",
          "name": "stdout",
          "text": [
            "x       =  [0 1 2 3 4 5 6 7 8 9]\n",
            "x[0:2]  =  [0 1]\n",
            "x[2:-1] =  [2 3 4 5 6 7 8]\n",
            "x[:-1]  =  [0 1 2 3 4 5 6 7 8]\n",
            "x[1:]   =  [1 2 3 4 5 6 7 8 9]\n",
            "x[:]    =  [0 1 2 3 4 5 6 7 8 9]\n"
          ]
        }
      ]
    },
    {
      "cell_type": "code",
      "metadata": {
        "id": "ztW15PKTnBIo",
        "colab": {
          "base_uri": "https://localhost:8080/"
        },
        "outputId": "6977ef20-6012-4478-cf77-8ddfeb412824"
      },
      "source": [
        "# Exemplos de acesso de vários elementos um array Numpy unidimensional\n",
        "x = np.arange(10)\n",
        "print(\"x       = \", x)\n",
        "print()\n",
        "print(\"x[::2]  = \", x[::2]) # acesso desde o primeiro elemento com passo 2\n",
        "print(\"x[::3]  = \", x[::3]) # acesso desde o primeiro elemento com passo 3\n",
        "print(\"x[1::2] = \", x[1::2]) # acesso desde o segundo elemento com passo 2\n",
        "print(\"x[::-1] = \", x[::-1]) # acesso os elemento de modo reverso\n",
        "print(\"x[6::-2]= \", x[6::-2]) # acesso desde o sexto os elemento com passo -2\n",
        "print()\n",
        "print(\"x[4:8:-2]= \", x[4:8:-2]) # ????\n",
        "print()\n",
        "print(\"x[1:8:2]= \", x[1:8:2]) # caso geral\n"
      ],
      "execution_count": null,
      "outputs": [
        {
          "output_type": "stream",
          "name": "stdout",
          "text": [
            "x       =  [0 1 2 3 4 5 6 7 8 9]\n",
            "\n",
            "x[::2]  =  [0 2 4 6 8]\n",
            "x[::3]  =  [0 3 6 9]\n",
            "x[1::2] =  [1 3 5 7 9]\n",
            "x[::-1] =  [9 8 7 6 5 4 3 2 1 0]\n",
            "x[6::-2]=  [6 4 2 0]\n",
            "\n",
            "x[4:8:-2]=  []\n",
            "\n",
            "x[1:8:2]=  [1 3 5 7]\n"
          ]
        }
      ]
    },
    {
      "cell_type": "code",
      "metadata": {
        "id": "URbteyo5nBIr",
        "colab": {
          "base_uri": "https://localhost:8080/"
        },
        "outputId": "748858be-ad8b-415b-9808-6ad686152bd5"
      },
      "source": [
        "# Exemplo de acesso de sub-arrays de um array Numpy multidimensional\n",
        "print(\"x2 = \")\n",
        "print(x2)"
      ],
      "execution_count": null,
      "outputs": [
        {
          "output_type": "stream",
          "name": "stdout",
          "text": [
            "x2 = \n",
            "[[10  5  2  4]\n",
            " [ 7  6  8  8]\n",
            " [ 1  6  7  2]]\n"
          ]
        }
      ]
    },
    {
      "cell_type": "code",
      "metadata": {
        "id": "LYo9n7yKnBIw",
        "colab": {
          "base_uri": "https://localhost:8080/"
        },
        "outputId": "de8d362b-cd3d-4c94-acf6-451bd444db11"
      },
      "source": [
        "# Exemplo de acesso de sub-arrays de um array Numpy multidimensional\n",
        "print(\"x2[:2, :3] = \")\n",
        "print(x2[:2, :3])"
      ],
      "execution_count": null,
      "outputs": [
        {
          "output_type": "stream",
          "name": "stdout",
          "text": [
            "x2[:2, :3] = \n",
            "[[3 5 2]\n",
            " [7 6 8]]\n"
          ]
        }
      ]
    },
    {
      "cell_type": "code",
      "metadata": {
        "id": "fslGGenonBIz",
        "colab": {
          "base_uri": "https://localhost:8080/"
        },
        "outputId": "cae4206b-51d9-4e92-8603-8bc3c2801de3"
      },
      "source": [
        "# Exemplo de acesso de sub-arrays de um array Numpy multidimensional\n",
        "print(\"x2[:3, ::2] = \")\n",
        "print(x2[:3, ::2])\n"
      ],
      "execution_count": null,
      "outputs": [
        {
          "output_type": "stream",
          "name": "stdout",
          "text": [
            "x2[:3, ::2] = \n",
            "[[3 2]\n",
            " [7 8]\n",
            " [1 7]]\n"
          ]
        }
      ]
    },
    {
      "cell_type": "code",
      "metadata": {
        "id": "2pbamunXnBI3",
        "colab": {
          "base_uri": "https://localhost:8080/"
        },
        "outputId": "54dcf4e4-5b49-4940-a38e-a0e56f3fe79e"
      },
      "source": [
        "# Exemplo de acesso de sub-arrays de um array Numpy multidimensional\n",
        "x2"
      ],
      "execution_count": null,
      "outputs": [
        {
          "output_type": "execute_result",
          "data": {
            "text/plain": [
              "array([[3, 5, 2, 4],\n",
              "       [7, 6, 8, 8],\n",
              "       [1, 6, 7, 7]])"
            ]
          },
          "metadata": {},
          "execution_count": 5
        }
      ]
    },
    {
      "cell_type": "code",
      "metadata": {
        "id": "bSstRG0OnBI5",
        "colab": {
          "base_uri": "https://localhost:8080/"
        },
        "outputId": "bf8d8f72-e5a6-4356-f567-5dfaa1499172"
      },
      "source": [
        "# Exercício - Obtenha de sub-arrays multidimensionais\n",
        "print(\"Dada a matriz x2\")\n",
        "print(\"Obter uma sub matriz que corresponde às linhas ímpares e as colunas pares, escritas de modo reservo.\")\n",
        "# início do código\n",
        "print(x2[1:2, 8::-3])\n",
        "\n",
        "# fim do código"
      ],
      "execution_count": null,
      "outputs": [
        {
          "output_type": "stream",
          "name": "stdout",
          "text": [
            "Dada a matriz x2\n",
            "Obter uma sub matriz que corresponde às linhas ímpares e as colunas pares, escritas de modo reservo.\n",
            "[[8 7]]\n"
          ]
        }
      ]
    },
    {
      "cell_type": "markdown",
      "metadata": {
        "id": "2fBJr03fnBI8"
      },
      "source": [
        "### Observação:\n",
        "Um ponto muito importante a ser observado é que sub-arrays em Numpy não fazem cópia do array original, mas sim são visões deles(referências aos mesmos espaços de endereço).\n",
        "- Isto se deve por questão de eficiência.\n",
        "- Em lista, ao contrário de Arrays, sub-listas são cópias de elementos da lista original.\n",
        "\n",
        "Os exemplos abaixo evidenciam isto."
      ]
    },
    {
      "cell_type": "code",
      "metadata": {
        "id": "ILSzNUWnnBI8",
        "colab": {
          "base_uri": "https://localhost:8080/"
        },
        "outputId": "9d3636c0-184b-48a2-f798-ccbc002f1a7f"
      },
      "source": [
        "# Exemplos de sub-arrays como vistas dos arrays originais\n",
        "print(\"x2 = \")\n",
        "print(x2)\n",
        "\n",
        "x2_sub = x2[:2, :2]\n",
        "print()\n",
        "print(\"x2_sub\")\n",
        "print(x2_sub)\n",
        "\n",
        "x2_sub[0, 0] = 99\n",
        "print()\n",
        "print(\"x2_sub[0, 0] = 99\")\n",
        "print(x2_sub)\n",
        "\n",
        "print(\"\")\n",
        "print(\"Novos valores para x2\")\n",
        "print(\"x2 = \")\n",
        "print(x2)"
      ],
      "execution_count": null,
      "outputs": [
        {
          "output_type": "stream",
          "name": "stdout",
          "text": [
            "x2 = \n",
            "[[3 5 2 4]\n",
            " [7 6 8 8]\n",
            " [1 6 7 7]]\n",
            "\n",
            "x2_sub\n",
            "[[3 5]\n",
            " [7 6]]\n",
            "\n",
            "x2_sub[0, 0] = 99\n",
            "[[99  5]\n",
            " [ 7  6]]\n",
            "\n",
            "Novos valores para x2\n",
            "x2 = \n",
            "[[99  5  2  4]\n",
            " [ 7  6  8  8]\n",
            " [ 1  6  7  7]]\n"
          ]
        }
      ]
    },
    {
      "cell_type": "code",
      "metadata": {
        "id": "5f1a6-F-nBJC",
        "colab": {
          "base_uri": "https://localhost:8080/"
        },
        "outputId": "ee0c3769-67aa-41ce-dd9f-f164fd7f833b"
      },
      "source": [
        "#Como, então, se pode fazer cópia de arrays Numpy?"
      ],
      "execution_count": null,
      "outputs": [
        {
          "output_type": "stream",
          "name": "stdout",
          "text": [
            "Como, então, se pode fazer cópia de arrays Numpy?\n"
          ]
        }
      ]
    },
    {
      "cell_type": "code",
      "metadata": {
        "id": "4K6CX1BTnBJF",
        "colab": {
          "base_uri": "https://localhost:8080/"
        },
        "outputId": "a45cfdcd-4b2b-4095-d395-e85799676e1c"
      },
      "source": [
        "print(\"Cópias de Arrays Numpy são realizados via o método .copy()\")\n",
        "print(\"x2 = \")\n",
        "print(x2)\n",
        "\n",
        "x2_sub_copy = x2[:2, :2].copy()\n",
        "print()\n",
        "print(\"x2_sub_copy\")\n",
        "print(x2_sub_copy)\n",
        "\n",
        "x2_sub_copy[0, 0] = 42\n",
        "print()\n",
        "print(\"x2_sub_cop - atribuir 42 para a posição [0,0]\")\n",
        "print(x2_sub_copy)\n",
        "\n",
        "print()\n",
        "print(\"Verificação dos valores de x2\")\n",
        "print(x2)"
      ],
      "execution_count": null,
      "outputs": [
        {
          "output_type": "stream",
          "name": "stdout",
          "text": [
            "Cópias de Arrays Numpy são realizados via o método .copy()\n",
            "x2 = \n",
            "[[99  5  2  4]\n",
            " [ 7  6  8  8]\n",
            " [ 1  6  7  7]]\n",
            "\n",
            "x2_sub_copy\n",
            "[[99  5]\n",
            " [ 7  6]]\n",
            "\n",
            "x2_sub_cop - atribuir 42 para a posição [0,0]\n",
            "[[42  5]\n",
            " [ 7  6]]\n",
            "\n",
            "Verificação dos valores de x2\n",
            "[[99  5  2  4]\n",
            " [ 7  6  8  8]\n",
            " [ 1  6  7  7]]\n"
          ]
        }
      ]
    },
    {
      "cell_type": "code",
      "metadata": {
        "id": "aDeDM8M3nBJI",
        "colab": {
          "base_uri": "https://localhost:8080/"
        },
        "outputId": "dee3f6ff-b5d1-494e-a3d6-c2e1ee671367"
      },
      "source": [
        "# Concatenação de Arrays Numpy\n",
        "\n",
        "x = np.array([1, 2, 3])\n",
        "y = np.array([4, 5])\n",
        "z = np.array([6,7,8,9])\n",
        "w = np.concatenate([x, y,z])\n",
        "print(\"w = \")\n",
        "print(w)"
      ],
      "execution_count": null,
      "outputs": [
        {
          "output_type": "stream",
          "name": "stdout",
          "text": [
            "w = \n",
            "[1 2 3 4 5 6 7 8 9]\n"
          ]
        }
      ]
    },
    {
      "cell_type": "code",
      "metadata": {
        "id": "V7xgwEBinBJL",
        "colab": {
          "base_uri": "https://localhost:8080/"
        },
        "outputId": "e1f6f4f9-2e9e-495c-cb6a-48e7a1b4cec9"
      },
      "source": [
        "# Concatenação de Arrays bidimensionais Numpy - Matrizes\n",
        "mat1 = np.array([[1, 2, 3],[4, 5, 6]])\n",
        "print(\"mat1 = \")\n",
        "print(mat1)\n",
        "\n",
        "mat2 = np.concatenate([mat1,mat1])\n",
        "print()\n",
        "print(\"mat2 = \")\n",
        "print(mat2)\n",
        "\n",
        "mat3 = np.concatenate([mat1,mat1], axis=1)\n",
        "print()\n",
        "print(\"mat3 = \")\n",
        "print(mat3)"
      ],
      "execution_count": null,
      "outputs": [
        {
          "output_type": "stream",
          "name": "stdout",
          "text": [
            "mat1 = \n",
            "[[1 2 3]\n",
            " [4 5 6]]\n",
            "\n",
            "mat2 = \n",
            "[[1 2 3]\n",
            " [4 5 6]\n",
            " [1 2 3]\n",
            " [4 5 6]]\n",
            "\n",
            "mat3 = \n",
            "[[1 2 3 1 2 3]\n",
            " [4 5 6 4 5 6]]\n"
          ]
        }
      ]
    },
    {
      "cell_type": "code",
      "metadata": {
        "id": "Iq9RHLYOnBJN",
        "colab": {
          "base_uri": "https://localhost:8080/"
        },
        "outputId": "fc8d4384-6be2-495c-be12-ab4f0bbbfbb8"
      },
      "source": [
        "# Separando Arrays Numpy\n",
        "x = [1, 2, 3, 4, 5, 6, 7, 8, 9]\n",
        "x1, x2, x3 = np.split(x, [3, 5])\n",
        "print(\"x1, x2, x3\")\n",
        "print(x1, x2, x3)\n",
        "\n",
        "y1, y2, y3, y4 = np.split(x, [2, 5, 7])\n",
        "print(\"y1, y2, y3, y4\")\n",
        "print(y1, y2, y3, y4)\n"
      ],
      "execution_count": null,
      "outputs": [
        {
          "output_type": "stream",
          "name": "stdout",
          "text": [
            "x1, x2, x3\n",
            "[1 2 3] [4 5] [6 7 8 9]\n",
            "y1, y2, y3, y4\n",
            "[1 2] [3 4 5] [6 7] [8 9]\n"
          ]
        }
      ]
    },
    {
      "cell_type": "code",
      "metadata": {
        "id": "aLO-22V2nBJS",
        "colab": {
          "base_uri": "https://localhost:8080/"
        },
        "outputId": "82647b24-bdb1-459c-bee7-2b99df11c521"
      },
      "source": [
        "# Exercício - Divida o array vet em outros 5 arrays de mesmo tamanho\n",
        "\n",
        "vet = [1,2,3,4,5,6,7,8,9,10]\n",
        "x1, x2, x3, x4, x5 = np.split(vet,[2,4,6,8])\n",
        "print(x1, x2, x3, x4, x5 )"
      ],
      "execution_count": null,
      "outputs": [
        {
          "output_type": "stream",
          "name": "stdout",
          "text": [
            "[1 2] [3 4] [5 6] [7 8] [ 9 10]\n"
          ]
        }
      ]
    },
    {
      "cell_type": "markdown",
      "metadata": {
        "id": "Tc37eNIGnBJU"
      },
      "source": [
        "### Programando eficientemente em Python\n",
        "- Python é uma linguagem interpretada, escrita em C.\n",
        "- Chamadas de métodos em Python levam a chamadas de funções em C.\n",
        "- Programação vetorizada aumenta consideravelmente o desempenho dos programas Python.\n",
        "    - usa funções com tipos pré-tipados"
      ]
    },
    {
      "cell_type": "code",
      "metadata": {
        "id": "o_wKKXrznBJU",
        "colab": {
          "base_uri": "https://localhost:8080/"
        },
        "outputId": "d9ae0fac-0f8e-49f5-8eec-0bf759d7a625"
      },
      "source": [
        "# Exemplo de programação estilo escalar \n",
        "# Função para obter os valores recíprocos (inversos) dos elementos de um Array Numpy\n",
        "\n",
        "import numpy as np\n",
        "\n",
        "np.random.seed(0)   # semente\n",
        "\n",
        "def calcular_reciprocos(values):\n",
        "  output = np.empty(len(values))\n",
        "  for i in range(len(values)):\n",
        "   output[i] = 1.0 / values[i]\n",
        "  return output\n",
        "\n",
        "valores = np.random.randint(1, 10, size=5)\n",
        "valores_inversos = calcular_reciprocos(valores)\n",
        "print(valores_inversos)"
      ],
      "execution_count": null,
      "outputs": [
        {
          "output_type": "stream",
          "name": "stdout",
          "text": [
            "[0.16666667 1.         0.25       0.25       0.125     ]\n"
          ]
        }
      ]
    },
    {
      "cell_type": "code",
      "metadata": {
        "id": "ykdqv4sFnBJW",
        "colab": {
          "base_uri": "https://localhost:8080/"
        },
        "outputId": "ec48ab7d-81bc-4b47-afb6-19386cf97fc7"
      },
      "source": [
        "# Exemplo - Medição de tempo gasto para executar a função calcular_reciprocos(.) \n",
        "big_array = np.random.randint(1, 100, size=1000000)\n",
        "%timeit calcular_reciprocos(big_array)"
      ],
      "execution_count": null,
      "outputs": [
        {
          "output_type": "stream",
          "name": "stdout",
          "text": [
            "2.96 s ± 1.47 s per loop (mean ± std. dev. of 7 runs, 1 loop each)\n"
          ]
        }
      ]
    },
    {
      "cell_type": "code",
      "metadata": {
        "id": "tEPnqEQknBJY",
        "colab": {
          "base_uri": "https://localhost:8080/"
        },
        "outputId": "e681e47e-aa97-4a4d-e70a-d7ab1bb6b424"
      },
      "source": [
        "# Exemplo de programação vetorizada\n",
        "\n",
        "print(calcular_reciprocos(valores))  # programação escalar\n",
        "print()\n",
        "print(1.0 / valores)                 # programação vetorizada\n"
      ],
      "execution_count": null,
      "outputs": [
        {
          "output_type": "stream",
          "name": "stdout",
          "text": [
            "[0.16666667 1.         0.25       0.25       0.125     ]\n",
            "\n",
            "[0.16666667 1.         0.25       0.25       0.125     ]\n"
          ]
        }
      ]
    },
    {
      "cell_type": "code",
      "metadata": {
        "id": "aT8wIXm8nBJa",
        "colab": {
          "base_uri": "https://localhost:8080/"
        },
        "outputId": "a35417dc-ba07-4c17-ffc2-991bac05bd8a"
      },
      "source": [
        "# Exemplo: medição de tempo de programação vetorizada\n",
        "%timeit (1.0 / big_array)"
      ],
      "execution_count": null,
      "outputs": [
        {
          "output_type": "stream",
          "name": "stdout",
          "text": [
            "1.61 ms ± 169 µs per loop (mean ± std. dev. of 7 runs, 1000 loops each)\n"
          ]
        }
      ]
    },
    {
      "cell_type": "code",
      "metadata": {
        "id": "PVApN9YZnBJd",
        "colab": {
          "base_uri": "https://localhost:8080/"
        },
        "outputId": "d10297df-c03d-4ddb-ad3e-0ec68c01b846"
      },
      "source": [
        "# Exemplo de programação vetorizada\n",
        "print(\"Você pode explicar o que faz a linha de código abaixo?\")\n",
        "x = 2 ** np.arange(9)\n",
        "x1 = x.reshape((3, 3))\n",
        "x1"
      ],
      "execution_count": null,
      "outputs": [
        {
          "output_type": "stream",
          "name": "stdout",
          "text": [
            "Você pode explicar o que faz a linha de código abaixo?\n",
            "<class 'numpy.ndarray'>\n"
          ]
        },
        {
          "output_type": "execute_result",
          "data": {
            "text/plain": [
              "array([[  1,   2,   4],\n",
              "       [  8,  16,  32],\n",
              "       [ 64, 128, 256]])"
            ]
          },
          "metadata": {},
          "execution_count": 7
        }
      ]
    },
    {
      "cell_type": "code",
      "metadata": {
        "id": "oDw01wFZnBJi",
        "colab": {
          "base_uri": "https://localhost:8080/"
        },
        "outputId": "5bfc7154-71ea-4bfc-8f82-5664f6ea7367"
      },
      "source": [
        "# Exemplo de programação vetorizada\n",
        "print(\"Você pode explicar o que faz a linha de código abaixo?\")\n",
        "x = 2 ** np.arange(9).reshape((3, 3))\n",
        "x"
      ],
      "execution_count": null,
      "outputs": [
        {
          "output_type": "stream",
          "name": "stdout",
          "text": [
            "Você pode explicar o que faz a linha de código abaixo?\n"
          ]
        },
        {
          "output_type": "execute_result",
          "data": {
            "text/plain": [
              "array([[  1,   2,   4],\n",
              "       [  8,  16,  32],\n",
              "       [ 64, 128, 256]])"
            ]
          },
          "metadata": {},
          "execution_count": 8
        }
      ]
    },
    {
      "cell_type": "code",
      "metadata": {
        "id": "6TzosVz1nBJm",
        "colab": {
          "base_uri": "https://localhost:8080/"
        },
        "outputId": "a4114b55-cfb8-4e8d-beba-16e38783d3ba"
      },
      "source": [
        "# Exemplo de programação vetorizada\n",
        "print(\"Você pode explicar o que faz a linha de código abaixo?\")\n",
        "x =  np.arange(9).reshape((3, 3)) ** 2\n",
        "x"
      ],
      "execution_count": null,
      "outputs": [
        {
          "output_type": "stream",
          "name": "stdout",
          "text": [
            "Você pode explicar o que faz a linha de código abaixo?\n"
          ]
        },
        {
          "output_type": "execute_result",
          "data": {
            "text/plain": [
              "array([[ 0,  1,  4],\n",
              "       [ 9, 16, 25],\n",
              "       [36, 49, 64]])"
            ]
          },
          "metadata": {},
          "execution_count": 9
        }
      ]
    },
    {
      "cell_type": "code",
      "metadata": {
        "id": "x4QR2SVEnBJp",
        "colab": {
          "base_uri": "https://localhost:8080/"
        },
        "outputId": "a340faf6-cacb-4523-8b9f-ae24a4a4574f"
      },
      "source": [
        "# Exemplo de programação vetorizada\n",
        "print(\"Você pode explicar o que faz a linha de código abaixo?\")\n",
        "x = np.arange(4).reshape((2, 2)) ** np.arange(4).reshape((2, 2))\n",
        "x"
      ],
      "execution_count": null,
      "outputs": [
        {
          "output_type": "stream",
          "name": "stdout",
          "text": [
            "Você pode explicar o que faz a linha de código abaixo?\n"
          ]
        },
        {
          "output_type": "execute_result",
          "data": {
            "text/plain": [
              "array([[ 1,  1],\n",
              "       [ 4, 27]])"
            ]
          },
          "metadata": {},
          "execution_count": 10
        }
      ]
    },
    {
      "cell_type": "code",
      "metadata": {
        "id": "KXX2CrZBnBJs",
        "colab": {
          "base_uri": "https://localhost:8080/"
        },
        "outputId": "cf3a7966-c858-4541-e5d8-1528162f5b50"
      },
      "source": [
        "# Exemplo de programação vetorizada\n",
        "print(\"Você pode explicar o que faz a linha de código abaixo?\")\n",
        "x = 2 ** np.arange(8).reshape((2,2,2))\n",
        "x"
      ],
      "execution_count": null,
      "outputs": [
        {
          "output_type": "stream",
          "name": "stdout",
          "text": [
            "Você pode explicar o que faz a linha de código abaixo?\n"
          ]
        },
        {
          "output_type": "execute_result",
          "data": {
            "text/plain": [
              "array([[[  1,   2],\n",
              "        [  4,   8]],\n",
              "\n",
              "       [[ 16,  32],\n",
              "        [ 64, 128]]])"
            ]
          },
          "metadata": {},
          "execution_count": 11
        }
      ]
    },
    {
      "cell_type": "code",
      "metadata": {
        "id": "L_iP6ufhSPx-"
      },
      "source": [],
      "execution_count": null,
      "outputs": []
    },
    {
      "cell_type": "markdown",
      "metadata": {
        "id": "5UAZYFBJnBJ2"
      },
      "source": [
        "### Os operadores matemáticos em Numpy operam elemento-a-elemento\n",
        "- Mais a frente veremos como implementar operações matriciais, no estilo Matlab.\n",
        "- Exemplos de operadores matemáticos sobre arrays\n",
        "        - +, - , *,/, **, //, % \n"
      ]
    },
    {
      "cell_type": "code",
      "metadata": {
        "id": "SdoENTmJnBJ3",
        "colab": {
          "base_uri": "https://localhost:8080/"
        },
        "outputId": "604d7bcf-5987-4d1c-df49-58a331e0e18b"
      },
      "source": [
        "# Exemplo de programação vetorizada\n",
        "\n",
        "x = np.array([0,1,2,3])\n",
        "y1 = 2*x[::2]\n",
        "y2 = x * 2\n",
        "y3 = x * x\n",
        "y4 = x ** x\n",
        "print(\"x = \")\n",
        "print(x)\n",
        "print()\n",
        "print(\"x + 10 = \")\n",
        "print(x + 10)\n",
        "print()\n",
        "print(\"-(0.5*x) + 2 = \")\n",
        "print(-(0.5*x) + 2 )\n",
        "print()\n",
        "print(\"y1 = \")\n",
        "print(y1)\n",
        "print()\n",
        "print(\"y2 = \")\n",
        "print(y2)\n",
        "print()\n",
        "print(\"y3 = \")\n",
        "print(y3)\n",
        "print()\n",
        "print(\"y4 = \")\n",
        "print(y4)"
      ],
      "execution_count": null,
      "outputs": [
        {
          "output_type": "stream",
          "name": "stdout",
          "text": [
            "x = \n",
            "[0 1 2 3]\n",
            "\n",
            "x + 10 = \n",
            "[10 11 12 13]\n",
            "\n",
            "-(0.5*x) + 2 = \n",
            "[2.  1.5 1.  0.5]\n",
            "\n",
            "y1 = \n",
            "[0 4]\n",
            "\n",
            "y2 = \n",
            "[0 2 4 6]\n",
            "\n",
            "y3 = \n",
            "[0 1 4 9]\n",
            "\n",
            "y4 = \n",
            "[ 1  1  4 27]\n"
          ]
        }
      ]
    },
    {
      "cell_type": "markdown",
      "metadata": {
        "id": "h528PTqRnBJ7"
      },
      "source": [
        "### Operadores matemáticos são chamadas de métodos em Numpy\n",
        "- Operador Adição (+) , equivale a np.add Addition (por exemplo, 1 + 1 = 2)\n",
        "- Operador Subtração (-),equivale a np.subtract Subtraction (por exemplo, 3 - 2 = 1)\n",
        "- Operador Nagativo Unário (-), equivale a np.negative (por exemplo, -2)\n",
        "- Operador Multiplicação (*), equivale a np.multiply (por exemplo, 2 * 3 = 6)\n",
        "- Operador Divisão (/), equivale a np.divide (por exemplo, 3 / 2 = 1.5)\n",
        "- Operador Divisão Inteira (//), equivale a np.floor_divide (por exemplo, 7 // 2 = 3)\n",
        "- Operador Exponenciação, equivale a np.power\n",
        "- Operador módulo (%), equivale a np.mod (por exemplo, 7 % 2 = 1)"
      ]
    },
    {
      "cell_type": "code",
      "metadata": {
        "id": "UlnxhHBonBJ8",
        "colab": {
          "base_uri": "https://localhost:8080/"
        },
        "outputId": "629715f7-a56c-4b43-af33-0b974cdca799"
      },
      "source": [
        "# Exemplos de métodos associados com operadores\n",
        "print(\"x = \")\n",
        "print(x)\n",
        "\n",
        "print()\n",
        "print(\"x + 10 = \")\n",
        "print(np.add(x, 10))\n",
        "\n",
        "print()\n",
        "print(\"x ** 2 = \")\n",
        "print(np.power(x, 2))\n"
      ],
      "execution_count": null,
      "outputs": [
        {
          "output_type": "stream",
          "name": "stdout",
          "text": [
            "x = \n",
            "[0 1 2 3]\n",
            "\n",
            "x + 10 = \n",
            "[10 11 12 13]\n",
            "\n",
            "x ** 2 = \n",
            "[0 1 4 9]\n"
          ]
        }
      ]
    },
    {
      "cell_type": "code",
      "metadata": {
        "id": "rzEUa8nknBKC",
        "colab": {
          "base_uri": "https://localhost:8080/"
        },
        "outputId": "c9e0959c-284d-481f-81bb-6c2db2349222"
      },
      "source": [
        "# Exemplo de método associado com operador multiplicação com especificação da variável de saída\n",
        "x = np.arange(5)\n",
        "y = np.empty(5)   # cria um array de 5 posições\n",
        "print(y)\n",
        "np.multiply(x, 10, out=y)\n",
        "# y = np.multiply(x, 10)\n",
        "print(y)"
      ],
      "execution_count": null,
      "outputs": [
        {
          "output_type": "stream",
          "name": "stdout",
          "text": [
            "[0.16666667 1.         0.25       0.25       0.125     ]\n",
            "[ 0. 10. 20. 30. 40.]\n"
          ]
        }
      ]
    },
    {
      "cell_type": "markdown",
      "metadata": {
        "id": "UBVHieU9nBKG"
      },
      "source": [
        "### Numpy possui um rico suporte de funções e constantes mataméticas.\n",
        "- Exemplos de funções de Trigonometria:\n",
        "        - valor de pi --> np.pi\n",
        "        - valor de e --> np.e\n",
        "        - função seno --> np.sin(radiano)\n",
        "        - função cosseno --> np.cos(radiano)\n",
        "        - função tangente --> np.tan(radiano)\n",
        "        - função arcoseno -->  np.arcsin(radiano)\n",
        "        - função arcocosseno -->  np.arccos(radiano)\n",
        "        - função arcotangente --> np.arctan(radiano)"
      ]
    },
    {
      "cell_type": "code",
      "metadata": {
        "id": "FVI0lCwBnBKH",
        "colab": {
          "base_uri": "https://localhost:8080/"
        },
        "outputId": "984499c2-76cd-4511-8838-fd8d0d08f5f8"
      },
      "source": [
        "# Exemplos de uso de funções trigonométricas em Numpy\n",
        "print(\"Valor de PI --> \", np.pi)\n",
        "print( \"Valor de e --> \", np.e)\n",
        "print( \"Valor de seno(pi/2) --> \", np.sin(np.pi/2)) \n",
        "\n",
        "teta = np.array([0, np.pi/4, np.pi/2, np.pi*3/4, np.pi])\n",
        "print(\"Valor de teta = \")\n",
        "print(teta)\n",
        "print(\"Valor de seno(teta) = \")\n",
        "print(np.sin(teta))"
      ],
      "execution_count": null,
      "outputs": [
        {
          "output_type": "stream",
          "name": "stdout",
          "text": [
            "Valor de PI -->  3.141592653589793\n",
            "Valor de e -->  2.718281828459045\n",
            "Valor de seno(pi/2) -->  1.0\n",
            "Valor de teta = \n",
            "[0.         0.78539816 1.57079633 2.35619449 3.14159265]\n",
            "Valor de seno(teta) = \n",
            "[0.00000000e+00 7.07106781e-01 1.00000000e+00 7.07106781e-01\n",
            " 1.22464680e-16]\n"
          ]
        }
      ]
    },
    {
      "cell_type": "markdown",
      "metadata": {
        "id": "vol_xQIynBKL"
      },
      "source": [
        "### Exercício:\n",
        "Dada a seguinte equação: \n",
        "$\\newcommand{\\sen}{{\\rm sen}}$\n",
        "\n",
        "$ y = \\sqrt[2]{1 - \\sen^2(k.\\pi/4)} $\n",
        "\n"
      ]
    },
    {
      "cell_type": "code",
      "metadata": {
        "id": "TLdh-mMUnBKM",
        "colab": {
          "base_uri": "https://localhost:8080/"
        },
        "outputId": "7980f33a-8e40-4ab2-f118-d0f1d896b1fc"
      },
      "source": [
        "# Exercício - Calcule e imprima o valor de y\n",
        "# Sem utilização do comando for\n",
        "\n",
        "#k = np.array(range(8))\n",
        "k = np.arange(8)\n",
        "# Calcule o valor de y via equação descrita acima.\n",
        "\n",
        "y = np.sqrt(1 - np.sin(k*np.pi/4)**2)\n",
        "\n",
        "print(k)\n",
        "print(y)"
      ],
      "execution_count": null,
      "outputs": [
        {
          "output_type": "stream",
          "name": "stdout",
          "text": [
            "[0 1 2 3 4 5 6 7]\n",
            "[1.         0.70710678 0.         0.70710678 1.         0.70710678\n",
            " 0.         0.70710678]\n"
          ]
        }
      ]
    },
    {
      "cell_type": "code",
      "metadata": {
        "id": "K9ahwtXCnBKP",
        "colab": {
          "base_uri": "https://localhost:8080/"
        },
        "outputId": "be8d7cac-9bd0-41f3-fd19-ad913c89453f"
      },
      "source": [
        "# Exercício - Calcule e imprima o IMC dos alunos\n",
        "# 01 polegada = 2.54 cm = 0.0254 m\n",
        "# 01 libra = 0.453592 Kg\n",
        "# Altura dos alunos em polegadas\n",
        "\n",
        "altura_polegada = [74, 74, 72, 72, 73, 69, 69, 71, 76, 71, 73, 73, 74, 74, 69, 70, 73, 75, 78, 79, 76, 74, 76, 72, 71, 75, 77, 74, 73, 74, 78, 73, 75, 73, 75, 75, 74, 69, 71, 74, 73, 73, 76, 74, 74, 70, 72, 77, 74, 70, 73, 75, 76, 76, 78, 74, 74, 76, 77, 81, 78, 75, 77, 75, 76, 74, 72, 72, 75, 73, 73, 73, 70, 70, 70, 76, 68, 71, 72, 75, 75, 75, 75, 68, 74, 78, 71, 73, 76, 74, 74, 79, 75, 73, 76, 74, 74, 73, 72, 74, 73, 74, 72, 73, 69, 72, 73, 75, 75, 73, 72, 72, 76, 74, 72, 77, 74, 77, 75, 76, 80, 74, 74, 75, 78, 73, 73, 74, 75, 76, 71, 73, 74, 76, 76, 74, 73, 74, 70, 72, 73, 73, 73, 73, 71, 74, 74, 72, 74, 71, 74, 73, 75, 75, 79, 73, 75, 76, 74, 76, 78, 74, 76, 72, 74, 76, 74, 75, 78, 75, 72, 74, 72, 74, 70, 71, 70, 75, 71, 71, 73, 72, 71, 73, 72, 75, 74, 74, 75, 73, 77, 73, 76, 75, 74, 76, 75, 73, 71, 76, 75, 72, 71, 77, 73, 74, 71, 72, 74, 75, 73, 72, 75, 75, 74, 72, 74, 71, 70, 74, 77, 77, 75, 75, 78, 75, 76, 73, 75, 75, 79, 77, 76, 71, 75, 74, 69, 71, 76, 72, 72, 70, 72, 73, 71, 72, 71, 73, 72, 73, 74, 74, 72, 75, 74, 74, 77, 75, 73, 72, 71, 74, 77, 75, 75, 75, 78, 78, 74, 76, 78, 76, 70, 72, 80, 74, 74, 71, 70, 72, 71, 74, 71, 72, 71, 74, 69, 76, 75, 75, 76, 73, 76, 73, 77, 73, 72, 72, 77, 77, 71, 74, 74, 73, 78, 75, 73, 70, 74, 72, 73, 73, 75, 75, 74, 76, 73, 74, 75, 75, 72, 73, 73, 72, 74, 78, 76, 73, 74, 75, 70, 75, 71, 72, 78, 75, 73, 73, 71, 75, 77, 72, 69, 73, 74, 72, 70, 75, 70, 72, 72, 74, 73, 74, 76, 75, 80, 72, 75, 73, 74, 74, 73, 75, 75, 71, 73, 75, 74, 74, 72, 74, 74, 74, 73, 76, 75, 72, 73, 73, 73, 72, 72, 72, 72, 71, 75, 75, 74, 73, 75, 79, 74, 76, 73, 74, 74, 72, 74, 74, 75, 78, 74, 74, 74, 77, 70, 73, 74, 73, 71, 75, 71, 72, 77, 74, 70, 77, 73, 72, 76, 71, 76, 78, 75, 73, 78, 74, 79, 75, 76, 72, 75, 75, 70, 72, 70, 74, 71, 76, 73, 76, 71, 69, 72, 72, 69, 73, 69, 73, 74, 74, 72, 71, 72, 72, 76, 76, 76, 74, 76, 75, 71, 72, 71, 73, 75, 76, 75, 71, 75, 74, 72, 73, 73, 73, 73, 76, 72, 76, 73, 73, 73, 75, 75, 77, 73, 72, 75, 70, 74, 72, 80, 71, 71, 74, 74, 73, 75, 76, 73, 77, 72, 73, 77, 76, 71, 75, 73, 74, 77, 71, 72, 73, 69, 73, 70, 74, 76, 73, 73, 75, 73, 79, 74, 73, 74, 77, 75, 74, 73, 77, 73, 77, 74, 74, 73, 77, 74, 77, 75, 77, 75, 71, 74, 70, 79, 72, 72, 70, 74, 74, 72, 73, 72, 74, 74, 76, 82, 74, 74, 70, 73, 73, 74, 77, 72, 76, 73, 73, 72, 74, 74, 71, 72, 75, 74, 74, 77, 70, 71, 73, 76, 71, 75, 74, 72, 76, 79, 76, 73, 76, 78, 75, 76, 72, 72, 73, 73, 75, 71, 76, 70, 75, 74, 75, 73, 71, 71, 72, 73, 73, 72, 69, 73, 78, 71, 73, 75, 76, 70, 74, 77, 75, 79, 72, 77, 73, 75, 75, 75, 73, 73, 76, 77, 75, 70, 71, 71, 75, 74, 69, 70, 75, 72, 75, 73, 72, 72, 72, 76, 75, 74, 69, 73, 72, 72, 75, 77, 76, 80, 77, 76, 79, 71, 75, 73, 76, 77, 73, 76, 70, 75, 73, 75, 70, 69, 71, 72, 72, 73, 70, 70, 73, 76, 75, 72, 73, 79, 71, 72, 74, 74, 74, 72, 76, 76, 72, 72, 71, 72, 72, 70, 77, 74, 72, 76, 71, 76, 71, 73, 70, 73, 73, 72, 71, 71, 71, 72, 72, 74, 74, 74, 71, 72, 75, 72, 71, 72, 72, 72, 72, 74, 74, 77, 75, 73, 75, 73, 76, 72, 77, 75, 72, 71, 71, 75, 72, 73, 73, 71, 70, 75, 71, 76, 73, 68, 71, 72, 74, 77, 72, 76, 78, 81, 72, 73, 76, 72, 72, 74, 76, 73, 76, 75, 70, 71, 74, 72, 73, 76, 76, 73, 71, 68, 71, 71, 74, 77, 69, 72, 76, 75, 76, 75, 76, 72, 74, 76, 74, 72, 75, 78, 77, 70, 72, 79, 74, 71, 68, 77, 75, 71, 72, 70, 72, 72, 73, 72, 74, 72, 72, 75, 72, 73, 74, 72, 78, 75, 72, 74, 75, 75, 76, 74, 74, 73, 74, 71, 74, 75, 76, 74, 76, 76, 73, 75, 75, 74, 68, 72, 75, 71, 70, 72, 73, 72, 75, 74, 70, 76, 71, 82, 72, 73, 74, 71, 75, 77, 72, 74, 72, 73, 78, 77, 73, 73, 73, 73, 73, 76, 75, 70, 73, 72, 73, 75, 74, 73, 73, 76, 73, 75, 70, 77, 72, 77, 74, 75, 75, 75, 75, 72, 74, 71, 76, 71, 75, 76, 83, 75, 74, 76, 72, 72, 75, 75, 72, 77, 73, 72, 70, 74, 72, 74, 72, 71, 70, 71, 76, 74, 76, 74, 74, 74, 75, 75, 71, 71, 74, 77, 71, 74, 75, 77, 76, 74, 76, 72, 71, 72, 75, 73, 68, 72, 69, 73, 73, 75, 70, 70, 74, 75, 74, 74, 73, 74, 75, 77, 73, 74, 76, 74, 75, 73, 76, 78, 75, 73, 77, 74, 72, 74, 72, 71, 73, 75, 73, 67, 67, 76, 74, 73, 70, 75, 70, 72, 77, 79, 78, 74, 75, 75, 78, 76, 75, 69, 75, 72, 75, 73, 74, 75, 75, 73]\n",
        "peso_libra = [180, 215, 210, 210, 188, 176, 209, 200, 231, 180, 188, 180, 185, 160, 180, 185, 189, 185, 219, 230, 205, 230, 195, 180, 192, 225, 203, 195, 182, 188, 200, 180, 200, 200, 245, 240, 215, 185, 175, 199, 200, 215, 200, 205, 206, 186, 188, 220, 210, 195, 200, 200, 212, 224, 210, 205, 220, 195, 200, 260, 228, 270, 200, 210, 190, 220, 180, 205, 210, 220, 211, 200, 180, 190, 170, 230, 155, 185, 185, 200, 225, 225, 220, 160, 205, 235, 250, 210, 190, 160, 200, 205, 222, 195, 205, 220, 220, 170, 185, 195, 220, 230, 180, 220, 180, 180, 170, 210, 215, 200, 213, 180, 192, 235, 185, 235, 210, 222, 210, 230, 220, 180, 190, 200, 210, 194, 180, 190, 240, 200, 198, 200, 195, 210, 220, 190, 210, 225, 180, 185, 170, 185, 185, 180, 178, 175, 200, 204, 211, 190, 210, 190, 190, 185, 290, 175, 185, 200, 220, 170, 220, 190, 220, 205, 200, 250, 225, 215, 210, 215, 195, 200, 194, 220, 180, 180, 170, 195, 180, 170, 206, 205, 200, 225, 201, 225, 233, 180, 225, 180, 220, 180, 237, 215, 190, 235, 190, 180, 165, 195, 200, 190, 190, 185, 185, 205, 190, 205, 206, 220, 208, 170, 195, 210, 190, 211, 230, 170, 185, 185, 241, 225, 210, 175, 230, 200, 215, 198, 226, 278, 215, 230, 240, 184, 219, 170, 218, 190, 225, 220, 176, 190, 197, 204, 167, 180, 195, 220, 215, 185, 190, 205, 205, 200, 210, 215, 200, 205, 211, 190, 208, 200, 210, 232, 230, 210, 220, 210, 202, 212, 225, 170, 190, 200, 237, 220, 170, 193, 190, 150, 220, 200, 190, 185, 185, 200, 172, 220, 225, 190, 195, 219, 190, 197, 200, 195, 210, 177, 220, 235, 180, 195, 195, 190, 230, 190, 200, 190, 190, 200, 200, 184, 200, 180, 219, 187, 200, 220, 205, 190, 170, 160, 215, 175, 205, 200, 214, 200, 190, 180, 205, 220, 190, 215, 235, 191, 200, 181, 200, 210, 240, 185, 165, 190, 185, 175, 155, 210, 170, 175, 220, 210, 205, 200, 205, 195, 240, 150, 200, 215, 202, 200, 190, 205, 190, 160, 215, 185, 200, 190, 210, 185, 220, 190, 202, 205, 220, 175, 160, 190, 200, 229, 206, 220, 180, 195, 175, 188, 230, 190, 200, 190, 219, 235, 180, 180, 180, 200, 234, 185, 220, 223, 200, 210, 200, 210, 190, 177, 227, 180, 195, 199, 175, 185, 240, 210, 180, 194, 225, 180, 205, 193, 230, 230, 220, 200, 249, 190, 208, 245, 250, 160, 192, 220, 170, 197, 155, 190, 200, 220, 210, 228, 190, 160, 184, 180, 180, 200, 176, 160, 222, 211, 195, 200, 175, 206, 240, 185, 260, 185, 221, 205, 200, 170, 201, 205, 185, 205, 245, 220, 210, 220, 185, 175, 170, 180, 200, 210, 175, 220, 206, 180, 210, 195, 200, 200, 164, 180, 220, 195, 205, 170, 240, 210, 195, 200, 205, 192, 190, 170, 240, 200, 205, 175, 250, 220, 224, 210, 195, 180, 245, 175, 180, 215, 175, 180, 195, 230, 230, 205, 215, 195, 180, 205, 180, 190, 180, 190, 190, 220, 210, 255, 190, 230, 200, 205, 210, 225, 215, 220, 205, 200, 220, 197, 225, 187, 245, 185, 185, 175, 200, 180, 188, 225, 200, 210, 245, 213, 231, 165, 228, 210, 250, 191, 190, 200, 215, 254, 232, 180, 215, 220, 180, 200, 170, 195, 210, 200, 220, 165, 180, 200, 200, 170, 224, 220, 180, 198, 240, 239, 185, 210, 220, 200, 195, 220, 230, 170, 220, 230, 165, 205, 192, 210, 205, 200, 210, 185, 195, 202, 205, 195, 180, 200, 185, 240, 185, 220, 205, 205, 180, 201, 190, 208, 240, 180, 230, 195, 215, 190, 195, 215, 215, 220, 220, 230, 195, 190, 195, 209, 204, 170, 185, 205, 175, 210, 190, 180, 180, 160, 235, 200, 210, 180, 190, 197, 203, 205, 170, 200, 250, 200, 220, 200, 190, 170, 190, 220, 215, 206, 215, 185, 235, 188, 230, 195, 168, 190, 160, 200, 200, 189, 180, 190, 200, 220, 187, 240, 190, 180, 185, 210, 220, 219, 190, 193, 175, 180, 215, 210, 200, 190, 185, 220, 170, 195, 205, 195, 210, 190, 190, 180, 220, 190, 186, 185, 190, 180, 190, 170, 210, 240, 220, 180, 210, 210, 195, 160, 180, 205, 200, 185, 245, 190, 210, 200, 200, 222, 215, 240, 170, 220, 156, 190, 202, 221, 200, 190, 210, 190, 200, 165, 190, 185, 230, 208, 209, 175, 180, 200, 205, 200, 250, 210, 230, 244, 202, 240, 200, 215, 177, 210, 170, 215, 217, 198, 200, 220, 170, 200, 230, 231, 183, 192, 167, 190, 180, 180, 215, 160, 205, 223, 175, 170, 190, 240, 175, 230, 223, 196, 167, 195, 190, 250, 190, 190, 190, 170, 160, 150, 225, 220, 209, 210, 176, 260, 195, 190, 184, 180, 195, 195, 219, 225, 212, 202, 185, 200, 209, 200, 195, 228, 210, 190, 212, 190, 218, 220, 190, 235, 210, 200, 188, 210, 235, 188, 215, 216, 220, 180, 185, 200, 210, 220, 185, 231, 210, 195, 200, 205, 200, 190, 250, 185, 180, 170, 180, 208, 235, 215, 244, 220, 185, 230, 190, 200, 180, 190, 196, 180, 230, 224, 160, 178, 205, 185, 210, 180, 190, 200, 257, 190, 220, 165, 205, 200, 208, 185, 215, 170, 235, 210, 170, 180, 170, 190, 150, 230, 203, 260, 246, 186, 210, 198, 210, 215, 180, 200, 245, 200, 192, 192, 200, 192, 205, 190, 186, 170, 197, 219, 200, 220, 207, 225, 207, 212, 225, 170, 190, 210, 230, 210, 200, 238, 234, 222, 200, 190, 170, 220, 223, 210, 215, 196, 175, 175, 189, 205, 210, 180, 180, 197, 220, 228, 190, 204, 165, 216, 220, 208, 210, 215, 195, 200, 215, 229, 240, 207, 205, 208, 185, 190, 170, 208, 225, 190, 225, 185, 180, 165, 240, 220, 212, 163, 215, 175, 205, 210, 205, 208, 215, 180, 200, 230, 211, 230, 190, 220, 180, 205, 190, 180, 205, 190, 195]\n",
        "# ----------------- cálculo do IMC  ----------------------\n",
        "\n",
        "peso = np.multiply(np.array(peso_libra), 0.453592)\n",
        "altura = np.multiply(np.array(altura_polegada), 0.0254)\n",
        "\n",
        "\n",
        "IMC = np.divide(peso,altura**2)\n",
        "\n",
        "# --------------------------------------------------------\n",
        "print(\"Os valores de IMC dos alunos são:\")\n",
        "print(IMC)"
      ],
      "execution_count": 5,
      "outputs": [
        {
          "output_type": "stream",
          "name": "stdout",
          "text": [
            "Os valores de IMC dos alunos são:\n",
            "[23.11037639 27.60406069 28.48080465 ... 25.62295933 23.74810865\n",
            " 25.72686361]\n"
          ]
        }
      ]
    },
    {
      "cell_type": "markdown",
      "metadata": {
        "id": "d8fFfZhJnBKW"
      },
      "source": [
        "### Exemplos de funções exponenciais e logorítmicas\n",
        "- $\\ e^x$ = $exp(x)$ --> np.exp(array)\n",
        "- $2^x$ --> np.exp2(array)\n",
        "- $b^e$ --> np.power(array_base, array_expoente)\n",
        "- $ln(x)$ --> np.log(array)\n",
        "- $log_2(x)$ --> np.log2(array)\n",
        "- $log_{10}(x)$ --> np.log10(array)"
      ]
    },
    {
      "cell_type": "code",
      "metadata": {
        "id": "05mO7F8dnBKX",
        "colab": {
          "base_uri": "https://localhost:8080/"
        },
        "outputId": "7e5aa944-f13b-4875-aafc-65a4c706ea55"
      },
      "source": [
        "# Exemplos de uso de funções exponenciais\n",
        "x = [1, 2, 3]\n",
        "print(\"x =\", x)\n",
        "print(\"e^x =\", np.exp(x))\n",
        "print(\"2^x =\", np.exp2(x))\n",
        "print(\"3^x =\", np.power(2, x))"
      ],
      "execution_count": 6,
      "outputs": [
        {
          "output_type": "stream",
          "name": "stdout",
          "text": [
            "x = [1, 2, 3]\n",
            "e^x = [ 2.71828183  7.3890561  20.08553692]\n",
            "2^x = [2. 4. 8.]\n",
            "3^x = [2 4 8]\n"
          ]
        }
      ]
    },
    {
      "cell_type": "code",
      "metadata": {
        "id": "4CCXpQ3unBKc",
        "colab": {
          "base_uri": "https://localhost:8080/"
        },
        "outputId": "e6a74a24-b170-4a97-a5a2-5bddb549b884"
      },
      "source": [
        "# Exemplos de uso de funções exponenciais\n",
        "\n",
        "#print(\"e^x =\", np.e**x)  # esta expressão está correta?\n",
        "\n",
        "print( \"e^x =\", (np.e*np.ones(3))**x)"
      ],
      "execution_count": 8,
      "outputs": [
        {
          "output_type": "stream",
          "name": "stdout",
          "text": [
            "e^x = [ 2.71828183  7.3890561  20.08553692]\n"
          ]
        }
      ]
    },
    {
      "cell_type": "code",
      "metadata": {
        "id": "YvqOND2unBKm",
        "colab": {
          "base_uri": "https://localhost:8080/"
        },
        "outputId": "679114b3-8904-4a37-8c94-84ee375f5d36"
      },
      "source": [
        "# Exemplos de uso de funções logorítmicas\n",
        "x = [1, 2, 4, 10]\n",
        "print(\"x =\", x)\n",
        "print(\"ln(x) =\", np.log(x))\n",
        "print(\"log2(x) =\", np.log2(x))\n",
        "print(\"log10(x) =\", np.log10(x))"
      ],
      "execution_count": 9,
      "outputs": [
        {
          "output_type": "stream",
          "name": "stdout",
          "text": [
            "x = [1, 2, 4, 10]\n",
            "ln(x) = [0.         0.69314718 1.38629436 2.30258509]\n",
            "log2(x) = [0.         1.         2.         3.32192809]\n",
            "log10(x) = [0.         0.30103    0.60205999 1.        ]\n"
          ]
        }
      ]
    },
    {
      "cell_type": "markdown",
      "metadata": {
        "id": "QmSh9i_AnBKp"
      },
      "source": [
        "### Operações \"recursivas\" em Arrays Numpy\n",
        "- Executam elemento-a-elemento recorrentemente, até percorrer todo o array.\n",
        "- np.add.reduce(array) --> retorna a somatória dos elementos do array  \n",
        "- np.multiply.reduce(array) --> retorna o produtório dos elementos do array "
      ]
    },
    {
      "cell_type": "code",
      "metadata": {
        "id": "ZqcONykpnBKp",
        "colab": {
          "base_uri": "https://localhost:8080/"
        },
        "outputId": "892c2d34-0871-47a4-a14a-d7916ee7b710"
      },
      "source": [
        "# Exemplos de uso do método reduce()\n",
        "x = np.arange(1,5)\n",
        "y1 = np.add.reduce(x)\n",
        "y2 = np.multiply.reduce(x)\n",
        "\n",
        "print(\"x = \", x)\n",
        "print(\"y1 = \", y1)\n",
        "print(\"y2 = \", y2)\n"
      ],
      "execution_count": 10,
      "outputs": [
        {
          "output_type": "stream",
          "name": "stdout",
          "text": [
            "x =  [1 2 3 4]\n",
            "y1 =  10\n",
            "y2 =  24\n"
          ]
        }
      ]
    },
    {
      "cell_type": "code",
      "metadata": {
        "id": "lpiZVZ5AnBKu",
        "colab": {
          "base_uri": "https://localhost:8080/"
        },
        "outputId": "608d9a4f-6b5a-43bd-b6d8-02a7533822b5"
      },
      "source": [
        "# Exemplos de uso do método .accumulate(array)\n",
        "print(\"Que procedimento o método '.accumulate(array)' executa?\")\n",
        "y3 = np.add.accumulate(x)\n",
        "y4 = np.multiply.accumulate(x)\n",
        "\n",
        "print(\"x = \", x)\n",
        "print(\"y3 = \", y3)\n",
        "print(\"y4 = \", y4)"
      ],
      "execution_count": 11,
      "outputs": [
        {
          "output_type": "stream",
          "name": "stdout",
          "text": [
            "Que procedimento o método '.accumulate(array)' executa?\n",
            "x =  [1 2 3 4]\n",
            "y3 =  [ 1  3  6 10]\n",
            "y4 =  [ 1  2  6 24]\n"
          ]
        }
      ]
    },
    {
      "cell_type": "code",
      "metadata": {
        "id": "cvS4OPG4nBKw",
        "colab": {
          "base_uri": "https://localhost:8080/"
        },
        "outputId": "63f22257-3edf-403a-8f7d-df417bce28be"
      },
      "source": [
        "# Exemplos de uso do método .outer(array1, array2)\n",
        "print(\"O que procedimento o método '.outer(array1, array2)' executa?\")\n",
        "x = np.arange(1,5)\n",
        "x1 = np.ones(5)\n",
        "y5 = np.add.outer(x, x)\n",
        "y6 = np.multiply.outer(x, x)\n",
        "y7 = np.add.outer(x, x1)\n",
        "\n",
        "print(\"x = \", x,\"\\n\")\n",
        "print(\"x1 = \", x1,\"\\n\")\n",
        "print(\"y5 = \")\n",
        "print(y5,\"\\n\")\n",
        "print(\"y6 = \")\n",
        "print(y6, \"\\n\")\n",
        "print(\"y7 = \")\n",
        "print(y7)"
      ],
      "execution_count": 12,
      "outputs": [
        {
          "output_type": "stream",
          "name": "stdout",
          "text": [
            "O que procedimento o método '.outer(array1, array2)' executa?\n",
            "x =  [1 2 3 4] \n",
            "\n",
            "x1 =  [1. 1. 1. 1. 1.] \n",
            "\n",
            "y5 = \n",
            "[[2 3 4 5]\n",
            " [3 4 5 6]\n",
            " [4 5 6 7]\n",
            " [5 6 7 8]] \n",
            "\n",
            "y6 = \n",
            "[[ 1  2  3  4]\n",
            " [ 2  4  6  8]\n",
            " [ 3  6  9 12]\n",
            " [ 4  8 12 16]] \n",
            "\n",
            "y7 = \n",
            "[[2. 2. 2. 2. 2.]\n",
            " [3. 3. 3. 3. 3.]\n",
            " [4. 4. 4. 4. 4.]\n",
            " [5. 5. 5. 5. 5.]]\n"
          ]
        }
      ]
    },
    {
      "cell_type": "markdown",
      "metadata": {
        "id": "-MVSieaNnBK2"
      },
      "source": [
        "### Observação:\n",
        "Operadores aritiméticos e lógicos entre Arrays Numpy e escalares são aplicados elemento-a-elemento no Array.\n",
        "\n",
        "De forma geral, é possível realizar operações aritiméticas e lógicas com array de dimensões diferentes.\n",
        "- a operação será reaizada por dimensão."
      ]
    },
    {
      "cell_type": "code",
      "metadata": {
        "id": "UqcOZbulnBK2",
        "colab": {
          "base_uri": "https://localhost:8080/"
        },
        "outputId": "762466ba-885a-42d3-f0eb-a027cf67c740"
      },
      "source": [
        "# Exemplos de operações aritiméticas e lógicas com Array Numpy e escalares\n",
        "x = np.array([1, 2, 3, 4, 5])\n",
        "print(\"x < 3 \\n\", x<3)\n",
        "print(\"x == 3 \\n\", x==3)\n",
        "print(\"x + 3 \\n\", x+3)\n",
        "print(\"x * 3 \\n\", x*3)\n",
        "print(\"x / 3 \\n\", x/3)"
      ],
      "execution_count": 13,
      "outputs": [
        {
          "output_type": "stream",
          "name": "stdout",
          "text": [
            "x < 3 \n",
            " [ True  True False False False]\n",
            "x == 3 \n",
            " [False False  True False False]\n",
            "x + 3 \n",
            " [4 5 6 7 8]\n",
            "x * 3 \n",
            " [ 3  6  9 12 15]\n",
            "x / 3 \n",
            " [0.33333333 0.66666667 1.         1.33333333 1.66666667]\n"
          ]
        }
      ]
    },
    {
      "cell_type": "code",
      "source": [
        "print(x[:4].sum())\n",
        "print(sum(x<3))\n",
        "x[x<5].sum()"
      ],
      "metadata": {
        "colab": {
          "base_uri": "https://localhost:8080/"
        },
        "id": "r05UAaal6fVk",
        "outputId": "b1346a98-3bec-4974-b893-549250587b32"
      },
      "execution_count": 14,
      "outputs": [
        {
          "output_type": "stream",
          "name": "stdout",
          "text": [
            "10\n",
            "2\n"
          ]
        },
        {
          "output_type": "execute_result",
          "data": {
            "text/plain": [
              "10"
            ]
          },
          "metadata": {},
          "execution_count": 14
        }
      ]
    },
    {
      "cell_type": "code",
      "metadata": {
        "id": "hhYV8aRhnBK6",
        "colab": {
          "base_uri": "https://localhost:8080/"
        },
        "outputId": "1bfd32d2-f36c-4335-ec14-1e544be06fea"
      },
      "source": [
        "# Exemplos de operações aritiméticas e lógicas \n",
        "# entre Array bidimensional e unidimensional\n",
        "x1 = np.array([[1, 2, 3], [4, 5, 6]])\n",
        "x2 = np.array([2,2,2])\n",
        "print(\"x1  \\n\", x1)\n",
        "print(\"x2  \\n\", x2)\n",
        "print(\"x1 < 3 \\n\", x1<3)\n",
        "print(\"x1 == 3 \\n\", x1==3)\n",
        "print(\"x1 + x2 \\n\", x1+x2)\n",
        "print(\"x1 * x2 \\n\", x1* x2)\n",
        "print(\"x2 * x1 \\n\", x2* x1)"
      ],
      "execution_count": 18,
      "outputs": [
        {
          "output_type": "stream",
          "name": "stdout",
          "text": [
            "x1  \n",
            " [[1 2 3]\n",
            " [4 5 6]]\n",
            "x2  \n",
            " [2 2 2]\n",
            "x1 < 3 \n",
            " [[ True  True False]\n",
            " [False False False]]\n",
            "x1 == 3 \n",
            " [[False False  True]\n",
            " [False False False]]\n",
            "x1 + x2 \n",
            " [[3 4 5]\n",
            " [6 7 8]]\n",
            "x1 * x2 \n",
            " [[ 2  4  6]\n",
            " [ 8 10 12]]\n",
            "x2 * x1 \n",
            " [[ 2  4  6]\n",
            " [ 8 10 12]]\n"
          ]
        }
      ]
    },
    {
      "cell_type": "code",
      "metadata": {
        "id": "mI_JgyYenBK_",
        "colab": {
          "base_uri": "https://localhost:8080/"
        },
        "outputId": "4c71945d-6faa-4534-a187-51dc9a23effc"
      },
      "source": [
        "# Exemplo de métodos sobre arrays Numpy booleanos\n",
        "print(x1)\n",
        "print(\"Número de valores menores de 3 em x1 \", np.count_nonzero(x1 < 3))\n",
        "print(\"Número de valores menores de 3 em x1 \", np.sum(x1 < 3))\n",
        "print(\"Por que os valores dos dois comandos print() são iguais?\")\n",
        "\n",
        "print('porque ambos contabilizam os valores abaixo de 3')"
      ],
      "execution_count": 23,
      "outputs": [
        {
          "output_type": "stream",
          "name": "stdout",
          "text": [
            "[[1 2 3]\n",
            " [4 5 6]]\n",
            "Número de valores menores de 3 em x1  2\n",
            "Número de valores menores de 3 em x1  2\n",
            "Por que os valores dos dois comandos print() são iguais?\n",
            "porque ambos contabilizam os valores abaixo de 3\n"
          ]
        }
      ]
    },
    {
      "cell_type": "code",
      "metadata": {
        "id": "XdM_Fb9HnBLB",
        "colab": {
          "base_uri": "https://localhost:8080/"
        },
        "outputId": "2c49e334-c98a-470f-82c4-415becf61bd5"
      },
      "source": [
        "# Exemplo de uso dos métodos np.all(array_booleano) e np.any(array_booleano)\n",
        "print(\"Explique o funcionamento desses dois métodos\")\n",
        "print(x1)\n",
        "print(np.any(x1<3))\n",
        "print(np.all(x1<3))\n",
        "\n",
        "print(\"any = qualquer e all = todos, sendo assim como o vetor possui valores abaixo de 3. any = true e all = false\")\n"
      ],
      "execution_count": 25,
      "outputs": [
        {
          "output_type": "stream",
          "name": "stdout",
          "text": [
            "Explique o funcionamento desses dois métodos\n",
            "[[1 2 3]\n",
            " [4 5 6]]\n",
            "True\n",
            "False\n",
            "any = qualquer e all = todos, sendo assim como o vetor possui valores abaixo de 3. any = true e all = false\n"
          ]
        }
      ]
    },
    {
      "cell_type": "markdown",
      "metadata": {
        "id": "xcMsvwRqnBLG"
      },
      "source": [
        "### Métodos de funções estatísticas\n",
        "Há diversos métodos que implementam funções estatísticas básicas para Arrays Numpy. Abaixo são apresentados alguns exemplos de uso dessas funções."
      ]
    },
    {
      "cell_type": "code",
      "metadata": {
        "id": "KjtdC40hnBLH",
        "colab": {
          "base_uri": "https://localhost:8080/"
        },
        "outputId": "223f8c81-b3fe-48c4-c1d7-dc7baf7e1590"
      },
      "source": [
        "# Exemplos de uso de funções estatísticas\n",
        "\n",
        "x = np.arange(1,10)\n",
        "print(\"x = \", x)\n",
        "print(\"valor mínimo de x = \", x.min())\n",
        "print(\"valor mínimo de x = \", min(x))\n",
        "print(\"valor máximo de x = \", x.max())\n",
        "print(\"valor máximo de x = \", max(x))\n",
        "print(\"soma dos elementos de x = \", x.sum())\n",
        "print(\"soma dos elementos de x = \", sum(x))"
      ],
      "execution_count": 26,
      "outputs": [
        {
          "output_type": "stream",
          "name": "stdout",
          "text": [
            "x =  [1 2 3 4 5 6 7 8 9]\n",
            "valor mínimo de x =  1\n",
            "valor mínimo de x =  1\n",
            "valor máximo de x =  9\n",
            "valor máximo de x =  9\n",
            "soma dos elementos de x =  45\n",
            "soma dos elementos de x =  45\n"
          ]
        }
      ]
    },
    {
      "cell_type": "code",
      "metadata": {
        "id": "iS-fB-LynBLK",
        "colab": {
          "base_uri": "https://localhost:8080/"
        },
        "outputId": "a5052f58-0c4e-4637-dd60-2f3d4dbf0ee6"
      },
      "source": [
        "# Exemplos de uso de funções estatísticas\n",
        "print(\"média dos valores dos elementos de x = \", x.mean())\n",
        "print(\"desvio padrão dos valores dos elementos de x = \", x.std())"
      ],
      "execution_count": 32,
      "outputs": [
        {
          "output_type": "stream",
          "name": "stdout",
          "text": [
            "média dos valores dos elementos de x =  5.0\n",
            "desvio padrão dos valores dos elementos de x =  2.581988897471611\n"
          ]
        }
      ]
    },
    {
      "cell_type": "code",
      "metadata": {
        "id": "bVCPlaRBnBLM",
        "colab": {
          "base_uri": "https://localhost:8080/"
        },
        "outputId": "0745dac1-0c99-433c-f830-65adf508f2e8"
      },
      "source": [
        "print(\"Os dois comandos print() abaixo estão corretos?\")\n",
        "#print(\"média dos valores dos elementos de x = \", mean(x))\n",
        "#print(\"desvio padrão dos valores dos elementos de x = \", std(x))\n",
        "\n",
        "print('os comandos mencionados não estão corretos. O motivo é que as funções mean() e std() não estão diretamente disponíveis no escopo global do Python')"
      ],
      "execution_count": 34,
      "outputs": [
        {
          "output_type": "stream",
          "name": "stdout",
          "text": [
            "Os dois comandos print() abaixo estão corretos?\n",
            "os comandos mencionados não estão corretos. O motivo é que as funções mean() e std() não estão diretamente disponíveis no escopo global do Python\n"
          ]
        }
      ]
    },
    {
      "cell_type": "code",
      "metadata": {
        "id": "sDXRiU94nBLO",
        "colab": {
          "base_uri": "https://localhost:8080/"
        },
        "outputId": "3845307b-5268-4b9c-a9fd-5813e67b0170"
      },
      "source": [
        "# Exemplo de uso de funções estatísticas sobre Arrays Numpy\n",
        "x = np.arange(1,10)\n",
        "print(\"x = \", x)\n",
        "print(\"valor mínimo de x = \", np.min(x))\n",
        "print(\"valor máximo de x = \", np.max(x))\n",
        "print(\"soma dos elementos de x = \", np.sum(x))\n",
        "print(\"média dos valores dos elementos de x = \", np.mean(x))\n",
        "print(\"mediana dos valores dos elementos de x = \", np.median(x))\n",
        "print(\"desvio padrão dos valores dos elementos de x = \", np.std(x))\n",
        "print(\"variância dos valores dos elementos de x = \", np.var(x))\n",
        "print(\"desvio padrão dos valores dos elementos de x = \", np.sqrt(np.var(x)))"
      ],
      "execution_count": 35,
      "outputs": [
        {
          "output_type": "stream",
          "name": "stdout",
          "text": [
            "x =  [1 2 3 4 5 6 7 8 9]\n",
            "valor mínimo de x =  1\n",
            "valor máximo de x =  9\n",
            "soma dos elementos de x =  45\n",
            "média dos valores dos elementos de x =  5.0\n",
            "mediana dos valores dos elementos de x =  5.0\n",
            "desvio padrão dos valores dos elementos de x =  2.581988897471611\n",
            "variância dos valores dos elementos de x =  6.666666666666667\n",
            "desvio padrão dos valores dos elementos de x =  2.581988897471611\n"
          ]
        }
      ]
    },
    {
      "cell_type": "markdown",
      "metadata": {
        "id": "nj3tkWU8nBLR"
      },
      "source": [
        "### Observação:\n",
        "Como visto anteriormente, os métodos específicos do Numpy são mais eficientes computacionalmente do que métodos padrões.\n",
        "\n",
        "A seguir verifique o desempenho de métodos estatísticos específicos do Numpy com relação aos métodos gerais."
      ]
    },
    {
      "cell_type": "code",
      "metadata": {
        "id": "FeZc_cNunBLR",
        "colab": {
          "base_uri": "https://localhost:8080/"
        },
        "outputId": "0cf4eb34-8d3c-4903-8937-1452bbe133fb"
      },
      "source": [
        "# Exemplo - Avaliação de desempenho de método genérico e método específico do Numpy\n",
        "big_array = np.random.rand(1000000)\n",
        "print(\"Tempo de execução de uma soma de elementos de um array via método genérico\")\n",
        "%timeit sum(big_array)\n",
        "print(\"Tempo de execução de uma soma de elementos de um array via método específico do numpy\")\n",
        "%timeit np.sum(big_array)"
      ],
      "execution_count": 36,
      "outputs": [
        {
          "output_type": "stream",
          "name": "stdout",
          "text": [
            "Tempo de execução de uma soma de elementos de um array via método genérico\n",
            "114 ms ± 36.2 ms per loop (mean ± std. dev. of 7 runs, 10 loops each)\n",
            "Tempo de execução de uma soma de elementos de um array via método específico do numpy\n",
            "390 µs ± 10.4 µs per loop (mean ± std. dev. of 7 runs, 1000 loops each)\n"
          ]
        }
      ]
    },
    {
      "cell_type": "code",
      "metadata": {
        "id": "IDD8p3ArnBLS",
        "colab": {
          "base_uri": "https://localhost:8080/"
        },
        "outputId": "5c8d564f-134a-4e85-ad26-19f8546f4071"
      },
      "source": [
        "# Exercício - Avalie o desempenho dos métodos genérico e específico\n",
        "# para cálculo de desvio padrão\n",
        "# Utilize o Array big_array\n",
        "\n",
        "## Escreva o código aqui\n",
        "\n",
        "import math\n",
        "big_array = np.random.rand(1000000)\n",
        "print(\"Tempo de execução de desvio padrão de elementos de um array via método genérico\")\n",
        "%timeit n = len(big_array); mean = sum(big_array) / n; variance = sum((xi - mean) ** 2 for xi in big_array) / n\n",
        "\n",
        "print(\"Tempo de execução de desvio padrão de elementos de um array via método específico do numpy\")\n",
        "%timeit np.std(big_array)\n",
        "\n",
        "\n"
      ],
      "execution_count": 38,
      "outputs": [
        {
          "output_type": "stream",
          "name": "stdout",
          "text": [
            "Tempo de execução de desvio padrão de elementos de um array via método genérico\n",
            "543 ms ± 12.7 ms per loop (mean ± std. dev. of 7 runs, 1 loop each)\n",
            "Tempo de execução de desvio padrão de elementos de um array via método específico do numpy\n",
            "3.14 ms ± 551 µs per loop (mean ± std. dev. of 7 runs, 100 loops each)\n"
          ]
        }
      ]
    },
    {
      "cell_type": "markdown",
      "metadata": {
        "id": "Le-dRb3EnBLX"
      },
      "source": [
        "### Observação\n",
        "Para se realizar operações matriciais com Arrays Numpy é necessário utilizar métodos.\n",
        "- np.dot(x,y) --> x*y\n",
        "- x.dot(y) --> x*y\n",
        "- np.inv\n",
        "- np.mat.T  --> $mat^T$"
      ]
    },
    {
      "cell_type": "code",
      "metadata": {
        "id": "UXO3xZkSnBLY",
        "colab": {
          "base_uri": "https://localhost:8080/"
        },
        "outputId": "455cfbfd-8af8-4bd8-93dc-9d875892152b"
      },
      "source": [
        "# Exemplo de uso de métodos para operação matricial em Arrays Numpy\n",
        "x = np.array([[1., 2., 3.], [4., 5., 6.]])\n",
        "y = np.array([[6., 23.], [-1, 7], [8, 9]])\n",
        "z1 = x.dot(y) \n",
        "z2 = np.dot(x, y)\n",
        "print(\"z1 = \\n\", z1)\n",
        "print(\"\\nz2 = \\n\", z2)"
      ],
      "execution_count": 41,
      "outputs": [
        {
          "output_type": "stream",
          "name": "stdout",
          "text": [
            "z1 = \n",
            " [[ 28.  64.]\n",
            " [ 67. 181.]]\n",
            "\n",
            "z2 = \n",
            " [[ 28.  64.]\n",
            " [ 67. 181.]]\n"
          ]
        }
      ]
    },
    {
      "cell_type": "markdown",
      "metadata": {
        "id": "8478-DxOnBLZ"
      },
      "source": [
        "O programa abaixo implementa a seguinte equação matricial:\n",
        "\n",
        "$mat_2 = mat_1^T * mat_1$"
      ]
    },
    {
      "cell_type": "code",
      "metadata": {
        "id": "VQ6Iq385nBLa",
        "colab": {
          "base_uri": "https://localhost:8080/"
        },
        "outputId": "ddaac6d5-bb4b-447a-cde2-4f4014cfbfca"
      },
      "source": [
        "import numpy as np\n",
        "\n",
        "mat1 = np.array([[1., 2., 3.], [4.5, .5, 6.7], [7.3,1.8,2.7]]) \n",
        "mat2 = mat1.T.dot(mat1)\n",
        "print(\"mat1 = \\n\", mat1)\n",
        "print(\"mat2 = \\n\", mat2)"
      ],
      "execution_count": 42,
      "outputs": [
        {
          "output_type": "stream",
          "name": "stdout",
          "text": [
            "mat1 = \n",
            " [[1.  2.  3. ]\n",
            " [4.5 0.5 6.7]\n",
            " [7.3 1.8 2.7]]\n",
            "mat2 = \n",
            " [[74.54 17.39 52.86]\n",
            " [17.39  7.49 14.21]\n",
            " [52.86 14.21 61.18]]\n"
          ]
        }
      ]
    },
    {
      "cell_type": "code",
      "metadata": {
        "id": "rpw-xo75nBLb",
        "colab": {
          "base_uri": "https://localhost:8080/"
        },
        "outputId": "370db532-d4eb-4853-e38a-827939d77f08"
      },
      "source": [
        "#from numpy.linalg import inv\n",
        "np.linalg.inv(mat1)"
      ],
      "execution_count": 43,
      "outputs": [
        {
          "output_type": "execute_result",
          "data": {
            "text/plain": [
              "array([[-0.140625  ,  0.        ,  0.15625   ],\n",
              "       [ 0.48266807, -0.25210084,  0.08928571],\n",
              "       [ 0.05842962,  0.16806723, -0.11160714]])"
            ]
          },
          "metadata": {},
          "execution_count": 43
        }
      ]
    },
    {
      "cell_type": "code",
      "metadata": {
        "id": "fmB62M-jnBLd",
        "colab": {
          "base_uri": "https://localhost:8080/"
        },
        "outputId": "5ae5ec12-62db-45d1-bf56-d8e521a46c6d"
      },
      "source": [
        "# Para evitar explicitar o caminho do método no pacote\n",
        "from numpy.linalg import inv\n",
        "inv(mat1)"
      ],
      "execution_count": 44,
      "outputs": [
        {
          "output_type": "execute_result",
          "data": {
            "text/plain": [
              "array([[-0.140625  ,  0.        ,  0.15625   ],\n",
              "       [ 0.48266807, -0.25210084,  0.08928571],\n",
              "       [ 0.05842962,  0.16806723, -0.11160714]])"
            ]
          },
          "metadata": {},
          "execution_count": 44
        }
      ]
    },
    {
      "cell_type": "code",
      "metadata": {
        "id": "frNAPIq_nBLe",
        "colab": {
          "base_uri": "https://localhost:8080/"
        },
        "outputId": "1f080afc-c55b-4946-fd43-6ab1aa7ab7a1"
      },
      "source": [
        "# A multiplicação de uma matriz por sua inversa é uma matriz Identidade\n",
        "mat1.dot(inv(mat1))"
      ],
      "execution_count": 45,
      "outputs": [
        {
          "output_type": "execute_result",
          "data": {
            "text/plain": [
              "array([[ 1.00000000e+00, -2.77555756e-17,  0.00000000e+00],\n",
              "       [-1.41693380e-18,  1.00000000e+00, -1.42742960e-17],\n",
              "       [ 8.18497930e-17, -6.22751150e-18,  1.00000000e+00]])"
            ]
          },
          "metadata": {},
          "execution_count": 45
        }
      ]
    },
    {
      "cell_type": "code",
      "metadata": {
        "id": "g-wMtIktnBLh",
        "colab": {
          "base_uri": "https://localhost:8080/"
        },
        "outputId": "0b71331e-ccba-4681-c9d2-25d511e78517"
      },
      "source": [
        "# A multiplicação de uma matriz por sua inversa é uma matriz Identidade\n",
        "np.dot(mat1,inv(mat1))"
      ],
      "execution_count": 46,
      "outputs": [
        {
          "output_type": "execute_result",
          "data": {
            "text/plain": [
              "array([[ 1.00000000e+00, -2.77555756e-17,  0.00000000e+00],\n",
              "       [-1.41693380e-18,  1.00000000e+00, -1.42742960e-17],\n",
              "       [ 8.18497930e-17, -6.22751150e-18,  1.00000000e+00]])"
            ]
          },
          "metadata": {},
          "execution_count": 46
        }
      ]
    },
    {
      "cell_type": "code",
      "metadata": {
        "id": "dSo4gymynBLj",
        "colab": {
          "base_uri": "https://localhost:8080/"
        },
        "outputId": "e2a21116-2aa4-4151-fda5-52a03b95c750"
      },
      "source": [
        "# O mesmo problema ocorre com o método determinante\n",
        "print(\"Determinante de mat1 = \", np.linalg.det(mat1))\n",
        "\n",
        "from numpy.linalg import det\n",
        "print(\"Determinante de mat1 = \", det(mat1))"
      ],
      "execution_count": 47,
      "outputs": [
        {
          "output_type": "stream",
          "name": "stdout",
          "text": [
            "Determinante de mat1 =  76.15999999999995\n",
            "Determinante de mat1 =  76.15999999999995\n"
          ]
        }
      ]
    },
    {
      "cell_type": "markdown",
      "metadata": {
        "id": "_zej4moSnBLp"
      },
      "source": [
        "Exercício:\n",
        "\n",
        "Calcule a seguinte expressão matricial (use os vetores e matrizes já definidos anteriormente)\n",
        "\n",
        "$ mat_3 = mat_1 * (mat_2)^{-1} * mat_1^T$"
      ]
    },
    {
      "cell_type": "code",
      "metadata": {
        "id": "n2uPnwTbnBLp",
        "colab": {
          "base_uri": "https://localhost:8080/"
        },
        "outputId": "90c36286-f3ad-4789-ef3a-949a3dc93d7d"
      },
      "source": [
        "# Resolução do exercício\n",
        "# Utilize mat1 e mat2 definidos acima\n",
        "\n",
        "mat = np.dot(mat1,inv(mat2))\n",
        "mat3 = np.dot(mat,mat1.T)\n",
        "print(\"Valor de mat3 = \\n\", mat3)"
      ],
      "execution_count": 50,
      "outputs": [
        {
          "output_type": "stream",
          "name": "stdout",
          "text": [
            "Valor de mat3 = \n",
            " [[ 1.00000000e+00 -5.55403062e-17 -3.60851638e-16]\n",
            " [-8.32667268e-17  1.00000000e+00 -1.33903159e-16]\n",
            " [-2.63677968e-16 -2.57135583e-16  1.00000000e+00]]\n"
          ]
        }
      ]
    },
    {
      "cell_type": "markdown",
      "metadata": {
        "id": "92wnvR1WnBLs"
      },
      "source": [
        "Classe Matriz em Numpy\n",
        "- O Pacote Numpy possui uma classe especial de Array (uni e bidimensonal) denominada de matriz.\n",
        "- Esse tipo de classe possui métodos específicos\n",
        "- Matrizes necessitam ser bidimensionais.\n",
        "    - Para se utilizar estrutura com dimensão maior que 2, prezamos utilizar Arrays Numpy\n",
        "- As operações sobre o \"tipo\" matriz são operações matriciais, como em Matlab.\n",
        "    - Operações sobre Arrays são operações elemento a elemento.\n",
        "\n"
      ]
    },
    {
      "cell_type": "code",
      "metadata": {
        "id": "eMFzmtH3nBLs",
        "colab": {
          "base_uri": "https://localhost:8080/"
        },
        "outputId": "728a6178-dc47-4008-a0c4-672cae3019d0"
      },
      "source": [
        "# Exemplo de uso do tipo Matriz do Numpy\n",
        "import numpy as np\n",
        "\n",
        "x1 = np.array([1, 2, 3], float) # definição de um Array unidimensional de 03 posições float\n",
        "\n",
        "x2 = np.matrix(x1) #  Transformando o tipo Array em tipo Matriz\n",
        "\n",
        "x2"
      ],
      "execution_count": 51,
      "outputs": [
        {
          "output_type": "execute_result",
          "data": {
            "text/plain": [
              "matrix([[1., 2., 3.]])"
            ]
          },
          "metadata": {},
          "execution_count": 51
        }
      ]
    },
    {
      "cell_type": "code",
      "metadata": {
        "id": "IhGiV1iBnBLv",
        "colab": {
          "base_uri": "https://localhost:8080/"
        },
        "outputId": "61b4f7e6-c842-43d3-9022-e70b24012215"
      },
      "source": [
        "type(x2)"
      ],
      "execution_count": 52,
      "outputs": [
        {
          "output_type": "execute_result",
          "data": {
            "text/plain": [
              "numpy.matrix"
            ]
          },
          "metadata": {},
          "execution_count": 52
        }
      ]
    },
    {
      "cell_type": "code",
      "metadata": {
        "id": "tAiSt2uvnBLy",
        "colab": {
          "base_uri": "https://localhost:8080/"
        },
        "outputId": "f4551316-cc8d-4bed-bd30-62d1c438e22b"
      },
      "source": [
        "# Exemplo de uso do tipo Matriz do Numpy\n",
        "print(\"Exemplo de uso do método Tranposta de Matriz\")\n",
        "x3 = np.array([[1,2,3],[4,5,6]],float)  # esse passo não é necessário\n",
        "x4 = np.matrix(x3)\n",
        "x5 = np.mat(x4).transpose() \n",
        "print(x3)\n",
        "print(x5)\n",
        "\n"
      ],
      "execution_count": 56,
      "outputs": [
        {
          "output_type": "stream",
          "name": "stdout",
          "text": [
            "Exemplo de uso do método Tranposta de Matriz\n",
            "[[1. 2. 3.]\n",
            " [4. 5. 6.]]\n",
            "[[1. 4.]\n",
            " [2. 5.]\n",
            " [3. 6.]]\n"
          ]
        }
      ]
    },
    {
      "cell_type": "code",
      "metadata": {
        "id": "P27pCVPPnBL4",
        "colab": {
          "base_uri": "https://localhost:8080/"
        },
        "outputId": "aa579856-f63f-46cf-ba20-9a053663d07d"
      },
      "source": [
        "# Exemplo de uso do tipo Matriz do Numpy\n",
        "print(\"Exemplo de uso do método 'Tranposta de Matriz'\")\n",
        "x4 = np.matrix([[1,2,3],[4,5,6]],float) # pode-se converter tipo Lista diretamente para tipo Matriz\n",
        "x5 = x4.T\n",
        "# x5 = np.mat(x4).T # transport matriz via método de classe\n",
        "# x5 = np.mat(x4).transpose()   # método para transpor matriz\n",
        "x5"
      ],
      "execution_count": 57,
      "outputs": [
        {
          "output_type": "stream",
          "name": "stdout",
          "text": [
            "Exemplo de uso do método 'Tranposta de Matriz'\n"
          ]
        },
        {
          "output_type": "execute_result",
          "data": {
            "text/plain": [
              "matrix([[1., 4.],\n",
              "        [2., 5.],\n",
              "        [3., 6.]])"
            ]
          },
          "metadata": {},
          "execution_count": 57
        }
      ]
    },
    {
      "cell_type": "code",
      "metadata": {
        "id": "XlBx8fMHnBL7",
        "colab": {
          "base_uri": "https://localhost:8080/"
        },
        "outputId": "c1460b9b-d062-4eb8-d42a-6383be059d06"
      },
      "source": [
        "# Outra opção para se inicializar Matrizes Numpy\n",
        "np.matrix(\"[1 2 3; 4 5 6]\")"
      ],
      "execution_count": 58,
      "outputs": [
        {
          "output_type": "execute_result",
          "data": {
            "text/plain": [
              "matrix([[1, 2, 3],\n",
              "        [4, 5, 6]])"
            ]
          },
          "metadata": {},
          "execution_count": 58
        }
      ]
    },
    {
      "cell_type": "code",
      "metadata": {
        "id": "Edtl0LHVnBL9",
        "colab": {
          "base_uri": "https://localhost:8080/"
        },
        "outputId": "c2a28908-ef84-4470-e1a7-861a198554a3"
      },
      "source": [
        "# Exemplo de uso do tipo Matriz do Numpy\n",
        "print(\"Exemplo de uso do criação de uma Matriz Identidade\")\n",
        "mat0 = np.eye(5)  # matriz identidade de ordem 5 - ainda é tipo array\n",
        "#mat0 = np.identity(5)\n",
        "print(4*mat0)"
      ],
      "execution_count": 60,
      "outputs": [
        {
          "output_type": "stream",
          "name": "stdout",
          "text": [
            "Exemplo de uso do criação de uma Matriz Identidade\n",
            "[[4. 0. 0. 0. 0.]\n",
            " [0. 4. 0. 0. 0.]\n",
            " [0. 0. 4. 0. 0.]\n",
            " [0. 0. 0. 4. 0.]\n",
            " [0. 0. 0. 0. 4.]]\n"
          ]
        }
      ]
    },
    {
      "cell_type": "code",
      "metadata": {
        "id": "ImloPbgCnBL-",
        "colab": {
          "base_uri": "https://localhost:8080/"
        },
        "outputId": "d3d9da11-9cf8-4956-e213-2ececc1322b2"
      },
      "source": [
        "# Transformar Array Identidade para Matriz Identidade\n",
        "print(type(mat0))\n",
        "mat1 = np.matrix(mat0)\n",
        "print(type(mat1))\n"
      ],
      "execution_count": 63,
      "outputs": [
        {
          "output_type": "stream",
          "name": "stdout",
          "text": [
            "<class 'numpy.ndarray'>\n",
            "<class 'numpy.matrix'>\n"
          ]
        }
      ]
    },
    {
      "cell_type": "code",
      "metadata": {
        "id": "xbUftSwTnBMA",
        "colab": {
          "base_uri": "https://localhost:8080/"
        },
        "outputId": "f88a6f5f-2626-41a1-ea2e-624109c543ce"
      },
      "source": [
        "# Exercício\n",
        "\n",
        "print(\"O que ocorre quando se multiplica um Array por uma Matriz?\")\n",
        "print(\"Escreva um programa para investigar isto.\")\n",
        "\n",
        "t = np.matrix(\"[1 2 3; 4 5 6]\")\n",
        "w = np.array([1,2,3])\n",
        "\n",
        "print(t)\n",
        "print(w)\n",
        "\n",
        "x = np.multiply(t,w)\n",
        "print(x)\n",
        "\n",
        "y = np.dot(t,w)\n",
        "print(y)\n",
        "\n",
        "print('contanto que tenha as dimensoes compativeis é possivel fazer a uma multiplicação')"
      ],
      "execution_count": 69,
      "outputs": [
        {
          "output_type": "stream",
          "name": "stdout",
          "text": [
            "O que ocorre quando se multiplica um Array por uma Matriz?\n",
            "Escreva um programa para investigar isto.\n",
            "[[1 2 3]\n",
            " [4 5 6]]\n",
            "[1 2 3]\n",
            "[[ 1  4  9]\n",
            " [ 4 10 18]]\n",
            "[[14 32]]\n",
            "contanto que tenha as dimensoes compativeis é possivel fazer a uma multiplicação\n"
          ]
        }
      ]
    },
    {
      "cell_type": "code",
      "metadata": {
        "id": "oY79NlU2nBMC",
        "colab": {
          "base_uri": "https://localhost:8080/"
        },
        "outputId": "27e5682a-3708-453e-90a8-e52dd7548bf0"
      },
      "source": [
        "# Exemplos de uso de operadores sobre tipo Matriz do Numpy\n",
        "vet1 = np.matrix([1,2,3],float)   # vetor linha 1x3\n",
        "vet2 = np.matrix([[2],[4],[6]],float)   # vetor coluna 3x1\n",
        "mat1 = np.matrix ([[1,2,3],[4,5,6], [7,8,9]],float) # matriz 3x3\n",
        "mat2 = np.eye(3)   # matriz identidade 3x3\n",
        "\n",
        "print(mat1, '\\n')\n",
        "print(mat2, '\\n')\n",
        "print(\"2*mat1*mat2 = \\n\", 2*mat1*mat2)\n",
        "print(\"\\nvet1*mat1*vet2 = \\n\", vet1*mat1*vet2)"
      ],
      "execution_count": 76,
      "outputs": [
        {
          "output_type": "stream",
          "name": "stdout",
          "text": [
            "[[1. 2. 3.]\n",
            " [4. 5. 6.]\n",
            " [7. 8. 9.]] \n",
            "\n",
            "[[1. 0. 0.]\n",
            " [0. 1. 0.]\n",
            " [0. 0. 1.]] \n",
            "\n",
            "2*mat1*mat2 = \n",
            " [[ 2.  4.  6.]\n",
            " [ 8. 10. 12.]\n",
            " [14. 16. 18.]]\n",
            "\n",
            "vet1*mat1*vet2 = \n",
            " [[456.]]\n"
          ]
        }
      ]
    },
    {
      "cell_type": "markdown",
      "metadata": {
        "id": "nCS8bzrMnBMF"
      },
      "source": [
        "### Exercício:\n",
        "\n",
        "Calcule a seguinte expressão matricial (use os vetores e matrizes já definidos anteriormente)\n",
        "\n",
        "$ mat3 = (mat1^T * mat1) * vet1^T$"
      ]
    },
    {
      "cell_type": "code",
      "metadata": {
        "id": "OXknQucbnBMH",
        "colab": {
          "base_uri": "https://localhost:8080/"
        },
        "outputId": "1f0c0078-adcc-4c22-a9ae-130fe08f761b"
      },
      "source": [
        "# Solução do exercício\n",
        "print(mat1, '\\n')\n",
        "print(mat1.T, '\\n')\n",
        "print(vet1.T, '\\n')\n",
        "\n",
        "mat = (mat1.T * mat1)\n",
        "mat3 = mat * vet1.T\n",
        "print(\"mat3 = \\n\")\n",
        "print(mat3)"
      ],
      "execution_count": 82,
      "outputs": [
        {
          "output_type": "stream",
          "name": "stdout",
          "text": [
            "[[1. 2. 3.]\n",
            " [4. 5. 6.]\n",
            " [7. 8. 9.]] \n",
            "\n",
            "[[1. 4. 7.]\n",
            " [2. 5. 8.]\n",
            " [3. 6. 9.]] \n",
            "\n",
            "[[1.]\n",
            " [2.]\n",
            " [3.]] \n",
            "\n",
            "mat3 = \n",
            "\n",
            "[[492.]\n",
            " [588.]\n",
            " [684.]]\n"
          ]
        }
      ]
    },
    {
      "cell_type": "code",
      "metadata": {
        "id": "tVyLV-LVnBML",
        "colab": {
          "base_uri": "https://localhost:8080/"
        },
        "outputId": "6000d156-d9dd-477e-af96-5fe5bc022593"
      },
      "source": [
        "# Exemplo de uso de inversa de matriz\n",
        "mat1 = np.matrix ([[1,2,3],[4.7,1.5,2.6], [-3,8.7,1.9]],float) # matriz 3x3\n",
        "print(\"Matriz mat1 = \\n\", mat1)\n",
        "print(\"\\nMatriz inversa de mat1 = \\n\", mat1.I)"
      ],
      "execution_count": 83,
      "outputs": [
        {
          "output_type": "stream",
          "name": "stdout",
          "text": [
            "Matriz mat1 = \n",
            " [[ 1.   2.   3. ]\n",
            " [ 4.7  1.5  2.6]\n",
            " [-3.   8.7  1.9]]\n",
            "\n",
            "Matriz inversa de mat1 = \n",
            " [[-0.23836508  0.26886906  0.00843984]\n",
            " [-0.20171208  0.1314203   0.13865445]\n",
            " [ 0.54726308 -0.17723656 -0.09524958]]\n"
          ]
        }
      ]
    },
    {
      "cell_type": "markdown",
      "metadata": {
        "id": "hoB41mfSnBMM"
      },
      "source": [
        "### Exercício:\n",
        "\n",
        "Calcule a seguinte expressão matricial (use os vetores e matrizes já definidos anteriormente)\n",
        "\n",
        "$ mat3 = vet1 * (mat1^T * mat1)^{-1} * vet1^T$"
      ]
    },
    {
      "cell_type": "code",
      "metadata": {
        "id": "RuDhNQGPnBMM",
        "colab": {
          "base_uri": "https://localhost:8080/"
        },
        "outputId": "c3cb67aa-99b8-43da-9656-1075383a9952"
      },
      "source": [
        "# Solução do exercício\n",
        "mat3 = vet1 * np.linalg.inv(mat1.T.dot(mat1)) * vet1.T\n",
        "\n",
        "print(\"mat3 = \\n\")\n",
        "print(mat3)"
      ],
      "execution_count": 89,
      "outputs": [
        {
          "output_type": "stream",
          "name": "stdout",
          "text": [
            "mat3 = \n",
            "\n",
            "[[1.]]\n"
          ]
        }
      ]
    },
    {
      "cell_type": "markdown",
      "metadata": {
        "id": "V0lxCwyMnBMO"
      },
      "source": [
        "### Outra forma de operação com matrizes \n",
        "A baixo são apresentadas duas abordagens via array e matriz para o seguinte cálculo matricial:\n",
        "- $z = y^T * X * y $"
      ]
    },
    {
      "cell_type": "code",
      "metadata": {
        "id": "eXm0UGO5nBMO",
        "colab": {
          "base_uri": "https://localhost:8080/"
        },
        "outputId": "01e44a6c-de35-4bd2-d469-8c3da7edbb2f"
      },
      "source": [
        "# Geração do Array bidimensional X  (Matriz 4x4)\n",
        "X = np.array([[ 8.82768214, 3.82222409, -1.14276475, 2.04411587],[ 3.82222409, 6.75272284, 0.83909108, 2.08293758],[-1.14276475, 0.83909108, 5.01690521, 0.79573241],[ 2.04411587, 2.08293758, 0.79573241, 6.24095859]])\n",
        "\n",
        "y = X[:, :1]    # Obtenção do vetor y (array 4x1) \n",
        "\n",
        "print(y)\n",
        "np.dot(y.T, np.dot(X, y))\n"
      ],
      "execution_count": 92,
      "outputs": [
        {
          "output_type": "stream",
          "name": "stdout",
          "text": [
            "[[ 8.82768214]\n",
            " [ 3.82222409]\n",
            " [-1.14276475]\n",
            " [ 2.04411587]]\n"
          ]
        },
        {
          "output_type": "execute_result",
          "data": {
            "text/plain": [
              "array([[1195.46796121]])"
            ]
          },
          "metadata": {},
          "execution_count": 92
        }
      ]
    },
    {
      "cell_type": "code",
      "metadata": {
        "id": "AZ9w8KZdnBMQ",
        "colab": {
          "base_uri": "https://localhost:8080/"
        },
        "outputId": "14600ba0-79d1-490f-f113-b5adca560335"
      },
      "source": [
        "# Versão da solução acima utilizando-se a classe Matriz\n",
        "Xm = np.matrix(X)\n",
        "ym = Xm[:, 0]\n",
        "ym.T * Xm * ym"
      ],
      "execution_count": 93,
      "outputs": [
        {
          "output_type": "execute_result",
          "data": {
            "text/plain": [
              "matrix([[1195.46796121]])"
            ]
          },
          "metadata": {},
          "execution_count": 93
        }
      ]
    },
    {
      "cell_type": "code",
      "metadata": {
        "id": "4DDOsv6InBMS",
        "colab": {
          "base_uri": "https://localhost:8080/"
        },
        "outputId": "d276199a-b12e-4e40-cf5f-0a1a97664b73"
      },
      "source": [
        "Xm.I * Xm"
      ],
      "execution_count": 94,
      "outputs": [
        {
          "output_type": "execute_result",
          "data": {
            "text/plain": [
              "matrix([[ 1.00000000e+00,  5.51626200e-17, -4.56576503e-17,\n",
              "          3.79527990e-17],\n",
              "        [-9.53217120e-18,  1.00000000e+00, -6.94251400e-18,\n",
              "          1.75847890e-17],\n",
              "        [ 1.92086986e-17, -2.14834112e-18,  1.00000000e+00,\n",
              "          1.39686684e-17],\n",
              "        [-1.58123959e-18,  1.07244609e-16,  3.39946528e-17,\n",
              "          1.00000000e+00]])"
            ]
          },
          "metadata": {},
          "execution_count": 94
        }
      ]
    },
    {
      "cell_type": "code",
      "metadata": {
        "id": "ycwkW4nHnBMU",
        "colab": {
          "base_uri": "https://localhost:8080/"
        },
        "outputId": "859287ec-f013-4c41-9f85-e4f854f2cd1f"
      },
      "source": [
        "Xm.I * X"
      ],
      "execution_count": 95,
      "outputs": [
        {
          "output_type": "execute_result",
          "data": {
            "text/plain": [
              "matrix([[ 1.00000000e+00,  5.51626200e-17, -4.56576503e-17,\n",
              "          3.79527990e-17],\n",
              "        [-9.53217120e-18,  1.00000000e+00, -6.94251400e-18,\n",
              "          1.75847890e-17],\n",
              "        [ 1.92086986e-17, -2.14834112e-18,  1.00000000e+00,\n",
              "          1.39686684e-17],\n",
              "        [-1.58123959e-18,  1.07244609e-16,  3.39946528e-17,\n",
              "          1.00000000e+00]])"
            ]
          },
          "metadata": {},
          "execution_count": 95
        }
      ]
    },
    {
      "cell_type": "code",
      "metadata": {
        "id": "D9P11clunBMW",
        "colab": {
          "base_uri": "https://localhost:8080/"
        },
        "outputId": "7e133da3-5647-4ff3-cc7b-92e37a880b31"
      },
      "source": [
        "# Obs.: Para se fazer multiplicação elemento-a-elemento com Matrizes,\n",
        "# precisamos utilizar o método multiply\n",
        "\n",
        "np.multiply(Xm,Xm)"
      ],
      "execution_count": 96,
      "outputs": [
        {
          "output_type": "execute_result",
          "data": {
            "text/plain": [
              "matrix([[77.92797196, 14.60939699,  1.30591127,  4.17840969],\n",
              "        [14.60939699, 45.59926575,  0.70407384,  4.33862896],\n",
              "        [ 1.30591127,  0.70407384, 25.16933789,  0.63319007],\n",
              "        [ 4.17840969,  4.33862896,  0.63319007, 38.94956412]])"
            ]
          },
          "metadata": {},
          "execution_count": 96
        }
      ]
    }
  ]
}