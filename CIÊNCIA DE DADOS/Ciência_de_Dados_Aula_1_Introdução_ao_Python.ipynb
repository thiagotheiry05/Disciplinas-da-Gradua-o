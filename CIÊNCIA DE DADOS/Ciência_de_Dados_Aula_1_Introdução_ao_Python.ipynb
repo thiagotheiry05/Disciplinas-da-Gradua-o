{
  "nbformat": 4,
  "nbformat_minor": 0,
  "metadata": {
    "colab": {
      "provenance": []
    },
    "kernelspec": {
      "display_name": "Python 3",
      "language": "python",
      "name": "python3"
    }
  },
  "cells": [
    {
      "cell_type": "markdown",
      "metadata": {
        "id": "TCltJbrPWtqT"
      },
      "source": [
        "# Disciplina: Ciência de Dados (DCA-0131)\n",
        "Prof. Luiz Affonso Guedes\n",
        "\n",
        "Departamento de Engenharia de Computação e Automação - DCA\n",
        "\n",
        "UFRN -  2022\n",
        "\n",
        "*OBS: Favor fazer cópia do notebook antes de alterá-lo."
      ]
    },
    {
      "cell_type": "markdown",
      "metadata": {
        "id": "8aBKG2iUWtqa"
      },
      "source": [
        "# Aula 1- Introdução à Linguagem Python\n",
        "\n",
        "Objetivo: apresentação das funcionalidades básicas da linguagem Python\n",
        "\n",
        "\n",
        "Conteúdo:\n",
        "- Caracterização da Linguagem Python\n",
        "- Vantagens\n",
        "- Entrada e saída de dados\n",
        "- Variáveis básicas\n",
        "- Cálculos básicos\n",
        "- Variável tipo lista\n",
        "- Funções e Classes\n",
        "- Importação de pacotes"
      ]
    },
    {
      "cell_type": "markdown",
      "metadata": {
        "id": "ZwGg2YRmWtqc"
      },
      "source": [
        "- Python é uma linguagem de propósito geral - às vezes referida como utilitária - que é projetada para ser simples de ler e escrever. O seu objetivo é ser uma linguagem simples, porém completa.\n",
        "- É uma linguagem interpretada não tipada.\n",
        "- É uma liguagem estruturada, mas possui suporte a orientação a objetos.\n"
      ]
    },
    {
      "cell_type": "markdown",
      "metadata": {
        "id": "8yf95fqwWtqe"
      },
      "source": [
        "Uma introdução aos conceitos básicos de Python. Saiba como usar o Python de forma interativa e através de um script. Crie suas primeiras variáveis e familiarize-se com os tipos básicos de dados do Python."
      ]
    },
    {
      "cell_type": "markdown",
      "metadata": {
        "id": "bvJ3kBLoO0jt"
      },
      "source": [
        "## Entrada e Saída de Dados em Python\n",
        "\n",
        "print (......)\n",
        "\n",
        "input()\n"
      ]
    },
    {
      "cell_type": "code",
      "metadata": {
        "id": "93GQJAx1Wtqg",
        "colab": {
          "base_uri": "https://localhost:8080/"
        },
        "outputId": "68977899-9892-46c5-8246-14c8b11cdb20"
      },
      "source": [
        "# Comentário em Python\n",
        "# Imprimir mensagem em Python\n",
        "print(\"Alô, mundo!\")"
      ],
      "execution_count": null,
      "outputs": [
        {
          "output_type": "stream",
          "name": "stdout",
          "text": [
            "Alô, mundo!\n"
          ]
        }
      ]
    },
    {
      "cell_type": "code",
      "metadata": {
        "id": "aBytQrmlFdRZ",
        "colab": {
          "base_uri": "https://localhost:8080/"
        },
        "outputId": "00d01176-7164-4cca-8eeb-10ce268c7315"
      },
      "source": [
        "print(\"Quem é esta aluna que acabou de chegar?\")\n",
        "print(\"É a Juliana.\")"
      ],
      "execution_count": null,
      "outputs": [
        {
          "output_type": "stream",
          "name": "stdout",
          "text": [
            "Quem é esta aluna que acabou de chegar?\n",
            "É a Juliana.\n"
          ]
        }
      ]
    },
    {
      "cell_type": "code",
      "metadata": {
        "id": "kugXUPx-PYP-",
        "colab": {
          "base_uri": "https://localhost:8080/"
        },
        "outputId": "b5d92972-23b3-4944-bf76-3cbb6ea25b48"
      },
      "source": [
        "print(\"Qual é o seu nome? \")\n",
        "nome = input()\n",
        "print(\"Olá \" + nome + \", tudo bem?\")"
      ],
      "execution_count": null,
      "outputs": [
        {
          "output_type": "stream",
          "name": "stdout",
          "text": [
            "Qual é o seu nome? \n",
            "thiago\n",
            "Olá thiago, tudo bem?\n"
          ]
        }
      ]
    },
    {
      "cell_type": "markdown",
      "metadata": {
        "id": "xNas9M98P0AK"
      },
      "source": [
        "### Crie um programa que:\n",
        "- pegunte o nome da pessoa e sua profissão.\n",
        "\n",
        "- responda com uma mensagem positiva.\n",
        "\n",
        "Exemplo: João, a profissão de Professor é muito importante"
      ]
    },
    {
      "cell_type": "code",
      "metadata": {
        "id": "GFpO_KPVQiBa"
      },
      "source": [
        "# Escreva o codigo aqui:\n",
        "\n",
        "print(\"Qual é o seu nome?\")\n",
        "nome = input()\n",
        "print(\"Qual é a sua profissão?\")\n",
        "profissao = input()\n",
        "print(nome + \", a tua profissão de \" + profissao + \" é muito importante\")\n",
        "\n",
        "\n"
      ],
      "execution_count": null,
      "outputs": []
    },
    {
      "cell_type": "markdown",
      "metadata": {
        "id": "nJZUVSz1rarN"
      },
      "source": [
        "### Exercício 01: \n",
        " Escreva um programa baseado na anterior que pergunte o nome e sobrenome do usário, além do seu hobby. Então responda com um comentário positivo."
      ]
    },
    {
      "cell_type": "code",
      "metadata": {
        "id": "wRKYoOmUIyIg",
        "colab": {
          "base_uri": "https://localhost:8080/"
        },
        "outputId": "8aa50cec-9937-4002-ec25-8321d1ba4265"
      },
      "source": [
        "print('qual é o seu nome e sobrenome?')\n",
        "nome = input()\n",
        "print('qual é o seu hobby')\n",
        "hobby = input()\n",
        "print('legal '+ nome + \" ,seu hobby é mt legal \" )\n"
      ],
      "execution_count": null,
      "outputs": [
        {
          "output_type": "stream",
          "name": "stdout",
          "text": [
            "qual é o seu nome e sobrenome?\n",
            "thiago oliveira\n",
            "qual é o seu hobby\n",
            "futebol\n",
            "legal thiago oliveira seu hobby é mt legal \n"
          ]
        }
      ]
    },
    {
      "cell_type": "markdown",
      "metadata": {
        "id": "DzNprIBE61XA"
      },
      "source": [
        "### Usando Python com uma calculadora\n",
        "- basta escrever as operações."
      ]
    },
    {
      "cell_type": "code",
      "metadata": {
        "id": "XzbL-SxpWtqw",
        "colab": {
          "base_uri": "https://localhost:8080/"
        },
        "outputId": "564a9485-10e5-45e1-ba00-90982f1af52c"
      },
      "source": [
        "a = 2\n",
        "a"
      ],
      "execution_count": null,
      "outputs": [
        {
          "output_type": "execute_result",
          "data": {
            "text/plain": [
              "2"
            ]
          },
          "metadata": {},
          "execution_count": 6
        }
      ]
    },
    {
      "cell_type": "code",
      "metadata": {
        "id": "WaR81ydLWtq8",
        "colab": {
          "base_uri": "https://localhost:8080/"
        },
        "outputId": "4ad529d1-8be5-47f7-c14e-53e35e053c39"
      },
      "source": [
        "a = 2/3\n",
        "a"
      ],
      "execution_count": null,
      "outputs": [
        {
          "output_type": "execute_result",
          "data": {
            "text/plain": [
              "0.6666666666666666"
            ]
          },
          "metadata": {},
          "execution_count": 7
        }
      ]
    },
    {
      "cell_type": "code",
      "metadata": {
        "id": "Ejy6y0OF7FYh",
        "colab": {
          "base_uri": "https://localhost:8080/"
        },
        "outputId": "fc49160e-ce17-462e-cafc-9c60c6039d3b"
      },
      "source": [
        "print(5 / 8)\n",
        "print(3 * 5)\n",
        "print(7 + 10)\n",
        "5 -2"
      ],
      "execution_count": null,
      "outputs": [
        {
          "output_type": "stream",
          "name": "stdout",
          "text": [
            "0.625\n",
            "15\n",
            "17\n"
          ]
        },
        {
          "output_type": "execute_result",
          "data": {
            "text/plain": [
              "3"
            ]
          },
          "metadata": {},
          "execution_count": 8
        }
      ]
    },
    {
      "cell_type": "code",
      "metadata": {
        "id": "oVKopYtSKLus",
        "colab": {
          "base_uri": "https://localhost:8080/"
        },
        "outputId": "3796a79b-98c2-41c3-8f41-74a5d0ebc52b"
      },
      "source": [
        "(4+2*2)/8"
      ],
      "execution_count": null,
      "outputs": [
        {
          "output_type": "execute_result",
          "data": {
            "text/plain": [
              "1.0"
            ]
          },
          "metadata": {},
          "execution_count": 9
        }
      ]
    },
    {
      "cell_type": "markdown",
      "metadata": {
        "id": "vARjMusYWtrC"
      },
      "source": [
        "## Operadores Lógicos:\n",
        "    - AND --> &  and\n",
        "    - OR --> | or\n",
        "    - not"
      ]
    },
    {
      "cell_type": "code",
      "metadata": {
        "id": "z9D_eKS1WtrE",
        "colab": {
          "base_uri": "https://localhost:8080/"
        },
        "outputId": "7fb5f2b6-2eb7-4c45-c663-f2fe4fdae2f1"
      },
      "source": [
        "# Exemplo de uso de operadores lógicos\n",
        "\n",
        "a = True\n",
        "b = False\n",
        "print(a and b)\n",
        "print (a & b)\n",
        "print (a or b)\n",
        "print (a | b)\n",
        "print(not a)"
      ],
      "execution_count": null,
      "outputs": [
        {
          "output_type": "stream",
          "name": "stdout",
          "text": [
            "False\n",
            "False\n",
            "True\n",
            "True\n",
            "False\n"
          ]
        }
      ]
    },
    {
      "cell_type": "code",
      "metadata": {
        "id": "0PJytMztLiRI",
        "colab": {
          "base_uri": "https://localhost:8080/"
        },
        "outputId": "e15c90bd-7ff2-4629-d6da-46165619e7e2"
      },
      "source": [
        "# Outro exemplo\n",
        "print(True and True)\n",
        "print(True and False)\n",
        "print(False and True)\n",
        "print(False and False)\n"
      ],
      "execution_count": null,
      "outputs": [
        {
          "output_type": "stream",
          "name": "stdout",
          "text": [
            "True\n",
            "False\n",
            "False\n",
            "False\n"
          ]
        }
      ]
    },
    {
      "cell_type": "code",
      "metadata": {
        "id": "wCFd8ht2Nc-R",
        "colab": {
          "base_uri": "https://localhost:8080/"
        },
        "outputId": "6b81c647-2e93-45c7-fa54-c68fffd7d866"
      },
      "source": [
        "# Outro exemplo\n",
        "print(True or True)\n",
        "print(True or False)\n",
        "print(False or True)\n",
        "print(False or False)"
      ],
      "execution_count": null,
      "outputs": [
        {
          "output_type": "stream",
          "name": "stdout",
          "text": [
            "True\n",
            "True\n",
            "True\n",
            "False\n"
          ]
        }
      ]
    },
    {
      "cell_type": "code",
      "metadata": {
        "id": "FYgNHwpHN8Gy",
        "colab": {
          "base_uri": "https://localhost:8080/"
        },
        "outputId": "1efa887e-7008-4c53-c715-235e5d0b8dd9"
      },
      "source": [
        "print(not True)\n",
        "print( not False)\n",
        "print(not not False)\n",
        "print(not not not False)\n",
        "print(not not not not False)\n",
        "print(not not not not not False)"
      ],
      "execution_count": null,
      "outputs": [
        {
          "output_type": "stream",
          "name": "stdout",
          "text": [
            "False\n",
            "True\n",
            "False\n",
            "True\n",
            "False\n",
            "True\n"
          ]
        }
      ]
    },
    {
      "cell_type": "code",
      "metadata": {
        "id": "YuxDw9zPPaKW",
        "colab": {
          "base_uri": "https://localhost:8080/"
        },
        "outputId": "c1169b23-7daa-4c64-af7d-8a60aa03f652"
      },
      "source": [
        "a= True\n",
        "b = False\n",
        "c = True\n",
        "\n",
        "resposta = (a or b) and c\n",
        "print(resposta)"
      ],
      "execution_count": null,
      "outputs": [
        {
          "output_type": "stream",
          "name": "stdout",
          "text": [
            "True\n"
          ]
        }
      ]
    },
    {
      "cell_type": "code",
      "metadata": {
        "id": "AgzcLPIVQn7k",
        "colab": {
          "base_uri": "https://localhost:8080/"
        },
        "outputId": "c8806b39-9573-4863-ec90-a01c722131f0"
      },
      "source": [
        "# Desafio\n",
        "a= True\n",
        "b = False\n",
        "c = True\n",
        "d= True\n",
        "e = True\n",
        "resposta = (a or b) and ((c and d) or e)\n",
        "print(resposta)\n"
      ],
      "execution_count": null,
      "outputs": [
        {
          "output_type": "stream",
          "name": "stdout",
          "text": [
            "True\n"
          ]
        }
      ]
    },
    {
      "cell_type": "code",
      "metadata": {
        "id": "eQaY6GhzBnMN",
        "colab": {
          "base_uri": "https://localhost:8080/"
        },
        "outputId": "5e2ecf52-6b93-44d6-bc87-2bae9721c61f"
      },
      "source": [
        "# Exemplo de uso de operadores lógicos\n",
        "# Escolha do namorado(a) ideal\n",
        "\n",
        "nome = \"João\"\n",
        "#nome = \"Maria\"\n",
        "alto = True\n",
        "bonito = True\n",
        "malhado = True\n",
        "rico = True \n",
        "divertido = True\n",
        "careca = True\n",
        "\n",
        "namorado_ideal = alto and bonito and malhado and rico and divertido and not careca\n",
        "\n",
        "print(nome, \"é um namorado ideal?\")\n",
        "print(\"resposta: \", namorado_ideal)\n",
        "\n",
        "nome = \"Maria\"\n",
        "alta = True\n",
        "bonita = True\n",
        "malhada = True\n",
        "rica = True \n",
        "divertida = True\n",
        "careca = False  \n",
        "\n",
        "namorado_possivel = rica and bonita and not careca and divertida and malhada\n",
        "print(nome, \"é um namorado possível?\")\n",
        "print(\"resposta: \", namorado_possivel)"
      ],
      "execution_count": null,
      "outputs": [
        {
          "output_type": "stream",
          "name": "stdout",
          "text": [
            "Maria é um namorado ideal?\n",
            "resposta:  False\n",
            "Maria é um namorado possível?\n",
            "resposta:  True\n"
          ]
        }
      ]
    },
    {
      "cell_type": "code",
      "metadata": {
        "id": "TIvAFDAzWtrM",
        "colab": {
          "base_uri": "https://localhost:8080/"
        },
        "outputId": "8a5f7d7c-cd95-4c87-fd2c-bea11e1f8d24"
      },
      "source": [
        "# Exemplo de uso do print - outra maneira\n",
        "print (\"a = %d b = %d\" % (10 ,20))\n",
        "print(\"alô, mundo\", \"Estou estudando Python\", \"tenho\", 24, \"anos\")"
      ],
      "execution_count": null,
      "outputs": [
        {
          "output_type": "stream",
          "name": "stdout",
          "text": [
            "a = 10 b = 20\n",
            "alô, mundo Estou estudando Python tenho 24 anos\n"
          ]
        }
      ]
    },
    {
      "cell_type": "markdown",
      "metadata": {
        "id": "lg0_6RP0WtrU"
      },
      "source": [
        "O Python é perfeitamente adequado para fazer cálculos básicos. Além da adição, subtração, multiplicação e divisão, também há suporte para operações mais avançadas, tais como:\n",
        "- Exponenciação: **. \n",
        "   - Este operador eleva o número à esquerda para o poder do número à sua direita. Por exemplo, 4 ** 2 dará 16.\n",
        "- Modulo:%. Este operador retorna o restante da divisão do número à esquerda pelo número à direita. Por exemplo, 18% 7 é igual a 4.\n",
        "- Divisão inteira: //\n",
        "   - 3/2, dará 1."
      ]
    },
    {
      "cell_type": "code",
      "metadata": {
        "id": "FW1j-ixcWtrW",
        "colab": {
          "base_uri": "https://localhost:8080/"
        },
        "outputId": "6f330aae-b40d-4e66-8bfc-9c34d5a8406b"
      },
      "source": [
        "# Exemplo de uso da Exponenciação\n",
        "print(4 ** 2)\n",
        "\n",
        "\n",
        "\n",
        "# Exemplo de Divisão Inteira\n",
        "print((19+1) // 4)\n",
        "\n",
        "# Exemplo de resto da divisão\n",
        "print((19+1) % 4)\n",
        "\n"
      ],
      "execution_count": null,
      "outputs": [
        {
          "output_type": "stream",
          "name": "stdout",
          "text": [
            "16\n",
            "5\n",
            "0\n"
          ]
        }
      ]
    },
    {
      "cell_type": "code",
      "metadata": {
        "id": "EWG-R2vGWtrf",
        "colab": {
          "base_uri": "https://localhost:8080/"
        },
        "outputId": "7f4c6226-0e75-4d65-8cc1-e22443917428"
      },
      "source": [
        "# Exemplo de uso de operadores\n",
        "print(\"Se você tomou um empréstimo de R$1.000,00 com taxa de juros de 20% ao ano, após 04 anos qual é o valor de sua dívida?\")\n",
        "emprestimo = 1000.0\n",
        "taxa = 0.2\n",
        "anos = 4\n",
        "divida = emprestimo *(1+taxa)**anos\n",
        "print(\"Minha dívida é de \", divida, \"reais, depois de \", anos,\"anos.\" )\n"
      ],
      "execution_count": null,
      "outputs": [
        {
          "output_type": "stream",
          "name": "stdout",
          "text": [
            "Se você tomou um empréstimo de R$1.000,00 com taxa de juros de 20% ao ano, após 04 anos qual é o valor de sua dívida?\n",
            "Minha dívida é de  2073.6 reais, depois de  4 anos.\n"
          ]
        }
      ]
    },
    {
      "cell_type": "code",
      "metadata": {
        "id": "DxKTSL1yWtrt",
        "colab": {
          "base_uri": "https://localhost:8080/"
        },
        "outputId": "32378c36-4901-48eb-9259-1fe5e442ff99"
      },
      "source": [
        "# Exercício 02: escreva o código aqui\n",
        "# O aluno João Medeiros, aplicou R$2.0000,00 na bolsa de valores durante 03 anos.\n",
        "# No primeiro ano ele teve um lucro de 20%.\n",
        "# No segundo ano ele teve um prejuízo de 8%\n",
        "# No terceiro ano ele teve um lucro de 4%\n",
        "# Calcule o valor em reais que ele obteve no final do terceiro ano.\n",
        "\n",
        "\n",
        "valor_inicial = 2000\n",
        "valor_ano1 = (valor_inicial * 0.20) + valor_inicial\n",
        "print(valor_ano1)\n",
        "valor_ano2 = valor_ano1 - (valor_ano1* 0.08)\n",
        "print(valor_ano2) \n",
        "valor_ano3 = valor_ano2 + (valor_ano2* 0.04) \n",
        "print(valor_ano3)\n",
        "lucro = valor_ano3 - valor_inicial\n",
        "print(lucro)"
      ],
      "execution_count": null,
      "outputs": [
        {
          "output_type": "stream",
          "name": "stdout",
          "text": [
            "2400.0\n",
            "2208.0\n",
            "2296.32\n",
            "296.32000000000016\n"
          ]
        }
      ]
    },
    {
      "cell_type": "markdown",
      "metadata": {
        "id": "rHFpj7jGWtr1"
      },
      "source": [
        "## Variáveis e Tipos em Python\n",
        "- Em Python, uma variável permite que você se refira a um valor com um nome. Para atribuir um valor a  uma variável use =, como este exemplo:\n",
        "\n",
        "x = 5\n",
        "\n",
        "Agora você pode usar o nome dessa variável, x, em vez do valor real, 5.\n",
        "\n",
        "Lembre-se, = em Python significa atribuição, não igualdade!"
      ]
    },
    {
      "cell_type": "code",
      "metadata": {
        "id": "_f7iSQckWtr2",
        "colab": {
          "base_uri": "https://localhost:8080/"
        },
        "outputId": "6bbdbea5-fdca-43a8-b166-0853cbb53213"
      },
      "source": [
        "x=5\n",
        "print(x)\n",
        "y = 3\n",
        "print(y)\n"
      ],
      "execution_count": null,
      "outputs": [
        {
          "output_type": "stream",
          "name": "stdout",
          "text": [
            "5\n",
            "3\n"
          ]
        }
      ]
    },
    {
      "cell_type": "code",
      "metadata": {
        "id": "aalFUTUIWtsA",
        "colab": {
          "base_uri": "https://localhost:8080/"
        },
        "outputId": "b609ad9e-e7b9-4f96-adec-06214355a2a9"
      },
      "source": [
        "x = 5\n",
        "print(x)\n",
        "X = 10\n",
        "print(X)\n",
        "valor = 10\n",
        "Valor = 11\n",
        "vAlor = 12\n",
        "VALOR = 13\n",
        "print(valor,\"\\n\",Valor, \"\\n\",vAlor, \"\\n\", VALOR)\n"
      ],
      "execution_count": null,
      "outputs": [
        {
          "output_type": "stream",
          "name": "stdout",
          "text": [
            "5\n",
            "10\n",
            "10 \n",
            " 11 \n",
            " 12 \n",
            " 13\n"
          ]
        }
      ]
    },
    {
      "cell_type": "code",
      "metadata": {
        "id": "SxEz4XMtWtsH",
        "colab": {
          "base_uri": "https://localhost:8080/"
        },
        "outputId": "389bde41-bfdf-426c-aea5-88430ade903b"
      },
      "source": [
        "# Diferença entre atribuição e comparação \n",
        "x = 6 +1\n",
        "print( x == 6)\n",
        "\n"
      ],
      "execution_count": null,
      "outputs": [
        {
          "output_type": "stream",
          "name": "stdout",
          "text": [
            "False\n"
          ]
        }
      ]
    },
    {
      "cell_type": "code",
      "metadata": {
        "id": "LWDgI7rvWtsL",
        "colab": {
          "base_uri": "https://localhost:8080/"
        },
        "outputId": "0c239928-d50b-40cc-94a0-d395b7f9e433"
      },
      "source": [
        "#Exemplo - Diferença entre maiúsculo e minúsculo\n",
        "x = 1\n",
        "X = 2\n",
        "\n",
        "print(\"Python diferencia entre letras maiúsculas e minúsculas?\")\n",
        "print(\"Qual é o valor da variável x?\")\n",
        "print(\"A variável x é igual a \", x)\n",
        "print(\"Qual é o valor da variável X?\")\n",
        "print(\"A variável X é igual a \", X)"
      ],
      "execution_count": null,
      "outputs": [
        {
          "output_type": "stream",
          "name": "stdout",
          "text": [
            "Python diferencia entre letras maiúsculas e minúsculas?\n",
            "Qual é o valor da variável x?\n",
            "A variável x é igual a  1\n",
            "Qual é o valor da variável X?\n",
            "A variável X é igual a  2\n"
          ]
        }
      ]
    },
    {
      "cell_type": "code",
      "metadata": {
        "id": "n7IuseK8WtsT",
        "colab": {
          "base_uri": "https://localhost:8080/"
        },
        "outputId": "3e8b9b14-71d6-4d5c-9314-6880acf46d9c"
      },
      "source": [
        "# Exercício 03\n",
        "print(\"Reescreva o Exercício 02 utilizando variáveis\")\n",
        "emprestimos = 2000\n",
        "taxa = 0.5\n",
        "anos = 3\n",
        "dívida = emprestimo *(1+taxa)**anos\n",
        "print(divida)"
      ],
      "execution_count": null,
      "outputs": [
        {
          "output_type": "stream",
          "name": "stdout",
          "text": [
            "Reescreva o Exercício 02 utilizando variáveis\n",
            "2073.6\n"
          ]
        }
      ]
    },
    {
      "cell_type": "code",
      "metadata": {
        "id": "PWxgWvwhWtsa",
        "colab": {
          "base_uri": "https://localhost:8080/"
        },
        "outputId": "d900facd-950f-4bc0-8bbb-da6dd70f0e26"
      },
      "source": [
        "# Exercício 04\n",
        "# Verifique a fómula do IMC na Internet\n",
        "# calculado dividindo o peso (em kg) pela altura ao quadrado (em metros).\n",
        "\n",
        "print(\"Calcule o Índice de Massa Copórea (IMC)\")\n",
        "\n",
        "# Entre com o valor do pese do usuário\n",
        "peso = float(input(\"digite o peso do usuario em KG: \"))\n",
        "\n",
        "# Entre com o valor da altura em metros do usuário\n",
        "\n",
        "altura = float(input(\"digite a altura do usuario em metros: \"))\n",
        "\n",
        "# cálculo do IMC\n",
        "IMC = (peso/ (altura**2))\n",
        "\n",
        "print(\"O Seu IMC é: \", IMC)"
      ],
      "execution_count": null,
      "outputs": [
        {
          "output_type": "stream",
          "name": "stdout",
          "text": [
            "Calcule o Índice de Massa Copórea (IMC)\n",
            "digite o peso do usuario em KG: 64\n",
            "digite a altura do usuario em metros: 1.68\n",
            "O Seu IMC é:  22.67573696145125\n"
          ]
        }
      ]
    },
    {
      "cell_type": "markdown",
      "metadata": {
        "id": "CEuO14piWtsi"
      },
      "source": [
        "### Tipos de vaiáveis em Python\n",
        "\n",
        "Os tipos das variáveis são definidos dinamicamente em Python.\n",
        "- Tipos Básicos em Python\n",
        "    - int --> Inteiro\n",
        "    - flot --> ponto flutuante\n",
        "    - str --> String\n",
        "    - bool --> Booleano (True, False)"
      ]
    },
    {
      "cell_type": "code",
      "metadata": {
        "id": "se2Qt05GWtsj",
        "colab": {
          "base_uri": "https://localhost:8080/"
        },
        "outputId": "ab633295-7977-4398-b26f-731ca417f850"
      },
      "source": [
        "# Exercício 05\n",
        "Nome_aluno = \"Isabel da Silva\"\n",
        "nota = 9.8\n",
        "bom_aluno = True\n",
        "idade = 21 \n",
        "\n",
        "print(\"Escreva no console os valores dessas variáveis\")\n",
        "# escreva o restante do programa ....\n",
        "\n",
        "print(\"A aluna \", Nome_aluno,\" tem \", idade,\"de idade e tirou \", nota, \"em programação Python.\\n\")\n"
      ],
      "execution_count": null,
      "outputs": [
        {
          "output_type": "stream",
          "name": "stdout",
          "text": [
            "Escreva no console os valores dessas variáveis\n",
            "A aluna  Isabel da Silva  tem  21 de idade e tirou  9.8 em programação Python.\n",
            "\n"
          ]
        }
      ]
    },
    {
      "cell_type": "code",
      "metadata": {
        "id": "5g5mu0KRWtss",
        "colab": {
          "base_uri": "https://localhost:8080/"
        },
        "outputId": "1a48e52b-fc4c-4132-b606-831785a19faa"
      },
      "source": [
        "# Exercício 06\n",
        "# Analise a resposta desse programa e tire suas conclusões\n",
        "print(\"O que ocorre se se somar um int com um float?\")\n",
        "a = 2\n",
        "b = 1.1\n",
        "c = a+b\n",
        "print(c)"
      ],
      "execution_count": null,
      "outputs": [
        {
          "output_type": "stream",
          "name": "stdout",
          "text": [
            "O que ocorre se se somar um int com um float?\n",
            "3.1\n"
          ]
        }
      ]
    },
    {
      "cell_type": "code",
      "metadata": {
        "id": "VYyS1Tm5Wts8",
        "colab": {
          "base_uri": "https://localhost:8080/",
          "height": 70
        },
        "outputId": "5a26e88f-94eb-4c2f-b8ca-b79d5ee8b989"
      },
      "source": [
        "# Exercício 07\n",
        "# Analise a resposta desse programa e tire suas conclusões\n",
        "print(\"O que ocorre se se somar duas strings?\")\n",
        "Nome = \"Nathalie\" + \" \" + \"Rose\"\n",
        "Sobrenome = \"Araújo\"\n",
        "Nome_Completo = Nome + \" \" + Sobrenome\n",
        "print(Nome_Completo)\n",
        "Nome_Completo"
      ],
      "execution_count": null,
      "outputs": [
        {
          "output_type": "stream",
          "name": "stdout",
          "text": [
            "O que ocorre se se somar duas strings?\n",
            "Nathalie Rose Araújo\n"
          ]
        },
        {
          "output_type": "execute_result",
          "data": {
            "text/plain": [
              "'Nathalie Rose Araújo'"
            ],
            "application/vnd.google.colaboratory.intrinsic+json": {
              "type": "string"
            }
          },
          "metadata": {},
          "execution_count": 48
        }
      ]
    },
    {
      "cell_type": "code",
      "metadata": {
        "id": "X_b-itdLWttE",
        "outputId": "d8cf85ef-1221-459b-c130-9df9154f5d31",
        "colab": {
          "base_uri": "https://localhost:8080/",
          "height": 217
        }
      },
      "source": [
        "# Exercício 08\n",
        "# Analise a resposta desse programa e tire suas conclusões\n",
        "\n",
        "print(\"É possível somar um int com um str?\")\n",
        "Nome = \"Maria\"\n",
        "Idade = 18\n",
        "Nome + Idade"
      ],
      "execution_count": null,
      "outputs": [
        {
          "output_type": "stream",
          "name": "stdout",
          "text": [
            "É possível somar um int com um str?\n"
          ]
        },
        {
          "output_type": "error",
          "ename": "TypeError",
          "evalue": "ignored",
          "traceback": [
            "\u001b[0;31m---------------------------------------------------------------------------\u001b[0m",
            "\u001b[0;31mTypeError\u001b[0m                                 Traceback (most recent call last)",
            "\u001b[0;32m<ipython-input-49-d3c42f420121>\u001b[0m in \u001b[0;36m<cell line: 7>\u001b[0;34m()\u001b[0m\n\u001b[1;32m      5\u001b[0m \u001b[0mNome\u001b[0m \u001b[0;34m=\u001b[0m \u001b[0;34m\"Maria\"\u001b[0m\u001b[0;34m\u001b[0m\u001b[0;34m\u001b[0m\u001b[0m\n\u001b[1;32m      6\u001b[0m \u001b[0mIdade\u001b[0m \u001b[0;34m=\u001b[0m \u001b[0;36m18\u001b[0m\u001b[0;34m\u001b[0m\u001b[0;34m\u001b[0m\u001b[0m\n\u001b[0;32m----> 7\u001b[0;31m \u001b[0mNome\u001b[0m \u001b[0;34m+\u001b[0m \u001b[0mIdade\u001b[0m\u001b[0;34m\u001b[0m\u001b[0;34m\u001b[0m\u001b[0m\n\u001b[0m",
            "\u001b[0;31mTypeError\u001b[0m: can only concatenate str (not \"int\") to str"
          ]
        }
      ]
    },
    {
      "cell_type": "code",
      "metadata": {
        "id": "vTpPpFk2WttP",
        "colab": {
          "base_uri": "https://localhost:8080/"
        },
        "outputId": "b1119eb9-a2d5-4372-c80b-9aaa2515f39e"
      },
      "source": [
        "# Exercício 09\n",
        "# Use a função type(variavel) para obter o tipo da variável.\n",
        "x1 = 1\n",
        "x2 = \"aeiou\"\n",
        "x3 = False\n",
        "print(type(x1))\n",
        "print(type(x2))\n",
        "print(type(x3))"
      ],
      "execution_count": null,
      "outputs": [
        {
          "output_type": "stream",
          "name": "stdout",
          "text": [
            "<class 'int'>\n",
            "<class 'str'>\n",
            "<class 'bool'>\n"
          ]
        }
      ]
    },
    {
      "cell_type": "markdown",
      "metadata": {
        "id": "F7KSKwVVWtta"
      },
      "source": [
        "### Dica:\n",
        "Para se converter tipos em outros, em Python se utiliza as seguintes funções:\n",
        "- str(variavel) <-- converte variavel para string\n",
        "- int(variavel) <-- converte variavel para inteiro\n",
        "- float(variavel) <-- converte variavel para ponto flutuante\n",
        "- bool((variavel) <-- converte variavel para booleano"
      ]
    },
    {
      "cell_type": "code",
      "metadata": {
        "id": "LH3BBBMdWttc",
        "colab": {
          "base_uri": "https://localhost:8080/"
        },
        "outputId": "56d267c2-d16a-42ea-ffe8-36ef0e1a3fcd"
      },
      "source": [
        "# Exercício 10\n",
        "# Escreva um programa que converta uma variável \"idade\" que é inteiro  em string.\n",
        "Idade = 22\n",
        "idade = str(Idade)\n",
        "Nome = \"João \"\n",
        "# A saída de ser --> João tem 22 anos.\n",
        "print(Nome + \"tem \" + idade + \" anos\")"
      ],
      "execution_count": null,
      "outputs": [
        {
          "output_type": "stream",
          "name": "stdout",
          "text": [
            "João tem 22 anos\n"
          ]
        }
      ]
    },
    {
      "cell_type": "markdown",
      "metadata": {
        "id": "7uBNZr89pBxb"
      },
      "source": [
        "### Pergunta:\n",
        "Quando se lê uma variável via teclado, qual é o seu tipo?"
      ]
    },
    {
      "cell_type": "code",
      "metadata": {
        "id": "MV22YSjWpLR2",
        "colab": {
          "base_uri": "https://localhost:8080/"
        },
        "outputId": "efa1a5fa-c70f-4a37-802d-4e16555fb75b"
      },
      "source": [
        "# Exemplo\n",
        "# Analise a resposta desse programa e tire suas conclusões\n",
        "\n",
        "print(\"entre com uma dado: \")\n",
        "variavel = input()\n",
        "print(variavel)\n",
        "type(variavel)\n"
      ],
      "execution_count": null,
      "outputs": [
        {
          "output_type": "stream",
          "name": "stdout",
          "text": [
            "entre com uma dado: \n",
            "5\n",
            "5\n"
          ]
        },
        {
          "output_type": "execute_result",
          "data": {
            "text/plain": [
              "str"
            ]
          },
          "metadata": {},
          "execution_count": 55
        }
      ]
    },
    {
      "cell_type": "code",
      "metadata": {
        "id": "_GWuMoAnpuNv",
        "colab": {
          "base_uri": "https://localhost:8080/"
        },
        "outputId": "efbb4fc0-25ef-4260-94c8-c2b733f5e350"
      },
      "source": [
        "# convertendo a variavel para inteiro\n",
        "\n",
        "variavel = int(variavel)\n",
        "type(variavel)"
      ],
      "execution_count": null,
      "outputs": [
        {
          "output_type": "execute_result",
          "data": {
            "text/plain": [
              "int"
            ]
          },
          "metadata": {},
          "execution_count": 56
        }
      ]
    },
    {
      "cell_type": "markdown",
      "metadata": {
        "id": "kdovl8_vRD8g"
      },
      "source": [
        "### Programa desafio 1:\n",
        "\n",
        "Escreva um programa que solicite por antrada de teclado os seguintes valores de variáveis:\n",
        "- nome\n",
        "- altura\n",
        "-peso\n",
        "\n",
        "Entao, forneça como saída o nome e o IMC correspondente.\n",
        "\n",
        "Exemplo:\n",
        "Maria seu IMC é de 1.62"
      ]
    },
    {
      "cell_type": "code",
      "metadata": {
        "id": "yVSqPbw7RqG4",
        "colab": {
          "base_uri": "https://localhost:8080/"
        },
        "outputId": "25fbb7da-2eb6-4741-bf9e-f70f3fa511a3"
      },
      "source": [
        "# Programa Desafio 1\n",
        "# Escreva o código aqui código\n",
        "\n",
        "print(\"Por obséquio, forneça o seu nome? \")\n",
        "nome = 'Thiago'\n",
        "\n",
        "print(\"Se não for inoportuno, foneça o seu peso? Prometo menter essa informação em sigilo\")\n",
        "peso = 64\n",
        "\n",
        "\n",
        "print(\"Qual é a sua altura? \")\n",
        "altura = 1.68\n",
        "\n",
        "# Cálculo do IMC\n",
        "IMC = peso /altura**2\n",
        "\n",
        "# Saída do programa\n",
        "print(nome + \" o seu IMC é \", IMC)\n",
        "\n"
      ],
      "execution_count": null,
      "outputs": [
        {
          "output_type": "stream",
          "name": "stdout",
          "text": [
            "Por obséquio, forneça o seu nome? \n",
            "Se não for inoportuno, foneça o seu peso? Prometo menter essa informação em sigilo\n",
            "Qual é a sua altura? \n",
            "Thiago o seu IMC é  22.67573696145125\n"
          ]
        }
      ]
    },
    {
      "cell_type": "code",
      "metadata": {
        "id": "BxJ7uWykWtth",
        "colab": {
          "base_uri": "https://localhost:8080/",
          "height": 35
        },
        "outputId": "02fbd932-8515-48ec-e6cf-56f194a15422"
      },
      "source": [
        "# Curiosidade - execute este programa\n",
        "\"Eu sou \" + (\"ga\")*3 + \"go\"\n"
      ],
      "execution_count": null,
      "outputs": [
        {
          "output_type": "execute_result",
          "data": {
            "text/plain": [
              "'Eu sou gagagago'"
            ],
            "application/vnd.google.colaboratory.intrinsic+json": {
              "type": "string"
            }
          },
          "metadata": {},
          "execution_count": 60
        }
      ]
    },
    {
      "cell_type": "code",
      "metadata": {
        "id": "lwvGuxSsWttn",
        "colab": {
          "base_uri": "https://localhost:8080/"
        },
        "outputId": "9319467b-518d-449a-a842-96a60f3f5e33"
      },
      "source": [
        "# Curiosidade\n",
        "print(\"Teste essas opções abaixo que estão em comentário\")\n",
        "#False + True\n",
        "#True + True\n",
        "#True * 10\n",
        "#False - True"
      ],
      "execution_count": null,
      "outputs": [
        {
          "output_type": "stream",
          "name": "stdout",
          "text": [
            "Teste essas opções abaixo que estão em comentário\n"
          ]
        },
        {
          "output_type": "execute_result",
          "data": {
            "text/plain": [
              "1"
            ]
          },
          "metadata": {},
          "execution_count": 63
        }
      ]
    },
    {
      "cell_type": "markdown",
      "metadata": {
        "id": "ewO5jUBzWtts"
      },
      "source": [
        "### Variável do tipo list\n",
        "- tipo complexo, que representa uma lista de outras variáveis, não necessariamente de mesmo tipo.\n",
        "- As variáveis podem ser listas. No caso, teremos listas de listas\n",
        "\n",
        "Exemplo:\n",
        "\n",
        "lista1 = [1,2,3]\n",
        "\n",
        "lista2 = [\"Maria\", \"1.66\", 22, True]  #[Nome, Altura, Idade, Boa_estudante]"
      ]
    },
    {
      "cell_type": "code",
      "metadata": {
        "id": "DZsgCGWPB0UI",
        "colab": {
          "base_uri": "https://localhost:8080/"
        },
        "outputId": "1c61302d-a07a-4f42-b6db-44ff30556c1d"
      },
      "source": [
        "lista2 = [\"Maria\", \"1.66\", 22, True]\n",
        "lista2"
      ],
      "execution_count": null,
      "outputs": [
        {
          "output_type": "execute_result",
          "data": {
            "text/plain": [
              "['Maria', '1.66', 22, True]"
            ]
          },
          "metadata": {},
          "execution_count": 64
        }
      ]
    },
    {
      "cell_type": "code",
      "metadata": {
        "id": "_A9medfmWttt",
        "colab": {
          "base_uri": "https://localhost:8080/"
        },
        "outputId": "43b4fbe3-37be-4c00-e839-10a0638d78f2"
      },
      "source": [
        "# Lista com variáveis de mesmo tipo\n",
        "# Áreas dos cômodos de uma casa (em metros quadrados)\n",
        "hall = 11.25\n",
        "kit = 18.0\n",
        "liv = 20.0\n",
        "bed = 10.75\n",
        "bath = 9.50\n",
        "\n",
        "# Criação da lista areas\n",
        "areas = [hall, kit, liv, bed, bath]\n",
        "\n",
        "# Print areas\n",
        "print(type(areas))\n",
        "print(areas)"
      ],
      "execution_count": null,
      "outputs": [
        {
          "output_type": "stream",
          "name": "stdout",
          "text": [
            "<class 'list'>\n",
            "[11.25, 18.0, 20.0, 10.75, 9.5]\n"
          ]
        }
      ]
    },
    {
      "cell_type": "code",
      "metadata": {
        "id": "3BrTc6sZWttz",
        "colab": {
          "base_uri": "https://localhost:8080/"
        },
        "outputId": "3bbbc385-07f8-4be8-a469-ab1577d27a44"
      },
      "source": [
        "# Lista com variáveis de diferentes tipos\n",
        "# Áreas dos cômodos de uma casa (em metros quadrados)\n",
        "hall = 11.25\n",
        "kit = 18.0\n",
        "liv = 20.0\n",
        "bed = 10.75\n",
        "bath = 9.50\n",
        "\n",
        "# Criação da lista areas\n",
        "areas = [\"hallway\", hall, \"kitchen\", kit, \"living room\", liv, \"bedroom\", bed, \"bathroom\", bath]\n",
        "\n",
        "# Print areas\n",
        "print(areas)\n"
      ],
      "execution_count": null,
      "outputs": [
        {
          "output_type": "stream",
          "name": "stdout",
          "text": [
            "['hallway', 11.25, 'kitchen', 18.0, 'living room', 20.0, 'bedroom', 10.75, 'bathroom', 9.5]\n"
          ]
        }
      ]
    },
    {
      "cell_type": "code",
      "metadata": {
        "id": "VXNk5gNsWtt7",
        "colab": {
          "base_uri": "https://localhost:8080/"
        },
        "outputId": "9e6faf17-d81c-42a1-b968-091438c61022"
      },
      "source": [
        "# Lista de Lista\n",
        "# Áreas dos cômodos de uma casa (em metro quadrado)\n",
        "hall = 11.25\n",
        "kit = 18.0\n",
        "liv = 20.0\n",
        "bed = 10.75\n",
        "bath = 9.50\n",
        "\n",
        "# informação sobre metragem da casa como lista de lista\n",
        "house = [[\"hallway\", hall],\n",
        "         [\"kitchen\", kit],\n",
        "         [\"living room\", liv],\n",
        "         [\"bedroom\", bed],\n",
        "         [\"bathroom\", bath]\n",
        "         ]\n",
        "\n",
        "# Print a variaável house\n",
        "\n",
        "print(house)\n",
        "\n",
        "# Print o tipo da variável house\n",
        "\n",
        "print(type(house))"
      ],
      "execution_count": null,
      "outputs": [
        {
          "output_type": "stream",
          "name": "stdout",
          "text": [
            "[['hallway', 11.25], ['kitchen', 18.0], ['living room', 20.0], ['bedroom', 10.75], ['bathroom', 9.5]]\n",
            "<class 'list'>\n"
          ]
        }
      ]
    },
    {
      "cell_type": "code",
      "metadata": {
        "id": "IBJ34-nOWtuD",
        "colab": {
          "base_uri": "https://localhost:8080/"
        },
        "outputId": "3534d8a4-cd03-4b99-f8eb-c342d96693e3"
      },
      "source": [
        "# Exercício 11\n",
        "# Crie 01 lista Familia, que é composta por 04 listas: Pai, Mae, Filho, Filha.\n",
        "# Essas listas têm as variáveis Nome (str), Idade (int), Peso (float), Altura (float)\n",
        "#sexo (bool) True-feminino, False-Masculino\n",
        "Pai = [\"João\", 60, 65, 1.68, 'Masculino']\n",
        "Mae = [\"Maria\",57, 60, 1.60, 'Feminino']\n",
        "Filho = [\"Thiago\", 25, 64, 1.68, 'Masculino']\n",
        "Filha = [\"Thais\", 30, 55, 1.58, 'Feminino']\n",
        "\n",
        "Familia = [Mae, Pai,Filho,Filha]\n",
        "print(Familia)"
      ],
      "execution_count": null,
      "outputs": [
        {
          "output_type": "stream",
          "name": "stdout",
          "text": [
            "[['Maria', 57, 60, 1.6, 'Feminino'], ['João', 60, 65, 1.68, 'Masculino'], ['Thiago', 25, 64, 1.68, 'Masculino'], ['Thais', 30, 55, 1.58, 'Feminino']]\n"
          ]
        }
      ]
    },
    {
      "cell_type": "code",
      "metadata": {
        "id": "ebBimdA9Db6c",
        "colab": {
          "base_uri": "https://localhost:8080/"
        },
        "outputId": "b7b5036a-5235-4964-b8ac-d8d2e0a64321"
      },
      "source": [
        "# Execute esse prgrama e analise a sua resposta.\n",
        "\n",
        "print(Pai[0])\n",
        "print(Filha[2])\n",
        "print(Familia[0])\n",
        "print(Familia[0][1])\n",
        "print(Familia[1][3])\n",
        "\n",
        "Nomes = [Familia[0][0], Familia[1][0], Familia[2][0],Familia[3][0]]\n",
        "Sexos = [Familia[0][-1], Familia[1][-1], Familia[2][-1],Familia[3][-1]]\n",
        "print(Nomes)\n",
        "print(Sexos)\n",
        "Soma_da_Idades = Familia[0][1] + Familia[1][1] + Familia[2][1] + Familia[3][1]\n",
        "print(Soma_da_Idades)\n",
        "\n",
        "\n"
      ],
      "execution_count": null,
      "outputs": [
        {
          "output_type": "stream",
          "name": "stdout",
          "text": [
            "João\n",
            "55\n",
            "['Maria', 57, 60, 1.6, 'Feminino']\n",
            "57\n",
            "1.68\n",
            "['Maria', 'João', 'Thiago', 'Thais']\n",
            "['Feminino', 'Masculino', 'Masculino', 'Feminino']\n",
            "172\n"
          ]
        }
      ]
    },
    {
      "cell_type": "markdown",
      "metadata": {
        "id": "d1n1FsUyWtuK"
      },
      "source": [
        "Explicação - Acessado elementos de uma lista\n",
        "- list[n]  --> retorna a variável da posição n. O primeiro índice é o ZERO\n",
        "- list[n1:n2] --> retorna uma sub-lista da posição n1 até a posição n2-1\n",
        "- list[:n] --> retorna uma sub-lista da posição ZERO até n-1\n",
        "- list[n:] --> retorna uma sub-lista da posição n até o final da lista"
      ]
    },
    {
      "cell_type": "code",
      "metadata": {
        "id": "4f4tiyZfWtuN",
        "colab": {
          "base_uri": "https://localhost:8080/"
        },
        "outputId": "9920aeda-537d-4d23-991f-913f02b27eb8"
      },
      "source": [
        "# Exemplos de acesso a elementos de listas\n",
        "# Rode o programa e analise as suas respostas.\n",
        "lista = [0,1,2,3,4,5]\n",
        "print(lista[0])\n",
        "print(lista[2])\n",
        "#print(lista[7])\n",
        "print(lista[-1])\n",
        "print(lista[-2])\n",
        "print(lista[1:3])\n",
        "print(lista[1:4])\n",
        "print(lista[1:2])\n",
        "print(lista[:3])\n",
        "print(lista[:])\n",
        "print(lista[-5:3])\n",
        "print(lista[-5:1])"
      ],
      "execution_count": null,
      "outputs": [
        {
          "output_type": "stream",
          "name": "stdout",
          "text": [
            "0\n",
            "2\n",
            "5\n",
            "4\n",
            "[1, 2]\n",
            "[1, 2, 3]\n",
            "[1]\n",
            "[0, 1, 2]\n",
            "[0, 1, 2, 3, 4, 5]\n",
            "[1, 2]\n",
            "[]\n"
          ]
        }
      ]
    },
    {
      "cell_type": "code",
      "metadata": {
        "id": "i9HgHM-9WtuX",
        "colab": {
          "base_uri": "https://localhost:8080/"
        },
        "outputId": "86681f83-6da2-4b93-9498-81a06129d868"
      },
      "source": [
        "#Exercício 12\n",
        "\n",
        "# Criação da lista areas\n",
        "areas = [\"hallway\", 11.25, \"kitchen\", 18.0, \"living room\", 20.0, \"bedroom\", 10.75, \"bathroom\", 9.50]\n",
        "\n",
        "# Print o segundo elemento da lista\n",
        "print(areas[1])\n",
        "\n",
        "# Print o valor do último elemnto da lista\n",
        "print(areas[-1])\n",
        "\n",
        "# Print o valor da área do living room\n",
        "print(areas[5])\n",
        "\n",
        "# Print o valor da área total da casa \n",
        "print(areas[1]+areas[3]+areas[5]+areas[7]+areas[9])"
      ],
      "execution_count": null,
      "outputs": [
        {
          "output_type": "stream",
          "name": "stdout",
          "text": [
            "11.25\n",
            "9.5\n",
            "20.0\n",
            "69.5\n"
          ]
        }
      ]
    },
    {
      "cell_type": "code",
      "metadata": {
        "id": "bIaW7WSbWtud",
        "colab": {
          "base_uri": "https://localhost:8080/",
          "height": 87
        },
        "outputId": "a46c4d7e-7f08-4214-8e76-3ac87f5d44e8"
      },
      "source": [
        "# Dica\n",
        "x = [[\"a\", \"b\", \"c\"],\n",
        "     [\"d\", \"e\", \"f\"],\n",
        "     [\"g\", \"h\", \"i\"]]\n",
        "print(x[2][0])\n",
        "print(x[2][:2])\n",
        "print(x[0][-1],x[1][:2])\n",
        "x[0][2]+x[0][0]+x[1][0]+x[1][1]"
      ],
      "execution_count": null,
      "outputs": [
        {
          "output_type": "stream",
          "name": "stdout",
          "text": [
            "g\n",
            "['g', 'h']\n",
            "c ['d', 'e']\n"
          ]
        },
        {
          "output_type": "execute_result",
          "data": {
            "text/plain": [
              "'cade'"
            ],
            "application/vnd.google.colaboratory.intrinsic+json": {
              "type": "string"
            }
          },
          "metadata": {},
          "execution_count": 86
        }
      ]
    },
    {
      "cell_type": "code",
      "metadata": {
        "id": "It25Np4hWtuk",
        "colab": {
          "base_uri": "https://localhost:8080/"
        },
        "outputId": "d498a873-4695-4681-817a-1c4fbc29821d"
      },
      "source": [
        "#Exercício 13 - \n",
        "# Dado o Exercício 11.\n",
        "# Crie uma lista denominada de Nomes que contenha os nomes do Pai, Mae, Filho e Filha da lista Familia\n",
        "\n",
        "nomes = [Familia[0][0], Familia[1][0], Familia[2][0], Familia[3][0] ]\n",
        "nomes"
      ],
      "execution_count": null,
      "outputs": [
        {
          "output_type": "execute_result",
          "data": {
            "text/plain": [
              "['Maria', 'João', 'Thiago', 'Thais']"
            ]
          },
          "metadata": {},
          "execution_count": 87
        }
      ]
    },
    {
      "cell_type": "code",
      "metadata": {
        "id": "qEdJQD1pWtur",
        "colab": {
          "base_uri": "https://localhost:8080/"
        },
        "outputId": "3eae6dd7-26c2-4943-c082-4c8c85b7473f"
      },
      "source": [
        "#Exercício 14 - \n",
        "# Dado o Exercício 11.\n",
        "# Crie uma lista denominada de Filhos que contenha apenas as informações de Filho e Filha da lista Familia\n",
        "filhos = [Familia[2][1:], Familia[3][1:]]\n",
        "filhos\n"
      ],
      "execution_count": null,
      "outputs": [
        {
          "output_type": "execute_result",
          "data": {
            "text/plain": [
              "[[25, 64, 1.68, 'Masculino'], [30, 55, 1.58, 'Feminino']]"
            ]
          },
          "metadata": {},
          "execution_count": 90
        }
      ]
    },
    {
      "cell_type": "code",
      "metadata": {
        "id": "jYzv1ZNRWtux",
        "colab": {
          "base_uri": "https://localhost:8080/"
        },
        "outputId": "a579c706-786a-4081-8a1f-28ea913dbc05"
      },
      "source": [
        "#Exercício 15 - \n",
        "# Dado o Exercício 11.\n",
        "# Calcule IMC das pessoas da lista Familia.\n",
        "# Armazene esses valores numa lista denominada de valor_IMC\n",
        "#????\n",
        "\n",
        "# IMC = PESO/ALTURA²\n",
        "\n",
        "contador = 0\n",
        "valor_IMC = []\n",
        "while contador < 4:\n",
        "    IMC = Familia[contador][2]/(Familia[contador][3]**2)\n",
        "    valor_IMC.append(IMC)\n",
        "    contador += 1\n",
        "\n",
        "print(valor_IMC)\n",
        "    \n"
      ],
      "execution_count": null,
      "outputs": [
        {
          "output_type": "stream",
          "name": "stdout",
          "text": [
            "[23.437499999999996, 23.030045351473927, 22.67573696145125, 22.031725684986377]\n"
          ]
        }
      ]
    },
    {
      "cell_type": "markdown",
      "metadata": {
        "id": "0SqbqnesWtvB"
      },
      "source": [
        "Modificar elementos de uma lista\n",
        "- lista[elemento] = novo_valor\n",
        "\n",
        "Incluir elementos em lista (concatenar duas ou mais listas)\n",
        "- lista3 = lista1 + lista3\n",
        "\n",
        "Remover Elementos em Lista\n",
        "- del(lista[elemento])"
      ]
    },
    {
      "cell_type": "code",
      "metadata": {
        "id": "uCB0VcoYVAhV",
        "colab": {
          "base_uri": "https://localhost:8080/"
        },
        "outputId": "80646602-6dce-4fc9-c044-3a73e684e61f"
      },
      "source": [
        "# Exemplo com listas\n",
        "lista1 = [1,1,1]\n",
        "lista2 =[2,2,2]\n",
        "lista3 = lista1 + lista2\n",
        "lista3\n",
        "\n"
      ],
      "execution_count": null,
      "outputs": [
        {
          "output_type": "execute_result",
          "data": {
            "text/plain": [
              "[1, 1, 1, 2, 2, 2]"
            ]
          },
          "metadata": {},
          "execution_count": 101
        }
      ]
    },
    {
      "cell_type": "code",
      "metadata": {
        "id": "maCwgIELVeC0",
        "colab": {
          "base_uri": "https://localhost:8080/"
        },
        "outputId": "c785535a-a8e4-49e8-fd2c-9835af614433"
      },
      "source": [
        "# Exemplo com lista - continuação\n",
        "print(\"lista3: \", lista3)\n",
        "print(\"lista3[2]: \", lista3[2])\n",
        "\n",
        "# remover um elemento da lista3\n",
        "del(lista3[2:4])\n",
        "print(\"lista3: \", lista3)\n",
        "print(\"lista3[2]: \", lista3[2])"
      ],
      "execution_count": null,
      "outputs": [
        {
          "output_type": "stream",
          "name": "stdout",
          "text": [
            "lista3:  [1, 1, 1, 2, 2, 2]\n",
            "lista3[2]:  1\n",
            "lista3:  [1, 1, 2, 2]\n",
            "lista3[2]:  2\n"
          ]
        }
      ]
    },
    {
      "cell_type": "code",
      "metadata": {
        "id": "bBMdNeavWtvR",
        "colab": {
          "base_uri": "https://localhost:8080/"
        },
        "outputId": "86f3eb50-ede0-4d02-9659-448a22a19dd2"
      },
      "source": [
        "# Exercício 16\n",
        "# Remova pela ordem a string \"poolhouse\" e o valor de sua área\n",
        "areas = [\"hallway\", 11.25, \"kitchen\", 18.0,\n",
        "        \"child zone\", 20.0, \"bedroom\", 10.75,\n",
        "         \"bathroom\", 10.50, \"poolhouse\", 24.5,\n",
        "         \"garage\", 15.45]\n",
        "del(areas[10:12])\n",
        "#del(areas[10])\n",
        "print(areas)"
      ],
      "execution_count": null,
      "outputs": [
        {
          "output_type": "stream",
          "name": "stdout",
          "text": [
            "['hallway', 11.25, 'kitchen', 18.0, 'child zone', 20.0, 'bedroom', 10.75, 'bathroom', 10.5, 'garage', 15.45]\n"
          ]
        }
      ]
    },
    {
      "cell_type": "code",
      "metadata": {
        "id": "Yxc9vMtzWtvD",
        "colab": {
          "base_uri": "https://localhost:8080/"
        },
        "outputId": "45436aa8-6313-4886-c107-5395065f4cd3"
      },
      "source": [
        "# Exercício 17 \n",
        "# Dado o Exercício 11\n",
        "# Inclua mais um filho, denominado Filho2 na lista Familia\n",
        "\n",
        "filho2 = ['bisneto', 4, 35, 1.40, 'Masculino']\n",
        "Familia.append(filho2)\n",
        "\n",
        "print(Familia)"
      ],
      "execution_count": null,
      "outputs": [
        {
          "output_type": "stream",
          "name": "stdout",
          "text": [
            "[['Maria', 57, 60, 1.6, 'Feminino'], ['João', 60, 65, 1.68, 'Masculino'], ['Thiago', 25, 64, 1.68, 'Masculino'], ['Thais', 30, 55, 1.58, 'Feminino'], ['bisneto', 4, 35, 1.4, 'Masculino']]\n"
          ]
        }
      ]
    },
    {
      "cell_type": "code",
      "metadata": {
        "id": "z_w1bQqyWtvM",
        "colab": {
          "base_uri": "https://localhost:8080/"
        },
        "outputId": "841a866c-cb97-400c-8902-643a94382670"
      },
      "source": [
        "# Exercício 18 \n",
        "# Dado o Exercício 11\n",
        "# Remova Filho da lista Familia\n",
        "# O que ocorre com os índices da lista Familia?\n",
        "del(Familia[2])\n",
        "print(Familia)\n"
      ],
      "execution_count": null,
      "outputs": [
        {
          "output_type": "stream",
          "name": "stdout",
          "text": [
            "[['Maria', 57, 60, 1.6, 'Feminino'], ['João', 60, 65, 1.68, 'Masculino'], ['Thais', 30, 55, 1.58, 'Feminino'], ['bisneto', 4, 35, 1.4, 'Masculino']]\n"
          ]
        }
      ]
    },
    {
      "cell_type": "code",
      "metadata": {
        "id": "sbRECfP2XVwc",
        "colab": {
          "base_uri": "https://localhost:8080/"
        },
        "outputId": "58f16a94-9294-4f3c-f511-42d3f000d3e3"
      },
      "source": [
        "#Exercício 19 \n",
        "# Dado o Exercício 11.\n",
        "# Calcule IMC das pessoas da lista Familia, e inclua essa informação na lista Família\n",
        "#????\n",
        "\n",
        "contador = 0\n",
        "while contador < 4:\n",
        "    IMC = Familia[contador][2]/(Familia[contador][3]**2)\n",
        "    Familia[contador].append(IMC)\n",
        "    contador += 1\n",
        "\n",
        "print(Familia)\n",
        "    "
      ],
      "execution_count": null,
      "outputs": [
        {
          "output_type": "stream",
          "name": "stdout",
          "text": [
            "[['Maria', 57, 60, 1.6, 'Feminino', 23.437499999999996], ['João', 60, 65, 1.68, 'Masculino', 23.030045351473927], ['Thais', 30, 55, 1.58, 'Feminino', 22.031725684986377], ['bisneto', 4, 35, 1.4, 'Masculino', 17.85714285714286]]\n"
          ]
        }
      ]
    },
    {
      "cell_type": "markdown",
      "metadata": {
        "id": "zxq1iF5pWc3B"
      },
      "source": [
        "### Atenção\n",
        " - Há difença entre atribuição e cópia de listas."
      ]
    },
    {
      "cell_type": "code",
      "metadata": {
        "id": "-UH1Hy5LWtvb",
        "colab": {
          "base_uri": "https://localhost:8080/"
        },
        "outputId": "cadefffa-4eaa-406e-e82a-da04964105ca"
      },
      "source": [
        "# Cópia de lista: diferença entre atribuição e cópia de listas\n",
        "# Criação de lista\n",
        "# Rode a analise os resultados deste programa\n",
        "\n",
        "lista1 = [11.25, 18.0, 20.0, 10.75, 9.50]\n",
        "\n",
        "# Atribuição e copia de listas\n",
        "#lista2 = lista1\n",
        "lista2 = list(lista1)\n",
        "#lista2 = lista1[:]\n",
        "\n",
        "# Modificação na lista\n",
        "lista2[0] = 5.0\n",
        "\n",
        "# Print lista1\n",
        "print(lista1, lista2)"
      ],
      "execution_count": null,
      "outputs": [
        {
          "output_type": "stream",
          "name": "stdout",
          "text": [
            "[11.25, 18.0, 20.0, 10.75, 9.5] [5.0, 18.0, 20.0, 10.75, 9.5]\n"
          ]
        }
      ]
    },
    {
      "cell_type": "markdown",
      "metadata": {
        "id": "rbT0GXsDWtvk"
      },
      "source": [
        "## Usando Função em Python\n",
        "- Há diversas funções úteis já disponíveis em Python\n",
        "    - type(variavel)\n",
        "    - print(variavel)\n",
        "    - str(variavel); float(variavel); ...\n",
        "    - max(variavel)\n",
        "    - min(variavel)\n",
        "    - mean(variavel)\n",
        "    - round(valor,precisao), round(valor)\n",
        "    - complex(valor)\n",
        "    - sorted(iterable, key, reverse)\n",
        "    - help(funcao)"
      ]
    },
    {
      "cell_type": "code",
      "metadata": {
        "id": "9jnsakiiWtvm",
        "colab": {
          "base_uri": "https://localhost:8080/"
        },
        "outputId": "07f5b5c9-f104-4ce1-dbb0-ea16334f66b0"
      },
      "source": [
        "# Exemplos de uso de funções\n",
        "# Criar variáveis var1 e var2\n",
        "var1 = [1, 2, 3, 4]\n",
        "var2 = True\n",
        "\n",
        "# Print tipo (type) de var1\n",
        "print(type(var1))\n",
        "\n",
        "# Print o tamanho de var1\n",
        "print(len(var1))\n",
        "\n",
        "# Print o máximo var1\n",
        "print(max(var1))\n",
        "\n",
        "# Print o mínimo var1\n",
        "print(min(var1))\n",
        "\n",
        "# Print a soma var1\n",
        "print(sum(var1))\n",
        "\n",
        "# Print média var1\n",
        "print(sum(var1)/len(var1))\n",
        "\n",
        "# Converter var2 para um inteiro: out2\n",
        "out2 = int(var2)"
      ],
      "execution_count": null,
      "outputs": [
        {
          "output_type": "stream",
          "name": "stdout",
          "text": [
            "<class 'list'>\n",
            "4\n",
            "4\n",
            "1\n",
            "10\n",
            "2.5\n"
          ]
        }
      ]
    },
    {
      "cell_type": "code",
      "metadata": {
        "id": "v2dxg-PtWtvu",
        "colab": {
          "base_uri": "https://localhost:8080/"
        },
        "outputId": "0c1ca479-e553-4f70-85d5-3875eb3feff7"
      },
      "source": [
        "help(min)"
      ],
      "execution_count": null,
      "outputs": [
        {
          "output_type": "stream",
          "name": "stdout",
          "text": [
            "Help on built-in function min in module builtins:\n",
            "\n",
            "min(...)\n",
            "    min(iterable, *[, default=obj, key=func]) -> value\n",
            "    min(arg1, arg2, *args, *[, key=func]) -> value\n",
            "    \n",
            "    With a single iterable argument, return its smallest item. The\n",
            "    default keyword-only argument specifies an object to return if\n",
            "    the provided iterable is empty.\n",
            "    With two or more arguments, return the smallest argument.\n",
            "\n"
          ]
        }
      ]
    },
    {
      "cell_type": "code",
      "metadata": {
        "id": "uVkGXITqWtv2"
      },
      "source": [
        "?max"
      ],
      "execution_count": null,
      "outputs": []
    },
    {
      "cell_type": "code",
      "metadata": {
        "id": "2E6SnXewWtwB",
        "colab": {
          "base_uri": "https://localhost:8080/"
        },
        "outputId": "f5eef82f-be94-43dc-ae16-7f12ead0784a"
      },
      "source": [
        "# Teste essas opções e conclua com funciona o número complexo\n",
        "complex()\n",
        "complex(1)\n",
        "complex(1,2)"
      ],
      "execution_count": null,
      "outputs": [
        {
          "output_type": "execute_result",
          "data": {
            "text/plain": [
              "(1+2j)"
            ]
          },
          "metadata": {},
          "execution_count": 122
        }
      ]
    },
    {
      "cell_type": "code",
      "metadata": {
        "id": "fTkMoZc0WtwH",
        "colab": {
          "base_uri": "https://localhost:8080/"
        },
        "outputId": "3832d908-93b0-419b-fa48-d4a49f37a266"
      },
      "source": [
        "# Execute o comando help()\n",
        "help(sorted)"
      ],
      "execution_count": null,
      "outputs": [
        {
          "output_type": "stream",
          "name": "stdout",
          "text": [
            "Help on built-in function sorted in module builtins:\n",
            "\n",
            "sorted(iterable, /, *, key=None, reverse=False)\n",
            "    Return a new list containing all items from the iterable in ascending order.\n",
            "    \n",
            "    A custom key function can be supplied to customize the sort order, and the\n",
            "    reverse flag can be set to request the result in descending order.\n",
            "\n"
          ]
        }
      ]
    },
    {
      "cell_type": "code",
      "metadata": {
        "id": "sKdxe_c0WtwS",
        "colab": {
          "base_uri": "https://localhost:8080/"
        },
        "outputId": "fc951c73-f026-4f70-cdab-6159da35eced"
      },
      "source": [
        "# Exemplo\n",
        "# Criar duas listas: first e second\n",
        "first = [11.25, 18.0, 20.0]\n",
        "second = [10.75, 9.50]\n",
        "\n",
        "# Unir as duas listas na lista full\n",
        "full = first + second\n",
        "print(full)\n",
        "\n",
        "# Ordenar a lista full em ordem decrscente e armazenar o resultado na lista full_sorted\n",
        "full_sorted = sorted(full, reverse = True)\n",
        "#full_sorted = sorted(full)\n",
        "\n",
        "# Print a lista full_sorted\n",
        "print(full_sorted)\n",
        "\n",
        "# Investigue o que ocorre se não for utilizado o parâmetro reserve\n",
        "\n",
        "# Qual é a utilidade do parâmetro key?"
      ],
      "execution_count": null,
      "outputs": [
        {
          "output_type": "stream",
          "name": "stdout",
          "text": [
            "[11.25, 18.0, 20.0, 10.75, 9.5]\n",
            "[20.0, 18.0, 11.25, 10.75, 9.5]\n"
          ]
        }
      ]
    },
    {
      "cell_type": "markdown",
      "metadata": {
        "id": "AU8CIrdHWtwd"
      },
      "source": [
        "### Lembrete:\n",
        "Em Python, todos os tipos de variáveis são classe.\n",
        "- As variáveis são objetos de classes específicas\n",
        "\n",
        "Assim, todas as variáveis possuem métodos específicos.\n",
        "- Os métodos são funções pertencentes a objetos\n",
        "\n",
        "Para acessar métodos, devemos utilizar a seguinte sintase:\n",
        "- variavel.metodo(parametros)"
      ]
    },
    {
      "cell_type": "markdown",
      "metadata": {
        "id": "J4hnxQzXWtwi"
      },
      "source": [
        "Métodos da classe String\n",
        "\n",
        "- As strings possuem com um monte de métodos específicos.\n",
        "- Para verificar mais detalhadamente, você sempre pode digitar help (str) no IPython Shell."
      ]
    },
    {
      "cell_type": "code",
      "metadata": {
        "id": "e_Z-QSufWtwl",
        "colab": {
          "base_uri": "https://localhost:8080/"
        },
        "outputId": "4645f0d0-10ca-4586-b6b3-cd2304db703e"
      },
      "source": [
        "# Exemplo\n",
        "# string room\n",
        "room = \"poolhouse\"\n",
        "\n",
        "# Use o método upper() sobre a string room. Armazene a resposta em room_up\n",
        "room_up = room.upper()\n",
        "\n",
        "# Print as strings room e room_up\n",
        "print(room)\n",
        "print(room_up)\n",
        "\n",
        "# Print o número de ocorrência da letra \"o\" na string room\n",
        "print(room.count(\"o\"))"
      ],
      "execution_count": null,
      "outputs": [
        {
          "output_type": "stream",
          "name": "stdout",
          "text": [
            "poolhouse\n",
            "POOLHOUSE\n",
            "3\n"
          ]
        }
      ]
    },
    {
      "cell_type": "markdown",
      "metadata": {
        "id": "2sjTdmfy04ky"
      },
      "source": [
        "### Exemplos de alguns métodos de Listas\n",
        "- lista.index(parametro)\n",
        "- lista(count(parametro))\n",
        "- append()\n",
        "- remove(), remove o primeiro elemento da lista que casa com o parâmetro\n",
        "- reversed(), reverte a ordem dos elementos"
      ]
    },
    {
      "cell_type": "code",
      "metadata": {
        "id": "4G0rf8EsWtww",
        "colab": {
          "base_uri": "https://localhost:8080/"
        },
        "outputId": "722d3075-0d0a-4052-d9f7-d9969839b13e"
      },
      "source": [
        "# Exemplo de uso de operação com listas\n",
        "frase = \"socorram me subi no onibus em marrocos\"\n",
        "print(frase[::-1])\n",
        "frase1 = \"o po de cocaina mata maniaco cedo po\"\n",
        "print(frase1[::-1])"
      ],
      "execution_count": null,
      "outputs": [
        {
          "output_type": "stream",
          "name": "stdout",
          "text": [
            "socorram me subino on ibus em marrocos\n",
            "op odec ocainam atam aniacoc ed op o\n"
          ]
        }
      ]
    },
    {
      "cell_type": "code",
      "metadata": {
        "id": "ImPbsFJXWtwy",
        "colab": {
          "base_uri": "https://localhost:8080/"
        },
        "outputId": "73e1f327-192a-4fb7-f4ca-f521ead4c531"
      },
      "source": [
        "# Exemplo de operação com listas\n",
        "# Criar a lista areas\n",
        "areas = [11.25, 18.0, 20.0, 10.75, 9.50]\n",
        "\n",
        "# Print o índice do elemento 20.0 na lista\n",
        "print(areas.index(20.0))\n",
        "\n",
        "# Print a quantidade de vezes que 14.5 apareace em areas\n",
        "\n",
        "print(areas.count(14.5))"
      ],
      "execution_count": null,
      "outputs": [
        {
          "output_type": "stream",
          "name": "stdout",
          "text": [
            "2\n",
            "0\n"
          ]
        }
      ]
    },
    {
      "cell_type": "code",
      "metadata": {
        "id": "UzSK-0_bWtw-",
        "colab": {
          "base_uri": "https://localhost:8080/"
        },
        "outputId": "7d037d85-9ba0-46ec-fce4-a075619bbe62"
      },
      "source": [
        "# Exercício 19\n",
        "#Criar a lista areas\n",
        "areas = [11.25, 18.0, 20.0, 10.75, 9.50]\n",
        "\n",
        "# Use o método append duas vezes para incluir os valores 24.5 e 15.45 no final da lista areas\n",
        "\n",
        "areas.append(24.5)\n",
        "areas.append(15.45)\n",
        "\n",
        "# Print a lista areas\n",
        "print(areas)\n",
        "\n",
        "# Invera a ordem dos elementos na lista areas via o método reserve\n",
        "areas.reverse()\n",
        "\n",
        "# Print a lista areas\n",
        "print(areas)"
      ],
      "execution_count": null,
      "outputs": [
        {
          "output_type": "stream",
          "name": "stdout",
          "text": [
            "[11.25, 18.0, 20.0, 10.75, 9.5, 24.5, 15.45]\n",
            "[15.45, 24.5, 9.5, 10.75, 20.0, 18.0, 11.25]\n"
          ]
        }
      ]
    },
    {
      "cell_type": "markdown",
      "metadata": {
        "id": "MzdUF61uWtxE"
      },
      "source": [
        "## Módulos em Python\n",
        "- Modulos agrupam funções, métodos e tipos específicos\n",
        "\n",
        "Pacotes são implementações Módulos disponíveis em Python \n",
        "- Há centenas de pacotes disponíveis em Python.\n",
        "\n",
        "Importação de Pacotes em Python (importa todo o pacote)\n",
        "- import pacote_desejado\n",
        "- import math\n",
        "\n",
        "Para usar funções do pacotes:\n",
        "- pacote_desejado.metodo_desejado(parametros)\n",
        "- pacote_desejado.variavel_desejada\n",
        "- math.pi\n",
        "\n",
        "Para importar apenas um módulo específico de um pacote, utilizamos:\n",
        "- from pacote_desejado import modulo_desejado\n",
        "\n",
        "Exemplo: importa só o pacote sqrt do pacote math\n",
        "\n",
        "- from math import sqrt    \n",
        "- print(sqrt(25))\n",
        "\n",
        "Ao utilizar \"from package import item\", o item pode ser um subpacote, submódulo, classe, função ou variável."
      ]
    },
    {
      "cell_type": "code",
      "metadata": {
        "id": "GPjXmEEKWtxF",
        "colab": {
          "base_uri": "https://localhost:8080/"
        },
        "outputId": "1fbf82e9-c96f-4db1-f57d-fd103c463b93"
      },
      "source": [
        "# Exemplo\n",
        "# Importar pacote math \n",
        "import math\n",
        "\n",
        "# Definição de raio\n",
        "r = 0.43\n",
        "\n",
        "\n",
        "# Cálculo de C\n",
        "C = 2 * r * math.pi\n",
        "\n",
        "# Cálculo de A\n",
        "A = math.pi * r ** 2\n",
        "\n",
        "# print valores da Circunferência e Área\n",
        "print(\"Circunferência: \", (C))\n",
        "print(\"Área: \" , A)"
      ],
      "execution_count": null,
      "outputs": [
        {
          "output_type": "stream",
          "name": "stdout",
          "text": [
            "Circunferência:  2.701769682087222\n",
            "Área:  0.5808804816487527\n"
          ]
        }
      ]
    },
    {
      "cell_type": "code",
      "metadata": {
        "id": "-iKw2qgxWtxJ"
      },
      "source": [
        "dir(math)"
      ],
      "execution_count": null,
      "outputs": []
    },
    {
      "cell_type": "code",
      "metadata": {
        "id": "VBsdcA05WtxO",
        "colab": {
          "base_uri": "https://localhost:8080/"
        },
        "outputId": "fe7eeee5-960f-40ab-e7e5-fed32673ac5d"
      },
      "source": [
        "# Exemplo de uso do pacote Math\n",
        "# Definição do raio\n",
        "r = 192500\n",
        "\n",
        "# Importar apenas a função radians do pacote math\n",
        "from math import radians \n",
        "\n",
        "# Calcular o arco correspondente a 12 graus.\n",
        "\n",
        "arco = r* radians(12)\n",
        "\n",
        "# Print o valor de arco\n",
        "print(arco)"
      ],
      "execution_count": null,
      "outputs": [
        {
          "output_type": "stream",
          "name": "stdout",
          "text": [
            "40317.10572106901\n"
          ]
        }
      ]
    },
    {
      "cell_type": "code",
      "metadata": {
        "id": "_aUREtLMWtxX",
        "colab": {
          "base_uri": "https://localhost:8080/"
        },
        "outputId": "607f34df-0824-495e-c9ba-1d1e874aa13c"
      },
      "source": [
        "# Exemplo de uso do pacote Math\n",
        "# Definição do raio\n",
        "r = 192500\n",
        "\n",
        "# Importar apenas a função radians do pacote math, redefinindo o nome da função\n",
        "from math import radians as rd\n",
        "\n",
        "# Calcular o arco correspondente a 12 graus.\n",
        "\n",
        "arco = r* rd(12)\n",
        "\n",
        "# Print o valor de arco\n",
        "print(arco)"
      ],
      "execution_count": null,
      "outputs": [
        {
          "output_type": "stream",
          "name": "stdout",
          "text": [
            "40317.10572106901\n"
          ]
        }
      ]
    },
    {
      "cell_type": "markdown",
      "metadata": {
        "id": "vRZhUmX1Wtxd"
      },
      "source": [
        "Alguns exemplos de funções matemáticas:\n",
        "- import math\n"
      ]
    },
    {
      "cell_type": "code",
      "metadata": {
        "id": "glAsihQcWtxe",
        "colab": {
          "base_uri": "https://localhost:8080/"
        },
        "outputId": "fd73f89a-70dd-4f59-83e2-55f416aef360"
      },
      "source": [
        "#Exemplos de Uso de funções matemáticas do pacote Math\n",
        "import math\n",
        "print(math.exp(1.0))\n",
        "print(math.pi)\n",
        "print(math.e)\n",
        "print(math.cos( math.pi))\n",
        "teta = 0.7\n",
        "y = math.sin(teta) ** 2 + math.cos(teta) ** 2\n",
        "print(y)"
      ],
      "execution_count": null,
      "outputs": [
        {
          "output_type": "stream",
          "name": "stdout",
          "text": [
            "2.718281828459045\n",
            "3.141592653589793\n",
            "2.718281828459045\n",
            "-1.0\n",
            "1.0\n"
          ]
        }
      ]
    },
    {
      "cell_type": "markdown",
      "metadata": {
        "id": "FLqPhjveWtxr"
      },
      "source": [
        "##  Comando de Controle de Fluxo\n",
        "- If\n",
        "\n",
        "    if (condição_lógica):\n",
        "         comando_1\n",
        "         comando_2\n",
        "         ...\n",
        "         comando_n\n",
        "         \n"
      ]
    },
    {
      "cell_type": "markdown",
      "metadata": {
        "id": "odpQMzYVWtxs"
      },
      "source": [
        "- If-then-Else\n",
        "\n",
        "    if (condição_lógica):\n",
        "         comando_1\n",
        "         comando_2\n",
        "         ...\n",
        "         comando_n\n",
        "     else:\n",
        "         comando_k1\n",
        "         comando_k2\n",
        "         ...\n",
        "         comando_kn"
      ]
    },
    {
      "cell_type": "markdown",
      "metadata": {
        "id": "Uihql0-0Wtxv"
      },
      "source": [
        "Descubra o erro do programa abaixo"
      ]
    },
    {
      "cell_type": "code",
      "metadata": {
        "id": "nitAEIyPWtxx",
        "colab": {
          "base_uri": "https://localhost:8080/"
        },
        "outputId": "d7f0dbd5-96a6-43ba-a47f-8f1f9f27f99e"
      },
      "source": [
        "# Exemplo de uso do comando if\n",
        "\n",
        "a = 11\n",
        "if (a > 0):\n",
        " print (\"a é positivo \")"
      ],
      "execution_count": null,
      "outputs": [
        {
          "output_type": "stream",
          "name": "stdout",
          "text": [
            "a é positivo \n"
          ]
        }
      ]
    },
    {
      "cell_type": "code",
      "metadata": {
        "id": "qWCLZ4WlWtyD",
        "colab": {
          "base_uri": "https://localhost:8080/"
        },
        "outputId": "c2fd6be6-d776-48ed-d07d-5dca529ad195"
      },
      "source": [
        "# Exemplo  de uso do comando if\n",
        "a = -1\n",
        "if a > 0:\n",
        "  print (\"a é positivo \")\n",
        "print(\"Identação é FUNDAMENTAL em Python\")"
      ],
      "execution_count": null,
      "outputs": [
        {
          "output_type": "stream",
          "name": "stdout",
          "text": [
            "Identação é FUNDAMENTAL em Python\n"
          ]
        }
      ]
    },
    {
      "cell_type": "code",
      "metadata": {
        "id": "jjzFHo89WtyN",
        "colab": {
          "base_uri": "https://localhost:8080/"
        },
        "outputId": "fb2e1e3f-a3e0-410e-db87-3ee7b8606159"
      },
      "source": [
        "# Exemplo de uso do comando if-else\n",
        "a = -34\n",
        "if a > 0:\n",
        "  print (\"O valor de a é positivo\")\n",
        "else :\n",
        "  print (\"O valor de a não é positivo\")\n"
      ],
      "execution_count": null,
      "outputs": [
        {
          "output_type": "stream",
          "name": "stdout",
          "text": [
            "O valor de a não é positivo\n"
          ]
        }
      ]
    },
    {
      "cell_type": "code",
      "metadata": {
        "id": "TPLZ6WLeWtyQ",
        "colab": {
          "base_uri": "https://localhost:8080/"
        },
        "outputId": "40c81845-d5b3-4eb0-a5bb-6f9f4462b071"
      },
      "source": [
        "# Exemplo de uso do comando if-elif-else\n",
        "a = 10\n",
        "if a == 0:\n",
        " print (\"a é zero \")\n",
        "elif a < 0:\n",
        " print (\"a é negativo \")\n",
        "else :\n",
        " print (\"a é positivo \")"
      ],
      "execution_count": null,
      "outputs": [
        {
          "output_type": "stream",
          "name": "stdout",
          "text": [
            "a é positivo \n"
          ]
        }
      ]
    },
    {
      "cell_type": "code",
      "metadata": {
        "id": "Kt3LS-bVrN1O",
        "colab": {
          "base_uri": "https://localhost:8080/"
        },
        "outputId": "37f5f8f7-2339-447b-aaad-4fd5df8517aa"
      },
      "source": [
        "# Exemplo de uso de IF-ELIF\n",
        "\n",
        "# atribuindo um valor qualquer a uma variavel\n",
        "\n",
        "print(\" entre com o valor de um número inteiro: \")\n",
        "x = int(input())\n",
        "\n",
        "# verificando o valor da variavel\n",
        "if x<0:\n",
        "  print('O valor eh negativo')\n",
        "elif x<10:\n",
        "  print('O valor eh menor que 10')\n",
        "elif x<20:\n",
        "  print('O valor eh menor que 20')\n",
        "elif x<30:\n",
        "  print('O valor eh menor que 30')\n",
        "elif x<40:\n",
        "  print('O valor eh menor que 40')\n",
        "elif x<50:\n",
        "  print('O valor eh menor que 50')\n",
        "elif x<100:\n",
        "  print('O valor eh menor que 100')\n",
        "elif x<500:\n",
        "  print('O valor eh menor que 500')\n",
        "elif x<1000:\n",
        "  print('O valor eh menor que 1000')\n",
        "else:\n",
        "  print('O valor eh maior ou igual a 1000')"
      ],
      "execution_count": null,
      "outputs": [
        {
          "output_type": "stream",
          "name": "stdout",
          "text": [
            " entre com o valor de um número inteiro: \n",
            "50\n",
            "O valor eh menor que 100\n"
          ]
        }
      ]
    },
    {
      "cell_type": "code",
      "metadata": {
        "id": "mXzhLg3KqlZH",
        "colab": {
          "base_uri": "https://localhost:8080/"
        },
        "outputId": "40a2f73c-c934-49cb-c095-80c499f45684"
      },
      "source": [
        "# Exercício 20 \n",
        "\n",
        "# Leia tres string\n",
        "\n",
        "# Verifique se ao menos duas delas sao iguais entre si (imprima um aviso)\n",
        "# ou se todas sao diferentes entre si (imprima outro aviso)\n",
        "\n",
        "string1, string2, string3 = \"Olá\", \"mundo\", \"!\"\n",
        "\n",
        "if(string1 == string2 or string1 == string3 or string2 == string3): \n",
        "  print('temos string iguais')\n",
        "else: \n",
        "  print('sao todas diferentes')"
      ],
      "execution_count": null,
      "outputs": [
        {
          "output_type": "stream",
          "name": "stdout",
          "text": [
            "sao todas diferentes\n"
          ]
        }
      ]
    },
    {
      "cell_type": "code",
      "metadata": {
        "id": "_Th6fvVU_sdQ",
        "colab": {
          "base_uri": "https://localhost:8080/"
        },
        "outputId": "8a08dd50-5632-4c82-914a-b5c4f25e351b"
      },
      "source": [
        "\n",
        "# Exemplo de uso do comando if-else alinhado\n",
        "a = -34\n",
        "b = 10\n",
        "\n",
        "if (a > 0):\n",
        "  if (b >0):\n",
        "   print (\"O valor de a é positivo e valor de b é positivo\")\n",
        "  else:\n",
        "   print (\"O valor de a é positivo e valor de b não é positivo\")\n",
        "else :\n",
        "  if (b> 0) :\n",
        "   print (\"O valor de a não é positivo e o valor de b é positivo\")\n",
        "  else :  \n",
        "   print (\"O valor de a não é positivo e o valor de b nao é positivo\")\n"
      ],
      "execution_count": null,
      "outputs": [
        {
          "output_type": "stream",
          "name": "stdout",
          "text": [
            "O valor de a não é positivo e o valor de b é positivo\n"
          ]
        }
      ]
    },
    {
      "cell_type": "code",
      "metadata": {
        "id": "iNKZBw8iBEgh",
        "colab": {
          "base_uri": "https://localhost:8080/"
        },
        "outputId": "e5161644-0cb9-4bcc-d1c2-f54d1e9b945f"
      },
      "source": [
        "# Exercício 21 \n",
        "# Implemente o programa anterior com if-elif-else\n",
        "\n",
        "if (a > 0 and b >0):\n",
        "   print (\"O valor de a é positivo e valor de b é positivo\")\n",
        "elif(a > 0 and b <0):\n",
        "   print (\"O valor de a é positivo e valor de b não é positivo\")\n",
        "elif(a < 0 and b >0):\n",
        "   print (\"O valor de a não é positivo e o valor de b é positivo\")\n",
        "else:  \n",
        "   print (\"O valor de a não é positivo e o valor de b nao é positivo\")\n"
      ],
      "execution_count": null,
      "outputs": [
        {
          "output_type": "stream",
          "name": "stdout",
          "text": [
            "O valor de a não é positivo e o valor de b é positivo\n"
          ]
        }
      ]
    },
    {
      "cell_type": "markdown",
      "metadata": {
        "id": "ihFKz5xBZe0n"
      },
      "source": [
        "### Programa Desafio 2\n",
        "- Utilize o Programa Desafio 1 como base.\n",
        "- solicite o Nome, Sexo, Peso e Altura.\n",
        "- Calcule o IMC\n",
        "- Dê o diagnóstivo:\n",
        "  - Se for homem:\n",
        "    - menor que 20 --> abaixo do peso\n",
        "   - entre 20 e 25 --> normal\n",
        "    - entre 25 e 30 --> sobrepeso\n",
        "    - acima de 30  --> obesso\n",
        " \n",
        " - Se for mulher:\n",
        "    - menor que 19 --> abaixo do peso\n",
        "    - entre 19 e 24 --> normal\n",
        "    - entre 24 e 29 --> sobrepeso\n",
        "    - acima de 29  --> obesso\n",
        "\n",
        "\n",
        "Exemplo:\n",
        " Maria, baseado no seu IMC, você está abaixo do peso."
      ]
    },
    {
      "cell_type": "code",
      "metadata": {
        "id": "O-RZ8QslZV48",
        "colab": {
          "base_uri": "https://localhost:8080/"
        },
        "outputId": "96483251-15a5-4274-ca2f-54e738f1f454"
      },
      "source": [
        "# Programa Desafio 1\n",
        "# Escreva o código aqui código\n",
        "\n",
        "nome = str(input(\"Por obséquio, forneça o seu nome? \"))\n",
        "\n",
        "sexo = str(input(\"Por obséquio, forneça o seu sexo? \"))\n",
        "\n",
        "peso = float(input(\"Se não for inoportuno, foneça o seu peso? Prometo menter essa informação em sigilo \"))\n",
        "\n",
        "altura = float(input(\"Qual é a sua altura? \"))\n",
        "\n",
        "# Cálculo do IMC\n",
        "IMC = peso /altura**2\n",
        "\n",
        "# Saída do programa\n",
        "if(sexo == 'Masculino'):\n",
        "  if(IMC<20): \n",
        "    print(nome + ', baseado no seu IMC, voce está abaixo do peso')\n",
        "  elif(IMC>20 and IMC<=25) : \n",
        "    print(nome + ', baseado no seu IMC, voce está normal')\n",
        "  elif(IMC>25 and IMC<30) : \n",
        "    print(nome + ', baseado no seu IMC, voce está sobrepeso')\n",
        "  else: \n",
        "    print(nome + ', baseado no seu IMC, voce está Obeso')\n",
        "else: \n",
        "  if(IMC<=19): \n",
        "    print(nome + ', baseado no seu IMC, voce está abaixo do peso')\n",
        "  elif(IMC>19 and IMC<=24) : \n",
        "    print(nome + ', baseado no seu IMC, voce está normal')\n",
        "  elif(IMC>25 and IMC<=29) : \n",
        "    print(nome + ', baseado no seu IMC, voce está sobrepeso')\n",
        "  else: \n",
        "    print(nome + ', baseado no seu IMC, voce está Obeso')\n"
      ],
      "execution_count": null,
      "outputs": [
        {
          "output_type": "stream",
          "name": "stdout",
          "text": [
            "Por obséquio, forneça o seu nome? vitoria\n",
            "Por obséquio, forneça o seu sexo? Feminino\n",
            "Se não for inoportuno, foneça o seu peso? Prometo menter essa informação em sigilo 62\n",
            "Qual é a sua altura? 1.65\n",
            "vitoria, baseado no seu IMC, voce está normal\n"
          ]
        }
      ]
    },
    {
      "cell_type": "markdown",
      "metadata": {
        "id": "HlcqdyNxWtyg"
      },
      "source": [
        "##  Comando de repetição (loops)\n",
        "- Comando for\n",
        "\n",
        "    for (variavel) in (sequencia):\n",
        "       comando_1\n",
        "       comando_2\n",
        "       ...\n",
        "       comando_n\n",
        "- Comando while\n",
        "    \n",
        "    while (condicao):\n",
        "       comando_1\n",
        "       comando_2\n",
        "       ...\n",
        "       comando_n"
      ]
    },
    {
      "cell_type": "markdown",
      "metadata": {
        "id": "I-MaEPPdwfiz"
      },
      "source": [
        "### Nota:\n",
        " - O comando for é usado para percorrer uma sequência qualquer."
      ]
    },
    {
      "cell_type": "code",
      "metadata": {
        "id": "GosKA8-OwJps",
        "colab": {
          "base_uri": "https://localhost:8080/"
        },
        "outputId": "e32ab8cd-132b-48da-e1c5-6a5afc198989"
      },
      "source": [
        "# Exemplo de uso do comando for\n",
        "for letter in \"banana\":\n",
        "   print(letter)"
      ],
      "execution_count": null,
      "outputs": [
        {
          "output_type": "stream",
          "name": "stdout",
          "text": [
            "b\n",
            "a\n",
            "n\n",
            "a\n",
            "n\n",
            "a\n"
          ]
        }
      ]
    },
    {
      "cell_type": "markdown",
      "metadata": {
        "id": "F79jSvWYwsWs"
      },
      "source": [
        "- Também podemos percorrer um intervalo numerico com o range."
      ]
    },
    {
      "cell_type": "code",
      "metadata": {
        "id": "uCSsy8_dwXGB",
        "colab": {
          "base_uri": "https://localhost:8080/"
        },
        "outputId": "7d176959-2235-4d37-b27b-b6896d2f4f42"
      },
      "source": [
        "# Exemplo de uso do comando for\n",
        "\n",
        "for number in range(10):\n",
        "  print(number)"
      ],
      "execution_count": null,
      "outputs": [
        {
          "output_type": "stream",
          "name": "stdout",
          "text": [
            "0\n",
            "1\n",
            "2\n",
            "3\n",
            "4\n",
            "5\n",
            "6\n",
            "7\n",
            "8\n",
            "9\n"
          ]
        }
      ]
    },
    {
      "cell_type": "code",
      "metadata": {
        "id": "OeZYS7fzw2xH",
        "colab": {
          "base_uri": "https://localhost:8080/"
        },
        "outputId": "32dcf5e8-4186-4681-ebbf-0eee16bd0a35"
      },
      "source": [
        "# Exemplo de uso do comando for\n",
        "\n",
        "for x in range(5, 15):\n",
        "  print('O numero é ' + str(x))"
      ],
      "execution_count": null,
      "outputs": [
        {
          "output_type": "stream",
          "name": "stdout",
          "text": [
            "O numero é 5\n",
            "O numero é 6\n",
            "O numero é 7\n",
            "O numero é 8\n",
            "O numero é 9\n",
            "O numero é 10\n",
            "O numero é 11\n",
            "O numero é 12\n",
            "O numero é 13\n",
            "O numero é 14\n"
          ]
        }
      ]
    },
    {
      "cell_type": "code",
      "metadata": {
        "id": "nx2n_og5xLA-",
        "colab": {
          "base_uri": "https://localhost:8080/"
        },
        "outputId": "d4468b30-5089-4da0-82e5-d5cf5f824e3b"
      },
      "source": [
        "# Exercício 21 \n",
        "# Implemente um laco que imprima a tabuada de um número\n",
        "\n",
        "print(\" entre com um número inteiro positivo: \")\n",
        "base = int(input())\n",
        "\n",
        "tabuada = []\n",
        "# Escreve o restante do código utilizando o comendo for\n",
        "for number in range(10): \n",
        "  tabuada.append(number * base)\n",
        "\n",
        "print('a sequencia da tabuada e: ', tabuada)"
      ],
      "execution_count": null,
      "outputs": [
        {
          "output_type": "stream",
          "name": "stdout",
          "text": [
            " entre com um número inteiro positivo: \n",
            "9\n",
            "a sequencia da tabuada e:  [0, 9, 18, 27, 36, 45, 54, 63, 72, 81]\n"
          ]
        }
      ]
    },
    {
      "cell_type": "code",
      "metadata": {
        "id": "aCK7XiE3ydLN",
        "colab": {
          "base_uri": "https://localhost:8080/"
        },
        "outputId": "2bbf311c-34b5-4c70-cc84-d8dff29f5b93"
      },
      "source": [
        "# Exemplo - uso do comando for\n",
        "\n",
        "print(\"O range() pode ter o passo entre os elementos especificados.\")\n",
        "print( \"Neste exemplo, o passo é 10\")\n",
        "\n",
        "for y in range(0, 100, 10):\n",
        "  print('O numero eh ' + str(y))"
      ],
      "execution_count": null,
      "outputs": [
        {
          "output_type": "stream",
          "name": "stdout",
          "text": [
            "O range() pode ter o passo entre os elementos especificados.\n",
            "Neste exemplo, o passo é 10\n",
            "O numero eh 0\n",
            "O numero eh 10\n",
            "O numero eh 20\n",
            "O numero eh 30\n",
            "O numero eh 40\n",
            "O numero eh 50\n",
            "O numero eh 60\n",
            "O numero eh 70\n",
            "O numero eh 80\n",
            "O numero eh 90\n"
          ]
        }
      ]
    },
    {
      "cell_type": "code",
      "metadata": {
        "id": "zzSjDSvrzBDA",
        "colab": {
          "base_uri": "https://localhost:8080/"
        },
        "outputId": "aaad4b4f-c1bd-4d11-82f5-4c63a17adbe6"
      },
      "source": [
        "# Exercíco 22 \n",
        "\n",
        "# Implemente um laco que exiba os multiplos de 5 entre 0 e 50 (inclusive)\n",
        "multiplos = []\n",
        "for x in range(0, 51, 5):\n",
        "  multiplos.append(x)\n",
        "print('os multiplos sao:', multiplos)"
      ],
      "execution_count": null,
      "outputs": [
        {
          "output_type": "stream",
          "name": "stdout",
          "text": [
            "os multiplos sao: [0, 5, 10, 15, 20, 25, 30, 35, 40, 45, 50]\n"
          ]
        }
      ]
    },
    {
      "cell_type": "code",
      "metadata": {
        "id": "3Iozwd8KWtyi",
        "colab": {
          "base_uri": "https://localhost:8080/"
        },
        "outputId": "10f957aa-3d24-4dbf-f15f-6f93074ced76"
      },
      "source": [
        "# Exemplos de uso do comando for\n",
        "print(\"Primeiro print\")\n",
        "for i in range(2,5):\n",
        "    print(i)\n",
        "print(\"Segundo print\")\n",
        "for i in range(5):\n",
        "    print(i)\n",
        "print(\"Terceiro print\")\n",
        "lista = [\"p\", \"y\", \"t\", \"h\", \"o\", \"n\"]\n",
        "for item in lista:\n",
        "    print (item, end=' ')"
      ],
      "execution_count": null,
      "outputs": [
        {
          "output_type": "stream",
          "name": "stdout",
          "text": [
            "Primeiro print\n",
            "2\n",
            "3\n",
            "4\n",
            "Segundo print\n",
            "0\n",
            "1\n",
            "2\n",
            "3\n",
            "4\n",
            "Terceiro print\n",
            "p y t h o n "
          ]
        }
      ]
    },
    {
      "cell_type": "code",
      "metadata": {
        "id": "hUxvQ8URWtyp",
        "colab": {
          "base_uri": "https://localhost:8080/"
        },
        "outputId": "85a05238-d3d7-49d1-a270-31adea12a42b"
      },
      "source": [
        "# Exemplo de uso do comando for\n",
        "for x in [1,2,6]:\n",
        " print(x)"
      ],
      "execution_count": null,
      "outputs": [
        {
          "output_type": "stream",
          "name": "stdout",
          "text": [
            "1\n",
            "2\n",
            "6\n"
          ]
        }
      ]
    },
    {
      "cell_type": "code",
      "metadata": {
        "id": "jNXGoyp4Wtyt",
        "colab": {
          "base_uri": "https://localhost:8080/"
        },
        "outputId": "c25947f3-10f7-4b99-8104-dd44e94c9bdf"
      },
      "source": [
        "# Exemplo de uso do comando for\n",
        "print(\"Uso do enumerate para se obter índice numérico\")\n",
        "for indice, valor in enumerate([\"p\", \"y\", \"t\", \"h\", \"o\", \"n\"]):\n",
        "    print (indice, valor)"
      ],
      "execution_count": null,
      "outputs": [
        {
          "output_type": "stream",
          "name": "stdout",
          "text": [
            "Uso do enumerate para se obter índice numérico\n",
            "0 p\n",
            "1 y\n",
            "2 t\n",
            "3 h\n",
            "4 o\n",
            "5 n\n"
          ]
        }
      ]
    },
    {
      "cell_type": "code",
      "metadata": {
        "id": "5Q1XZhItWtyz",
        "colab": {
          "base_uri": "https://localhost:8080/"
        },
        "outputId": "fb1804d5-b023-42b5-bfb4-3cd28cd1e8dc"
      },
      "source": [
        "#Exemplo - É possível implementar do comando \"for\" via lista\n",
        "lista1 = [x**2 for x in range(0,5)]\n",
        "print(lista1)"
      ],
      "execution_count": null,
      "outputs": [
        {
          "output_type": "stream",
          "name": "stdout",
          "text": [
            "[0, 1, 4, 9, 16]\n"
          ]
        }
      ]
    },
    {
      "cell_type": "code",
      "metadata": {
        "id": "eCOKf5SXWty3",
        "colab": {
          "base_uri": "https://localhost:8080/"
        },
        "outputId": "a0b93d36-26ba-42b1-e6d7-e5e793faedad"
      },
      "source": [
        "#Exemplo - É possível implementar do comando \"for\" via lista\n",
        "lista2 = [True, \"2\", 3.0, 4]\n",
        "[type(item) for item in lista2]"
      ],
      "execution_count": null,
      "outputs": [
        {
          "output_type": "execute_result",
          "data": {
            "text/plain": [
              "[bool, str, float, int]"
            ]
          },
          "metadata": {},
          "execution_count": 19
        }
      ]
    },
    {
      "cell_type": "markdown",
      "metadata": {
        "id": "L1Vy98sEzOMN"
      },
      "source": [
        "### Nota:\n",
        "-É possivel encadear um laco dentro de outro (sem limites)."
      ]
    },
    {
      "cell_type": "code",
      "metadata": {
        "id": "Rc4987AlzWaL",
        "colab": {
          "base_uri": "https://localhost:8080/"
        },
        "outputId": "702fe75a-3418-40c0-ab70-890896687dc2"
      },
      "source": [
        "# Exemplo for encadeado\n",
        "\n",
        "for a in range(0,10):\n",
        "  print(\"O valor de a é: \" + str(a))\n",
        "  for b in range(0,5):\n",
        "    print(\" \\t O valor de b é: \" + str(b))"
      ],
      "execution_count": null,
      "outputs": [
        {
          "output_type": "stream",
          "name": "stdout",
          "text": [
            "O valor de a é: 0\n",
            " \t O valor de b é: 0\n",
            " \t O valor de b é: 1\n",
            " \t O valor de b é: 2\n",
            " \t O valor de b é: 3\n",
            " \t O valor de b é: 4\n",
            "O valor de a é: 1\n",
            " \t O valor de b é: 0\n",
            " \t O valor de b é: 1\n",
            " \t O valor de b é: 2\n",
            " \t O valor de b é: 3\n",
            " \t O valor de b é: 4\n",
            "O valor de a é: 2\n",
            " \t O valor de b é: 0\n",
            " \t O valor de b é: 1\n",
            " \t O valor de b é: 2\n",
            " \t O valor de b é: 3\n",
            " \t O valor de b é: 4\n",
            "O valor de a é: 3\n",
            " \t O valor de b é: 0\n",
            " \t O valor de b é: 1\n",
            " \t O valor de b é: 2\n",
            " \t O valor de b é: 3\n",
            " \t O valor de b é: 4\n",
            "O valor de a é: 4\n",
            " \t O valor de b é: 0\n",
            " \t O valor de b é: 1\n",
            " \t O valor de b é: 2\n",
            " \t O valor de b é: 3\n",
            " \t O valor de b é: 4\n",
            "O valor de a é: 5\n",
            " \t O valor de b é: 0\n",
            " \t O valor de b é: 1\n",
            " \t O valor de b é: 2\n",
            " \t O valor de b é: 3\n",
            " \t O valor de b é: 4\n",
            "O valor de a é: 6\n",
            " \t O valor de b é: 0\n",
            " \t O valor de b é: 1\n",
            " \t O valor de b é: 2\n",
            " \t O valor de b é: 3\n",
            " \t O valor de b é: 4\n",
            "O valor de a é: 7\n",
            " \t O valor de b é: 0\n",
            " \t O valor de b é: 1\n",
            " \t O valor de b é: 2\n",
            " \t O valor de b é: 3\n",
            " \t O valor de b é: 4\n",
            "O valor de a é: 8\n",
            " \t O valor de b é: 0\n",
            " \t O valor de b é: 1\n",
            " \t O valor de b é: 2\n",
            " \t O valor de b é: 3\n",
            " \t O valor de b é: 4\n",
            "O valor de a é: 9\n",
            " \t O valor de b é: 0\n",
            " \t O valor de b é: 1\n",
            " \t O valor de b é: 2\n",
            " \t O valor de b é: 3\n",
            " \t O valor de b é: 4\n"
          ]
        }
      ]
    },
    {
      "cell_type": "code",
      "metadata": {
        "id": "WO874PKfWty8",
        "colab": {
          "base_uri": "https://localhost:8080/"
        },
        "outputId": "dae4d587-af7f-4499-c7f8-444290e8635f"
      },
      "source": [
        "# Exemplo de uso do comando while\n",
        "count = 0\n",
        "while count <= 5:\n",
        "    print(count)\n",
        "    count += 1"
      ],
      "execution_count": null,
      "outputs": [
        {
          "output_type": "stream",
          "name": "stdout",
          "text": [
            "0\n",
            "1\n",
            "2\n",
            "3\n",
            "4\n",
            "5\n"
          ]
        }
      ]
    },
    {
      "cell_type": "code",
      "metadata": {
        "id": "y7Qc_tDqWtzA",
        "colab": {
          "base_uri": "https://localhost:8080/"
        },
        "outputId": "f354cba9-94a6-4af6-e22a-46ef9f4347e5"
      },
      "source": [
        "# Exemplo de uso do comando while com break\n",
        "count = 0\n",
        "while count <= 5:\n",
        "    print(count)\n",
        "    count += 1\n",
        "    if count > 3: break"
      ],
      "execution_count": null,
      "outputs": [
        {
          "output_type": "stream",
          "name": "stdout",
          "text": [
            "0\n",
            "1\n",
            "2\n",
            "3\n"
          ]
        }
      ]
    },
    {
      "cell_type": "code",
      "metadata": {
        "id": "AIFplMKNWtzD",
        "colab": {
          "base_uri": "https://localhost:8080/"
        },
        "outputId": "629bb0b5-69f3-4363-e892-631d6e448a4c"
      },
      "source": [
        "# Comando else no final de um loop é executado após o término do loop\n",
        "#\n",
        "# Loop while\n",
        "#\n",
        "count = 0\n",
        "while count <= 5:\n",
        "    print(count)\n",
        "    count += 1\n",
        "    if(count == 3):break\n",
        "else:\n",
        "    print('após iteração')\n",
        "\n",
        "#\n",
        "# Loop for\n",
        "#\n",
        "for i in range(5):\n",
        "    print(i)\n",
        "else:\n",
        "    print('após iteração')\n"
      ],
      "execution_count": null,
      "outputs": [
        {
          "output_type": "stream",
          "name": "stdout",
          "text": [
            "0\n",
            "1\n",
            "2\n",
            "0\n",
            "1\n",
            "2\n",
            "3\n",
            "4\n",
            "após iteração\n"
          ]
        }
      ]
    },
    {
      "cell_type": "markdown",
      "metadata": {
        "id": "YwXCn5UyWtzI"
      },
      "source": [
        "## Definição de Função em Python\n",
        "    \n",
        "    def funcao(lista_parametros):\n",
        "       comando_1\n",
        "       comando_2\n",
        "       ...\n",
        "       comando_n\n",
        "       return(variavel_de_saida)"
      ]
    },
    {
      "cell_type": "markdown",
      "metadata": {
        "id": "Ra8NPh0nu5-L"
      },
      "source": [
        "### Função:\n",
        "- função sem valor de retorno - procedimento"
      ]
    },
    {
      "cell_type": "code",
      "metadata": {
        "id": "gouic33wWtzK"
      },
      "source": [
        "# exemplo de função sem retorno de variáveis\n",
        "\n",
        "def hello(meu_nome):\n",
        "  print('Olá,',meu_nome, \"kkk\")"
      ],
      "execution_count": null,
      "outputs": []
    },
    {
      "cell_type": "code",
      "metadata": {
        "id": "5eVsjzx1WtzY",
        "colab": {
          "base_uri": "https://localhost:8080/"
        },
        "outputId": "673adaa1-840d-4566-b5f8-094177e1ef24"
      },
      "source": [
        "hello(\"John Snow. You know nothing!\")"
      ],
      "execution_count": null,
      "outputs": [
        {
          "output_type": "stream",
          "name": "stdout",
          "text": [
            "Olá, John Snow. You know nothing! kkk\n"
          ]
        }
      ]
    },
    {
      "cell_type": "markdown",
      "metadata": {
        "id": "pZtaxUbcuJod"
      },
      "source": [
        "### Função:\n",
        "- Uso de parâmetros Defaults "
      ]
    },
    {
      "cell_type": "code",
      "metadata": {
        "id": "HSzogyqcWtzg"
      },
      "source": [
        "def hello(meu_nome,idade=10):\n",
        "  print('Olá, ',meu_nome,'\\nSua idade é:',idade)"
      ],
      "execution_count": null,
      "outputs": []
    },
    {
      "cell_type": "code",
      "metadata": {
        "id": "LGqJSKCzWtzm",
        "colab": {
          "base_uri": "https://localhost:8080/"
        },
        "outputId": "e8cbc9a4-174d-43ac-d11b-02221f6b3d83"
      },
      "source": [
        "hello(\"João da Silva\", 21)"
      ],
      "execution_count": null,
      "outputs": [
        {
          "output_type": "stream",
          "name": "stdout",
          "text": [
            "Olá,  João da Silva \n",
            "Sua idade é: 21\n"
          ]
        }
      ]
    },
    {
      "cell_type": "code",
      "metadata": {
        "id": "fIEMsGA3Wtzt",
        "colab": {
          "base_uri": "https://localhost:8080/"
        },
        "outputId": "b9037709-45d1-4721-9b0e-0c86ea721cc2"
      },
      "source": [
        "hello(\"João da Silva\")"
      ],
      "execution_count": null,
      "outputs": [
        {
          "output_type": "stream",
          "name": "stdout",
          "text": [
            "Olá,  João da Silva \n",
            "Sua idade é: 10\n"
          ]
        }
      ]
    },
    {
      "cell_type": "code",
      "metadata": {
        "id": "cbKZxFjkucCl"
      },
      "source": [
        "# Exercíco - Reescreva a função hello(), acrescentando o parâmetro default altura = 1.73\n",
        "def hello(meu_nome, idade=10, altura=1.73):\n",
        "  print('Olá, ',meu_nome,'\\nSua idade é:',idade, '\\nSua altura é: ', altura)\n"
      ],
      "execution_count": null,
      "outputs": []
    },
    {
      "cell_type": "code",
      "metadata": {
        "id": "h3OAwJOAuyEf",
        "colab": {
          "base_uri": "https://localhost:8080/"
        },
        "outputId": "7e48aedb-bcdf-42f5-9bbf-5a9b67266f9a"
      },
      "source": [
        "hello(\"João da Silva\")"
      ],
      "execution_count": null,
      "outputs": [
        {
          "output_type": "stream",
          "name": "stdout",
          "text": [
            "Olá,  João da Silva \n",
            "Sua idade é: 10 \n",
            "Sua altura é:  1.73\n"
          ]
        }
      ]
    },
    {
      "cell_type": "markdown",
      "metadata": {
        "id": "O1RflDZPvLbS"
      },
      "source": [
        "### Função:\n",
        "- função com valor de retorno"
      ]
    },
    {
      "cell_type": "code",
      "metadata": {
        "id": "OzsKMlwNWtz3"
      },
      "source": [
        "# Exemplo de função com valor de retorno\n",
        "def calcular_pagamento(horas, taxa):\n",
        " salario=float(horas)*float(taxa)\n",
        " return (salario)"
      ],
      "execution_count": null,
      "outputs": []
    },
    {
      "cell_type": "code",
      "metadata": {
        "id": "rMFpatabWtz-",
        "colab": {
          "base_uri": "https://localhost:8080/"
        },
        "outputId": "213d02a5-05ae-47a5-fa64-6259d5b88b7b"
      },
      "source": [
        "total_salario = calcular_pagamento(40,20)\n",
        "print('O valor de seus rendimentos é R$',total_salario)"
      ],
      "execution_count": null,
      "outputs": [
        {
          "output_type": "stream",
          "name": "stdout",
          "text": [
            "O valor de seus rendimentos é R$ 800.0\n"
          ]
        }
      ]
    },
    {
      "cell_type": "code",
      "metadata": {
        "id": "Dm-U6r0pWt0L",
        "colab": {
          "base_uri": "https://localhost:8080/"
        },
        "outputId": "4cd382bc-9d28-48d2-f760-aecc4af06a35"
      },
      "source": [
        "str_horas= input('Digite as horas: ')\n",
        "str_taxa=input('Digite a taxa: ')"
      ],
      "execution_count": null,
      "outputs": [
        {
          "name": "stdout",
          "output_type": "stream",
          "text": [
            "Digite as horas: 40\n",
            "Digite a taxa: 12\n"
          ]
        }
      ]
    },
    {
      "cell_type": "code",
      "metadata": {
        "id": "S2cORsX7Wt0a",
        "colab": {
          "base_uri": "https://localhost:8080/"
        },
        "outputId": "8dc6fbb6-4536-4849-aad9-839e84c473a0"
      },
      "source": [
        "print(str_horas)\n",
        "print(str_taxa)\n",
        "float_horas = float(str_horas)\n",
        "float_taxa = float(str_taxa)"
      ],
      "execution_count": null,
      "outputs": [
        {
          "output_type": "stream",
          "name": "stdout",
          "text": [
            "40\n",
            "12\n"
          ]
        }
      ]
    },
    {
      "cell_type": "code",
      "metadata": {
        "id": "4_En37fHWt0g",
        "colab": {
          "base_uri": "https://localhost:8080/"
        },
        "outputId": "49c321eb-d20e-46b6-d71a-43f45548aef9"
      },
      "source": [
        "print(float_horas)\n",
        "print(float_taxa)\n",
        "total_salario = calcular_pagamento(float_horas,float_taxa)\n",
        "print('O valor de seus rendimentos é R$',total_salario)"
      ],
      "execution_count": null,
      "outputs": [
        {
          "output_type": "stream",
          "name": "stdout",
          "text": [
            "40.0\n",
            "12.0\n",
            "O valor de seus rendimentos é R$ 480.0\n"
          ]
        }
      ]
    },
    {
      "cell_type": "code",
      "metadata": {
        "id": "VPndZJMhWtz1"
      },
      "source": [
        "# Segunda versão da função calculo_pagamento\n",
        "def calcular_pagamento(qtd_horas, valor_hora):\n",
        "    horas = float(qtd_horas)\n",
        "    taxa = float(valor_hora)\n",
        "    if horas <= 40:\n",
        "        salario=horas*taxa\n",
        "    else:\n",
        "        h_excd = horas - 40\n",
        "        salario = 40*taxa+(h_excd*(1.5*taxa))\n",
        "    return (salario)"
      ],
      "execution_count": null,
      "outputs": []
    },
    {
      "cell_type": "code",
      "metadata": {
        "id": "-OvmVJnhsXTD",
        "colab": {
          "base_uri": "https://localhost:8080/"
        },
        "outputId": "22b38ebf-dbfc-4712-846b-65760f8b76fc"
      },
      "source": [
        "calcular_pagamento(20,20)"
      ],
      "execution_count": null,
      "outputs": [
        {
          "output_type": "execute_result",
          "data": {
            "text/plain": [
              "400.0"
            ]
          },
          "metadata": {},
          "execution_count": 41
        }
      ]
    },
    {
      "cell_type": "markdown",
      "metadata": {
        "id": "9Ery8NSYtmZp"
      },
      "source": [
        "### Função:\n",
        "- Como ficam as variáveis definidas dentro de uma função?"
      ]
    },
    {
      "cell_type": "code",
      "metadata": {
        "id": "yewlnnqEtwQ8"
      },
      "source": [
        "# Exemplo de comportamento de variáveis definidas dentro de função\n",
        "def f():\n",
        "  x = 10\n",
        "  print(x)\n"
      ],
      "execution_count": null,
      "outputs": []
    },
    {
      "cell_type": "code",
      "metadata": {
        "id": "8lnRYTKlvd02",
        "colab": {
          "base_uri": "https://localhost:8080/"
        },
        "outputId": "c588bdca-2d3b-4252-f580-ed0b7a53a138"
      },
      "source": [
        "x = 100\n",
        "f()\n",
        "print(x)"
      ],
      "execution_count": null,
      "outputs": [
        {
          "output_type": "stream",
          "name": "stdout",
          "text": [
            "10\n",
            "100\n"
          ]
        }
      ]
    },
    {
      "cell_type": "code",
      "metadata": {
        "id": "nbedu6y5wDxo"
      },
      "source": [
        "# Exemplo de comportamento de variáveis definidas dentro de função\n",
        "def f(x):\n",
        "  x = 10\n",
        "  print(x)\n",
        "  "
      ],
      "execution_count": null,
      "outputs": []
    },
    {
      "cell_type": "code",
      "metadata": {
        "id": "rqur7zRTwQ_n",
        "colab": {
          "base_uri": "https://localhost:8080/"
        },
        "outputId": "54e3c243-4ede-4e50-905f-0bdadc93f3e4"
      },
      "source": [
        "x = 100\n",
        "f(x)\n",
        "print(x)"
      ],
      "execution_count": null,
      "outputs": [
        {
          "output_type": "stream",
          "name": "stdout",
          "text": [
            "10\n",
            "100\n"
          ]
        }
      ]
    },
    {
      "cell_type": "markdown",
      "metadata": {
        "id": "cIJ0dN0EwcDl"
      },
      "source": [
        "### Função:\n",
        "- Como utilizar uma variável externa dentro da função?"
      ]
    },
    {
      "cell_type": "code",
      "metadata": {
        "id": "rCeqtaTYwyCb"
      },
      "source": [
        "# Exemplo de comportamento de variáveis definidas dentro de função\n",
        "# Como utilizar uma variável externa dentro de uma função\n",
        "\n",
        "def f():\n",
        "  global x\n",
        "  x = 10\n",
        "  print(x)"
      ],
      "execution_count": null,
      "outputs": []
    },
    {
      "cell_type": "code",
      "metadata": {
        "id": "zm_fVevQxDY1",
        "colab": {
          "base_uri": "https://localhost:8080/"
        },
        "outputId": "face7bc8-e849-4395-bf7d-9dd9c3b0eb82"
      },
      "source": [
        "x = 100\n",
        "f(x)\n",
        "print(x)\n",
        "print(\"Ufa. deu certo.\")"
      ],
      "execution_count": null,
      "outputs": [
        {
          "output_type": "stream",
          "name": "stdout",
          "text": [
            "10\n",
            "100\n",
            "Ufa. deu certo.\n"
          ]
        }
      ]
    },
    {
      "cell_type": "markdown",
      "metadata": {
        "id": "YofXX0ynwzzj"
      },
      "source": [
        "### Função:\n",
        "- É possível uma função retornar mais de uma variável?"
      ]
    },
    {
      "cell_type": "code",
      "metadata": {
        "id": "POkESbSTWt0l",
        "colab": {
          "base_uri": "https://localhost:8080/"
        },
        "outputId": "9598722f-e3b7-4e25-9621-935667600692"
      },
      "source": [
        "# Exemplo de função - retorno mais de uma variável\n",
        "print(\"Programa com exemplo para função que retorna mais de uma variável.\")\n",
        "def powers(x):\n",
        " #Retorna o quadrado, o cubo e a quarta potência de um dado número x.\"\"\"\n",
        " return x ** 2, x ** 3, x ** 4\n",
        "print(powers(2))\n",
        "x2, x3, x4 = powers(3)\n",
        "print(\"x2=\",x2,\" x3=\",x3,\"x4=\", x4)"
      ],
      "execution_count": null,
      "outputs": [
        {
          "output_type": "stream",
          "name": "stdout",
          "text": [
            "Programa com exemplo para função que retorna mais de uma variável.\n",
            "(4, 8, 16)\n",
            "x2= 9  x3= 27 x4= 81\n"
          ]
        }
      ]
    },
    {
      "cell_type": "markdown",
      "metadata": {
        "id": "tgOHrAK5Wt0p"
      },
      "source": [
        "### Lembrete:\n",
        "- Não se esqueça, na definição de uma função, podemos dar defaults nos argumentos da função"
      ]
    },
    {
      "cell_type": "code",
      "metadata": {
        "id": "QfaJ0Xy4Wt0q",
        "colab": {
          "base_uri": "https://localhost:8080/"
        },
        "outputId": "f29f8181-3ba1-434e-d566-a512682d8009"
      },
      "source": [
        "# Exemplo de função - Valores Default em função\n",
        "\n",
        "print(\"Exemplo de uso de função com parámetros 'default'\")\n",
        "\n",
        "def myfunc(x, p=2, debug=False):\n",
        "  if debug:\n",
        "   print(\"Mensagem do módulo debug da função myfunc para x = \" + str(x) + \" elevado \" + str(p))\n",
        "  return x**p\n",
        "\n",
        "print(myfunc(5))\n",
        "print(myfunc(5, debug=True))\n",
        "print(myfunc(p=3, debug=True, x=5))\n",
        "print(myfunc(5, 3))\n",
        "print(myfunc(5, 3, True))\n",
        "print(myfunc(5, 3, False))"
      ],
      "execution_count": null,
      "outputs": [
        {
          "output_type": "stream",
          "name": "stdout",
          "text": [
            "Exemplo de uso de função com parámetros 'default'\n",
            "25\n",
            "Mensagem do módulo debug da função myfunc para x = 5 elevado 2\n",
            "25\n",
            "Mensagem do módulo debug da função myfunc para x = 5 elevado 3\n",
            "125\n",
            "125\n",
            "Mensagem do módulo debug da função myfunc para x = 5 elevado 3\n",
            "125\n",
            "125\n"
          ]
        }
      ]
    },
    {
      "cell_type": "markdown",
      "metadata": {
        "id": "tBHnBBaVWt0s"
      },
      "source": [
        "### Aspectos Avançados:\n",
        "Em Python, também podemos criar funções sem nome, usando a palavra-chave lambda:\n",
        "\n",
        "- nome_da_funcao  = lambda <parametro>: comandos"
      ]
    },
    {
      "cell_type": "code",
      "metadata": {
        "id": "WNXRTXmIWt0s"
      },
      "source": [
        "# Exemplo de uso de função sem nome - Lambda Function\n",
        "# f1 e f2 são equivalentes\n",
        "\n",
        "f1 = lambda x: x**2\n",
        "\n",
        "\n",
        "def f2(x):\n",
        " return x**2"
      ],
      "execution_count": null,
      "outputs": []
    },
    {
      "cell_type": "code",
      "metadata": {
        "id": "VZIqA7fJWt0u",
        "colab": {
          "base_uri": "https://localhost:8080/"
        },
        "outputId": "00417b99-6a81-4f5e-ac79-3564ed6ef304"
      },
      "source": [
        "f1(2), f2(2)"
      ],
      "execution_count": null,
      "outputs": [
        {
          "output_type": "execute_result",
          "data": {
            "text/plain": [
              "(4, 4)"
            ]
          },
          "metadata": {},
          "execution_count": 56
        }
      ]
    },
    {
      "cell_type": "markdown",
      "metadata": {
        "id": "HhGdphHsWt0v"
      },
      "source": [
        "### Nota:\n",
        "Esta técnica é útil, por exemplo, quando queremos passar uma única função como um argumento para outra Função.\n",
        "\n",
        "Considere a função map(f, s), que aplica a função f para todos os elementos da sequência s. "
      ]
    },
    {
      "cell_type": "code",
      "metadata": {
        "id": "46v_HTu3Wt0w",
        "colab": {
          "base_uri": "https://localhost:8080/"
        },
        "outputId": "8a93f3e0-cc7d-4704-df8f-0ab75a5b3bb0"
      },
      "source": [
        "# Exemplo de uso da função map(),que retorna um objeto genérico\n",
        "def f(x):\n",
        "    return (x ** 2)\n",
        "lista2 = map(f, range (-3,4))\n",
        "list(lista2)"
      ],
      "execution_count": null,
      "outputs": [
        {
          "output_type": "execute_result",
          "data": {
            "text/plain": [
              "[9, 4, 1, 0, 1, 4, 9]"
            ]
          },
          "metadata": {},
          "execution_count": 57
        }
      ]
    },
    {
      "cell_type": "code",
      "metadata": {
        "id": "mldCDACfWt01",
        "colab": {
          "base_uri": "https://localhost:8080/"
        },
        "outputId": "a2c2bc95-ce4c-412f-e327-25875e051a02"
      },
      "source": [
        "# Exemplo de uso da função map() com função anônima - lambda\n",
        "lista3 = map(lambda x: x**2, range(-3,4))\n",
        "list(lista3)"
      ],
      "execution_count": null,
      "outputs": [
        {
          "output_type": "execute_result",
          "data": {
            "text/plain": [
              "[9, 4, 1, 0, 1, 4, 9]"
            ]
          },
          "metadata": {},
          "execution_count": 58
        }
      ]
    },
    {
      "cell_type": "markdown",
      "metadata": {
        "id": "C-zOKft7Wt02"
      },
      "source": [
        "## Classes e Objetos em Python:\n",
        "\n",
        "- As classes são as principais características da programação orientada a objetos. \n",
        "- Uma classe é uma estrutura para representar um objeto e as operações que podem ser realizadas sobre ele. Assim, uma classe pode conter atributos (variáveis) e métodos (funções).\n",
        "- Uma classe é definida quase como uma função, mas usando a palavra-chave  \"classe\".\n",
        "- A definição da classe geralmente contém uma série de método de classe (uma função em uma classe).\n",
        "- Cada método de classe deve ter um argumento denominado de \"self\" como primeiro argumento. Isto é uma auto-referência ao objeto.\n",
        "- Alguns nomes de métodos de classe têm um significado especial, por exemplo:\n",
        "    - _init_: construtor da classe - O nome do método que é invocado quando o primeiro objeto é criado.\n",
        "    - _str_: Um método que é invocado quando uma representação de uma string da classe é necessária, como, por exemplo, quando deseja-se usar um print()."
      ]
    },
    {
      "cell_type": "markdown",
      "metadata": {
        "id": "wAVnHKOSBNZj"
      },
      "source": [
        "## Classes - Estrutura Básica\n",
        "\n",
        "class Nome_da_Classe (Classe_Pai):\n",
        "            atributo_1\n",
        "            ...\n",
        "            atributo_n\n",
        "            \n",
        "            # ----- método construtor  -----\n",
        "            def _init_(self, par1, par2, ...):\n",
        "            \n",
        "            #  ---- outros métodos    -------\n",
        "            \n",
        "            def metodo_1(self, par1, ...):\n",
        "                 ...\n",
        "            \n",
        "            def metodo_m(self, parX, ...):     \n",
        "            \n",
        "            "
      ]
    },
    {
      "cell_type": "markdown",
      "metadata": {
        "id": "D0DxqENtCarL"
      },
      "source": [
        "###  Usando a Classe\n",
        " - Neste caso, usa-se a prórpia classe"
      ]
    },
    {
      "cell_type": "code",
      "metadata": {
        "id": "IcB-mmqQCurV",
        "colab": {
          "base_uri": "https://localhost:8080/"
        },
        "outputId": "619f6f2f-281f-4172-f2fe-c3c0dadaf281"
      },
      "source": [
        "# Exemplo de Classe\n",
        "\n",
        "# Definição da Classe Carro\n",
        "# A classe Pai é Object - no caso pode ser omitida\n",
        "# estado é um atributo da classe Carro\n",
        "\n",
        "class Carro(object):\n",
        "   estado = \"novo\" \n",
        "\n",
        "print(Carro.estado)\n",
        "\n",
        "Carro.estado = \"usado\"\n",
        "\n",
        "print(Carro.estado)\n",
        "\n",
        "Carro.estado = \"muito velho\"\n",
        "\n",
        "print(Carro.estado)"
      ],
      "execution_count": null,
      "outputs": [
        {
          "output_type": "stream",
          "name": "stdout",
          "text": [
            "novo\n",
            "usado\n",
            "muito velho\n"
          ]
        }
      ]
    },
    {
      "cell_type": "markdown",
      "metadata": {
        "id": "q9pYiGr_DJma"
      },
      "source": [
        "###  Usando a Classe\n",
        " - Neste caso, usa-se uma instância (objeto) da classe"
      ]
    },
    {
      "cell_type": "code",
      "metadata": {
        "id": "uFy9dje-QSwZ",
        "colab": {
          "base_uri": "https://localhost:8080/"
        },
        "outputId": "87c673e2-6de4-484e-ef65-c775b8e0d7f5"
      },
      "source": [
        "# Exemplo de Classe e Objeto\n",
        "\n",
        "# Classe Carro\n",
        "\n",
        "class Carro(object):\n",
        "    # listas de características\n",
        "    estado = \"novo\"\n",
        "    cor = \"branco\"\n",
        "    \n",
        "\n",
        "    def usar(self):\n",
        "        self.estado = \"usado\"\n",
        "\n",
        "    def pintar(self):\n",
        "        self.cor = \"Bege\"\n",
        "       \n",
        "meu_fusca = Carro()   # criação do objeto meu_fusca da classe Carro\n",
        "\n",
        "chevete_da_bel = Carro()\n",
        "mustang_da_veronica = Carro()\n",
        "\n",
        "print(meu_fusca.estado) \n",
        "meu_fusca.usar()\n",
        "print(meu_fusca.estado) \n",
        "\n",
        "print(chevete_da_bel.cor) \n",
        "chevete_da_bel.pintar()\n",
        "print(chevete_da_bel.cor) "
      ],
      "execution_count": null,
      "outputs": [
        {
          "output_type": "stream",
          "name": "stdout",
          "text": [
            "novo\n",
            "usado\n",
            "branco\n",
            "Bege\n"
          ]
        }
      ]
    },
    {
      "cell_type": "markdown",
      "metadata": {
        "id": "6VAekPv9SBeV"
      },
      "source": [
        "### Dúvida:\n",
        "O que ocorreria se não se usar a referência self no método usar()?"
      ]
    },
    {
      "cell_type": "markdown",
      "metadata": {
        "id": "xNMHBelfS7CN"
      },
      "source": [
        "### Exercício:\n",
        "- Inclua o atributo cor na classe Carro, com valor inicial \"branco\"\n",
        "- implemente os métodos\n",
        "    -  cor pegaCor() \n",
        "    - pintaCarro(\"cor\")"
      ]
    },
    {
      "cell_type": "code",
      "metadata": {
        "id": "8wthAipaTgXJ",
        "colab": {
          "base_uri": "https://localhost:8080/"
        },
        "outputId": "f16a8e43-17ee-42d6-c49b-5e3784122eef"
      },
      "source": [
        "# Exemplo de Classe e Objeto\n",
        "# Implemente o atributo cor\n",
        "# implemente os métodos pegaCor() e pintaCarro(cor)\n",
        "\n",
        "\n",
        "# Classe Carro\n",
        "\n",
        "class Carro(object):\n",
        "    \n",
        "    estado = \"novo\"\n",
        "    cor = \"branco\"\n",
        "   \n",
        "    def usar(self):\n",
        "        self.estado = \"usado\"\n",
        "\n",
        "    def pegaCor(self):\n",
        "        return(self.cor)\n",
        "    \n",
        "    def pintaCarro(self,nova_cor):\n",
        "        self.cor = nova_cor\n",
        "       \n",
        "meu_fusca = Carro()   # criação do objeto meu_fusca da classe Carro\n",
        "\n",
        "print(meu_fusca.estado) \n",
        "meu_fusca.usar()\n",
        "print(meu_fusca.estado)\n",
        "\n",
        "print(\"A cor do carro é: \", meu_fusca.pegaCor())\n",
        "\n",
        "meu_fusca.pintaCarro(\"Azul\")\n",
        "print(\"A cor do carro é: \", meu_fusca.pegaCor())"
      ],
      "execution_count": null,
      "outputs": [
        {
          "output_type": "stream",
          "name": "stdout",
          "text": [
            "novo\n",
            "usado\n",
            "A cor do carro é:  branco\n",
            "A cor do carro é:  Azul\n"
          ]
        }
      ]
    },
    {
      "cell_type": "markdown",
      "metadata": {
        "id": "-W6euX-EUsgY"
      },
      "source": [
        "### Classe - Usando o método construtor __init__(self, ...)"
      ]
    },
    {
      "cell_type": "code",
      "metadata": {
        "id": "Px0_JfVvUzmX",
        "colab": {
          "base_uri": "https://localhost:8080/"
        },
        "outputId": "14ac848e-aafe-4d80-d5a6-0bbe80a3d66c"
      },
      "source": [
        "class Carro(object):\n",
        "    def __init__(self, estado):\n",
        "        self.estado = estado\n",
        "\n",
        "bmw = Carro('semi-novo')\n",
        "print(bmw.estado) "
      ],
      "execution_count": null,
      "outputs": [
        {
          "output_type": "stream",
          "name": "stdout",
          "text": [
            "semi-novo\n"
          ]
        }
      ]
    },
    {
      "cell_type": "markdown",
      "metadata": {
        "id": "II_aU6urVr37"
      },
      "source": [
        "### Exercício\n",
        "Implemente a classe Carro com 03 métodos construtor\n",
        "- __init(self)\n",
        "- __init(self, estado)\n",
        "- __init(self, estado, cor)\n",
        "\n",
        "- crie um fusca sem cor e estado\n",
        "- crie um opala branco usado\n",
        "- crie uma ferrari vermelha nova\n"
      ]
    },
    {
      "cell_type": "code",
      "metadata": {
        "id": "rSTxBcecWO9S",
        "colab": {
          "base_uri": "https://localhost:8080/"
        },
        "outputId": "6127ed03-1884-41c4-b8a3-25cf70169819"
      },
      "source": [
        "# Exemplo de Classe e Objeto\n",
        "# Impleme os 03 métodos construtures\n",
        "\n",
        "\n",
        "\n",
        "# Classe Carro\n",
        "\n",
        "class Carro(object):\n",
        "    \n",
        "    #estado = \"kkk\"\n",
        "    \n",
        "    #  --- primeiro método construtor  ------\n",
        "    def __init__(self):\n",
        "        self.estado = \"novo\"\n",
        "        self.cor = \"branco\"\n",
        "\n",
        "    # --- segundo método construtor  -------\n",
        "    def __init__(self, estado):\n",
        "        self.estado = estado\n",
        "    \n",
        "    #  --- terceiro método construtor  ------\n",
        "    def __init__(self, estado, cor):\n",
        "        self.estado = estado\n",
        "        self.cor = cor\n",
        "    \n",
        "    \n",
        "    # --- outros métodos  ----\n",
        "    \n",
        "    def pegarCor(self):\n",
        "        return(self.cor)\n",
        "    \n",
        "    def usar(self):\n",
        "        self.estado = \"novo\"\n",
        "            \n",
        "    def pintarCarro(self, cor):\n",
        "        self.cor = cor\n",
        "\n",
        "        \n",
        "        \n",
        "       \n",
        "meu_fusca = Carro('sem estado', 'sem cor')   # criação do objeto meu_fusca da classe Carro\n",
        "print('meu fusca é: ', meu_fusca.estado, 'e', meu_fusca.cor) \n",
        "\n",
        "meu_opala = Carro('usado', 'branco')\n",
        "print('meu opala é: ', meu_opala.estado, 'e', meu_opala.cor) \n",
        "\n",
        "minha_ferrari = Carro('novo','vermelho')\n",
        "minha_ferrari.usar()\n",
        "minha_ferrari.pintarCarro(\"vermelho\")\n",
        "print('minha ferrari é: ', minha_ferrari.estado, 'e', minha_ferrari.pegarCor()) \n",
        "\n",
        "# - complete o programa usando a Ferrari e pintando "
      ],
      "execution_count": null,
      "outputs": [
        {
          "output_type": "stream",
          "name": "stdout",
          "text": [
            "meu fusca é:  sem estado e sem cor\n",
            "meu opala é:  usado e branco\n",
            "meu ferrari é:  novo e vermelho\n"
          ]
        }
      ]
    },
    {
      "cell_type": "markdown",
      "metadata": {
        "id": "xH0luhrVVFO6"
      },
      "source": [
        "### Classe - Criando herança de classes"
      ]
    },
    {
      "cell_type": "code",
      "metadata": {
        "id": "MbO7HxElaSPA",
        "colab": {
          "base_uri": "https://localhost:8080/"
        },
        "outputId": "7aa032b7-a5a8-4ca7-a064-fde11eccedd0"
      },
      "source": [
        "# -- Classe Taxi, derivada da Classe Carro\n",
        "# ---- Herda todos os atributos e métodos da Classe Pai\n",
        "\n",
        "class Carro_de_Aplicativo(Carro):\n",
        " tipo = \"uber\"\n",
        "  \n",
        "carro1 = Carro_de_Aplicativo('novo', 'vermelho') \n",
        "print(carro1.estado)\n",
        "print(carro1.tipo)"
      ],
      "execution_count": null,
      "outputs": [
        {
          "output_type": "stream",
          "name": "stdout",
          "text": [
            "novo\n",
            "uber\n"
          ]
        }
      ]
    },
    {
      "cell_type": "markdown",
      "metadata": {
        "id": "yGeMRYO7ciI5"
      },
      "source": [
        "### Outro exemplo de uso de Classe e Objetos"
      ]
    },
    {
      "cell_type": "code",
      "metadata": {
        "id": "NJW2pL1wWt02"
      },
      "source": [
        "# Criação da Classe Ponto\n",
        "class Ponto:  \n",
        " def __init__(self, x, y):\n",
        "  self.x = x\n",
        "  self.y = y\n",
        " \n",
        " def translacao(self, dx, dy):\n",
        "  self.x += dx\n",
        "  self.y += dy\n",
        "\n",
        " def rotacao(self, angulo_em_radiano):\n",
        "        # Realiza a rotação do ponto em torno da origem, usando as fórmulas de rotação em 2D\n",
        "   x_rot = self.x * math.cos(angulo_em_radiano) - self.y * math.sin(angulo_em_radiano)\n",
        "   y_rot = self.x * math.sin(angulo_em_radiano) + self.y * math.cos(angulo_em_radiano)\n",
        "   self.x = x_rot\n",
        "   self.y = y_rot\n",
        "    \n",
        "\n",
        " def distancia(self, ponto1):\n",
        "        # Calcula a distância entre este ponto e outro ponto dado (ponto1)\n",
        "   dx = self.x - ponto1.x\n",
        "   dy = self.y - ponto1.y\n",
        "   distancia = math.sqrt(dx**2 + dy**2)\n",
        "   return distancia\n",
        "\n",
        " def __str__(self):\n",
        "  return(\"O ponto está no posição [%f, %f]\" % (self.x, self.y))"
      ],
      "execution_count": null,
      "outputs": []
    },
    {
      "cell_type": "code",
      "metadata": {
        "id": "wKgwARmsWt09",
        "colab": {
          "base_uri": "https://localhost:8080/"
        },
        "outputId": "aa6af786-61d2-49e9-e877-0c10f31103d8"
      },
      "source": [
        "# Criação de um objeto p1 da classe Ponto \n",
        "p1 = Ponto(0, 0) \n",
        "print(p1)"
      ],
      "execution_count": null,
      "outputs": [
        {
          "output_type": "stream",
          "name": "stdout",
          "text": [
            "O ponto está no posição [0.000000, 0.000000]\n"
          ]
        }
      ]
    },
    {
      "cell_type": "code",
      "metadata": {
        "id": "XkZggTv3Wt0_",
        "colab": {
          "base_uri": "https://localhost:8080/"
        },
        "outputId": "a0b422ca-52ee-4635-d2b0-3947a5fc899c"
      },
      "source": [
        "p2 = Ponto(1, 1)\n",
        "p1.translacao(0.25, 1.5)\n",
        "print(p1)\n",
        "print(p2)\n",
        "print(p1.x, p1.y)\n",
        "print(p2.x, p2.y)"
      ],
      "execution_count": null,
      "outputs": [
        {
          "output_type": "stream",
          "name": "stdout",
          "text": [
            "O ponto está no posição [0.250000, 1.500000]\n",
            "O ponto está no posição [1.000000, 1.000000]\n",
            "0.25 1.5\n",
            "1 1\n"
          ]
        }
      ]
    },
    {
      "cell_type": "code",
      "metadata": {
        "id": "AxekF2BBWt1C"
      },
      "source": [
        "# Exercício - inclua os seguintes métodos na Classe Ponto\n",
        "# rotacao(angulo_em_radiano), sem retorno\n",
        "# distancia(Ponto ponto1), retorna a distância do ponto dado (parâmetro) ao ponto\n",
        "\n"
      ],
      "execution_count": null,
      "outputs": []
    },
    {
      "cell_type": "markdown",
      "metadata": {
        "id": "n-T2RSk7ycz6"
      },
      "source": [
        "### Exemplo de Uso de Classe e Objetos:\n",
        "Defina uma classe denominada Pessoa, com os atributos:\n",
        "- Nome, Idade\n",
        "\n",
        "E os métodos:\n",
        "- setNome(nome)\n",
        "- setIdade(idade)\n",
        "- getNome()\n",
        "- getIdade()\n"
      ]
    },
    {
      "cell_type": "code",
      "metadata": {
        "id": "AGvRIlwO0Y34",
        "colab": {
          "base_uri": "https://localhost:8080/"
        },
        "outputId": "a8fd47e0-7029-4647-d23e-8d44116198c3"
      },
      "source": [
        "# Definição da classe Pessoa\n",
        "\n",
        "class pessoa:  \n",
        "  def __init__(self, nome='', idade=0):\n",
        "   self.nome = nome\n",
        "   self.idade = idade\n",
        "\n",
        "\n",
        "  def setNome(self, nome): \n",
        "    self.nome = nome\n",
        "  \n",
        "  def setIdade(self, idade): \n",
        "    self.idade = idade\n",
        "\n",
        "  def getNome(self): \n",
        "    return self.nome\n",
        "\n",
        "  def getIdade(self):\n",
        "    return self.idade\n",
        "\n",
        "p = pessoa()\n",
        "p.setNome(\"Thiago\")\n",
        "p.setIdade(25)\n",
        "print(p.getNome())    \n",
        "print(p.getIdade())   \n"
      ],
      "execution_count": null,
      "outputs": [
        {
          "output_type": "stream",
          "name": "stdout",
          "text": [
            "Thiago\n",
            "25\n"
          ]
        }
      ]
    },
    {
      "cell_type": "markdown",
      "metadata": {
        "id": "c3cCTggcc24G"
      },
      "source": [
        "### Exercício\n",
        "- Implemente a Classe Motorista como extensão da classe Pessoa com o atributo Carro\n",
        "  - Um Motorista é uma Pessoa que tem um Carro "
      ]
    },
    {
      "cell_type": "code",
      "metadata": {
        "id": "Jf_AvRnWdKab",
        "colab": {
          "base_uri": "https://localhost:8080/"
        },
        "outputId": "c3f4d9e8-4da8-4dde-8c29-5e379ce49a29"
      },
      "source": [
        "# Definição da Classe Motorista\n",
        "\n",
        "class Motorista(pessoa):\n",
        "    def __init__(self, nome, idade):\n",
        "        super().__init__(nome, idade)\n",
        "        self.carro = {'marca': 'gol' , 'cor': 'azul' , 'condicao': 'usado'}\n",
        "\n",
        "motorista1 = Motorista(\"maria\", 25)\n",
        "\n",
        "print(motorista1.nome)    # output: João\n",
        "print(motorista1.idade)   # output: 30\n",
        "print(motorista1.carro['marca'])    # output: Fiat\n",
        "print(motorista1.carro['cor']) \n"
      ],
      "execution_count": null,
      "outputs": [
        {
          "output_type": "stream",
          "name": "stdout",
          "text": [
            "maria\n",
            "25\n",
            "gol\n",
            "azul\n"
          ]
        }
      ]
    },
    {
      "cell_type": "code",
      "metadata": {
        "id": "UuF-PY9DdioR"
      },
      "source": [
        "# Programa que cria um objeto do tipo Motorista\n",
        "# Nome: Maria\n",
        "# Idade: 25\n",
        "# carro: Gol, Azul, Usado\n"
      ],
      "execution_count": null,
      "outputs": []
    },
    {
      "cell_type": "markdown",
      "metadata": {
        "id": "Kle7uEbSWt1F"
      },
      "source": [
        "## Tipo de Dado Dicionário em Python\n",
        "\n",
        "- Dicionário é um tipo de coleção, como lista, porém poderem usar qualquer tipo imutavel de dados como indice.Isto é feito a partir de uma chave, que pode ser qualquer tipo imutável, para um valor, que pode ser qualquer objeto de dados do Python.\n",
        "- Uma maneira de criar um dicionario é comecando com um dicionário vazio e depois adiconar elementos. Um dicionário vazio é denotado assim {}:"
      ]
    },
    {
      "cell_type": "code",
      "metadata": {
        "id": "3SpojpuoWt1F",
        "colab": {
          "base_uri": "https://localhost:8080/"
        },
        "outputId": "c71f64e0-4a9d-4098-e6de-726dcb831ff2"
      },
      "source": [
        "# Exemplo: dicionário de Portugues para Ingles\n",
        "\n",
        "por_Para_ing = {}    # início do dicionário\n",
        "por_Para_ing['um'] = 'one'\n",
        "por_Para_ing['dois'] = 'two'\n",
        "por_Para_ing"
      ],
      "execution_count": 1,
      "outputs": [
        {
          "output_type": "execute_result",
          "data": {
            "text/plain": [
              "{'um': 'one', 'dois': 'two'}"
            ]
          },
          "metadata": {},
          "execution_count": 1
        }
      ]
    },
    {
      "cell_type": "code",
      "metadata": {
        "id": "4rTHX445Wt1N",
        "colab": {
          "base_uri": "https://localhost:8080/",
          "height": 36
        },
        "outputId": "6a3f468c-b963-4e80-9f9a-ebde995d15a3"
      },
      "source": [
        "por_Para_ing['um']"
      ],
      "execution_count": 2,
      "outputs": [
        {
          "output_type": "execute_result",
          "data": {
            "text/plain": [
              "'one'"
            ],
            "application/vnd.google.colaboratory.intrinsic+json": {
              "type": "string"
            }
          },
          "metadata": {},
          "execution_count": 2
        }
      ]
    },
    {
      "cell_type": "code",
      "metadata": {
        "id": "oUcC9WirWt1R",
        "colab": {
          "base_uri": "https://localhost:8080/"
        },
        "outputId": "0f8fec09-8a32-4971-8877-d7893673216b"
      },
      "source": [
        "por_Para_ing['três'] = 'three'\n",
        "por_Para_ing"
      ],
      "execution_count": 3,
      "outputs": [
        {
          "output_type": "execute_result",
          "data": {
            "text/plain": [
              "{'um': 'one', 'dois': 'two', 'três': 'three'}"
            ]
          },
          "metadata": {},
          "execution_count": 3
        }
      ]
    },
    {
      "cell_type": "code",
      "metadata": {
        "id": "RGPo1rPBWt1S",
        "colab": {
          "base_uri": "https://localhost:8080/"
        },
        "outputId": "3f155e5c-5097-4b72-923a-3df3a2f92429"
      },
      "source": [
        "# Exemplo: dicionário de Portugues para Ingles\n",
        "ing_Para_por = {'one': 'um', 'two': 'dois', 'three': 'três'}\n",
        "ing_Para_por"
      ],
      "execution_count": 12,
      "outputs": [
        {
          "output_type": "execute_result",
          "data": {
            "text/plain": [
              "{'one': 'um', 'two': 'dois', 'three': 'três'}"
            ]
          },
          "metadata": {},
          "execution_count": 12
        }
      ]
    },
    {
      "cell_type": "code",
      "metadata": {
        "id": "_d7f34GsWt1W",
        "colab": {
          "base_uri": "https://localhost:8080/"
        },
        "outputId": "e932740e-42d1-459b-f26d-072924b9adc4"
      },
      "source": [
        "# Comandos\n",
        "# Remove um par chave-valor de um dicionário\n",
        "del ing_Para_por['three']      \n",
        "ing_Para_por\n"
      ],
      "execution_count": 13,
      "outputs": [
        {
          "output_type": "execute_result",
          "data": {
            "text/plain": [
              "{'one': 'um', 'two': 'dois'}"
            ]
          },
          "metadata": {},
          "execution_count": 13
        }
      ]
    },
    {
      "cell_type": "code",
      "source": [
        "#Retorna a quantidade de itens\n",
        "tamanho = len(ing_Para_por)\n",
        "print(tamanho)    "
      ],
      "metadata": {
        "colab": {
          "base_uri": "https://localhost:8080/"
        },
        "id": "W9UGxE418KdK",
        "outputId": "f3c92572-5956-4c71-b6f3-b9ad94deb25e"
      },
      "execution_count": 15,
      "outputs": [
        {
          "output_type": "stream",
          "name": "stdout",
          "text": [
            "2\n"
          ]
        }
      ]
    },
    {
      "cell_type": "markdown",
      "metadata": {
        "id": "HfIAIH-vWt1k"
      },
      "source": [
        "### Lembrete:\n",
        "Dicionários possuem vários métodos nativos úteis.\n",
        "\n",
        "    - keys()  \t \tRetorna uma vista das chaves no dicionário\n",
        "    - values()  \tRetorna uma vista dos valores no dicionário\n",
        "    - items() \t  Retorna uma vista dos pares chave-valor no dicionário\n",
        "    - get(key) \t  Retorna o valor associado com a chave; ou None\n",
        "    - items()     Retorna os dois valores, na forma de uma lista de tuplas - cada tupla com um par chave-valor    "
      ]
    },
    {
      "cell_type": "code",
      "metadata": {
        "id": "cKhNJufYWt1k",
        "colab": {
          "base_uri": "https://localhost:8080/"
        },
        "outputId": "0ff04874-47dc-48c4-9fd3-11b5fff3a813"
      },
      "source": [
        "por_Para_ing.keys()"
      ],
      "execution_count": 17,
      "outputs": [
        {
          "output_type": "execute_result",
          "data": {
            "text/plain": [
              "dict_keys(['um', 'dois', 'três'])"
            ]
          },
          "metadata": {},
          "execution_count": 17
        }
      ]
    },
    {
      "cell_type": "code",
      "metadata": {
        "id": "YV4uD45iWt1m",
        "colab": {
          "base_uri": "https://localhost:8080/"
        },
        "outputId": "cae2ff27-ba6c-4dc6-b146-d61fd00b5a49"
      },
      "source": [
        "por_Para_ing.values()"
      ],
      "execution_count": 18,
      "outputs": [
        {
          "output_type": "execute_result",
          "data": {
            "text/plain": [
              "dict_values(['one', 'two', 'three'])"
            ]
          },
          "metadata": {},
          "execution_count": 18
        }
      ]
    },
    {
      "cell_type": "code",
      "metadata": {
        "id": "vU7D4L4SWt1p",
        "colab": {
          "base_uri": "https://localhost:8080/",
          "height": 36
        },
        "outputId": "9565c312-546a-4294-807f-7f1fe4f4ca0e"
      },
      "source": [
        "por_Para_ing.get('um')"
      ],
      "execution_count": 19,
      "outputs": [
        {
          "output_type": "execute_result",
          "data": {
            "text/plain": [
              "'one'"
            ],
            "application/vnd.google.colaboratory.intrinsic+json": {
              "type": "string"
            }
          },
          "metadata": {},
          "execution_count": 19
        }
      ]
    },
    {
      "cell_type": "code",
      "metadata": {
        "id": "4EAR5dc2Wt1u"
      },
      "source": [
        "# Exemplo de uso de dicionários\n",
        "inventario = {'abacaxis': 430, 'bananas': 312, 'laranjas': 525, 'peras': 217}"
      ],
      "execution_count": 20,
      "outputs": []
    },
    {
      "cell_type": "code",
      "metadata": {
        "id": "sEOaoz94Wt1x",
        "colab": {
          "base_uri": "https://localhost:8080/"
        },
        "outputId": "75b8f3e7-e3aa-4a8b-a43b-05bee71e93fd"
      },
      "source": [
        "inventario"
      ],
      "execution_count": 21,
      "outputs": [
        {
          "output_type": "execute_result",
          "data": {
            "text/plain": [
              "{'abacaxis': 430, 'bananas': 312, 'laranjas': 525, 'peras': 217}"
            ]
          },
          "metadata": {},
          "execution_count": 21
        }
      ]
    },
    {
      "cell_type": "code",
      "metadata": {
        "id": "bxd1l98-Wt12"
      },
      "source": [
        "inventario['bananas'] = 311"
      ],
      "execution_count": 22,
      "outputs": []
    },
    {
      "cell_type": "code",
      "metadata": {
        "id": "gmq3Y9BEWt14",
        "colab": {
          "base_uri": "https://localhost:8080/"
        },
        "outputId": "ba044071-8b1a-4b0e-e0bd-29d3db74343f"
      },
      "source": [
        "inventario"
      ],
      "execution_count": 23,
      "outputs": [
        {
          "output_type": "execute_result",
          "data": {
            "text/plain": [
              "{'abacaxis': 430, 'bananas': 311, 'laranjas': 525, 'peras': 217}"
            ]
          },
          "metadata": {},
          "execution_count": 23
        }
      ]
    },
    {
      "cell_type": "code",
      "metadata": {
        "id": "dWsv8oWEWt18"
      },
      "source": [
        "# Exemplo de uso de Dicionário\n",
        "aluno = {\n",
        "    \"nome\": \"joao\",\n",
        "    \"matricula\": 2015200101,\n",
        "    \"idade\": 39,\n",
        "    \"habilidades\": ['python', 'java', 'c/c++']\n",
        "}"
      ],
      "execution_count": 24,
      "outputs": []
    },
    {
      "cell_type": "code",
      "metadata": {
        "id": "m04bJ8P8Wt2B",
        "colab": {
          "base_uri": "https://localhost:8080/"
        },
        "outputId": "0dc610b1-5673-4566-86e1-31a0d79f0c28"
      },
      "source": [
        "print(aluno['nome'])\n",
        "print(aluno['idade'])\n",
        "print (aluno['habilidades'])"
      ],
      "execution_count": 25,
      "outputs": [
        {
          "output_type": "stream",
          "name": "stdout",
          "text": [
            "joao\n",
            "39\n",
            "['python', 'java', 'c/c++']\n"
          ]
        }
      ]
    },
    {
      "cell_type": "markdown",
      "metadata": {
        "id": "rqhnVkC_Wt2K"
      },
      "source": [
        "## Criação de Módulo em Python\n",
        "\n",
        "- Um dos conceitos mais importantes na boa programação é reutilizar o código e evitar repetições.\n",
        "- A idéia é escrever funções e classes com um propósito e um escopo bem definidos e reutilizá-los em vez de repetir código similar em uma parte diferente de um programa (programação modular). O resultado é geralmente que a legibilidade e a manutenção de um programa são muito melhoradas. O que isso significa na prática é que nossos programas têm menos erros, são mais fáceis de estender e depurar / solucionar problemas.\n",
        "- O Python suporta programação modular em diferentes níveis. Funções e classes são exemplos de ferramentas para programação modular de baixo nível. Os módulos Python são uma construção de programação modular de nível superior, onde podemos coletar variáveis, funções e classes relacionadas em um módulo.\n",
        "- Um módulo python é definido em um arquivo python (com o ponto final do arquivo .py) e pode ser acessível a outros módulos e programas Python usando a instrução import."
      ]
    },
    {
      "cell_type": "code",
      "metadata": {
        "id": "rBhpXHYIWt2L"
      },
      "source": [],
      "execution_count": null,
      "outputs": []
    },
    {
      "cell_type": "markdown",
      "metadata": {
        "id": "RDvQON6Qi4zV"
      },
      "source": [
        "# Este Notebook está em constante construção\n",
        "data: 25-01-2021."
      ]
    }
  ]
}