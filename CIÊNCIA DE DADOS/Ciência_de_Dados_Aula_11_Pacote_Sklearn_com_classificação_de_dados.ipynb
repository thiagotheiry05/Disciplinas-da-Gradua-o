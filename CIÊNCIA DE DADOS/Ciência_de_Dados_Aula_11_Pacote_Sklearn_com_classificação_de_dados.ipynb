{
  "nbformat": 4,
  "nbformat_minor": 0,
  "metadata": {
    "kernelspec": {
      "display_name": "Python 3",
      "language": "python",
      "name": "python3"
    },
    "language_info": {
      "codemirror_mode": {
        "name": "ipython",
        "version": 3
      },
      "file_extension": ".py",
      "mimetype": "text/x-python",
      "name": "python",
      "nbconvert_exporter": "python",
      "pygments_lexer": "ipython3",
      "version": "3.6.9"
    },
    "colab": {
      "provenance": []
    }
  },
  "cells": [
    {
      "cell_type": "markdown",
      "metadata": {
        "id": "P2aCrYQ4kWZ9"
      },
      "source": [
        "# Disciplina: Ciência de Dados (DCA-0131)\n",
        "Prof. Luiz Affonso Guedes\n",
        "\n",
        "### Departamento de Engenharia de Computação e Automação - DCA\n",
        "\n",
        "UFRN - 2023\n",
        "\n",
        "*OBS: Favor fazer cópia do notebook antes de alterá-lo."
      ]
    },
    {
      "cell_type": "markdown",
      "metadata": {
        "id": "CmZfoloIdwda"
      },
      "source": [
        "# AULA 11 - Aprendizagem Supervisionada com o Pacote Sklearn\n",
        "Apresentar as principais funcionalidades do pacote SKLEARN, utilizando aprendizagem supervisionada como exemplo (o algoritmo KNN).\n"
      ]
    },
    {
      "cell_type": "markdown",
      "metadata": {
        "id": "WAsjgoVbdwdg"
      },
      "source": [
        "# Estrutura Geral do Processo\n",
        "- Carregar pacotes\n",
        "- Definir modelo de aprendizagem/predição\n",
        "- Carregar dados\n",
        "- Preparar dados (features, target) - para o caso supervisionado (são arrays numPy)\n",
        "- Separar dados de Treinamento e de Teste\n",
        "- Binarizar os dados\n",
        "- Fazer aprendizagem\n",
        "    - Para classificação utilizar método MODELO_ESCOLHIDO.fit(parametros)\n",
        "    - Para predição utilizar método MODELO_ESCOLHIDO.predict(parametros)\n",
        "- Avaliação do modelo\n"
      ]
    },
    {
      "cell_type": "markdown",
      "metadata": {
        "id": "wrjPbP9udwdh"
      },
      "source": [
        "### 1. Introdução ao pacote SciKit-Learn\n",
        "- Princípios de funcionamento.\n"
      ]
    },
    {
      "cell_type": "code",
      "metadata": {
        "id": "PbJkQ-KSdwdj",
        "colab": {
          "base_uri": "https://localhost:8080/",
          "height": 206
        },
        "outputId": "408b8ca8-252a-4aa3-8fc4-10b2f870b8c0"
      },
      "source": [
        "# Exemplo utilizando dataset do pacote Seaborn\n",
        "\n",
        "# O Pacote Seaborn possui o dataset Iris\n",
        "# O método .load_set(.) retorna um dataFrame.\n",
        "\n",
        "import seaborn as sns\n",
        "iris = sns.load_dataset('iris')\n",
        "iris.head()"
      ],
      "execution_count": 1,
      "outputs": [
        {
          "output_type": "execute_result",
          "data": {
            "text/plain": [
              "   sepal_length  sepal_width  petal_length  petal_width species\n",
              "0           5.1          3.5           1.4          0.2  setosa\n",
              "1           4.9          3.0           1.4          0.2  setosa\n",
              "2           4.7          3.2           1.3          0.2  setosa\n",
              "3           4.6          3.1           1.5          0.2  setosa\n",
              "4           5.0          3.6           1.4          0.2  setosa"
            ],
            "text/html": [
              "\n",
              "\n",
              "  <div id=\"df-6c0ed59a-e213-4fde-911d-b76eecea94a7\">\n",
              "    <div class=\"colab-df-container\">\n",
              "      <div>\n",
              "<style scoped>\n",
              "    .dataframe tbody tr th:only-of-type {\n",
              "        vertical-align: middle;\n",
              "    }\n",
              "\n",
              "    .dataframe tbody tr th {\n",
              "        vertical-align: top;\n",
              "    }\n",
              "\n",
              "    .dataframe thead th {\n",
              "        text-align: right;\n",
              "    }\n",
              "</style>\n",
              "<table border=\"1\" class=\"dataframe\">\n",
              "  <thead>\n",
              "    <tr style=\"text-align: right;\">\n",
              "      <th></th>\n",
              "      <th>sepal_length</th>\n",
              "      <th>sepal_width</th>\n",
              "      <th>petal_length</th>\n",
              "      <th>petal_width</th>\n",
              "      <th>species</th>\n",
              "    </tr>\n",
              "  </thead>\n",
              "  <tbody>\n",
              "    <tr>\n",
              "      <th>0</th>\n",
              "      <td>5.1</td>\n",
              "      <td>3.5</td>\n",
              "      <td>1.4</td>\n",
              "      <td>0.2</td>\n",
              "      <td>setosa</td>\n",
              "    </tr>\n",
              "    <tr>\n",
              "      <th>1</th>\n",
              "      <td>4.9</td>\n",
              "      <td>3.0</td>\n",
              "      <td>1.4</td>\n",
              "      <td>0.2</td>\n",
              "      <td>setosa</td>\n",
              "    </tr>\n",
              "    <tr>\n",
              "      <th>2</th>\n",
              "      <td>4.7</td>\n",
              "      <td>3.2</td>\n",
              "      <td>1.3</td>\n",
              "      <td>0.2</td>\n",
              "      <td>setosa</td>\n",
              "    </tr>\n",
              "    <tr>\n",
              "      <th>3</th>\n",
              "      <td>4.6</td>\n",
              "      <td>3.1</td>\n",
              "      <td>1.5</td>\n",
              "      <td>0.2</td>\n",
              "      <td>setosa</td>\n",
              "    </tr>\n",
              "    <tr>\n",
              "      <th>4</th>\n",
              "      <td>5.0</td>\n",
              "      <td>3.6</td>\n",
              "      <td>1.4</td>\n",
              "      <td>0.2</td>\n",
              "      <td>setosa</td>\n",
              "    </tr>\n",
              "  </tbody>\n",
              "</table>\n",
              "</div>\n",
              "      <button class=\"colab-df-convert\" onclick=\"convertToInteractive('df-6c0ed59a-e213-4fde-911d-b76eecea94a7')\"\n",
              "              title=\"Convert this dataframe to an interactive table.\"\n",
              "              style=\"display:none;\">\n",
              "\n",
              "  <svg xmlns=\"http://www.w3.org/2000/svg\" height=\"24px\"viewBox=\"0 0 24 24\"\n",
              "       width=\"24px\">\n",
              "    <path d=\"M0 0h24v24H0V0z\" fill=\"none\"/>\n",
              "    <path d=\"M18.56 5.44l.94 2.06.94-2.06 2.06-.94-2.06-.94-.94-2.06-.94 2.06-2.06.94zm-11 1L8.5 8.5l.94-2.06 2.06-.94-2.06-.94L8.5 2.5l-.94 2.06-2.06.94zm10 10l.94 2.06.94-2.06 2.06-.94-2.06-.94-.94-2.06-.94 2.06-2.06.94z\"/><path d=\"M17.41 7.96l-1.37-1.37c-.4-.4-.92-.59-1.43-.59-.52 0-1.04.2-1.43.59L10.3 9.45l-7.72 7.72c-.78.78-.78 2.05 0 2.83L4 21.41c.39.39.9.59 1.41.59.51 0 1.02-.2 1.41-.59l7.78-7.78 2.81-2.81c.8-.78.8-2.07 0-2.86zM5.41 20L4 18.59l7.72-7.72 1.47 1.35L5.41 20z\"/>\n",
              "  </svg>\n",
              "      </button>\n",
              "\n",
              "\n",
              "\n",
              "    <div id=\"df-d3911d6d-1be0-4387-bee3-78d224183427\">\n",
              "      <button class=\"colab-df-quickchart\" onclick=\"quickchart('df-d3911d6d-1be0-4387-bee3-78d224183427')\"\n",
              "              title=\"Suggest charts.\"\n",
              "              style=\"display:none;\">\n",
              "\n",
              "<svg xmlns=\"http://www.w3.org/2000/svg\" height=\"24px\"viewBox=\"0 0 24 24\"\n",
              "     width=\"24px\">\n",
              "    <g>\n",
              "        <path d=\"M19 3H5c-1.1 0-2 .9-2 2v14c0 1.1.9 2 2 2h14c1.1 0 2-.9 2-2V5c0-1.1-.9-2-2-2zM9 17H7v-7h2v7zm4 0h-2V7h2v10zm4 0h-2v-4h2v4z\"/>\n",
              "    </g>\n",
              "</svg>\n",
              "      </button>\n",
              "    </div>\n",
              "\n",
              "<style>\n",
              "  .colab-df-quickchart {\n",
              "    background-color: #E8F0FE;\n",
              "    border: none;\n",
              "    border-radius: 50%;\n",
              "    cursor: pointer;\n",
              "    display: none;\n",
              "    fill: #1967D2;\n",
              "    height: 32px;\n",
              "    padding: 0 0 0 0;\n",
              "    width: 32px;\n",
              "  }\n",
              "\n",
              "  .colab-df-quickchart:hover {\n",
              "    background-color: #E2EBFA;\n",
              "    box-shadow: 0px 1px 2px rgba(60, 64, 67, 0.3), 0px 1px 3px 1px rgba(60, 64, 67, 0.15);\n",
              "    fill: #174EA6;\n",
              "  }\n",
              "\n",
              "  [theme=dark] .colab-df-quickchart {\n",
              "    background-color: #3B4455;\n",
              "    fill: #D2E3FC;\n",
              "  }\n",
              "\n",
              "  [theme=dark] .colab-df-quickchart:hover {\n",
              "    background-color: #434B5C;\n",
              "    box-shadow: 0px 1px 3px 1px rgba(0, 0, 0, 0.15);\n",
              "    filter: drop-shadow(0px 1px 2px rgba(0, 0, 0, 0.3));\n",
              "    fill: #FFFFFF;\n",
              "  }\n",
              "</style>\n",
              "\n",
              "    <script>\n",
              "      async function quickchart(key) {\n",
              "        const containerElement = document.querySelector('#' + key);\n",
              "        const charts = await google.colab.kernel.invokeFunction(\n",
              "            'suggestCharts', [key], {});\n",
              "      }\n",
              "    </script>\n",
              "\n",
              "      <script>\n",
              "\n",
              "function displayQuickchartButton(domScope) {\n",
              "  let quickchartButtonEl =\n",
              "    domScope.querySelector('#df-d3911d6d-1be0-4387-bee3-78d224183427 button.colab-df-quickchart');\n",
              "  quickchartButtonEl.style.display =\n",
              "    google.colab.kernel.accessAllowed ? 'block' : 'none';\n",
              "}\n",
              "\n",
              "        displayQuickchartButton(document);\n",
              "      </script>\n",
              "      <style>\n",
              "    .colab-df-container {\n",
              "      display:flex;\n",
              "      flex-wrap:wrap;\n",
              "      gap: 12px;\n",
              "    }\n",
              "\n",
              "    .colab-df-convert {\n",
              "      background-color: #E8F0FE;\n",
              "      border: none;\n",
              "      border-radius: 50%;\n",
              "      cursor: pointer;\n",
              "      display: none;\n",
              "      fill: #1967D2;\n",
              "      height: 32px;\n",
              "      padding: 0 0 0 0;\n",
              "      width: 32px;\n",
              "    }\n",
              "\n",
              "    .colab-df-convert:hover {\n",
              "      background-color: #E2EBFA;\n",
              "      box-shadow: 0px 1px 2px rgba(60, 64, 67, 0.3), 0px 1px 3px 1px rgba(60, 64, 67, 0.15);\n",
              "      fill: #174EA6;\n",
              "    }\n",
              "\n",
              "    [theme=dark] .colab-df-convert {\n",
              "      background-color: #3B4455;\n",
              "      fill: #D2E3FC;\n",
              "    }\n",
              "\n",
              "    [theme=dark] .colab-df-convert:hover {\n",
              "      background-color: #434B5C;\n",
              "      box-shadow: 0px 1px 3px 1px rgba(0, 0, 0, 0.15);\n",
              "      filter: drop-shadow(0px 1px 2px rgba(0, 0, 0, 0.3));\n",
              "      fill: #FFFFFF;\n",
              "    }\n",
              "  </style>\n",
              "\n",
              "      <script>\n",
              "        const buttonEl =\n",
              "          document.querySelector('#df-6c0ed59a-e213-4fde-911d-b76eecea94a7 button.colab-df-convert');\n",
              "        buttonEl.style.display =\n",
              "          google.colab.kernel.accessAllowed ? 'block' : 'none';\n",
              "\n",
              "        async function convertToInteractive(key) {\n",
              "          const element = document.querySelector('#df-6c0ed59a-e213-4fde-911d-b76eecea94a7');\n",
              "          const dataTable =\n",
              "            await google.colab.kernel.invokeFunction('convertToInteractive',\n",
              "                                                     [key], {});\n",
              "          if (!dataTable) return;\n",
              "\n",
              "          const docLinkHtml = 'Like what you see? Visit the ' +\n",
              "            '<a target=\"_blank\" href=https://colab.research.google.com/notebooks/data_table.ipynb>data table notebook</a>'\n",
              "            + ' to learn more about interactive tables.';\n",
              "          element.innerHTML = '';\n",
              "          dataTable['output_type'] = 'display_data';\n",
              "          await google.colab.output.renderOutput(dataTable, element);\n",
              "          const docLink = document.createElement('div');\n",
              "          docLink.innerHTML = docLinkHtml;\n",
              "          element.appendChild(docLink);\n",
              "        }\n",
              "      </script>\n",
              "    </div>\n",
              "  </div>\n"
            ]
          },
          "metadata": {},
          "execution_count": 1
        }
      ]
    },
    {
      "cell_type": "code",
      "metadata": {
        "id": "-fOXa0ykdwdv",
        "colab": {
          "base_uri": "https://localhost:8080/",
          "height": 645
        },
        "outputId": "7ed03ca8-bebf-4c6a-b6a7-248462fda4bf"
      },
      "source": [
        "# Fase EDA (Exploration Dara Analisys) - verificar visualmente com os dados estão disposto\n",
        "%matplotlib inline\n",
        "import seaborn as sns; sns.set()\n",
        "sns.pairplot(iris, hue='species', size=1.5);"
      ],
      "execution_count": 2,
      "outputs": [
        {
          "output_type": "stream",
          "name": "stderr",
          "text": [
            "/usr/local/lib/python3.10/dist-packages/seaborn/axisgrid.py:2095: UserWarning: The `size` parameter has been renamed to `height`; please update your code.\n",
            "  warnings.warn(msg, UserWarning)\n"
          ]
        },
        {
          "output_type": "display_data",
          "data": {
            "text/plain": [
              "<Figure size 730x600 with 20 Axes>"
            ],
            "image/png": "[encoded data removed]"
          },
          "metadata": {}
        }
      ]
    },
    {
      "cell_type": "markdown",
      "metadata": {
        "id": "zQXJaFAcdwd4"
      },
      "source": [
        "Para se usar o Scikit-Learn, nós iremos extrair a matriz de features e o array target a partir do DataFrame."
      ]
    },
    {
      "cell_type": "code",
      "metadata": {
        "id": "w5J6KJnndwd5",
        "colab": {
          "base_uri": "https://localhost:8080/"
        },
        "outputId": "1950162d-5040-4744-ca25-6c88f2ec70ea"
      },
      "source": [
        "X_iris = iris.drop('species', axis=1)\n",
        "X_iris.shape"
      ],
      "execution_count": 3,
      "outputs": [
        {
          "output_type": "execute_result",
          "data": {
            "text/plain": [
              "(150, 4)"
            ]
          },
          "metadata": {},
          "execution_count": 3
        }
      ]
    },
    {
      "cell_type": "code",
      "metadata": {
        "id": "KjQnbEA0dwd_",
        "colab": {
          "base_uri": "https://localhost:8080/"
        },
        "outputId": "fdf60d69-5756-4ccb-ebc3-5e5c799311b2"
      },
      "source": [
        "y_iris = iris['species']\n",
        "y_iris.shape"
      ],
      "execution_count": 4,
      "outputs": [
        {
          "output_type": "execute_result",
          "data": {
            "text/plain": [
              "(150,)"
            ]
          },
          "metadata": {},
          "execution_count": 4
        }
      ]
    },
    {
      "cell_type": "markdown",
      "metadata": {
        "id": "WSNz0KxtdweE"
      },
      "source": [
        "#### 1.1 Utilizando o pacote Sklearn\n",
        "Este pacote já possui o dataset 'iris'. Notar que as variáveis feature e target são do tipo numPy array (bidimensional e unidimensional, respectivamente)."
      ]
    },
    {
      "cell_type": "code",
      "metadata": {
        "id": "ifDXL94_dweE",
        "colab": {
          "base_uri": "https://localhost:8080/"
        },
        "outputId": "f5a50b1c-3dc1-4480-c1a0-df3fcac0a79e"
      },
      "source": [
        "# Exemplo de verificação do dataset Iris do pacote Scikit-learn\n",
        "\n",
        "# Pacote scikitlearn (classe datasets)\n",
        "from sklearn import datasets\n",
        "import pandas as pd\n",
        "import numpy as np\n",
        "import matplotlib.pyplot as plt\n",
        "\n",
        "plt.style.use('ggplot')\n",
        "iris = datasets.load_iris()\n",
        "print(type(iris))\n",
        "\n",
        "print(iris.keys())"
      ],
      "execution_count": 5,
      "outputs": [
        {
          "output_type": "stream",
          "name": "stdout",
          "text": [
            "<class 'sklearn.utils._bunch.Bunch'>\n",
            "dict_keys(['data', 'target', 'frame', 'target_names', 'DESCR', 'feature_names', 'filename', 'data_module'])\n"
          ]
        }
      ]
    },
    {
      "cell_type": "code",
      "metadata": {
        "id": "yhmuE_iEdweI",
        "colab": {
          "base_uri": "https://localhost:8080/"
        },
        "outputId": "a62124f0-8e2e-494b-ba8a-89a3d7ffe278"
      },
      "source": [
        "# Verificação dos tipos dos dados do dataset Iris\n",
        "\n",
        "print(type(iris.data))\n",
        "print(type(iris.target))\n",
        "\n"
      ],
      "execution_count": 6,
      "outputs": [
        {
          "output_type": "stream",
          "name": "stdout",
          "text": [
            "<class 'numpy.ndarray'>\n",
            "<class 'numpy.ndarray'>\n"
          ]
        }
      ]
    },
    {
      "cell_type": "code",
      "metadata": {
        "id": "aFf71Ro_dweL",
        "colab": {
          "base_uri": "https://localhost:8080/"
        },
        "outputId": "28d527d4-46bd-4369-a451-6711ec9d0813"
      },
      "source": [
        "\n",
        "iris.data"
      ],
      "execution_count": 7,
      "outputs": [
        {
          "output_type": "execute_result",
          "data": {
            "text/plain": [
              "array([[5.1, 3.5, 1.4, 0.2],\n",
              "       [4.9, 3. , 1.4, 0.2],\n",
              "       [4.7, 3.2, 1.3, 0.2],\n",
              "       [4.6, 3.1, 1.5, 0.2],\n",
              "       [5. , 3.6, 1.4, 0.2],\n",
              "       [5.4, 3.9, 1.7, 0.4],\n",
              "       [4.6, 3.4, 1.4, 0.3],\n",
              "       [5. , 3.4, 1.5, 0.2],\n",
              "       [4.4, 2.9, 1.4, 0.2],\n",
              "       [4.9, 3.1, 1.5, 0.1],\n",
              "       [5.4, 3.7, 1.5, 0.2],\n",
              "       [4.8, 3.4, 1.6, 0.2],\n",
              "       [4.8, 3. , 1.4, 0.1],\n",
              "       [4.3, 3. , 1.1, 0.1],\n",
              "       [5.8, 4. , 1.2, 0.2],\n",
              "       [5.7, 4.4, 1.5, 0.4],\n",
              "       [5.4, 3.9, 1.3, 0.4],\n",
              "       [5.1, 3.5, 1.4, 0.3],\n",
              "       [5.7, 3.8, 1.7, 0.3],\n",
              "       [5.1, 3.8, 1.5, 0.3],\n",
              "       [5.4, 3.4, 1.7, 0.2],\n",
              "       [5.1, 3.7, 1.5, 0.4],\n",
              "       [4.6, 3.6, 1. , 0.2],\n",
              "       [5.1, 3.3, 1.7, 0.5],\n",
              "       [4.8, 3.4, 1.9, 0.2],\n",
              "       [5. , 3. , 1.6, 0.2],\n",
              "       [5. , 3.4, 1.6, 0.4],\n",
              "       [5.2, 3.5, 1.5, 0.2],\n",
              "       [5.2, 3.4, 1.4, 0.2],\n",
              "       [4.7, 3.2, 1.6, 0.2],\n",
              "       [4.8, 3.1, 1.6, 0.2],\n",
              "       [5.4, 3.4, 1.5, 0.4],\n",
              "       [5.2, 4.1, 1.5, 0.1],\n",
              "       [5.5, 4.2, 1.4, 0.2],\n",
              "       [4.9, 3.1, 1.5, 0.2],\n",
              "       [5. , 3.2, 1.2, 0.2],\n",
              "       [5.5, 3.5, 1.3, 0.2],\n",
              "       [4.9, 3.6, 1.4, 0.1],\n",
              "       [4.4, 3. , 1.3, 0.2],\n",
              "       [5.1, 3.4, 1.5, 0.2],\n",
              "       [5. , 3.5, 1.3, 0.3],\n",
              "       [4.5, 2.3, 1.3, 0.3],\n",
              "       [4.4, 3.2, 1.3, 0.2],\n",
              "       [5. , 3.5, 1.6, 0.6],\n",
              "       [5.1, 3.8, 1.9, 0.4],\n",
              "       [4.8, 3. , 1.4, 0.3],\n",
              "       [5.1, 3.8, 1.6, 0.2],\n",
              "       [4.6, 3.2, 1.4, 0.2],\n",
              "       [5.3, 3.7, 1.5, 0.2],\n",
              "       [5. , 3.3, 1.4, 0.2],\n",
              "       [7. , 3.2, 4.7, 1.4],\n",
              "       [6.4, 3.2, 4.5, 1.5],\n",
              "       [6.9, 3.1, 4.9, 1.5],\n",
              "       [5.5, 2.3, 4. , 1.3],\n",
              "       [6.5, 2.8, 4.6, 1.5],\n",
              "       [5.7, 2.8, 4.5, 1.3],\n",
              "       [6.3, 3.3, 4.7, 1.6],\n",
              "       [4.9, 2.4, 3.3, 1. ],\n",
              "       [6.6, 2.9, 4.6, 1.3],\n",
              "       [5.2, 2.7, 3.9, 1.4],\n",
              "       [5. , 2. , 3.5, 1. ],\n",
              "       [5.9, 3. , 4.2, 1.5],\n",
              "       [6. , 2.2, 4. , 1. ],\n",
              "       [6.1, 2.9, 4.7, 1.4],\n",
              "       [5.6, 2.9, 3.6, 1.3],\n",
              "       [6.7, 3.1, 4.4, 1.4],\n",
              "       [5.6, 3. , 4.5, 1.5],\n",
              "       [5.8, 2.7, 4.1, 1. ],\n",
              "       [6.2, 2.2, 4.5, 1.5],\n",
              "       [5.6, 2.5, 3.9, 1.1],\n",
              "       [5.9, 3.2, 4.8, 1.8],\n",
              "       [6.1, 2.8, 4. , 1.3],\n",
              "       [6.3, 2.5, 4.9, 1.5],\n",
              "       [6.1, 2.8, 4.7, 1.2],\n",
              "       [6.4, 2.9, 4.3, 1.3],\n",
              "       [6.6, 3. , 4.4, 1.4],\n",
              "       [6.8, 2.8, 4.8, 1.4],\n",
              "       [6.7, 3. , 5. , 1.7],\n",
              "       [6. , 2.9, 4.5, 1.5],\n",
              "       [5.7, 2.6, 3.5, 1. ],\n",
              "       [5.5, 2.4, 3.8, 1.1],\n",
              "       [5.5, 2.4, 3.7, 1. ],\n",
              "       [5.8, 2.7, 3.9, 1.2],\n",
              "       [6. , 2.7, 5.1, 1.6],\n",
              "       [5.4, 3. , 4.5, 1.5],\n",
              "       [6. , 3.4, 4.5, 1.6],\n",
              "       [6.7, 3.1, 4.7, 1.5],\n",
              "       [6.3, 2.3, 4.4, 1.3],\n",
              "       [5.6, 3. , 4.1, 1.3],\n",
              "       [5.5, 2.5, 4. , 1.3],\n",
              "       [5.5, 2.6, 4.4, 1.2],\n",
              "       [6.1, 3. , 4.6, 1.4],\n",
              "       [5.8, 2.6, 4. , 1.2],\n",
              "       [5. , 2.3, 3.3, 1. ],\n",
              "       [5.6, 2.7, 4.2, 1.3],\n",
              "       [5.7, 3. , 4.2, 1.2],\n",
              "       [5.7, 2.9, 4.2, 1.3],\n",
              "       [6.2, 2.9, 4.3, 1.3],\n",
              "       [5.1, 2.5, 3. , 1.1],\n",
              "       [5.7, 2.8, 4.1, 1.3],\n",
              "       [6.3, 3.3, 6. , 2.5],\n",
              "       [5.8, 2.7, 5.1, 1.9],\n",
              "       [7.1, 3. , 5.9, 2.1],\n",
              "       [6.3, 2.9, 5.6, 1.8],\n",
              "       [6.5, 3. , 5.8, 2.2],\n",
              "       [7.6, 3. , 6.6, 2.1],\n",
              "       [4.9, 2.5, 4.5, 1.7],\n",
              "       [7.3, 2.9, 6.3, 1.8],\n",
              "       [6.7, 2.5, 5.8, 1.8],\n",
              "       [7.2, 3.6, 6.1, 2.5],\n",
              "       [6.5, 3.2, 5.1, 2. ],\n",
              "       [6.4, 2.7, 5.3, 1.9],\n",
              "       [6.8, 3. , 5.5, 2.1],\n",
              "       [5.7, 2.5, 5. , 2. ],\n",
              "       [5.8, 2.8, 5.1, 2.4],\n",
              "       [6.4, 3.2, 5.3, 2.3],\n",
              "       [6.5, 3. , 5.5, 1.8],\n",
              "       [7.7, 3.8, 6.7, 2.2],\n",
              "       [7.7, 2.6, 6.9, 2.3],\n",
              "       [6. , 2.2, 5. , 1.5],\n",
              "       [6.9, 3.2, 5.7, 2.3],\n",
              "       [5.6, 2.8, 4.9, 2. ],\n",
              "       [7.7, 2.8, 6.7, 2. ],\n",
              "       [6.3, 2.7, 4.9, 1.8],\n",
              "       [6.7, 3.3, 5.7, 2.1],\n",
              "       [7.2, 3.2, 6. , 1.8],\n",
              "       [6.2, 2.8, 4.8, 1.8],\n",
              "       [6.1, 3. , 4.9, 1.8],\n",
              "       [6.4, 2.8, 5.6, 2.1],\n",
              "       [7.2, 3. , 5.8, 1.6],\n",
              "       [7.4, 2.8, 6.1, 1.9],\n",
              "       [7.9, 3.8, 6.4, 2. ],\n",
              "       [6.4, 2.8, 5.6, 2.2],\n",
              "       [6.3, 2.8, 5.1, 1.5],\n",
              "       [6.1, 2.6, 5.6, 1.4],\n",
              "       [7.7, 3. , 6.1, 2.3],\n",
              "       [6.3, 3.4, 5.6, 2.4],\n",
              "       [6.4, 3.1, 5.5, 1.8],\n",
              "       [6. , 3. , 4.8, 1.8],\n",
              "       [6.9, 3.1, 5.4, 2.1],\n",
              "       [6.7, 3.1, 5.6, 2.4],\n",
              "       [6.9, 3.1, 5.1, 2.3],\n",
              "       [5.8, 2.7, 5.1, 1.9],\n",
              "       [6.8, 3.2, 5.9, 2.3],\n",
              "       [6.7, 3.3, 5.7, 2.5],\n",
              "       [6.7, 3. , 5.2, 2.3],\n",
              "       [6.3, 2.5, 5. , 1.9],\n",
              "       [6.5, 3. , 5.2, 2. ],\n",
              "       [6.2, 3.4, 5.4, 2.3],\n",
              "       [5.9, 3. , 5.1, 1.8]])"
            ]
          },
          "metadata": {},
          "execution_count": 7
        }
      ]
    },
    {
      "cell_type": "code",
      "metadata": {
        "id": "XLU9pxjIdweO",
        "colab": {
          "base_uri": "https://localhost:8080/"
        },
        "outputId": "48122185-bf1b-4081-a25a-cae64264db1a"
      },
      "source": [
        "iris.data.shape"
      ],
      "execution_count": 8,
      "outputs": [
        {
          "output_type": "execute_result",
          "data": {
            "text/plain": [
              "(150, 4)"
            ]
          },
          "metadata": {},
          "execution_count": 8
        }
      ]
    },
    {
      "cell_type": "code",
      "metadata": {
        "id": "8-K54jMWdweQ",
        "colab": {
          "base_uri": "https://localhost:8080/"
        },
        "outputId": "2fec5044-053f-4441-b770-9a9ddbd1f601"
      },
      "source": [
        "iris.target_names"
      ],
      "execution_count": 9,
      "outputs": [
        {
          "output_type": "execute_result",
          "data": {
            "text/plain": [
              "array(['setosa', 'versicolor', 'virginica'], dtype='<U10')"
            ]
          },
          "metadata": {},
          "execution_count": 9
        }
      ]
    },
    {
      "cell_type": "markdown",
      "metadata": {
        "id": "fb-l0-BqdweT"
      },
      "source": [
        "Como as variáveis de data (features) são tipos numpy, iremos convertê-las para Dataframe Pandas."
      ]
    },
    {
      "cell_type": "code",
      "metadata": {
        "id": "6Ra5qUYodweU",
        "colab": {
          "base_uri": "https://localhost:8080/"
        },
        "outputId": "92e351aa-b55d-4700-afd8-cfbc0fda30eb"
      },
      "source": [
        "# Convertendo para DataFrame\n",
        "X = iris.data\n",
        "y = iris.target\n",
        "df = pd.DataFrame(X, columns=iris.feature_names)\n",
        "print(df.head())"
      ],
      "execution_count": 10,
      "outputs": [
        {
          "output_type": "stream",
          "name": "stdout",
          "text": [
            "   sepal length (cm)  sepal width (cm)  petal length (cm)  petal width (cm)\n",
            "0                5.1               3.5                1.4               0.2\n",
            "1                4.9               3.0                1.4               0.2\n",
            "2                4.7               3.2                1.3               0.2\n",
            "3                4.6               3.1                1.5               0.2\n",
            "4                5.0               3.6                1.4               0.2\n"
          ]
        }
      ]
    },
    {
      "cell_type": "code",
      "metadata": {
        "id": "ebgwMC_kdweX",
        "colab": {
          "base_uri": "https://localhost:8080/",
          "height": 707
        },
        "outputId": "4403d665-e8d2-4399-a24d-d0057e46ea0f"
      },
      "source": [
        "pd.plotting.scatter_matrix(df, c = y, figsize = [8, 8], s=150, marker = 'D')\n",
        "plt.show()"
      ],
      "execution_count": 11,
      "outputs": [
        {
          "output_type": "display_data",
          "data": {
            "text/plain": [
              "<Figure size 800x800 with 16 Axes>"
            ],
            "image/png": "[encoded data removed]"
          },
          "metadata": {}
        }
      ]
    },
    {
      "cell_type": "markdown",
      "metadata": {
        "id": "lvViC3wZdweZ"
      },
      "source": [
        "### 1.2 Exercício\n",
        "Acesse o site do UCI Machine Learning Repository:\n",
        "https://archive.ics.uci.edu/ml/datasets/Congressional+Voting+Records\n",
        "\n",
        "- dados sobre os votos dos congressistas americanos.\n",
        "\n",
        "O objetivo é predizer o partido do congressista ('Democrat' ou 'Republican') baseda somente nos votos deles.\n"
      ]
    },
    {
      "cell_type": "code",
      "metadata": {
        "id": "d25YJHmUdwea",
        "colab": {
          "base_uri": "https://localhost:8080/",
          "height": 423
        },
        "outputId": "6efe2afd-56e5-4ec5-e419-1d306453cd08"
      },
      "source": [
        "#dados1 = pd.read_csv('arquivo_congresso.txt', header = None)\n",
        "df = pd.read_csv('https://archive.ics.uci.edu/ml/machine-learning-databases/voting-records/house-votes-84.data', header = None)\n",
        "df"
      ],
      "execution_count": 12,
      "outputs": [
        {
          "output_type": "execute_result",
          "data": {
            "text/plain": [
              "             0  1  2  3  4  5  6  7  8  9  10 11 12 13 14 15 16\n",
              "0    republican  n  y  n  y  y  y  n  n  n  y  ?  y  y  y  n  y\n",
              "1    republican  n  y  n  y  y  y  n  n  n  n  n  y  y  y  n  ?\n",
              "2      democrat  ?  y  y  ?  y  y  n  n  n  n  y  n  y  y  n  n\n",
              "3      democrat  n  y  y  n  ?  y  n  n  n  n  y  n  y  n  n  y\n",
              "4      democrat  y  y  y  n  y  y  n  n  n  n  y  ?  y  y  y  y\n",
              "..          ... .. .. .. .. .. .. .. .. .. .. .. .. .. .. .. ..\n",
              "430  republican  n  n  y  y  y  y  n  n  y  y  n  y  y  y  n  y\n",
              "431    democrat  n  n  y  n  n  n  y  y  y  y  n  n  n  n  n  y\n",
              "432  republican  n  ?  n  y  y  y  n  n  n  n  y  y  y  y  n  y\n",
              "433  republican  n  n  n  y  y  y  ?  ?  ?  ?  n  y  y  y  n  y\n",
              "434  republican  n  y  n  y  y  y  n  n  n  y  n  y  y  y  ?  n\n",
              "\n",
              "[435 rows x 17 columns]"
            ],
            "text/html": [
              "\n",
              "\n",
              "  <div id=\"df-5ea4e942-38f0-49f7-a384-8dafaed87e9d\">\n",
              "    <div class=\"colab-df-container\">\n",
              "      <div>\n",
              "<style scoped>\n",
              "    .dataframe tbody tr th:only-of-type {\n",
              "        vertical-align: middle;\n",
              "    }\n",
              "\n",
              "    .dataframe tbody tr th {\n",
              "        vertical-align: top;\n",
              "    }\n",
              "\n",
              "    .dataframe thead th {\n",
              "        text-align: right;\n",
              "    }\n",
              "</style>\n",
              "<table border=\"1\" class=\"dataframe\">\n",
              "  <thead>\n",
              "    <tr style=\"text-align: right;\">\n",
              "      <th></th>\n",
              "      <th>0</th>\n",
              "      <th>1</th>\n",
              "      <th>2</th>\n",
              "      <th>3</th>\n",
              "      <th>4</th>\n",
              "      <th>5</th>\n",
              "      <th>6</th>\n",
              "      <th>7</th>\n",
              "      <th>8</th>\n",
              "      <th>9</th>\n",
              "      <th>10</th>\n",
              "      <th>11</th>\n",
              "      <th>12</th>\n",
              "      <th>13</th>\n",
              "      <th>14</th>\n",
              "      <th>15</th>\n",
              "      <th>16</th>\n",
              "    </tr>\n",
              "  </thead>\n",
              "  <tbody>\n",
              "    <tr>\n",
              "      <th>0</th>\n",
              "      <td>republican</td>\n",
              "      <td>n</td>\n",
              "      <td>y</td>\n",
              "      <td>n</td>\n",
              "      <td>y</td>\n",
              "      <td>y</td>\n",
              "      <td>y</td>\n",
              "      <td>n</td>\n",
              "      <td>n</td>\n",
              "      <td>n</td>\n",
              "      <td>y</td>\n",
              "      <td>?</td>\n",
              "      <td>y</td>\n",
              "      <td>y</td>\n",
              "      <td>y</td>\n",
              "      <td>n</td>\n",
              "      <td>y</td>\n",
              "    </tr>\n",
              "    <tr>\n",
              "      <th>1</th>\n",
              "      <td>republican</td>\n",
              "      <td>n</td>\n",
              "      <td>y</td>\n",
              "      <td>n</td>\n",
              "      <td>y</td>\n",
              "      <td>y</td>\n",
              "      <td>y</td>\n",
              "      <td>n</td>\n",
              "      <td>n</td>\n",
              "      <td>n</td>\n",
              "      <td>n</td>\n",
              "      <td>n</td>\n",
              "      <td>y</td>\n",
              "      <td>y</td>\n",
              "      <td>y</td>\n",
              "      <td>n</td>\n",
              "      <td>?</td>\n",
              "    </tr>\n",
              "    <tr>\n",
              "      <th>2</th>\n",
              "      <td>democrat</td>\n",
              "      <td>?</td>\n",
              "      <td>y</td>\n",
              "      <td>y</td>\n",
              "      <td>?</td>\n",
              "      <td>y</td>\n",
              "      <td>y</td>\n",
              "      <td>n</td>\n",
              "      <td>n</td>\n",
              "      <td>n</td>\n",
              "      <td>n</td>\n",
              "      <td>y</td>\n",
              "      <td>n</td>\n",
              "      <td>y</td>\n",
              "      <td>y</td>\n",
              "      <td>n</td>\n",
              "      <td>n</td>\n",
              "    </tr>\n",
              "    <tr>\n",
              "      <th>3</th>\n",
              "      <td>democrat</td>\n",
              "      <td>n</td>\n",
              "      <td>y</td>\n",
              "      <td>y</td>\n",
              "      <td>n</td>\n",
              "      <td>?</td>\n",
              "      <td>y</td>\n",
              "      <td>n</td>\n",
              "      <td>n</td>\n",
              "      <td>n</td>\n",
              "      <td>n</td>\n",
              "      <td>y</td>\n",
              "      <td>n</td>\n",
              "      <td>y</td>\n",
              "      <td>n</td>\n",
              "      <td>n</td>\n",
              "      <td>y</td>\n",
              "    </tr>\n",
              "    <tr>\n",
              "      <th>4</th>\n",
              "      <td>democrat</td>\n",
              "      <td>y</td>\n",
              "      <td>y</td>\n",
              "      <td>y</td>\n",
              "      <td>n</td>\n",
              "      <td>y</td>\n",
              "      <td>y</td>\n",
              "      <td>n</td>\n",
              "      <td>n</td>\n",
              "      <td>n</td>\n",
              "      <td>n</td>\n",
              "      <td>y</td>\n",
              "      <td>?</td>\n",
              "      <td>y</td>\n",
              "      <td>y</td>\n",
              "      <td>y</td>\n",
              "      <td>y</td>\n",
              "    </tr>\n",
              "    <tr>\n",
              "      <th>...</th>\n",
              "      <td>...</td>\n",
              "      <td>...</td>\n",
              "      <td>...</td>\n",
              "      <td>...</td>\n",
              "      <td>...</td>\n",
              "      <td>...</td>\n",
              "      <td>...</td>\n",
              "      <td>...</td>\n",
              "      <td>...</td>\n",
              "      <td>...</td>\n",
              "      <td>...</td>\n",
              "      <td>...</td>\n",
              "      <td>...</td>\n",
              "      <td>...</td>\n",
              "      <td>...</td>\n",
              "      <td>...</td>\n",
              "      <td>...</td>\n",
              "    </tr>\n",
              "    <tr>\n",
              "      <th>430</th>\n",
              "      <td>republican</td>\n",
              "      <td>n</td>\n",
              "      <td>n</td>\n",
              "      <td>y</td>\n",
              "      <td>y</td>\n",
              "      <td>y</td>\n",
              "      <td>y</td>\n",
              "      <td>n</td>\n",
              "      <td>n</td>\n",
              "      <td>y</td>\n",
              "      <td>y</td>\n",
              "      <td>n</td>\n",
              "      <td>y</td>\n",
              "      <td>y</td>\n",
              "      <td>y</td>\n",
              "      <td>n</td>\n",
              "      <td>y</td>\n",
              "    </tr>\n",
              "    <tr>\n",
              "      <th>431</th>\n",
              "      <td>democrat</td>\n",
              "      <td>n</td>\n",
              "      <td>n</td>\n",
              "      <td>y</td>\n",
              "      <td>n</td>\n",
              "      <td>n</td>\n",
              "      <td>n</td>\n",
              "      <td>y</td>\n",
              "      <td>y</td>\n",
              "      <td>y</td>\n",
              "      <td>y</td>\n",
              "      <td>n</td>\n",
              "      <td>n</td>\n",
              "      <td>n</td>\n",
              "      <td>n</td>\n",
              "      <td>n</td>\n",
              "      <td>y</td>\n",
              "    </tr>\n",
              "    <tr>\n",
              "      <th>432</th>\n",
              "      <td>republican</td>\n",
              "      <td>n</td>\n",
              "      <td>?</td>\n",
              "      <td>n</td>\n",
              "      <td>y</td>\n",
              "      <td>y</td>\n",
              "      <td>y</td>\n",
              "      <td>n</td>\n",
              "      <td>n</td>\n",
              "      <td>n</td>\n",
              "      <td>n</td>\n",
              "      <td>y</td>\n",
              "      <td>y</td>\n",
              "      <td>y</td>\n",
              "      <td>y</td>\n",
              "      <td>n</td>\n",
              "      <td>y</td>\n",
              "    </tr>\n",
              "    <tr>\n",
              "      <th>433</th>\n",
              "      <td>republican</td>\n",
              "      <td>n</td>\n",
              "      <td>n</td>\n",
              "      <td>n</td>\n",
              "      <td>y</td>\n",
              "      <td>y</td>\n",
              "      <td>y</td>\n",
              "      <td>?</td>\n",
              "      <td>?</td>\n",
              "      <td>?</td>\n",
              "      <td>?</td>\n",
              "      <td>n</td>\n",
              "      <td>y</td>\n",
              "      <td>y</td>\n",
              "      <td>y</td>\n",
              "      <td>n</td>\n",
              "      <td>y</td>\n",
              "    </tr>\n",
              "    <tr>\n",
              "      <th>434</th>\n",
              "      <td>republican</td>\n",
              "      <td>n</td>\n",
              "      <td>y</td>\n",
              "      <td>n</td>\n",
              "      <td>y</td>\n",
              "      <td>y</td>\n",
              "      <td>y</td>\n",
              "      <td>n</td>\n",
              "      <td>n</td>\n",
              "      <td>n</td>\n",
              "      <td>y</td>\n",
              "      <td>n</td>\n",
              "      <td>y</td>\n",
              "      <td>y</td>\n",
              "      <td>y</td>\n",
              "      <td>?</td>\n",
              "      <td>n</td>\n",
              "    </tr>\n",
              "  </tbody>\n",
              "</table>\n",
              "<p>435 rows × 17 columns</p>\n",
              "</div>\n",
              "      <button class=\"colab-df-convert\" onclick=\"convertToInteractive('df-5ea4e942-38f0-49f7-a384-8dafaed87e9d')\"\n",
              "              title=\"Convert this dataframe to an interactive table.\"\n",
              "              style=\"display:none;\">\n",
              "\n",
              "  <svg xmlns=\"http://www.w3.org/2000/svg\" height=\"24px\"viewBox=\"0 0 24 24\"\n",
              "       width=\"24px\">\n",
              "    <path d=\"M0 0h24v24H0V0z\" fill=\"none\"/>\n",
              "    <path d=\"M18.56 5.44l.94 2.06.94-2.06 2.06-.94-2.06-.94-.94-2.06-.94 2.06-2.06.94zm-11 1L8.5 8.5l.94-2.06 2.06-.94-2.06-.94L8.5 2.5l-.94 2.06-2.06.94zm10 10l.94 2.06.94-2.06 2.06-.94-2.06-.94-.94-2.06-.94 2.06-2.06.94z\"/><path d=\"M17.41 7.96l-1.37-1.37c-.4-.4-.92-.59-1.43-.59-.52 0-1.04.2-1.43.59L10.3 9.45l-7.72 7.72c-.78.78-.78 2.05 0 2.83L4 21.41c.39.39.9.59 1.41.59.51 0 1.02-.2 1.41-.59l7.78-7.78 2.81-2.81c.8-.78.8-2.07 0-2.86zM5.41 20L4 18.59l7.72-7.72 1.47 1.35L5.41 20z\"/>\n",
              "  </svg>\n",
              "      </button>\n",
              "\n",
              "\n",
              "\n",
              "    <div id=\"df-8b70f4bf-ad20-42fa-86bc-ba0b94fcccee\">\n",
              "      <button class=\"colab-df-quickchart\" onclick=\"quickchart('df-8b70f4bf-ad20-42fa-86bc-ba0b94fcccee')\"\n",
              "              title=\"Suggest charts.\"\n",
              "              style=\"display:none;\">\n",
              "\n",
              "<svg xmlns=\"http://www.w3.org/2000/svg\" height=\"24px\"viewBox=\"0 0 24 24\"\n",
              "     width=\"24px\">\n",
              "    <g>\n",
              "        <path d=\"M19 3H5c-1.1 0-2 .9-2 2v14c0 1.1.9 2 2 2h14c1.1 0 2-.9 2-2V5c0-1.1-.9-2-2-2zM9 17H7v-7h2v7zm4 0h-2V7h2v10zm4 0h-2v-4h2v4z\"/>\n",
              "    </g>\n",
              "</svg>\n",
              "      </button>\n",
              "    </div>\n",
              "\n",
              "<style>\n",
              "  .colab-df-quickchart {\n",
              "    background-color: #E8F0FE;\n",
              "    border: none;\n",
              "    border-radius: 50%;\n",
              "    cursor: pointer;\n",
              "    display: none;\n",
              "    fill: #1967D2;\n",
              "    height: 32px;\n",
              "    padding: 0 0 0 0;\n",
              "    width: 32px;\n",
              "  }\n",
              "\n",
              "  .colab-df-quickchart:hover {\n",
              "    background-color: #E2EBFA;\n",
              "    box-shadow: 0px 1px 2px rgba(60, 64, 67, 0.3), 0px 1px 3px 1px rgba(60, 64, 67, 0.15);\n",
              "    fill: #174EA6;\n",
              "  }\n",
              "\n",
              "  [theme=dark] .colab-df-quickchart {\n",
              "    background-color: #3B4455;\n",
              "    fill: #D2E3FC;\n",
              "  }\n",
              "\n",
              "  [theme=dark] .colab-df-quickchart:hover {\n",
              "    background-color: #434B5C;\n",
              "    box-shadow: 0px 1px 3px 1px rgba(0, 0, 0, 0.15);\n",
              "    filter: drop-shadow(0px 1px 2px rgba(0, 0, 0, 0.3));\n",
              "    fill: #FFFFFF;\n",
              "  }\n",
              "</style>\n",
              "\n",
              "    <script>\n",
              "      async function quickchart(key) {\n",
              "        const containerElement = document.querySelector('#' + key);\n",
              "        const charts = await google.colab.kernel.invokeFunction(\n",
              "            'suggestCharts', [key], {});\n",
              "      }\n",
              "    </script>\n",
              "\n",
              "      <script>\n",
              "\n",
              "function displayQuickchartButton(domScope) {\n",
              "  let quickchartButtonEl =\n",
              "    domScope.querySelector('#df-8b70f4bf-ad20-42fa-86bc-ba0b94fcccee button.colab-df-quickchart');\n",
              "  quickchartButtonEl.style.display =\n",
              "    google.colab.kernel.accessAllowed ? 'block' : 'none';\n",
              "}\n",
              "\n",
              "        displayQuickchartButton(document);\n",
              "      </script>\n",
              "      <style>\n",
              "    .colab-df-container {\n",
              "      display:flex;\n",
              "      flex-wrap:wrap;\n",
              "      gap: 12px;\n",
              "    }\n",
              "\n",
              "    .colab-df-convert {\n",
              "      background-color: #E8F0FE;\n",
              "      border: none;\n",
              "      border-radius: 50%;\n",
              "      cursor: pointer;\n",
              "      display: none;\n",
              "      fill: #1967D2;\n",
              "      height: 32px;\n",
              "      padding: 0 0 0 0;\n",
              "      width: 32px;\n",
              "    }\n",
              "\n",
              "    .colab-df-convert:hover {\n",
              "      background-color: #E2EBFA;\n",
              "      box-shadow: 0px 1px 2px rgba(60, 64, 67, 0.3), 0px 1px 3px 1px rgba(60, 64, 67, 0.15);\n",
              "      fill: #174EA6;\n",
              "    }\n",
              "\n",
              "    [theme=dark] .colab-df-convert {\n",
              "      background-color: #3B4455;\n",
              "      fill: #D2E3FC;\n",
              "    }\n",
              "\n",
              "    [theme=dark] .colab-df-convert:hover {\n",
              "      background-color: #434B5C;\n",
              "      box-shadow: 0px 1px 3px 1px rgba(0, 0, 0, 0.15);\n",
              "      filter: drop-shadow(0px 1px 2px rgba(0, 0, 0, 0.3));\n",
              "      fill: #FFFFFF;\n",
              "    }\n",
              "  </style>\n",
              "\n",
              "      <script>\n",
              "        const buttonEl =\n",
              "          document.querySelector('#df-5ea4e942-38f0-49f7-a384-8dafaed87e9d button.colab-df-convert');\n",
              "        buttonEl.style.display =\n",
              "          google.colab.kernel.accessAllowed ? 'block' : 'none';\n",
              "\n",
              "        async function convertToInteractive(key) {\n",
              "          const element = document.querySelector('#df-5ea4e942-38f0-49f7-a384-8dafaed87e9d');\n",
              "          const dataTable =\n",
              "            await google.colab.kernel.invokeFunction('convertToInteractive',\n",
              "                                                     [key], {});\n",
              "          if (!dataTable) return;\n",
              "\n",
              "          const docLinkHtml = 'Like what you see? Visit the ' +\n",
              "            '<a target=\"_blank\" href=https://colab.research.google.com/notebooks/data_table.ipynb>data table notebook</a>'\n",
              "            + ' to learn more about interactive tables.';\n",
              "          element.innerHTML = '';\n",
              "          dataTable['output_type'] = 'display_data';\n",
              "          await google.colab.output.renderOutput(dataTable, element);\n",
              "          const docLink = document.createElement('div');\n",
              "          docLink.innerHTML = docLinkHtml;\n",
              "          element.appendChild(docLink);\n",
              "        }\n",
              "      </script>\n",
              "    </div>\n",
              "  </div>\n"
            ]
          },
          "metadata": {},
          "execution_count": 12
        }
      ]
    },
    {
      "cell_type": "code",
      "metadata": {
        "id": "jGWamGXBdwed",
        "colab": {
          "base_uri": "https://localhost:8080/",
          "height": 467
        },
        "outputId": "e0a04ce8-3a8b-4366-c616-6072e0187a23"
      },
      "source": [
        "# Renomeie os nomes das colunas\n",
        "\n",
        "# 0. party: 2 (democrat, republican)\n",
        "# 1. infants: 2 (y,n)\n",
        "# 2. water: 2 (y,n)\n",
        "# 3. budget: 2 (y,n)\n",
        "# 4. physician: 2 (y,n)\n",
        "# 5. salvador: 2 (y,n)\n",
        "# 6. religious: 2 (y,n)\n",
        "# 7. satellite: 2 (y,n)\n",
        "# 8. aid: 2 (y,n)\n",
        "# 7. Attribute Information:\n",
        "# 9.  missile: 2 (y,n)\n",
        "# 10. immigration: 2 (y,n)\n",
        "# 11. synfuels: 2 (y,n)\n",
        "# 12. education: 2 (y,n)\n",
        "# 13. superfund: 2 (y,n)\n",
        "# 14. crime: 2 (y,n)\n",
        "# 15. duty-free-exports: 2 (y,n)\n",
        "# 16. eaa_rsa: 2 (y,n)\n",
        "\n",
        "# Carregar os dados a partir do URL e atribuir nomes às colunas\n",
        "column_names = ['party', 'infants', 'water', 'budget', 'physician', 'salvador',\n",
        "                'religious', 'satellite', 'aid', 'missile', 'immigration', 'synfuels',\n",
        "                'education', 'superfund', 'crime', 'duty-free-exports', 'eaa_rsa']\n",
        "\n",
        "df = pd.read_csv('https://archive.ics.uci.edu/ml/machine-learning-databases/voting-records/house-votes-84.data', header=None, names=column_names)\n",
        "\n",
        "# Exibir o DataFrame com os nomes de colunas atualizados\n",
        "df\n",
        "\n"
      ],
      "execution_count": 22,
      "outputs": [
        {
          "output_type": "execute_result",
          "data": {
            "text/plain": [
              "          party infants water budget physician salvador religious satellite  \\\n",
              "0    republican       n     y      n         y        y         y         n   \n",
              "1    republican       n     y      n         y        y         y         n   \n",
              "2      democrat       ?     y      y         ?        y         y         n   \n",
              "3      democrat       n     y      y         n        ?         y         n   \n",
              "4      democrat       y     y      y         n        y         y         n   \n",
              "..          ...     ...   ...    ...       ...      ...       ...       ...   \n",
              "430  republican       n     n      y         y        y         y         n   \n",
              "431    democrat       n     n      y         n        n         n         y   \n",
              "432  republican       n     ?      n         y        y         y         n   \n",
              "433  republican       n     n      n         y        y         y         ?   \n",
              "434  republican       n     y      n         y        y         y         n   \n",
              "\n",
              "    aid missile immigration synfuels education superfund crime  \\\n",
              "0     n       n           y        ?         y         y     y   \n",
              "1     n       n           n        n         y         y     y   \n",
              "2     n       n           n        y         n         y     y   \n",
              "3     n       n           n        y         n         y     n   \n",
              "4     n       n           n        y         ?         y     y   \n",
              "..   ..     ...         ...      ...       ...       ...   ...   \n",
              "430   n       y           y        n         y         y     y   \n",
              "431   y       y           y        n         n         n     n   \n",
              "432   n       n           n        y         y         y     y   \n",
              "433   ?       ?           ?        n         y         y     y   \n",
              "434   n       n           y        n         y         y     y   \n",
              "\n",
              "    duty-free-exports eaa_rsa  \n",
              "0                   n       y  \n",
              "1                   n       ?  \n",
              "2                   n       n  \n",
              "3                   n       y  \n",
              "4                   y       y  \n",
              "..                ...     ...  \n",
              "430                 n       y  \n",
              "431                 n       y  \n",
              "432                 n       y  \n",
              "433                 n       y  \n",
              "434                 ?       n  \n",
              "\n",
              "[435 rows x 17 columns]"
            ],
            "text/html": [
              "\n",
              "\n",
              "  <div id=\"df-1627f45d-a42d-4a0f-8db3-a1055b05bad0\">\n",
              "    <div class=\"colab-df-container\">\n",
              "      <div>\n",
              "<style scoped>\n",
              "    .dataframe tbody tr th:only-of-type {\n",
              "        vertical-align: middle;\n",
              "    }\n",
              "\n",
              "    .dataframe tbody tr th {\n",
              "        vertical-align: top;\n",
              "    }\n",
              "\n",
              "    .dataframe thead th {\n",
              "        text-align: right;\n",
              "    }\n",
              "</style>\n",
              "<table border=\"1\" class=\"dataframe\">\n",
              "  <thead>\n",
              "    <tr style=\"text-align: right;\">\n",
              "      <th></th>\n",
              "      <th>party</th>\n",
              "      <th>infants</th>\n",
              "      <th>water</th>\n",
              "      <th>budget</th>\n",
              "      <th>physician</th>\n",
              "      <th>salvador</th>\n",
              "      <th>religious</th>\n",
              "      <th>satellite</th>\n",
              "      <th>aid</th>\n",
              "      <th>missile</th>\n",
              "      <th>immigration</th>\n",
              "      <th>synfuels</th>\n",
              "      <th>education</th>\n",
              "      <th>superfund</th>\n",
              "      <th>crime</th>\n",
              "      <th>duty-free-exports</th>\n",
              "      <th>eaa_rsa</th>\n",
              "    </tr>\n",
              "  </thead>\n",
              "  <tbody>\n",
              "    <tr>\n",
              "      <th>0</th>\n",
              "      <td>republican</td>\n",
              "      <td>n</td>\n",
              "      <td>y</td>\n",
              "      <td>n</td>\n",
              "      <td>y</td>\n",
              "      <td>y</td>\n",
              "      <td>y</td>\n",
              "      <td>n</td>\n",
              "      <td>n</td>\n",
              "      <td>n</td>\n",
              "      <td>y</td>\n",
              "      <td>?</td>\n",
              "      <td>y</td>\n",
              "      <td>y</td>\n",
              "      <td>y</td>\n",
              "      <td>n</td>\n",
              "      <td>y</td>\n",
              "    </tr>\n",
              "    <tr>\n",
              "      <th>1</th>\n",
              "      <td>republican</td>\n",
              "      <td>n</td>\n",
              "      <td>y</td>\n",
              "      <td>n</td>\n",
              "      <td>y</td>\n",
              "      <td>y</td>\n",
              "      <td>y</td>\n",
              "      <td>n</td>\n",
              "      <td>n</td>\n",
              "      <td>n</td>\n",
              "      <td>n</td>\n",
              "      <td>n</td>\n",
              "      <td>y</td>\n",
              "      <td>y</td>\n",
              "      <td>y</td>\n",
              "      <td>n</td>\n",
              "      <td>?</td>\n",
              "    </tr>\n",
              "    <tr>\n",
              "      <th>2</th>\n",
              "      <td>democrat</td>\n",
              "      <td>?</td>\n",
              "      <td>y</td>\n",
              "      <td>y</td>\n",
              "      <td>?</td>\n",
              "      <td>y</td>\n",
              "      <td>y</td>\n",
              "      <td>n</td>\n",
              "      <td>n</td>\n",
              "      <td>n</td>\n",
              "      <td>n</td>\n",
              "      <td>y</td>\n",
              "      <td>n</td>\n",
              "      <td>y</td>\n",
              "      <td>y</td>\n",
              "      <td>n</td>\n",
              "      <td>n</td>\n",
              "    </tr>\n",
              "    <tr>\n",
              "      <th>3</th>\n",
              "      <td>democrat</td>\n",
              "      <td>n</td>\n",
              "      <td>y</td>\n",
              "      <td>y</td>\n",
              "      <td>n</td>\n",
              "      <td>?</td>\n",
              "      <td>y</td>\n",
              "      <td>n</td>\n",
              "      <td>n</td>\n",
              "      <td>n</td>\n",
              "      <td>n</td>\n",
              "      <td>y</td>\n",
              "      <td>n</td>\n",
              "      <td>y</td>\n",
              "      <td>n</td>\n",
              "      <td>n</td>\n",
              "      <td>y</td>\n",
              "    </tr>\n",
              "    <tr>\n",
              "      <th>4</th>\n",
              "      <td>democrat</td>\n",
              "      <td>y</td>\n",
              "      <td>y</td>\n",
              "      <td>y</td>\n",
              "      <td>n</td>\n",
              "      <td>y</td>\n",
              "      <td>y</td>\n",
              "      <td>n</td>\n",
              "      <td>n</td>\n",
              "      <td>n</td>\n",
              "      <td>n</td>\n",
              "      <td>y</td>\n",
              "      <td>?</td>\n",
              "      <td>y</td>\n",
              "      <td>y</td>\n",
              "      <td>y</td>\n",
              "      <td>y</td>\n",
              "    </tr>\n",
              "    <tr>\n",
              "      <th>...</th>\n",
              "      <td>...</td>\n",
              "      <td>...</td>\n",
              "      <td>...</td>\n",
              "      <td>...</td>\n",
              "      <td>...</td>\n",
              "      <td>...</td>\n",
              "      <td>...</td>\n",
              "      <td>...</td>\n",
              "      <td>...</td>\n",
              "      <td>...</td>\n",
              "      <td>...</td>\n",
              "      <td>...</td>\n",
              "      <td>...</td>\n",
              "      <td>...</td>\n",
              "      <td>...</td>\n",
              "      <td>...</td>\n",
              "      <td>...</td>\n",
              "    </tr>\n",
              "    <tr>\n",
              "      <th>430</th>\n",
              "      <td>republican</td>\n",
              "      <td>n</td>\n",
              "      <td>n</td>\n",
              "      <td>y</td>\n",
              "      <td>y</td>\n",
              "      <td>y</td>\n",
              "      <td>y</td>\n",
              "      <td>n</td>\n",
              "      <td>n</td>\n",
              "      <td>y</td>\n",
              "      <td>y</td>\n",
              "      <td>n</td>\n",
              "      <td>y</td>\n",
              "      <td>y</td>\n",
              "      <td>y</td>\n",
              "      <td>n</td>\n",
              "      <td>y</td>\n",
              "    </tr>\n",
              "    <tr>\n",
              "      <th>431</th>\n",
              "      <td>democrat</td>\n",
              "      <td>n</td>\n",
              "      <td>n</td>\n",
              "      <td>y</td>\n",
              "      <td>n</td>\n",
              "      <td>n</td>\n",
              "      <td>n</td>\n",
              "      <td>y</td>\n",
              "      <td>y</td>\n",
              "      <td>y</td>\n",
              "      <td>y</td>\n",
              "      <td>n</td>\n",
              "      <td>n</td>\n",
              "      <td>n</td>\n",
              "      <td>n</td>\n",
              "      <td>n</td>\n",
              "      <td>y</td>\n",
              "    </tr>\n",
              "    <tr>\n",
              "      <th>432</th>\n",
              "      <td>republican</td>\n",
              "      <td>n</td>\n",
              "      <td>?</td>\n",
              "      <td>n</td>\n",
              "      <td>y</td>\n",
              "      <td>y</td>\n",
              "      <td>y</td>\n",
              "      <td>n</td>\n",
              "      <td>n</td>\n",
              "      <td>n</td>\n",
              "      <td>n</td>\n",
              "      <td>y</td>\n",
              "      <td>y</td>\n",
              "      <td>y</td>\n",
              "      <td>y</td>\n",
              "      <td>n</td>\n",
              "      <td>y</td>\n",
              "    </tr>\n",
              "    <tr>\n",
              "      <th>433</th>\n",
              "      <td>republican</td>\n",
              "      <td>n</td>\n",
              "      <td>n</td>\n",
              "      <td>n</td>\n",
              "      <td>y</td>\n",
              "      <td>y</td>\n",
              "      <td>y</td>\n",
              "      <td>?</td>\n",
              "      <td>?</td>\n",
              "      <td>?</td>\n",
              "      <td>?</td>\n",
              "      <td>n</td>\n",
              "      <td>y</td>\n",
              "      <td>y</td>\n",
              "      <td>y</td>\n",
              "      <td>n</td>\n",
              "      <td>y</td>\n",
              "    </tr>\n",
              "    <tr>\n",
              "      <th>434</th>\n",
              "      <td>republican</td>\n",
              "      <td>n</td>\n",
              "      <td>y</td>\n",
              "      <td>n</td>\n",
              "      <td>y</td>\n",
              "      <td>y</td>\n",
              "      <td>y</td>\n",
              "      <td>n</td>\n",
              "      <td>n</td>\n",
              "      <td>n</td>\n",
              "      <td>y</td>\n",
              "      <td>n</td>\n",
              "      <td>y</td>\n",
              "      <td>y</td>\n",
              "      <td>y</td>\n",
              "      <td>?</td>\n",
              "      <td>n</td>\n",
              "    </tr>\n",
              "  </tbody>\n",
              "</table>\n",
              "<p>435 rows × 17 columns</p>\n",
              "</div>\n",
              "      <button class=\"colab-df-convert\" onclick=\"convertToInteractive('df-1627f45d-a42d-4a0f-8db3-a1055b05bad0')\"\n",
              "              title=\"Convert this dataframe to an interactive table.\"\n",
              "              style=\"display:none;\">\n",
              "\n",
              "  <svg xmlns=\"http://www.w3.org/2000/svg\" height=\"24px\"viewBox=\"0 0 24 24\"\n",
              "       width=\"24px\">\n",
              "    <path d=\"M0 0h24v24H0V0z\" fill=\"none\"/>\n",
              "    <path d=\"M18.56 5.44l.94 2.06.94-2.06 2.06-.94-2.06-.94-.94-2.06-.94 2.06-2.06.94zm-11 1L8.5 8.5l.94-2.06 2.06-.94-2.06-.94L8.5 2.5l-.94 2.06-2.06.94zm10 10l.94 2.06.94-2.06 2.06-.94-2.06-.94-.94-2.06-.94 2.06-2.06.94z\"/><path d=\"M17.41 7.96l-1.37-1.37c-.4-.4-.92-.59-1.43-.59-.52 0-1.04.2-1.43.59L10.3 9.45l-7.72 7.72c-.78.78-.78 2.05 0 2.83L4 21.41c.39.39.9.59 1.41.59.51 0 1.02-.2 1.41-.59l7.78-7.78 2.81-2.81c.8-.78.8-2.07 0-2.86zM5.41 20L4 18.59l7.72-7.72 1.47 1.35L5.41 20z\"/>\n",
              "  </svg>\n",
              "      </button>\n",
              "\n",
              "\n",
              "\n",
              "    <div id=\"df-c31d770f-f0fd-4e8a-84a4-94c071e3404f\">\n",
              "      <button class=\"colab-df-quickchart\" onclick=\"quickchart('df-c31d770f-f0fd-4e8a-84a4-94c071e3404f')\"\n",
              "              title=\"Suggest charts.\"\n",
              "              style=\"display:none;\">\n",
              "\n",
              "<svg xmlns=\"http://www.w3.org/2000/svg\" height=\"24px\"viewBox=\"0 0 24 24\"\n",
              "     width=\"24px\">\n",
              "    <g>\n",
              "        <path d=\"M19 3H5c-1.1 0-2 .9-2 2v14c0 1.1.9 2 2 2h14c1.1 0 2-.9 2-2V5c0-1.1-.9-2-2-2zM9 17H7v-7h2v7zm4 0h-2V7h2v10zm4 0h-2v-4h2v4z\"/>\n",
              "    </g>\n",
              "</svg>\n",
              "      </button>\n",
              "    </div>\n",
              "\n",
              "<style>\n",
              "  .colab-df-quickchart {\n",
              "    background-color: #E8F0FE;\n",
              "    border: none;\n",
              "    border-radius: 50%;\n",
              "    cursor: pointer;\n",
              "    display: none;\n",
              "    fill: #1967D2;\n",
              "    height: 32px;\n",
              "    padding: 0 0 0 0;\n",
              "    width: 32px;\n",
              "  }\n",
              "\n",
              "  .colab-df-quickchart:hover {\n",
              "    background-color: #E2EBFA;\n",
              "    box-shadow: 0px 1px 2px rgba(60, 64, 67, 0.3), 0px 1px 3px 1px rgba(60, 64, 67, 0.15);\n",
              "    fill: #174EA6;\n",
              "  }\n",
              "\n",
              "  [theme=dark] .colab-df-quickchart {\n",
              "    background-color: #3B4455;\n",
              "    fill: #D2E3FC;\n",
              "  }\n",
              "\n",
              "  [theme=dark] .colab-df-quickchart:hover {\n",
              "    background-color: #434B5C;\n",
              "    box-shadow: 0px 1px 3px 1px rgba(0, 0, 0, 0.15);\n",
              "    filter: drop-shadow(0px 1px 2px rgba(0, 0, 0, 0.3));\n",
              "    fill: #FFFFFF;\n",
              "  }\n",
              "</style>\n",
              "\n",
              "    <script>\n",
              "      async function quickchart(key) {\n",
              "        const containerElement = document.querySelector('#' + key);\n",
              "        const charts = await google.colab.kernel.invokeFunction(\n",
              "            'suggestCharts', [key], {});\n",
              "      }\n",
              "    </script>\n",
              "\n",
              "      <script>\n",
              "\n",
              "function displayQuickchartButton(domScope) {\n",
              "  let quickchartButtonEl =\n",
              "    domScope.querySelector('#df-c31d770f-f0fd-4e8a-84a4-94c071e3404f button.colab-df-quickchart');\n",
              "  quickchartButtonEl.style.display =\n",
              "    google.colab.kernel.accessAllowed ? 'block' : 'none';\n",
              "}\n",
              "\n",
              "        displayQuickchartButton(document);\n",
              "      </script>\n",
              "      <style>\n",
              "    .colab-df-container {\n",
              "      display:flex;\n",
              "      flex-wrap:wrap;\n",
              "      gap: 12px;\n",
              "    }\n",
              "\n",
              "    .colab-df-convert {\n",
              "      background-color: #E8F0FE;\n",
              "      border: none;\n",
              "      border-radius: 50%;\n",
              "      cursor: pointer;\n",
              "      display: none;\n",
              "      fill: #1967D2;\n",
              "      height: 32px;\n",
              "      padding: 0 0 0 0;\n",
              "      width: 32px;\n",
              "    }\n",
              "\n",
              "    .colab-df-convert:hover {\n",
              "      background-color: #E2EBFA;\n",
              "      box-shadow: 0px 1px 2px rgba(60, 64, 67, 0.3), 0px 1px 3px 1px rgba(60, 64, 67, 0.15);\n",
              "      fill: #174EA6;\n",
              "    }\n",
              "\n",
              "    [theme=dark] .colab-df-convert {\n",
              "      background-color: #3B4455;\n",
              "      fill: #D2E3FC;\n",
              "    }\n",
              "\n",
              "    [theme=dark] .colab-df-convert:hover {\n",
              "      background-color: #434B5C;\n",
              "      box-shadow: 0px 1px 3px 1px rgba(0, 0, 0, 0.15);\n",
              "      filter: drop-shadow(0px 1px 2px rgba(0, 0, 0, 0.3));\n",
              "      fill: #FFFFFF;\n",
              "    }\n",
              "  </style>\n",
              "\n",
              "      <script>\n",
              "        const buttonEl =\n",
              "          document.querySelector('#df-1627f45d-a42d-4a0f-8db3-a1055b05bad0 button.colab-df-convert');\n",
              "        buttonEl.style.display =\n",
              "          google.colab.kernel.accessAllowed ? 'block' : 'none';\n",
              "\n",
              "        async function convertToInteractive(key) {\n",
              "          const element = document.querySelector('#df-1627f45d-a42d-4a0f-8db3-a1055b05bad0');\n",
              "          const dataTable =\n",
              "            await google.colab.kernel.invokeFunction('convertToInteractive',\n",
              "                                                     [key], {});\n",
              "          if (!dataTable) return;\n",
              "\n",
              "          const docLinkHtml = 'Like what you see? Visit the ' +\n",
              "            '<a target=\"_blank\" href=https://colab.research.google.com/notebooks/data_table.ipynb>data table notebook</a>'\n",
              "            + ' to learn more about interactive tables.';\n",
              "          element.innerHTML = '';\n",
              "          dataTable['output_type'] = 'display_data';\n",
              "          await google.colab.output.renderOutput(dataTable, element);\n",
              "          const docLink = document.createElement('div');\n",
              "          docLink.innerHTML = docLinkHtml;\n",
              "          element.appendChild(docLink);\n",
              "        }\n",
              "      </script>\n",
              "    </div>\n",
              "  </div>\n"
            ]
          },
          "metadata": {},
          "execution_count": 22
        }
      ]
    },
    {
      "cell_type": "markdown",
      "source": [],
      "metadata": {
        "id": "B5IR_fOW5imv"
      }
    },
    {
      "cell_type": "markdown",
      "metadata": {
        "id": "CxiREiGkdweg"
      },
      "source": [
        "Transforme os dados para binários:\n",
        "- y --> 0\n",
        "- n --> 1\n",
        "- democrat --> 0\n",
        "- republican --> 1"
      ]
    },
    {
      "cell_type": "code",
      "metadata": {
        "id": "1NW5LFgtdweg",
        "colab": {
          "base_uri": "https://localhost:8080/",
          "height": 467
        },
        "outputId": "45b9b8e5-11b8-403e-fd5b-e2ace289e483"
      },
      "source": [
        "# Trate os missing data\n",
        "# Sugestão - utilize um sistema de descarte simples\n",
        "\n",
        "dfnovo = df.replace(['y', 'n', '?'], [0,1,np.nan]).dropna()\n",
        "dfnovo"
      ],
      "execution_count": 23,
      "outputs": [
        {
          "output_type": "execute_result",
          "data": {
            "text/plain": [
              "          party  infants  water  budget  physician  salvador  religious  \\\n",
              "5      democrat      1.0    0.0     0.0        1.0       0.0        0.0   \n",
              "8    republican      1.0    0.0     1.0        0.0       0.0        0.0   \n",
              "19     democrat      0.0    0.0     0.0        1.0       1.0        1.0   \n",
              "23     democrat      0.0    0.0     0.0        1.0       1.0        1.0   \n",
              "25     democrat      0.0    1.0     0.0        1.0       1.0        1.0   \n",
              "..          ...      ...    ...     ...        ...       ...        ...   \n",
              "423    democrat      1.0    0.0     0.0        1.0       1.0        0.0   \n",
              "426    democrat      0.0    1.0     0.0        1.0       1.0        1.0   \n",
              "427  republican      1.0    1.0     1.0        0.0       0.0        0.0   \n",
              "430  republican      1.0    1.0     0.0        0.0       0.0        0.0   \n",
              "431    democrat      1.0    1.0     0.0        1.0       1.0        1.0   \n",
              "\n",
              "     satellite  aid  missile  immigration  synfuels  education  superfund  \\\n",
              "5          1.0  1.0      1.0          1.0       1.0        1.0        0.0   \n",
              "8          1.0  1.0      1.0          1.0       1.0        0.0        0.0   \n",
              "19         0.0  0.0      0.0          1.0       0.0        1.0        1.0   \n",
              "23         0.0  0.0      0.0          1.0       1.0        1.0        1.0   \n",
              "25         0.0  0.0      0.0          0.0       1.0        1.0        1.0   \n",
              "..         ...  ...      ...          ...       ...        ...        ...   \n",
              "423        0.0  0.0      0.0          1.0       0.0        1.0        1.0   \n",
              "426        0.0  0.0      0.0          0.0       1.0        1.0        1.0   \n",
              "427        0.0  0.0      1.0          0.0       1.0        0.0        0.0   \n",
              "430        1.0  1.0      0.0          0.0       1.0        0.0        0.0   \n",
              "431        0.0  0.0      0.0          0.0       1.0        1.0        1.0   \n",
              "\n",
              "     crime  duty-free-exports  eaa_rsa  \n",
              "5      0.0                0.0      0.0  \n",
              "8      0.0                1.0      0.0  \n",
              "19     1.0                0.0      0.0  \n",
              "23     1.0                0.0      0.0  \n",
              "25     1.0                0.0      0.0  \n",
              "..     ...                ...      ...  \n",
              "423    0.0                0.0      0.0  \n",
              "426    1.0                0.0      0.0  \n",
              "427    0.0                1.0      0.0  \n",
              "430    0.0                1.0      0.0  \n",
              "431    1.0                1.0      0.0  \n",
              "\n",
              "[232 rows x 17 columns]"
            ],
            "text/html": [
              "\n",
              "\n",
              "  <div id=\"df-dc604dfe-82af-4e86-9c00-5f7f278ca337\">\n",
              "    <div class=\"colab-df-container\">\n",
              "      <div>\n",
              "<style scoped>\n",
              "    .dataframe tbody tr th:only-of-type {\n",
              "        vertical-align: middle;\n",
              "    }\n",
              "\n",
              "    .dataframe tbody tr th {\n",
              "        vertical-align: top;\n",
              "    }\n",
              "\n",
              "    .dataframe thead th {\n",
              "        text-align: right;\n",
              "    }\n",
              "</style>\n",
              "<table border=\"1\" class=\"dataframe\">\n",
              "  <thead>\n",
              "    <tr style=\"text-align: right;\">\n",
              "      <th></th>\n",
              "      <th>party</th>\n",
              "      <th>infants</th>\n",
              "      <th>water</th>\n",
              "      <th>budget</th>\n",
              "      <th>physician</th>\n",
              "      <th>salvador</th>\n",
              "      <th>religious</th>\n",
              "      <th>satellite</th>\n",
              "      <th>aid</th>\n",
              "      <th>missile</th>\n",
              "      <th>immigration</th>\n",
              "      <th>synfuels</th>\n",
              "      <th>education</th>\n",
              "      <th>superfund</th>\n",
              "      <th>crime</th>\n",
              "      <th>duty-free-exports</th>\n",
              "      <th>eaa_rsa</th>\n",
              "    </tr>\n",
              "  </thead>\n",
              "  <tbody>\n",
              "    <tr>\n",
              "      <th>5</th>\n",
              "      <td>democrat</td>\n",
              "      <td>1.0</td>\n",
              "      <td>0.0</td>\n",
              "      <td>0.0</td>\n",
              "      <td>1.0</td>\n",
              "      <td>0.0</td>\n",
              "      <td>0.0</td>\n",
              "      <td>1.0</td>\n",
              "      <td>1.0</td>\n",
              "      <td>1.0</td>\n",
              "      <td>1.0</td>\n",
              "      <td>1.0</td>\n",
              "      <td>1.0</td>\n",
              "      <td>0.0</td>\n",
              "      <td>0.0</td>\n",
              "      <td>0.0</td>\n",
              "      <td>0.0</td>\n",
              "    </tr>\n",
              "    <tr>\n",
              "      <th>8</th>\n",
              "      <td>republican</td>\n",
              "      <td>1.0</td>\n",
              "      <td>0.0</td>\n",
              "      <td>1.0</td>\n",
              "      <td>0.0</td>\n",
              "      <td>0.0</td>\n",
              "      <td>0.0</td>\n",
              "      <td>1.0</td>\n",
              "      <td>1.0</td>\n",
              "      <td>1.0</td>\n",
              "      <td>1.0</td>\n",
              "      <td>1.0</td>\n",
              "      <td>0.0</td>\n",
              "      <td>0.0</td>\n",
              "      <td>0.0</td>\n",
              "      <td>1.0</td>\n",
              "      <td>0.0</td>\n",
              "    </tr>\n",
              "    <tr>\n",
              "      <th>19</th>\n",
              "      <td>democrat</td>\n",
              "      <td>0.0</td>\n",
              "      <td>0.0</td>\n",
              "      <td>0.0</td>\n",
              "      <td>1.0</td>\n",
              "      <td>1.0</td>\n",
              "      <td>1.0</td>\n",
              "      <td>0.0</td>\n",
              "      <td>0.0</td>\n",
              "      <td>0.0</td>\n",
              "      <td>1.0</td>\n",
              "      <td>0.0</td>\n",
              "      <td>1.0</td>\n",
              "      <td>1.0</td>\n",
              "      <td>1.0</td>\n",
              "      <td>0.0</td>\n",
              "      <td>0.0</td>\n",
              "    </tr>\n",
              "    <tr>\n",
              "      <th>23</th>\n",
              "      <td>democrat</td>\n",
              "      <td>0.0</td>\n",
              "      <td>0.0</td>\n",
              "      <td>0.0</td>\n",
              "      <td>1.0</td>\n",
              "      <td>1.0</td>\n",
              "      <td>1.0</td>\n",
              "      <td>0.0</td>\n",
              "      <td>0.0</td>\n",
              "      <td>0.0</td>\n",
              "      <td>1.0</td>\n",
              "      <td>1.0</td>\n",
              "      <td>1.0</td>\n",
              "      <td>1.0</td>\n",
              "      <td>1.0</td>\n",
              "      <td>0.0</td>\n",
              "      <td>0.0</td>\n",
              "    </tr>\n",
              "    <tr>\n",
              "      <th>25</th>\n",
              "      <td>democrat</td>\n",
              "      <td>0.0</td>\n",
              "      <td>1.0</td>\n",
              "      <td>0.0</td>\n",
              "      <td>1.0</td>\n",
              "      <td>1.0</td>\n",
              "      <td>1.0</td>\n",
              "      <td>0.0</td>\n",
              "      <td>0.0</td>\n",
              "      <td>0.0</td>\n",
              "      <td>0.0</td>\n",
              "      <td>1.0</td>\n",
              "      <td>1.0</td>\n",
              "      <td>1.0</td>\n",
              "      <td>1.0</td>\n",
              "      <td>0.0</td>\n",
              "      <td>0.0</td>\n",
              "    </tr>\n",
              "    <tr>\n",
              "      <th>...</th>\n",
              "      <td>...</td>\n",
              "      <td>...</td>\n",
              "      <td>...</td>\n",
              "      <td>...</td>\n",
              "      <td>...</td>\n",
              "      <td>...</td>\n",
              "      <td>...</td>\n",
              "      <td>...</td>\n",
              "      <td>...</td>\n",
              "      <td>...</td>\n",
              "      <td>...</td>\n",
              "      <td>...</td>\n",
              "      <td>...</td>\n",
              "      <td>...</td>\n",
              "      <td>...</td>\n",
              "      <td>...</td>\n",
              "      <td>...</td>\n",
              "    </tr>\n",
              "    <tr>\n",
              "      <th>423</th>\n",
              "      <td>democrat</td>\n",
              "      <td>1.0</td>\n",
              "      <td>0.0</td>\n",
              "      <td>0.0</td>\n",
              "      <td>1.0</td>\n",
              "      <td>1.0</td>\n",
              "      <td>0.0</td>\n",
              "      <td>0.0</td>\n",
              "      <td>0.0</td>\n",
              "      <td>0.0</td>\n",
              "      <td>1.0</td>\n",
              "      <td>0.0</td>\n",
              "      <td>1.0</td>\n",
              "      <td>1.0</td>\n",
              "      <td>0.0</td>\n",
              "      <td>0.0</td>\n",
              "      <td>0.0</td>\n",
              "    </tr>\n",
              "    <tr>\n",
              "      <th>426</th>\n",
              "      <td>democrat</td>\n",
              "      <td>0.0</td>\n",
              "      <td>1.0</td>\n",
              "      <td>0.0</td>\n",
              "      <td>1.0</td>\n",
              "      <td>1.0</td>\n",
              "      <td>1.0</td>\n",
              "      <td>0.0</td>\n",
              "      <td>0.0</td>\n",
              "      <td>0.0</td>\n",
              "      <td>0.0</td>\n",
              "      <td>1.0</td>\n",
              "      <td>1.0</td>\n",
              "      <td>1.0</td>\n",
              "      <td>1.0</td>\n",
              "      <td>0.0</td>\n",
              "      <td>0.0</td>\n",
              "    </tr>\n",
              "    <tr>\n",
              "      <th>427</th>\n",
              "      <td>republican</td>\n",
              "      <td>1.0</td>\n",
              "      <td>1.0</td>\n",
              "      <td>1.0</td>\n",
              "      <td>0.0</td>\n",
              "      <td>0.0</td>\n",
              "      <td>0.0</td>\n",
              "      <td>0.0</td>\n",
              "      <td>0.0</td>\n",
              "      <td>1.0</td>\n",
              "      <td>0.0</td>\n",
              "      <td>1.0</td>\n",
              "      <td>0.0</td>\n",
              "      <td>0.0</td>\n",
              "      <td>0.0</td>\n",
              "      <td>1.0</td>\n",
              "      <td>0.0</td>\n",
              "    </tr>\n",
              "    <tr>\n",
              "      <th>430</th>\n",
              "      <td>republican</td>\n",
              "      <td>1.0</td>\n",
              "      <td>1.0</td>\n",
              "      <td>0.0</td>\n",
              "      <td>0.0</td>\n",
              "      <td>0.0</td>\n",
              "      <td>0.0</td>\n",
              "      <td>1.0</td>\n",
              "      <td>1.0</td>\n",
              "      <td>0.0</td>\n",
              "      <td>0.0</td>\n",
              "      <td>1.0</td>\n",
              "      <td>0.0</td>\n",
              "      <td>0.0</td>\n",
              "      <td>0.0</td>\n",
              "      <td>1.0</td>\n",
              "      <td>0.0</td>\n",
              "    </tr>\n",
              "    <tr>\n",
              "      <th>431</th>\n",
              "      <td>democrat</td>\n",
              "      <td>1.0</td>\n",
              "      <td>1.0</td>\n",
              "      <td>0.0</td>\n",
              "      <td>1.0</td>\n",
              "      <td>1.0</td>\n",
              "      <td>1.0</td>\n",
              "      <td>0.0</td>\n",
              "      <td>0.0</td>\n",
              "      <td>0.0</td>\n",
              "      <td>0.0</td>\n",
              "      <td>1.0</td>\n",
              "      <td>1.0</td>\n",
              "      <td>1.0</td>\n",
              "      <td>1.0</td>\n",
              "      <td>1.0</td>\n",
              "      <td>0.0</td>\n",
              "    </tr>\n",
              "  </tbody>\n",
              "</table>\n",
              "<p>232 rows × 17 columns</p>\n",
              "</div>\n",
              "      <button class=\"colab-df-convert\" onclick=\"convertToInteractive('df-dc604dfe-82af-4e86-9c00-5f7f278ca337')\"\n",
              "              title=\"Convert this dataframe to an interactive table.\"\n",
              "              style=\"display:none;\">\n",
              "\n",
              "  <svg xmlns=\"http://www.w3.org/2000/svg\" height=\"24px\"viewBox=\"0 0 24 24\"\n",
              "       width=\"24px\">\n",
              "    <path d=\"M0 0h24v24H0V0z\" fill=\"none\"/>\n",
              "    <path d=\"M18.56 5.44l.94 2.06.94-2.06 2.06-.94-2.06-.94-.94-2.06-.94 2.06-2.06.94zm-11 1L8.5 8.5l.94-2.06 2.06-.94-2.06-.94L8.5 2.5l-.94 2.06-2.06.94zm10 10l.94 2.06.94-2.06 2.06-.94-2.06-.94-.94-2.06-.94 2.06-2.06.94z\"/><path d=\"M17.41 7.96l-1.37-1.37c-.4-.4-.92-.59-1.43-.59-.52 0-1.04.2-1.43.59L10.3 9.45l-7.72 7.72c-.78.78-.78 2.05 0 2.83L4 21.41c.39.39.9.59 1.41.59.51 0 1.02-.2 1.41-.59l7.78-7.78 2.81-2.81c.8-.78.8-2.07 0-2.86zM5.41 20L4 18.59l7.72-7.72 1.47 1.35L5.41 20z\"/>\n",
              "  </svg>\n",
              "      </button>\n",
              "\n",
              "\n",
              "\n",
              "    <div id=\"df-07206e24-f641-437b-b352-84a035945a93\">\n",
              "      <button class=\"colab-df-quickchart\" onclick=\"quickchart('df-07206e24-f641-437b-b352-84a035945a93')\"\n",
              "              title=\"Suggest charts.\"\n",
              "              style=\"display:none;\">\n",
              "\n",
              "<svg xmlns=\"http://www.w3.org/2000/svg\" height=\"24px\"viewBox=\"0 0 24 24\"\n",
              "     width=\"24px\">\n",
              "    <g>\n",
              "        <path d=\"M19 3H5c-1.1 0-2 .9-2 2v14c0 1.1.9 2 2 2h14c1.1 0 2-.9 2-2V5c0-1.1-.9-2-2-2zM9 17H7v-7h2v7zm4 0h-2V7h2v10zm4 0h-2v-4h2v4z\"/>\n",
              "    </g>\n",
              "</svg>\n",
              "      </button>\n",
              "    </div>\n",
              "\n",
              "<style>\n",
              "  .colab-df-quickchart {\n",
              "    background-color: #E8F0FE;\n",
              "    border: none;\n",
              "    border-radius: 50%;\n",
              "    cursor: pointer;\n",
              "    display: none;\n",
              "    fill: #1967D2;\n",
              "    height: 32px;\n",
              "    padding: 0 0 0 0;\n",
              "    width: 32px;\n",
              "  }\n",
              "\n",
              "  .colab-df-quickchart:hover {\n",
              "    background-color: #E2EBFA;\n",
              "    box-shadow: 0px 1px 2px rgba(60, 64, 67, 0.3), 0px 1px 3px 1px rgba(60, 64, 67, 0.15);\n",
              "    fill: #174EA6;\n",
              "  }\n",
              "\n",
              "  [theme=dark] .colab-df-quickchart {\n",
              "    background-color: #3B4455;\n",
              "    fill: #D2E3FC;\n",
              "  }\n",
              "\n",
              "  [theme=dark] .colab-df-quickchart:hover {\n",
              "    background-color: #434B5C;\n",
              "    box-shadow: 0px 1px 3px 1px rgba(0, 0, 0, 0.15);\n",
              "    filter: drop-shadow(0px 1px 2px rgba(0, 0, 0, 0.3));\n",
              "    fill: #FFFFFF;\n",
              "  }\n",
              "</style>\n",
              "\n",
              "    <script>\n",
              "      async function quickchart(key) {\n",
              "        const containerElement = document.querySelector('#' + key);\n",
              "        const charts = await google.colab.kernel.invokeFunction(\n",
              "            'suggestCharts', [key], {});\n",
              "      }\n",
              "    </script>\n",
              "\n",
              "      <script>\n",
              "\n",
              "function displayQuickchartButton(domScope) {\n",
              "  let quickchartButtonEl =\n",
              "    domScope.querySelector('#df-07206e24-f641-437b-b352-84a035945a93 button.colab-df-quickchart');\n",
              "  quickchartButtonEl.style.display =\n",
              "    google.colab.kernel.accessAllowed ? 'block' : 'none';\n",
              "}\n",
              "\n",
              "        displayQuickchartButton(document);\n",
              "      </script>\n",
              "      <style>\n",
              "    .colab-df-container {\n",
              "      display:flex;\n",
              "      flex-wrap:wrap;\n",
              "      gap: 12px;\n",
              "    }\n",
              "\n",
              "    .colab-df-convert {\n",
              "      background-color: #E8F0FE;\n",
              "      border: none;\n",
              "      border-radius: 50%;\n",
              "      cursor: pointer;\n",
              "      display: none;\n",
              "      fill: #1967D2;\n",
              "      height: 32px;\n",
              "      padding: 0 0 0 0;\n",
              "      width: 32px;\n",
              "    }\n",
              "\n",
              "    .colab-df-convert:hover {\n",
              "      background-color: #E2EBFA;\n",
              "      box-shadow: 0px 1px 2px rgba(60, 64, 67, 0.3), 0px 1px 3px 1px rgba(60, 64, 67, 0.15);\n",
              "      fill: #174EA6;\n",
              "    }\n",
              "\n",
              "    [theme=dark] .colab-df-convert {\n",
              "      background-color: #3B4455;\n",
              "      fill: #D2E3FC;\n",
              "    }\n",
              "\n",
              "    [theme=dark] .colab-df-convert:hover {\n",
              "      background-color: #434B5C;\n",
              "      box-shadow: 0px 1px 3px 1px rgba(0, 0, 0, 0.15);\n",
              "      filter: drop-shadow(0px 1px 2px rgba(0, 0, 0, 0.3));\n",
              "      fill: #FFFFFF;\n",
              "    }\n",
              "  </style>\n",
              "\n",
              "      <script>\n",
              "        const buttonEl =\n",
              "          document.querySelector('#df-dc604dfe-82af-4e86-9c00-5f7f278ca337 button.colab-df-convert');\n",
              "        buttonEl.style.display =\n",
              "          google.colab.kernel.accessAllowed ? 'block' : 'none';\n",
              "\n",
              "        async function convertToInteractive(key) {\n",
              "          const element = document.querySelector('#df-dc604dfe-82af-4e86-9c00-5f7f278ca337');\n",
              "          const dataTable =\n",
              "            await google.colab.kernel.invokeFunction('convertToInteractive',\n",
              "                                                     [key], {});\n",
              "          if (!dataTable) return;\n",
              "\n",
              "          const docLinkHtml = 'Like what you see? Visit the ' +\n",
              "            '<a target=\"_blank\" href=https://colab.research.google.com/notebooks/data_table.ipynb>data table notebook</a>'\n",
              "            + ' to learn more about interactive tables.';\n",
              "          element.innerHTML = '';\n",
              "          dataTable['output_type'] = 'display_data';\n",
              "          await google.colab.output.renderOutput(dataTable, element);\n",
              "          const docLink = document.createElement('div');\n",
              "          docLink.innerHTML = docLinkHtml;\n",
              "          element.appendChild(docLink);\n",
              "        }\n",
              "      </script>\n",
              "    </div>\n",
              "  </div>\n"
            ]
          },
          "metadata": {},
          "execution_count": 23
        }
      ]
    },
    {
      "cell_type": "code",
      "metadata": {
        "id": "b-hijXjWdwej"
      },
      "source": [
        "# Transformação dos dados categóricos para binários\n",
        "\n",
        "#dfnovo.mean()"
      ],
      "execution_count": null,
      "outputs": []
    },
    {
      "cell_type": "code",
      "metadata": {
        "id": "c39lfRlwdwel",
        "colab": {
          "base_uri": "https://localhost:8080/",
          "height": 458
        },
        "outputId": "dc1d7425-6aac-45be-a65f-cc9701078f4b"
      },
      "source": [
        "# Exercutar o seguinte programa\n",
        "import seaborn as sns\n",
        "sns.set()\n",
        "\n",
        "plt.figure()\n",
        "#sns.countplot(x='education', hue='party', data=dfnovo, palette='RdBu')\n",
        "sns.countplot(x=12, hue=0, data=dfnovo, palette='RdBu')\n",
        "plt.xticks([0,1], ['No', 'Yes'])\n",
        "plt.show()"
      ],
      "execution_count": 14,
      "outputs": [
        {
          "output_type": "display_data",
          "data": {
            "text/plain": [
              "<Figure size 640x480 with 1 Axes>"
            ],
            "image/png": "[encoded data removed]"
          },
          "metadata": {}
        }
      ]
    },
    {
      "cell_type": "markdown",
      "metadata": {
        "id": "FILioMkRdweo"
      },
      "source": [
        "Repita o procedimento para variáveis 'satellite' e 'missile'\n",
        "\n",
        "Qual é a sua conclusão?"
      ]
    },
    {
      "cell_type": "code",
      "metadata": {
        "id": "QBWCOHYbdwep",
        "colab": {
          "base_uri": "https://localhost:8080/",
          "height": 458
        },
        "outputId": "781a3255-e172-48af-f748-6a4607f14960"
      },
      "source": [
        "# Análise para a variável 'satellite'\n",
        "import seaborn as sns\n",
        "sns.set()\n",
        "\n",
        "plt.figure()\n",
        "sns.countplot(x = 'satellite', hue = 'party', data=dfnovo, palette='RdBu')\n",
        "plt.xticks([0,1], ['No', 'Yes'])\n",
        "plt.show()\n"
      ],
      "execution_count": 26,
      "outputs": [
        {
          "output_type": "display_data",
          "data": {
            "text/plain": [
              "<Figure size 640x480 with 1 Axes>"
            ],
            "image/png": "[encoded data removed]"
          },
          "metadata": {}
        }
      ]
    },
    {
      "cell_type": "code",
      "metadata": {
        "id": "r9qi2tNKdwes",
        "colab": {
          "base_uri": "https://localhost:8080/",
          "height": 458
        },
        "outputId": "e08e55bc-631e-475d-c6b1-00822319020c"
      },
      "source": [
        "# Análise para a variável 'missile'\n",
        "import seaborn as sns\n",
        "sns.set()\n",
        "plt.figure()\n",
        "sns.countplot(x = 'missile', hue = 'party', data=dfnovo, palette='RdBu')\n",
        "plt.xticks([0,1], ['No', 'Yes'])\n",
        "plt.show()"
      ],
      "execution_count": 27,
      "outputs": [
        {
          "output_type": "display_data",
          "data": {
            "text/plain": [
              "<Figure size 640x480 with 1 Axes>"
            ],
            "image/png": "[encoded data removed]"
          },
          "metadata": {}
        }
      ]
    },
    {
      "cell_type": "markdown",
      "metadata": {
        "id": "ySXpxO9Idwev"
      },
      "source": [
        "## 2. Classificação com o Pacote Sklearn\n",
        " O pacote Sklearn já implementa os princiapis métodos e métricas de aprendizagem de máquinas, como:K-NN, Naive-Bayesian, Decision Tree, Random Forest, Regressão Logística, SVM, etc.\n",
        "\n",
        " Aqui utilizaremos o algoritmo KNN como exempo de uso do pacote Sklearn para o contexto de classificação de dados.\n"
      ]
    },
    {
      "cell_type": "markdown",
      "metadata": {
        "id": "iLi1R0Lxdwev"
      },
      "source": [
        "### 2.1 Uso do Algoritmo K-NN para Classificação de Dados\n",
        "\n",
        "Procedimento padrão:\n",
        "- Importar classificador a partir do pacote 'sklearn'\n",
        "- Carregar o dataframe\n",
        "- Obter os arrays (numPy) de características (features - bidimensional) e target (unidimensional)\n",
        "- Binarizar os dados\n",
        "- Escolher conjuntos de treinamento e conjunto de teste\n",
        "- Fazer o treinamento (método .fit(X_train, y_train))\n",
        "- Analisar Resultado (avaliação via métodos .predict(X_new) ou .score(X_test))"
      ]
    },
    {
      "cell_type": "markdown",
      "metadata": {
        "id": "lRMnY-F9dwew"
      },
      "source": [
        "#### 2.1.1 Exemplo com o Dataset 'iris'."
      ]
    },
    {
      "cell_type": "markdown",
      "metadata": {
        "id": "LoHiqzcadwew"
      },
      "source": [
        "Importação do dataset Iris do Pacote Sklearn.\n",
        "\n",
        "Instanciação do dataset via comando load_irirs().\n",
        "- o dataset contém tributo (key) - valor (value).\n",
        "\n"
      ]
    },
    {
      "cell_type": "code",
      "metadata": {
        "id": "r5fj3W5Cdwex"
      },
      "source": [
        "# Carregamento do dataset 'iris' a partir do Pacote sklearn\n",
        "from sklearn.datasets import load_iris\n",
        "iris_dataset = load_iris()"
      ],
      "execution_count": 28,
      "outputs": []
    },
    {
      "cell_type": "code",
      "metadata": {
        "id": "RSSpZ8fAdwe0",
        "colab": {
          "base_uri": "https://localhost:8080/"
        },
        "outputId": "46a49b88-3259-405d-f38f-13ac9092349c"
      },
      "source": [
        "print(\"Keys of iris_dataset: \\n{}\".format(iris_dataset.keys()))"
      ],
      "execution_count": 29,
      "outputs": [
        {
          "output_type": "stream",
          "name": "stdout",
          "text": [
            "Keys of iris_dataset: \n",
            "dict_keys(['data', 'target', 'frame', 'target_names', 'DESCR', 'feature_names', 'filename', 'data_module'])\n"
          ]
        }
      ]
    },
    {
      "cell_type": "markdown",
      "metadata": {
        "id": "IaTQXV5wdwe1"
      },
      "source": [
        "O valor da key DESCR é uma descrição resumida do dataset.\n",
        "\n"
      ]
    },
    {
      "cell_type": "code",
      "metadata": {
        "id": "8YbdQyIJdwe2",
        "colab": {
          "base_uri": "https://localhost:8080/"
        },
        "outputId": "ddb17535-2158-42b4-cd08-874044a67818"
      },
      "source": [
        "print(iris_dataset['DESCR'][:193] + \"\\n...\")"
      ],
      "execution_count": 30,
      "outputs": [
        {
          "output_type": "stream",
          "name": "stdout",
          "text": [
            ".. _iris_dataset:\n",
            "\n",
            "Iris plants dataset\n",
            "--------------------\n",
            "\n",
            "**Data Set Characteristics:**\n",
            "\n",
            "    :Number of Instances: 150 (50 in each of three classes)\n",
            "    :Number of Attributes: 4 numeric, pre\n",
            "...\n"
          ]
        }
      ]
    },
    {
      "cell_type": "markdown",
      "metadata": {
        "id": "w5mwkla8dwe4"
      },
      "source": [
        "O valor da key target_names é um array de strings, contendo as espécieis de flores que se deseja predizer.\n"
      ]
    },
    {
      "cell_type": "code",
      "metadata": {
        "id": "iG2Meymmdwe5",
        "colab": {
          "base_uri": "https://localhost:8080/"
        },
        "outputId": "cebedcc3-39b7-4770-f6eb-426aca83fb8c"
      },
      "source": [
        "print(\"Target names: {}\".format(iris_dataset['target_names']))"
      ],
      "execution_count": 31,
      "outputs": [
        {
          "output_type": "stream",
          "name": "stdout",
          "text": [
            "Target names: ['setosa' 'versicolor' 'virginica']\n"
          ]
        }
      ]
    },
    {
      "cell_type": "markdown",
      "metadata": {
        "id": "W4gjqJscdwe7"
      },
      "source": [
        "O valor de feature_names é uma lista de strings, fornecendo a descrição de cada atributo (feature):"
      ]
    },
    {
      "cell_type": "code",
      "metadata": {
        "id": "AK5cDHDbdwe7",
        "colab": {
          "base_uri": "https://localhost:8080/"
        },
        "outputId": "e5f0a716-d4b6-4b5f-e9fb-b61ba3d787fd"
      },
      "source": [
        "print(\"Feature names: \\n{}\".format(iris_dataset['feature_names']))"
      ],
      "execution_count": 32,
      "outputs": [
        {
          "output_type": "stream",
          "name": "stdout",
          "text": [
            "Feature names: \n",
            "['sepal length (cm)', 'sepal width (cm)', 'petal length (cm)', 'petal width (cm)']\n"
          ]
        }
      ]
    },
    {
      "cell_type": "markdown",
      "metadata": {
        "id": "HuhHtAahdwe-"
      },
      "source": [
        "Os dados são compostos de campos de target e atributos (features).\n",
        "\n",
        "Os dados contêm medidas numéricas (do tipo Array Numpy) dos seguintes atribuitos: sepal length, sepal width, petal length e petal width.\n"
      ]
    },
    {
      "cell_type": "code",
      "metadata": {
        "id": "IrBrGYHWdwe-",
        "colab": {
          "base_uri": "https://localhost:8080/"
        },
        "outputId": "c69ae98d-1c58-4ecd-967b-b159ce24922e"
      },
      "source": [
        "print(\"Type of data: {}\".format(type(iris_dataset['data'])))"
      ],
      "execution_count": 33,
      "outputs": [
        {
          "output_type": "stream",
          "name": "stdout",
          "text": [
            "Type of data: <class 'numpy.ndarray'>\n"
          ]
        }
      ]
    },
    {
      "cell_type": "markdown",
      "metadata": {
        "id": "uOryS_AZdwfA"
      },
      "source": [
        " As linhas do array de dados correspondem às flores, enquanto que as colunas representam uma das 4 classes possíveis de espécieis de flores (orquídea).\n"
      ]
    },
    {
      "cell_type": "code",
      "metadata": {
        "id": "GcHuS31LdwfA",
        "colab": {
          "base_uri": "https://localhost:8080/"
        },
        "outputId": "241b32c5-9c2f-452b-c475-f9cb2b61d2bd"
      },
      "source": [
        "print(\"Shape of data: {}\".format(iris_dataset['data'].shape))"
      ],
      "execution_count": 34,
      "outputs": [
        {
          "output_type": "stream",
          "name": "stdout",
          "text": [
            "Shape of data: (150, 4)\n"
          ]
        }
      ]
    },
    {
      "cell_type": "markdown",
      "metadata": {
        "id": "YaWbgt5SdwfC"
      },
      "source": [
        "O array target contém as espécieis de cada flor que foi medida, também é um NumPy array.\n"
      ]
    },
    {
      "cell_type": "code",
      "metadata": {
        "id": "XYpEd3z7dwfD",
        "colab": {
          "base_uri": "https://localhost:8080/"
        },
        "outputId": "fcd3e01c-1a38-4b0e-e20b-7fa01c906822"
      },
      "source": [
        "print(\"Type of target: {}\".format(type(iris_dataset['target'])))"
      ],
      "execution_count": 35,
      "outputs": [
        {
          "output_type": "stream",
          "name": "stdout",
          "text": [
            "Type of target: <class 'numpy.ndarray'>\n"
          ]
        }
      ]
    },
    {
      "cell_type": "markdown",
      "metadata": {
        "id": "GD1ovYeRdwfF"
      },
      "source": [
        "A target é um array uni-dimencional, com uma entrada para cada flor."
      ]
    },
    {
      "cell_type": "code",
      "metadata": {
        "id": "7e4x2aJMdwfF",
        "colab": {
          "base_uri": "https://localhost:8080/"
        },
        "outputId": "c81962b7-3b36-44a3-c6fb-be9c426769c2"
      },
      "source": [
        "print(\"Shape of target: {}\".format(iris_dataset['target'].shape))"
      ],
      "execution_count": 36,
      "outputs": [
        {
          "output_type": "stream",
          "name": "stdout",
          "text": [
            "Shape of target: (150,)\n"
          ]
        }
      ]
    },
    {
      "cell_type": "markdown",
      "metadata": {
        "id": "nl5O0K8odwfH"
      },
      "source": [
        "As espécieis (species) são codificadas como inteiros de 0 a 2."
      ]
    },
    {
      "cell_type": "code",
      "metadata": {
        "id": "r7NN6DRAdwfH",
        "colab": {
          "base_uri": "https://localhost:8080/"
        },
        "outputId": "2dbacd85-ab7f-4083-8758-d37615b6efda"
      },
      "source": [
        "print(\"Target:\\n{}\".format(iris_dataset['target']))"
      ],
      "execution_count": 37,
      "outputs": [
        {
          "output_type": "stream",
          "name": "stdout",
          "text": [
            "Target:\n",
            "[0 0 0 0 0 0 0 0 0 0 0 0 0 0 0 0 0 0 0 0 0 0 0 0 0 0 0 0 0 0 0 0 0 0 0 0 0\n",
            " 0 0 0 0 0 0 0 0 0 0 0 0 0 1 1 1 1 1 1 1 1 1 1 1 1 1 1 1 1 1 1 1 1 1 1 1 1\n",
            " 1 1 1 1 1 1 1 1 1 1 1 1 1 1 1 1 1 1 1 1 1 1 1 1 1 1 2 2 2 2 2 2 2 2 2 2 2\n",
            " 2 2 2 2 2 2 2 2 2 2 2 2 2 2 2 2 2 2 2 2 2 2 2 2 2 2 2 2 2 2 2 2 2 2 2 2 2\n",
            " 2 2]\n"
          ]
        }
      ]
    },
    {
      "cell_type": "markdown",
      "metadata": {
        "id": "iaqao7hZdwfJ"
      },
      "source": [
        "#### 2.1.1.a Dados de Treinamento e de Teste\n",
        "\n",
        "\n",
        "Em aprendizagem supervisionada, em geral os dados coletados (aqui, nossas 150 medições de flores) são divididos em dois sub-conjunto. Um deles é usado para criar o modelo de aprendizado de máquina e é chamado de dados de treinamento ou conjunto de treinamento. O outro conjunto de dados será usado para avaliar como o modelo funciona; e é chamado de dados de teste, conjunto de teste ou conjunto de retenção.\n",
        "\n",
        "\n",
        "O scikit-learn contém uma função que embaralha o conjunto de dados e o divide em dois sub-conjuntos: função train_test_split.\n",
        "\n",
        "Por padrão, essa função extrai 75% das linhas nos dados para o conjunto de treinamento, juntamente com os rótulos correspondentes para esses dados. Os 25% restantes dos dados, juntamente com os rótulos restantes, são declarados como o conjunto de testes.\n",
        "\n",
        "No scikit-learn, os dados (atribuitos, features) são geralmente indicados por um X maiúsculo, enquanto os rótulos target) são indicados por um y minúsculo. Isso é inspirado na formulação matemática padrão f (x) = y, onde x é a entrada para uma função e y é a saída. Seguindo mais convenções da matemática, usa-se um X maiúsculo porque os dados são uma matriz (array bi-dimencional) e um y minúsculo porque o target (destino) é um vetor (array unidimencional)matriz unidimensional.\n",
        "\n"
      ]
    },
    {
      "cell_type": "code",
      "metadata": {
        "id": "QjN8SYF6dwfK"
      },
      "source": [
        "# Dividindo os dados em conjutoe de Treino e de Teste\n",
        "\n",
        "from sklearn.model_selection import train_test_split\n",
        "\n",
        "X_train, X_test, y_train, y_test = train_test_split(iris_dataset['data'],\n",
        "                                                    iris_dataset['target'],\n",
        "                                                    random_state=0)"
      ],
      "execution_count": 38,
      "outputs": []
    },
    {
      "cell_type": "markdown",
      "metadata": {
        "id": "x-vbTeQxdwfM"
      },
      "source": [
        "As saídas da função train_test_split function são: X_train, X_test, y_train, e y_test. Essas variáveis são do tipo NumPy arrays.\n",
        "\n",
        "Por padrão, X_train contém 75% das linhas do dataset, e X_test contém os 25% restantes dos dados:"
      ]
    },
    {
      "cell_type": "code",
      "metadata": {
        "id": "QO6nvvg6dwfM",
        "colab": {
          "base_uri": "https://localhost:8080/"
        },
        "outputId": "4b362beb-8244-4cb3-8f17-3233635a305d"
      },
      "source": [
        "print(\"X_train shape: {}\".format(X_train.shape))\n",
        "print(\"y_train shape: {}\".format(y_train.shape))"
      ],
      "execution_count": 39,
      "outputs": [
        {
          "output_type": "stream",
          "name": "stdout",
          "text": [
            "X_train shape: (112, 4)\n",
            "y_train shape: (112,)\n"
          ]
        }
      ]
    },
    {
      "cell_type": "code",
      "metadata": {
        "id": "rnPOqy8IdwfO",
        "colab": {
          "base_uri": "https://localhost:8080/"
        },
        "outputId": "7b6fff73-729b-42f7-9a84-c80881671149"
      },
      "source": [
        "print(\"X_test shape: {}\".format(X_test.shape))\n",
        "print(\"y_test shape: {}\".format(y_test.shape))"
      ],
      "execution_count": 40,
      "outputs": [
        {
          "output_type": "stream",
          "name": "stdout",
          "text": [
            "X_test shape: (38, 4)\n",
            "y_test shape: (38,)\n"
          ]
        }
      ]
    },
    {
      "cell_type": "markdown",
      "metadata": {
        "id": "mgK0v4m0dwfP"
      },
      "source": [
        "\n",
        "\n",
        "#### 2.1.1.b Ajuste do Modelo - Fiting Model - Fase de Treinamento do Modelo\n",
        "\n",
        "Todos os modelos de aprendizado de máquina no scikit-learn são implementados em suas próprias classes, denominadas classes Estimator. O algoritmo de classificação dos k-vizinhos mais próximos (k-nearest neighbors, K-NN) é implementado na classe KNeighborsClassifier no módulo neighbors.\n",
        "\n",
        "Antes de se poder usar o modelo, precisa-se instanciar um objeto dessa classe com os hiperparâmetros do modelo. O parâmetro mais importante do KNeighborsClassifier é o número de vizinhos, que pr padrão é igual a 1.\n",
        "\n"
      ]
    },
    {
      "cell_type": "code",
      "metadata": {
        "id": "cWf-z6aBdwfQ"
      },
      "source": [
        "from sklearn.neighbors import KNeighborsClassifier\n",
        "knn = KNeighborsClassifier(n_neighbors=1)"
      ],
      "execution_count": 41,
      "outputs": []
    },
    {
      "cell_type": "markdown",
      "metadata": {
        "id": "f1EjUzKqdwfR"
      },
      "source": [
        "Para construir o modelo no conjunto de treinamento, chama-se o método de treino/ajuste do objeto knn (no caso, knn.fit(X_train, y_train)),que assume como argumentos a matriz (array bi-dimencional) NumPy X_train contendo os dados de treinamento e o vetor NumPy (array unidimencional) y_train dos rótulos de treinamento.\n"
      ]
    },
    {
      "cell_type": "code",
      "metadata": {
        "id": "Du-2KO6UdwfS",
        "colab": {
          "base_uri": "https://localhost:8080/",
          "height": 75
        },
        "outputId": "5a9da0ad-2ad1-424c-fe1b-421680a4d298"
      },
      "source": [
        "knn.fit(X_train, y_train)"
      ],
      "execution_count": 42,
      "outputs": [
        {
          "output_type": "execute_result",
          "data": {
            "text/plain": [
              "KNeighborsClassifier(n_neighbors=1)"
            ],
            "text/html": [
              "<style>#sk-container-id-1 {color: black;background-color: white;}#sk-container-id-1 pre{padding: 0;}#sk-container-id-1 div.sk-toggleable {background-color: white;}#sk-container-id-1 label.sk-toggleable__label {cursor: pointer;display: block;width: 100%;margin-bottom: 0;padding: 0.3em;box-sizing: border-box;text-align: center;}#sk-container-id-1 label.sk-toggleable__label-arrow:before {content: \"▸\";float: left;margin-right: 0.25em;color: #696969;}#sk-container-id-1 label.sk-toggleable__label-arrow:hover:before {color: black;}#sk-container-id-1 div.sk-estimator:hover label.sk-toggleable__label-arrow:before {color: black;}#sk-container-id-1 div.sk-toggleable__content {max-height: 0;max-width: 0;overflow: hidden;text-align: left;background-color: #f0f8ff;}#sk-container-id-1 div.sk-toggleable__content pre {margin: 0.2em;color: black;border-radius: 0.25em;background-color: #f0f8ff;}#sk-container-id-1 input.sk-toggleable__control:checked~div.sk-toggleable__content {max-height: 200px;max-width: 100%;overflow: auto;}#sk-container-id-1 input.sk-toggleable__control:checked~label.sk-toggleable__label-arrow:before {content: \"▾\";}#sk-container-id-1 div.sk-estimator input.sk-toggleable__control:checked~label.sk-toggleable__label {background-color: #d4ebff;}#sk-container-id-1 div.sk-label input.sk-toggleable__control:checked~label.sk-toggleable__label {background-color: #d4ebff;}#sk-container-id-1 input.sk-hidden--visually {border: 0;clip: rect(1px 1px 1px 1px);clip: rect(1px, 1px, 1px, 1px);height: 1px;margin: -1px;overflow: hidden;padding: 0;position: absolute;width: 1px;}#sk-container-id-1 div.sk-estimator {font-family: monospace;background-color: #f0f8ff;border: 1px dotted black;border-radius: 0.25em;box-sizing: border-box;margin-bottom: 0.5em;}#sk-container-id-1 div.sk-estimator:hover {background-color: #d4ebff;}#sk-container-id-1 div.sk-parallel-item::after {content: \"\";width: 100%;border-bottom: 1px solid gray;flex-grow: 1;}#sk-container-id-1 div.sk-label:hover label.sk-toggleable__label {background-color: #d4ebff;}#sk-container-id-1 div.sk-serial::before {content: \"\";position: absolute;border-left: 1px solid gray;box-sizing: border-box;top: 0;bottom: 0;left: 50%;z-index: 0;}#sk-container-id-1 div.sk-serial {display: flex;flex-direction: column;align-items: center;background-color: white;padding-right: 0.2em;padding-left: 0.2em;position: relative;}#sk-container-id-1 div.sk-item {position: relative;z-index: 1;}#sk-container-id-1 div.sk-parallel {display: flex;align-items: stretch;justify-content: center;background-color: white;position: relative;}#sk-container-id-1 div.sk-item::before, #sk-container-id-1 div.sk-parallel-item::before {content: \"\";position: absolute;border-left: 1px solid gray;box-sizing: border-box;top: 0;bottom: 0;left: 50%;z-index: -1;}#sk-container-id-1 div.sk-parallel-item {display: flex;flex-direction: column;z-index: 1;position: relative;background-color: white;}#sk-container-id-1 div.sk-parallel-item:first-child::after {align-self: flex-end;width: 50%;}#sk-container-id-1 div.sk-parallel-item:last-child::after {align-self: flex-start;width: 50%;}#sk-container-id-1 div.sk-parallel-item:only-child::after {width: 0;}#sk-container-id-1 div.sk-dashed-wrapped {border: 1px dashed gray;margin: 0 0.4em 0.5em 0.4em;box-sizing: border-box;padding-bottom: 0.4em;background-color: white;}#sk-container-id-1 div.sk-label label {font-family: monospace;font-weight: bold;display: inline-block;line-height: 1.2em;}#sk-container-id-1 div.sk-label-container {text-align: center;}#sk-container-id-1 div.sk-container {/* jupyter's `normalize.less` sets `[hidden] { display: none; }` but bootstrap.min.css set `[hidden] { display: none !important; }` so we also need the `!important` here to be able to override the default hidden behavior on the sphinx rendered scikit-learn.org. See: https://github.com/scikit-learn/scikit-learn/issues/21755 */display: inline-block !important;position: relative;}#sk-container-id-1 div.sk-text-repr-fallback {display: none;}</style><div id=\"sk-container-id-1\" class=\"sk-top-container\"><div class=\"sk-text-repr-fallback\"><pre>KNeighborsClassifier(n_neighbors=1)</pre><b>In a Jupyter environment, please rerun this cell to show the HTML representation or trust the notebook. <br />On GitHub, the HTML representation is unable to render, please try loading this page with nbviewer.org.</b></div><div class=\"sk-container\" hidden><div class=\"sk-item\"><div class=\"sk-estimator sk-toggleable\"><input class=\"sk-toggleable__control sk-hidden--visually\" id=\"sk-estimator-id-1\" type=\"checkbox\" checked><label for=\"sk-estimator-id-1\" class=\"sk-toggleable__label sk-toggleable__label-arrow\">KNeighborsClassifier</label><div class=\"sk-toggleable__content\"><pre>KNeighborsClassifier(n_neighbors=1)</pre></div></div></div></div></div>"
            ]
          },
          "metadata": {},
          "execution_count": 42
        }
      ]
    },
    {
      "cell_type": "markdown",
      "metadata": {
        "id": "B6LUEz0AdwfZ"
      },
      "source": [
        "#### 2.1.1.c Predição do Modelo - Fase de Validação\n",
        "Agora, pode-se fazer previsões usando esse modelo em novos dados para os quais talvez não se conhece os rótulos corretos.\n",
        "\n",
        "Para uma flor íris na natureza com um comprimento séptico de 5 cm, uma largura séptica de 2,9 cm, um comprimento de pétala de 1 cm e uma largura de pétala de 0,2 cm, que espécie de íris ela seria?\n",
        "\n",
        "Podemos colocar esses dados em uma matriz NumPy, novamente calculando a forma - ou seja, o número de amostras multiplicado pelo número de recursos.\n",
        "\n"
      ]
    },
    {
      "cell_type": "code",
      "metadata": {
        "id": "Xegw-bAUdwfZ",
        "colab": {
          "base_uri": "https://localhost:8080/"
        },
        "outputId": "d7194e05-6775-4c7b-a5ad-41c3bc89e180"
      },
      "source": [
        "X_new = np.array([[5, 2.9, 1, 0.2]])\n",
        "print(\"X_new.shape: {}\".format(X_new.shape))"
      ],
      "execution_count": 43,
      "outputs": [
        {
          "output_type": "stream",
          "name": "stdout",
          "text": [
            "X_new.shape: (1, 4)\n"
          ]
        }
      ]
    },
    {
      "cell_type": "markdown",
      "metadata": {
        "id": "qvUP4QAgdwfb"
      },
      "source": [
        "Observe que fizemos as medições dessa única flor em uma linha em uma matriz NumPy bidimensional, pois o scikit-learn sempre espera matrizes bidimensionais para os dados.\n",
        "\n",
        "Para fazer uma previsão, chamamos o método de previsão do objeto knn:\n",
        "- knn.predict(X_new)\n"
      ]
    },
    {
      "cell_type": "code",
      "metadata": {
        "id": "bUfkEEQsdwfb",
        "colab": {
          "base_uri": "https://localhost:8080/"
        },
        "outputId": "01df2ca9-1ecb-44dd-ce73-aab7f24ae3ff"
      },
      "source": [
        "prediction = knn.predict(X_new)\n",
        "print(\"Prediction: {}\".format(prediction))\n",
        "print(\"Predicted target name: {}\".format(\n",
        "        iris_dataset['target_names'][prediction]))"
      ],
      "execution_count": 44,
      "outputs": [
        {
          "output_type": "stream",
          "name": "stdout",
          "text": [
            "Prediction: [0]\n",
            "Predicted target name: ['setosa']\n"
          ]
        }
      ]
    },
    {
      "cell_type": "markdown",
      "metadata": {
        "id": "Lt4IRC4udwfd"
      },
      "source": [
        "#### 2.1.1.d Avaliação do Modelo Treinado\n",
        "\n",
        "É aqui que entra o conjunto de testes que criamos anteriormente. Esses dados não foram usados para construir o modelo, mas sabemos qual é a espécie correta para cada íris no conjunto de teste.\n",
        "\n",
        "Portanto, podemos fazer uma previsão para cada dado de íris nos dados de teste e compará-la com seu rótulo (a espécie conhecida). Podemos medir até que ponto o modelo funciona calculando a precisão, que é a fração de flores para a qual a espécie certa foi prevista.\n",
        "\n"
      ]
    },
    {
      "cell_type": "code",
      "metadata": {
        "id": "-Fp_y2zGdwfe",
        "colab": {
          "base_uri": "https://localhost:8080/"
        },
        "outputId": "ed9a31d4-00b8-4f91-87f9-ae0d775a5913"
      },
      "source": [
        "y_pred = knn.predict(X_test)\n",
        "print(\"Test set predictions:\\n {}\".format(y_pred))"
      ],
      "execution_count": 45,
      "outputs": [
        {
          "output_type": "stream",
          "name": "stdout",
          "text": [
            "Test set predictions:\n",
            " [2 1 0 2 0 2 0 1 1 1 2 1 1 1 1 0 1 1 0 0 2 1 0 0 2 0 0 1 1 0 2 1 0 2 2 1 0\n",
            " 2]\n"
          ]
        }
      ]
    },
    {
      "cell_type": "code",
      "metadata": {
        "id": "Z8abHoDfdwff",
        "colab": {
          "base_uri": "https://localhost:8080/"
        },
        "outputId": "3703891c-e5e5-406c-ba99-2e2fd1e7d47b"
      },
      "source": [
        "print(\"Test set score: {:.2f}\".format(np.mean(y_pred == y_test)))"
      ],
      "execution_count": 46,
      "outputs": [
        {
          "output_type": "stream",
          "name": "stdout",
          "text": [
            "Test set score: 0.97\n"
          ]
        }
      ]
    },
    {
      "cell_type": "markdown",
      "metadata": {
        "id": "GBDbDhwMdwfh"
      },
      "source": [
        "Também podemos usar o método de pontuação do objeto knn (score), que calculará a precisão do conjunto de testes:\n",
        "\n",
        "- knn.score(X_test, y_test)"
      ]
    },
    {
      "cell_type": "code",
      "metadata": {
        "id": "-vzFdaK3dwfh",
        "colab": {
          "base_uri": "https://localhost:8080/"
        },
        "outputId": "743ada70-709d-4255-ad3b-ffd64c619467"
      },
      "source": [
        "print(\"Test set score: {:.2f}\".format(knn.score(X_test, y_test)))"
      ],
      "execution_count": 47,
      "outputs": [
        {
          "output_type": "stream",
          "name": "stdout",
          "text": [
            "Test set score: 0.97\n"
          ]
        }
      ]
    },
    {
      "cell_type": "markdown",
      "metadata": {
        "id": "7i4Mx7Xodwfj"
      },
      "source": [
        "#### 2.1.1.e Revisão\n",
        "Os passo do processo de uso são basicamente: instaciação do objeto modelo, treino do modleo e teste/validação do modelo.\n",
        "\n",
        "Cm o modelo treinado, pode-se aplicar o modelo a novos dados (no nosso exemplo, novas medições de flores).\n",
        "\n",
        "A seguir é apresentado um resumo do código necessário para todo o procedimento de treinamento e avaliação:\n"
      ]
    },
    {
      "cell_type": "code",
      "metadata": {
        "id": "Wmrcpd1odwfk",
        "colab": {
          "base_uri": "https://localhost:8080/"
        },
        "outputId": "e09a2ba9-3362-4136-e547-e710647c0b99"
      },
      "source": [
        "X_train, X_test, y_train, y_test = train_test_split(\n",
        "      iris_dataset['data'], iris_dataset['target'], random_state=0)\n",
        "knn = KNeighborsClassifier(n_neighbors=1)\n",
        "knn.fit(X_train, y_train)\n",
        "print(\"Test set score: {:.2f}\".format(knn.score(X_test, y_test)))"
      ],
      "execution_count": 48,
      "outputs": [
        {
          "output_type": "stream",
          "name": "stdout",
          "text": [
            "Test set score: 0.97\n"
          ]
        }
      ]
    },
    {
      "cell_type": "code",
      "metadata": {
        "id": "cFLPmlBXdwfl",
        "colab": {
          "base_uri": "https://localhost:8080/"
        },
        "outputId": "889b3765-cccb-4581-f350-c7e68da58d80"
      },
      "source": [
        "# Dados de teste com 20% do conjunto de dados\n",
        "X_train, X_test, y_train, y_test = train_test_split(\n",
        "    iris_dataset['data'], iris_dataset['target'],\n",
        "    test_size = 0.2, random_state=42, stratify=y)\n",
        "\n",
        "# Treinando com número de vizinhos igual a 5 (n=5)\n",
        "knn = KNeighborsClassifier(n_neighbors=5)\n",
        "knn.fit(X_train, y_train)\n",
        "print(\"Test set score: {:.2f}\".format(knn.score(X_test, y_test)))"
      ],
      "execution_count": 49,
      "outputs": [
        {
          "output_type": "stream",
          "name": "stdout",
          "text": [
            "Test set score: 1.00\n"
          ]
        }
      ]
    },
    {
      "cell_type": "markdown",
      "metadata": {
        "id": "RFvUS_6Qdwfn"
      },
      "source": [
        "#### 2.1.2 - Exercício com a Base de Dados de Votos de Congressitas Americanos.\n",
        "- Exemplo de treinamento com todo o conjunto de dados."
      ]
    },
    {
      "cell_type": "code",
      "metadata": {
        "id": "KhMqS60pdwfn",
        "colab": {
          "base_uri": "https://localhost:8080/"
        },
        "outputId": "0271036a-6cff-4a8a-828d-7de1cbc102be"
      },
      "source": [
        "# Import KNeighborsClassifier from sklearn.neighbors   # versão anterir do pacote\n",
        "from sklearn.neighbors import KNeighborsClassifier\n",
        "\n",
        "# Criação de arrays para as features e as targets\n",
        "# Numpy arrays\n",
        "#df = DADOS DOS CONGRESSISTAS\n",
        "\n",
        "y = dfnovo['party'].values\n",
        "X = dfnovo.drop('party', axis=1).values\n",
        "\n",
        "# Criação de um classificador do tipo k-NN com 5 vizinhos\n",
        "knn = KNeighborsClassifier(n_neighbors=5)\n",
        "\n",
        "# Fit do modelo do classificador K-NN\n",
        "knn.fit(X, y)\n",
        "\n",
        "# Predição dos labels para os dados de treino X\n",
        "y_pred = knn.predict(X)\n",
        "\n",
        "# Predição dos labels para os os novos dados de entrada: X_new\n",
        "X_new = np.array([[0,0,0,0,1,1,0,1,0,1,1,0,0,1,1,1]])\n",
        "new_prediction = knn.predict(X_new)\n",
        "print(\"Prediction: {}\".format(new_prediction))"
      ],
      "execution_count": 55,
      "outputs": [
        {
          "output_type": "stream",
          "name": "stdout",
          "text": [
            "Prediction: ['democrat']\n"
          ]
        }
      ]
    },
    {
      "cell_type": "markdown",
      "metadata": {
        "id": "gMa5r032dwfp"
      },
      "source": [
        "Exemplo de treinamento com todo o conjunto de dados:\n",
        "- predição com um dado do conjunto treinado.\n",
        "- predição com um dado não treinado."
      ]
    },
    {
      "cell_type": "markdown",
      "metadata": {
        "id": "zEpgGca4dwfr"
      },
      "source": [
        "#### 2.1.2.a Conjunto de Treinamento e Conjunto de Teste\n",
        "- Separação da base em dois grupos: treinamento e teste\n",
        "    - Treinar com conjunto de teste: .fit(X_train, y_train)\n",
        "    - Analisar a acurácia com o conjuto de teste: .score(X_test, y_test)"
      ]
    },
    {
      "cell_type": "code",
      "metadata": {
        "id": "OIEhdq5ddwfr",
        "colab": {
          "base_uri": "https://localhost:8080/"
        },
        "outputId": "ee04f615-a5fb-4af3-f720-011e83845f66"
      },
      "source": [
        "# Importação dos módulos necessários\n",
        "from sklearn.neighbors import KNeighborsClassifier\n",
        "from sklearn.model_selection import train_test_split\n",
        "\n",
        "# Criaçào do sarrays de feature e target\n",
        "\n",
        "\n",
        "# Separação dos dados de treino e de teste\n",
        "X_train, X_test, y_train, y_test = train_test_split(X,y, test_size = 0.2, random_state=42, stratify=y)\n",
        "\n",
        "# Criação de um modelo de classififcador do tipo k-NN com 7 vizinhos: knn\n",
        "knn = KNeighborsClassifier(n_neighbors=7)\n",
        "\n",
        "# Fit do modelo do classificador para os dados de treino\n",
        "knn.fit(X_train, y_train)\n",
        "\n",
        "# Acurácia do modelo\n",
        "print(knn.score(X_test, y_test))"
      ],
      "execution_count": 56,
      "outputs": [
        {
          "output_type": "stream",
          "name": "stdout",
          "text": [
            "0.9148936170212766\n"
          ]
        }
      ]
    },
    {
      "cell_type": "markdown",
      "metadata": {
        "id": "ge2TDnoqdwft"
      },
      "source": [
        "O que ocorre com o desempenho do K-NN se se aumenta o percentual do conjunto de treinamento?\n",
        "- quanto ao tempo de processamento?\n",
        "- quanto à precisão do treinamento?\n",
        "\n",
        "*Para avaliar o tempo de processamento, use %timeit."
      ]
    },
    {
      "cell_type": "markdown",
      "metadata": {
        "id": "wKI0HXfZdwft"
      },
      "source": [
        "#### 2.1.2.b - Overfitting & underfitting\n",
        "Analisar o que ocorre se aumentar o parâmetro k.\n",
        "- quanto à precisão.\n",
        "- quanto ao desempenho computacional.\n",
        "\n",
        "*Para avaliar o tempo de processamento, use %timeit."
      ]
    },
    {
      "cell_type": "code",
      "metadata": {
        "id": "A6mOs9SWdwft",
        "colab": {
          "base_uri": "https://localhost:8080/",
          "height": 480
        },
        "outputId": "07a96393-5fe6-465c-f546-8527b0c27190"
      },
      "source": [
        "# Configuração dos arrays para armazenarem os valores de acurácia de treino e teste\n",
        "neighbors = np.arange(1, 9)\n",
        "train_accuracy = np.empty(len(neighbors))\n",
        "test_accuracy = np.empty(len(neighbors))\n",
        "\n",
        "# Loop para diferente valores do hiper-parâmetro k\n",
        "for i, k in enumerate(neighbors):\n",
        "    # Configurar um Classificador k-NN como k vizinhos: knn\n",
        "    knn = KNeighborsClassifier(n_neighbors=k)\n",
        "\n",
        "    # Fit do modelo do classificador com os dados de treino\n",
        "    knn.fit(X_train, y_train)\n",
        "\n",
        "    #Computar acurácia com dados de treino\n",
        "    train_accuracy[i] = knn.score(X_train, y_train)\n",
        "\n",
        "    #Computar acurácia com dados de teste\n",
        "    test_accuracy[i] = knn.score(X_test, y_test)\n",
        "\n",
        "# Generação do Gráfico\n",
        "plt.title('k-NN: Varying Number of Neighbors')\n",
        "plt.plot(neighbors, test_accuracy, label = 'Testing Accuracy')\n",
        "plt.plot(neighbors, train_accuracy, label = 'Training Accuracy')\n",
        "plt.legend()\n",
        "plt.xlabel('Number of Neighbors')\n",
        "plt.ylabel('Accuracy')\n",
        "plt.show()"
      ],
      "execution_count": 57,
      "outputs": [
        {
          "output_type": "display_data",
          "data": {
            "text/plain": [
              "<Figure size 640x480 with 1 Axes>"
            ],
            "image/png": "[encoded data removed]"
          },
          "metadata": {}
        }
      ]
    },
    {
      "cell_type": "markdown",
      "metadata": {
        "id": "UjsEpgxHdwfw"
      },
      "source": [
        "### 2.1.3 Exercício para casa: Homework\n",
        "\n",
        "Utilize a base de dado de dígitos do MNIST:\n",
        "\n",
        "site: http://yann.lecun.com/exdb/mnist/\n",
        "\n",
        "O SciKit-Learn possui uma base dados simplificada.\n",
        "\n",
        "- Trate a base de dados, como variáveis features e target.\n",
        "- Separe os conjuntos de treinamento e teste (use o parâmetro test_size = 0.2).\n",
        "- Treine como algorítmos K-NN, para k= 1,3,5,7.\n",
        "- Obtenha os escores dos resultados para esses valores de k."
      ]
    },
    {
      "cell_type": "code",
      "metadata": {
        "id": "zl46okLadwfy"
      },
      "source": [
        "# Exercício de Casa - Homework\n",
        "\n",
        "\n",
        "# Não foi possível fazer o login no site para baixar\n"
      ],
      "execution_count": null,
      "outputs": []
    },
    {
      "cell_type": "code",
      "metadata": {
        "id": "kfMNKz9tdwfw",
        "colab": {
          "base_uri": "https://localhost:8080/",
          "height": 1000
        },
        "outputId": "73fa3a98-014a-44ba-afbd-84db026c7838"
      },
      "source": [
        "# Importação dos módulos necessários\n",
        "from sklearn import datasets\n",
        "import matplotlib.pyplot as plt\n",
        "\n",
        "# CArregar base de dados: digits\n",
        "digits = datasets.load_digits()\n",
        "\n",
        "# Print das keys e DESCR (descrição) da base de dados\n",
        "print(digits.keys())\n",
        "print(digits.DESCR)\n",
        "\n",
        "# Print o shape das imagens e dos data keys\n",
        "print(digits.images.shape)\n",
        "print(digits.data.shape)\n",
        "\n",
        "# Display digit 1010\n",
        "plt.imshow(digits.images[1010], cmap=plt.cm.gray_r, interpolation='nearest')\n",
        "plt.show()"
      ],
      "execution_count": 58,
      "outputs": [
        {
          "output_type": "stream",
          "name": "stdout",
          "text": [
            "dict_keys(['data', 'target', 'frame', 'feature_names', 'target_names', 'images', 'DESCR'])\n",
            ".. _digits_dataset:\n",
            "\n",
            "Optical recognition of handwritten digits dataset\n",
            "--------------------------------------------------\n",
            "\n",
            "**Data Set Characteristics:**\n",
            "\n",
            "    :Number of Instances: 1797\n",
            "    :Number of Attributes: 64\n",
            "    :Attribute Information: 8x8 image of integer pixels in the range 0..16.\n",
            "    :Missing Attribute Values: None\n",
            "    :Creator: E. Alpaydin (alpaydin '@' boun.edu.tr)\n",
            "    :Date: July; 1998\n",
            "\n",
            "This is a copy of the test set of the UCI ML hand-written digits datasets\n",
            "https://archive.ics.uci.edu/ml/datasets/Optical+Recognition+of+Handwritten+Digits\n",
            "\n",
            "The data set contains images of hand-written digits: 10 classes where\n",
            "each class refers to a digit.\n",
            "\n",
            "Preprocessing programs made available by NIST were used to extract\n",
            "normalized bitmaps of handwritten digits from a preprinted form. From a\n",
            "total of 43 people, 30 contributed to the training set and different 13\n",
            "to the test set. 32x32 bitmaps are divided into nonoverlapping blocks of\n",
            "4x4 and the number of on pixels are counted in each block. This generates\n",
            "an input matrix of 8x8 where each element is an integer in the range\n",
            "0..16. This reduces dimensionality and gives invariance to small\n",
            "distortions.\n",
            "\n",
            "For info on NIST preprocessing routines, see M. D. Garris, J. L. Blue, G.\n",
            "T. Candela, D. L. Dimmick, J. Geist, P. J. Grother, S. A. Janet, and C.\n",
            "L. Wilson, NIST Form-Based Handprint Recognition System, NISTIR 5469,\n",
            "1994.\n",
            "\n",
            ".. topic:: References\n",
            "\n",
            "  - C. Kaynak (1995) Methods of Combining Multiple Classifiers and Their\n",
            "    Applications to Handwritten Digit Recognition, MSc Thesis, Institute of\n",
            "    Graduate Studies in Science and Engineering, Bogazici University.\n",
            "  - E. Alpaydin, C. Kaynak (1998) Cascading Classifiers, Kybernetika.\n",
            "  - Ken Tang and Ponnuthurai N. Suganthan and Xi Yao and A. Kai Qin.\n",
            "    Linear dimensionalityreduction using relevance weighted LDA. School of\n",
            "    Electrical and Electronic Engineering Nanyang Technological University.\n",
            "    2005.\n",
            "  - Claudio Gentile. A New Approximate Maximal Margin Classification\n",
            "    Algorithm. NIPS. 2000.\n",
            "\n",
            "(1797, 8, 8)\n",
            "(1797, 64)\n"
          ]
        },
        {
          "output_type": "display_data",
          "data": {
            "text/plain": [
              "<Figure size 640x480 with 1 Axes>"
            ],
            "image/png": "[encoded data removed]"
          },
          "metadata": {}
        }
      ]
    },
    {
      "cell_type": "code",
      "metadata": {
        "id": "yadwB7ZRdwfx",
        "colab": {
          "base_uri": "https://localhost:8080/",
          "height": 654
        },
        "outputId": "967d0e1c-eaec-4895-9956-e953afb1b73d"
      },
      "source": [
        "import matplotlib.pyplot as plt\n",
        "\n",
        "fig, axes = plt.subplots(10, 10, figsize=(8, 8),\n",
        "                         subplot_kw={'xticks':[], 'yticks':[]},\n",
        "                         gridspec_kw=dict(hspace=0.1, wspace=0.1))\n",
        "\n",
        "for i, ax in enumerate(axes.flat):\n",
        "    ax.imshow(digits.images[i], cmap='binary', interpolation='nearest')\n",
        "    ax.text(0.05, 0.05, str(digits.target[i]), transform=ax.transAxes, color='green')"
      ],
      "execution_count": 59,
      "outputs": [
        {
          "output_type": "display_data",
          "data": {
            "text/plain": [
              "<Figure size 800x800 with 100 Axes>"
            ],
            "image/png": "[encoded data removed]"
          },
          "metadata": {}
        }
      ]
    },
    {
      "cell_type": "markdown",
      "metadata": {
        "id": "YdTRqD9v2lij"
      },
      "source": [
        "# 3. Técnicas para Divisão dos Conjuntos de Treinamento e Teste\n",
        "\n",
        "Como se escolhe os dados paar treinamento e validação do modelo tem impacto direto no seu desempnho.\n",
        "\n",
        "Há várias técnicas de escolhas dos dados de treinamento e validação do modelo.\n",
        "    - Amostragem Aleatória (Holdout)\n",
        "    - Valiadação Cruzada (CrossValidation)\n",
        "    - Bootstrap\n",
        "\n",
        "- Amostragem Aleatória é muito utilizada por sua simplicidade.\n",
        "\n",
        "X_train, X_test, y_train, y_test = train_test_split(X,y,test_size = 0.2,        random_state=42, stratify=y)\n",
        "\n",
        "- A técnica de Validação Cruzada é uma das utilizada.\n",
        "\n",
        "scores = cross_val_score(modelo,X,y, cv=3)"
      ]
    },
    {
      "cell_type": "code",
      "metadata": {
        "id": "Sfb8JQAp3yEs",
        "colab": {
          "base_uri": "https://localhost:8080/"
        },
        "outputId": "3db6b6cc-07df-4d5e-c1de-c1d6f08f4b73"
      },
      "source": [
        "# Exemplo com Validação por Amostragem Aleatória\n",
        "\n",
        "from sklearn.datasets import load_iris\n",
        "from sklearn.neighbors import KNeighborsClassifier\n",
        "from sklearn.model_selection import train_test_split\n",
        "\n",
        "iris = load_iris()\n",
        "knn = KNeighborsClassifier(n_neighbors=5)\n",
        "\n",
        "\n",
        "X_train, X_test, y_train, y_test = train_test_split(\n",
        "    iris.data, iris.target, random_state=0)\n",
        "\n",
        "\n",
        "knn.fit(X_train, y_train)\n",
        "print(\"Test set score: {:.2f}\".format(knn.score(X_test, y_test)))"
      ],
      "execution_count": 73,
      "outputs": [
        {
          "output_type": "stream",
          "name": "stdout",
          "text": [
            "Test set score: 0.97\n"
          ]
        }
      ]
    },
    {
      "cell_type": "code",
      "metadata": {
        "id": "N11devhJ31w-",
        "colab": {
          "base_uri": "https://localhost:8080/"
        },
        "outputId": "12968ee8-451c-4b29-ca94-32334323e183"
      },
      "source": [
        "# Exemplo com Validação Cruzada\n",
        "\n",
        "from sklearn.datasets import load_iris\n",
        "from sklearn.neighbors import KNeighborsClassifier\n",
        "from sklearn.model_selection import cross_val_score\n",
        "\n",
        "iris = load_iris()\n",
        "knn = KNeighborsClassifier(n_neighbors=5)\n",
        "\n",
        "#knn.fit(iris.data, iris.target)\n",
        "\n",
        "scores = cross_val_score(knn, iris.data, iris.target)\n",
        "print(\"Cross-validation scores: {}\".format(scores))"
      ],
      "execution_count": 61,
      "outputs": [
        {
          "output_type": "stream",
          "name": "stdout",
          "text": [
            "Cross-validation scores: [0.96666667 1.         0.93333333 0.96666667 1.        ]\n"
          ]
        }
      ]
    },
    {
      "cell_type": "code",
      "metadata": {
        "id": "zKZNPofZ375l",
        "colab": {
          "base_uri": "https://localhost:8080/"
        },
        "outputId": "2ca5b542-4f48-47d6-a983-60bd8982d63c"
      },
      "source": [
        "# Exemplo com Validação Cruzada\n",
        "# Definindo o número de Folds (cv) - o padrão é cv=3\n",
        "\n",
        "scores = cross_val_score(knn, iris.data, iris.target, cv=3)\n",
        "print(\"Cross-validation scores: {}\".format(scores))"
      ],
      "execution_count": 62,
      "outputs": [
        {
          "output_type": "stream",
          "name": "stdout",
          "text": [
            "Cross-validation scores: [0.98 0.98 0.98]\n"
          ]
        }
      ]
    },
    {
      "cell_type": "markdown",
      "metadata": {
        "id": "C43-ajZfKtVR"
      },
      "source": [
        "# 4. Métricas de Avaliação de Modelos\n",
        "- Taxa de Acerto\n",
        "- Acurácia\n",
        "- Precisão\n",
        "- Recall\n",
        "- Matriz de Confusão"
      ]
    },
    {
      "cell_type": "code",
      "metadata": {
        "id": "fu7Nbqk5LUMV"
      },
      "source": [
        "# Exemplo de métricas de avaliação de classificadores\n",
        "\n",
        "from sklearn.metrics import classification_report\n",
        "from sklearn.metrics import confusion_matrix\n",
        "\n",
        "knn = KNeighborsClassifier(n_neighbors=1)\n",
        "X = iris.data\n",
        "y = iris.target\n",
        "X_train, X_test, y_train, y_test = train_test_split(X, y,\n",
        "                                test_size=0.5, random_state=0)\n",
        "knn.fit(X_train, y_train)\n",
        "y_pred = knn.predict(X_test)"
      ],
      "execution_count": 80,
      "outputs": []
    },
    {
      "cell_type": "code",
      "metadata": {
        "id": "i5fetuT1LhXz",
        "colab": {
          "base_uri": "https://localhost:8080/"
        },
        "outputId": "1ab4d36d-b347-4d4b-ac8e-1fa78bf45278"
      },
      "source": [
        "y_pred1 = knn.fit(X_train, y_train).predict(X_test)\n",
        "print(y_pred - y_pred1)"
      ],
      "execution_count": 81,
      "outputs": [
        {
          "output_type": "stream",
          "name": "stdout",
          "text": [
            "[0 0 0 0 0 0 0 0 0 0 0 0 0 0 0 0 0 0 0 0 0 0 0 0 0 0 0 0 0 0 0 0 0 0 0 0 0\n",
            " 0 0 0 0 0 0 0 0 0 0 0 0 0 0 0 0 0 0 0 0 0 0 0 0 0 0 0 0 0 0 0 0 0 0 0 0 0\n",
            " 0]\n"
          ]
        }
      ]
    },
    {
      "cell_type": "code",
      "metadata": {
        "id": "XH52fNcYLirY",
        "colab": {
          "base_uri": "https://localhost:8080/"
        },
        "outputId": "a2094bbc-8a7b-4d96-f97c-8d9eaa4a3b99"
      },
      "source": [
        "# Calculando a Acurácia\n",
        "\n",
        "from sklearn.metrics import accuracy_score\n",
        "model = KNeighborsClassifier(n_neighbors=1)\n",
        "model.fit(X_train, y_train)\n",
        "y_model = model.predict(X_test)\n",
        "accuracy_score(y_test, y_model)"
      ],
      "execution_count": 82,
      "outputs": [
        {
          "output_type": "execute_result",
          "data": {
            "text/plain": [
              "0.9066666666666666"
            ]
          },
          "metadata": {},
          "execution_count": 82
        }
      ]
    },
    {
      "cell_type": "code",
      "metadata": {
        "id": "OgRyU8hILmPu",
        "colab": {
          "base_uri": "https://localhost:8080/"
        },
        "outputId": "04f3c4da-1cbc-4c66-f84e-d4861006db0d"
      },
      "source": [
        "# Obtendo a Matriz de Confusão\n",
        "mat = confusion_matrix(y_test, y_pred)\n",
        "print(mat)"
      ],
      "execution_count": 83,
      "outputs": [
        {
          "output_type": "stream",
          "name": "stdout",
          "text": [
            "[[21  0  0]\n",
            " [ 0 28  2]\n",
            " [ 0  5 19]]\n"
          ]
        }
      ]
    },
    {
      "cell_type": "code",
      "metadata": {
        "id": "UgiGgKk4LqzD",
        "colab": {
          "base_uri": "https://localhost:8080/"
        },
        "outputId": "0f35c0bc-3190-4081-d1fb-fd9e8caa60c3"
      },
      "source": [
        "# Geração de relatório\n",
        "\n",
        "print(classification_report(y_test, y_pred))"
      ],
      "execution_count": 84,
      "outputs": [
        {
          "output_type": "stream",
          "name": "stdout",
          "text": [
            "              precision    recall  f1-score   support\n",
            "\n",
            "           0       1.00      1.00      1.00        21\n",
            "           1       0.85      0.93      0.89        30\n",
            "           2       0.90      0.79      0.84        24\n",
            "\n",
            "    accuracy                           0.91        75\n",
            "   macro avg       0.92      0.91      0.91        75\n",
            "weighted avg       0.91      0.91      0.91        75\n",
            "\n"
          ]
        }
      ]
    },
    {
      "cell_type": "markdown",
      "metadata": {
        "id": "-jMuXnyULzC9"
      },
      "source": [
        "Plote da Matriz de Confusão com recursos do Seaborn."
      ]
    },
    {
      "cell_type": "code",
      "metadata": {
        "id": "PJ4uiQ_6L1cm"
      },
      "source": [
        "%matplotlib inline\n",
        "import numpy as np\n",
        "import matplotlib.pyplot as plt\n",
        "import seaborn as sns; sns.set()"
      ],
      "execution_count": 85,
      "outputs": []
    },
    {
      "cell_type": "code",
      "metadata": {
        "id": "eMXdFOeOL58l",
        "colab": {
          "base_uri": "https://localhost:8080/",
          "height": 458
        },
        "outputId": "a08e5e42-aeaf-4022-8d33-3e95a57df886"
      },
      "source": [
        "from sklearn.metrics import confusion_matrix\n",
        "\n",
        "sns.heatmap(mat.T, square=True, annot=True, fmt='d', cbar=False,\n",
        "xticklabels=iris.target_names, yticklabels=iris.target_names)\n",
        "plt.xlabel('true label')\n",
        "plt.ylabel('predicted label');"
      ],
      "execution_count": 86,
      "outputs": [
        {
          "output_type": "display_data",
          "data": {
            "text/plain": [
              "<Figure size 640x480 with 1 Axes>"
            ],
            "image/png": "[encoded data removed]"
          },
          "metadata": {}
        }
      ]
    },
    {
      "cell_type": "markdown",
      "metadata": {
        "id": "Ke6ADCSiMUjG"
      },
      "source": [
        "# 5. Normalização de Dados\n",
        "O Pacote Sklearn possui várias outras funcionalidades para facilitar o desenvolvimento de aplicações baseadas em técnicas de aprendizagem de máquinas. Um exemplo é a normalização de dados de entrada do modelo.\n",
        "\n",
        "- Refazendo o exemplo de classificação do dataset Iris com K-NN."
      ]
    },
    {
      "cell_type": "code",
      "metadata": {
        "id": "XuEJ8BWoMX19",
        "colab": {
          "base_uri": "https://localhost:8080/"
        },
        "outputId": "aa1549d6-671e-4e7d-94e0-9910ff7e5214"
      },
      "source": [
        "# Normalização com valores padrões\n",
        "from sklearn.preprocessing import scale\n",
        "\n",
        "# X_scaled = scale(X, axis=0, with_mean=True, with_std=True, copy=True)\n",
        "X_scaled = scale(X)\n",
        "np.mean(X), np.std(X)"
      ],
      "execution_count": 87,
      "outputs": [
        {
          "output_type": "execute_result",
          "data": {
            "text/plain": [
              "(3.4644999999999997, 1.9738430577598278)"
            ]
          },
          "metadata": {},
          "execution_count": 87
        }
      ]
    },
    {
      "cell_type": "code",
      "metadata": {
        "id": "qv7aidNLM4hC",
        "colab": {
          "base_uri": "https://localhost:8080/"
        },
        "outputId": "e2ef38a1-bc27-4162-a453-42c9e9e28511"
      },
      "source": [
        "np.mean(X_scaled), np.std(X_scaled)"
      ],
      "execution_count": 88,
      "outputs": [
        {
          "output_type": "execute_result",
          "data": {
            "text/plain": [
              "(-1.4684549872375404e-15, 1.0)"
            ]
          },
          "metadata": {},
          "execution_count": 88
        }
      ]
    },
    {
      "cell_type": "code",
      "metadata": {
        "id": "L59lgwFBM9TT"
      },
      "source": [
        "# Divisão dos dados e treinamento com dados escalonados\n",
        "\n",
        "knn_scaled = KNeighborsClassifier(n_neighbors=1)\n",
        "\n",
        "X_train_scaled, X_test_scaled, y_train, y_test = train_test_split(X_scaled, y,\n",
        "                                test_size=0.5, random_state=0)\n",
        "knn_scaled.fit(X_train_scaled, y_train)\n",
        "y_pred_scaled = knn.predict(X_test_scaled)"
      ],
      "execution_count": 89,
      "outputs": []
    },
    {
      "cell_type": "code",
      "metadata": {
        "id": "79jUjQLLNBVb",
        "colab": {
          "base_uri": "https://localhost:8080/"
        },
        "outputId": "d3f27152-b54a-450e-d4c0-17910971d322"
      },
      "source": [
        "print(\"Test set score : {:.2f}\".format(knn.score(X_test, y_test)))"
      ],
      "execution_count": 90,
      "outputs": [
        {
          "output_type": "stream",
          "name": "stdout",
          "text": [
            "Test set score : 0.91\n"
          ]
        }
      ]
    },
    {
      "cell_type": "code",
      "metadata": {
        "id": "18R0HAhGNFgH",
        "colab": {
          "base_uri": "https://localhost:8080/"
        },
        "outputId": "23fdfe7e-8bf1-4ffa-8e99-54fc5f344a6b"
      },
      "source": [
        "print(\"Test set score: {:.2f}\".format(knn_scaled.score(X_test_scaled, y_test)))"
      ],
      "execution_count": 91,
      "outputs": [
        {
          "output_type": "stream",
          "name": "stdout",
          "text": [
            "Test set score: 0.91\n"
          ]
        }
      ]
    },
    {
      "cell_type": "markdown",
      "metadata": {
        "id": "DXUMKvyfNPRA"
      },
      "source": [
        "### Exercício para Casa- dataset Breast_cancer"
      ]
    },
    {
      "cell_type": "code",
      "metadata": {
        "id": "VlnkNuF-NKNa"
      },
      "source": [
        "from sklearn.datasets import load_breast_cancer\n",
        "from sklearn.model_selection import train_test_split\n",
        "from sklearn.preprocessing import MinMaxScaler\n",
        "\n",
        "\n",
        "# carregar e seperar os dados paar treino e teste\n",
        "cancer = load_breast_cancer()\n",
        "X_train, X_test, y_train, y_test = train_test_split(cancer.data, cancer.target, random_state=0)\n",
        "\n",
        "# computar os valores mínimos e máximos para os dados de treino\n",
        "scaler = MinMaxScaler().fit(X_train)\n",
        "\n",
        "# reescalonar os dados de treino\n",
        "X_train_scaled = scaler.transform(X_train)"
      ],
      "execution_count": 92,
      "outputs": []
    },
    {
      "cell_type": "code",
      "metadata": {
        "id": "KedgLqW4NY9j"
      },
      "source": [
        "# Complete o exercício com treinamento com o algoritmo K-NN\n",
        "knn2 = KNeighborsClassifier(n_neighbors=1)"
      ],
      "execution_count": 93,
      "outputs": []
    },
    {
      "cell_type": "code",
      "metadata": {
        "id": "ththR1UfNcpj",
        "colab": {
          "base_uri": "https://localhost:8080/"
        },
        "outputId": "f09f5124-923f-43e5-b98f-afc9aea6b801"
      },
      "source": [
        "\n",
        "# Aprendizagem do modelo K-NN com dados de treino escalonados\n",
        "knn2.fit(X_train_scaled, y_train)\n",
        "# escalonar dados de teste e escores com dados escalonados\n",
        "X_test_scaled = scaler.transform(X_test)\n",
        "print(\"Test score: {:.2f}\".format(knn2.score(X_test_scaled, y_test)))"
      ],
      "execution_count": 96,
      "outputs": [
        {
          "output_type": "stream",
          "name": "stdout",
          "text": [
            "Test score: 0.94\n"
          ]
        }
      ]
    },
    {
      "cell_type": "markdown",
      "metadata": {
        "id": "E8dqzp3dsz_u"
      },
      "source": [
        "# 6. Pipelines\n",
        "- O processo de pré-tratamento de dados pode se tornar rapidamente tedioso se for realizado \"à mão\", especialmente se desejar encadear várias etapas.\n",
        "- Para tornar o pré-processmento dos dados mais automatizado, o SciKit-Learn possui uma classe pipeline:\n",
        "    - from sklearn.pipeline import make_pipeline\n",
        "\n",
        "- Um Pipeline básico é composto tipicamente das seguintes etapas:\n",
        "    - Tratamento de Dados Faltantes - Missing Data\n",
        "    - Escalonamento de Dados\n",
        "    - Busca por hiperparâmetros adequados para os modelos de Aprendizagem de Máquina\n"
      ]
    },
    {
      "cell_type": "markdown",
      "metadata": {
        "id": "tQMWwHbNtZ3y"
      },
      "source": [
        "## 6.1. Pipeline - Etapa de Missing Data\n",
        "Etapa de pré-processamento de dados destinada remoção de dados inadequados (outliers, errados, etc) e ou imputação de dados quando houver dados faltantes."
      ]
    },
    {
      "cell_type": "code",
      "metadata": {
        "id": "OzDJtB4FurXk"
      },
      "source": [
        "# Considerando a base de dados Iris\n",
        "from sklearn.datasets import load_iris\n",
        "\n",
        "# Importação dos módulos necessários\n",
        "from sklearn.neighbors import KNeighborsClassifier\n",
        "from sklearn.model_selection import train_test_split\n",
        "from sklearn.metrics import classification_report\n",
        "\n",
        "import matplotlib.pyplot as plt\n",
        "import pandas as pd\n",
        "import numpy as np\n",
        "\n",
        "iris = load_iris()\n",
        "X = iris.data\n",
        "y = iris.target"
      ],
      "execution_count": 97,
      "outputs": []
    },
    {
      "cell_type": "code",
      "metadata": {
        "id": "9ubwJc0gut5R"
      },
      "source": [
        "from sklearn.pipeline import Pipeline\n",
        "from sklearn.impute import SimpleImputer\n",
        "\n",
        "# Imputar o valor médio onde houver NAN.\n",
        "imp = SimpleImputer(missing_values=np.nan, strategy='mean')\n",
        "\n",
        "# Imputar o valor mais frequente onde houver NAN.\n",
        "#imp = SimpleImputer(missing_values=np.nan, strategy='most_frequent')\n",
        "\n",
        "\n",
        "knn1 = KNeighborsClassifier(n_neighbors=3)\n",
        "\n",
        "\n",
        "steps = [('imputation', imp), ('knn', knn1)]\n",
        "pipeline = Pipeline(steps)\n",
        "\n",
        "X_train, X_test, y_train, y_test = train_test_split(X, y,test_size=0.3, random_state=42)"
      ],
      "execution_count": 98,
      "outputs": []
    },
    {
      "cell_type": "code",
      "metadata": {
        "id": "VKnO-I7YuwX8",
        "colab": {
          "base_uri": "https://localhost:8080/"
        },
        "outputId": "39a40636-484a-492e-d2d8-f2bcbe82f83a"
      },
      "source": [
        "# Fit - Pipeline\n",
        "\n",
        "pipeline.fit(X_train, y_train)\n",
        "\n",
        "# Predict - no Pipeline\n",
        "y_pred = pipeline.predict(X_test)\n",
        "\n",
        "print(pipeline.score(X_test, y_test))"
      ],
      "execution_count": 102,
      "outputs": [
        {
          "output_type": "stream",
          "name": "stdout",
          "text": [
            "1.0\n"
          ]
        }
      ]
    },
    {
      "cell_type": "code",
      "metadata": {
        "id": "AQVpZiETu8PE",
        "colab": {
          "base_uri": "https://localhost:8080/"
        },
        "outputId": "7d329f7b-2c51-49a3-a1b8-0adbc3f82570"
      },
      "source": [
        "# Computação de métricas\n",
        "print(classification_report(y_test, y_pred))"
      ],
      "execution_count": 103,
      "outputs": [
        {
          "output_type": "stream",
          "name": "stdout",
          "text": [
            "              precision    recall  f1-score   support\n",
            "\n",
            "           0       1.00      1.00      1.00        19\n",
            "           1       1.00      1.00      1.00        13\n",
            "           2       1.00      1.00      1.00        13\n",
            "\n",
            "    accuracy                           1.00        45\n",
            "   macro avg       1.00      1.00      1.00        45\n",
            "weighted avg       1.00      1.00      1.00        45\n",
            "\n"
          ]
        }
      ]
    },
    {
      "cell_type": "markdown",
      "metadata": {
        "id": "lAUVzIfUI3Rq"
      },
      "source": [
        "## 6.2. Pipeline - Etapa de Escalonamento de Dados\n",
        "Etapa de pré-processamento de dados destinada normalizar os valores das features dos modelos de aprendizagem de máquina, para que não haja preponderância de influência entre elas."
      ]
    },
    {
      "cell_type": "code",
      "metadata": {
        "id": "oAnYFBbJJX83",
        "colab": {
          "base_uri": "https://localhost:8080/"
        },
        "outputId": "edbf07b0-e193-45dc-b501-8f171d114949"
      },
      "source": [
        "# Importação dos módulos necessários\n",
        "from sklearn.preprocessing import StandardScaler\n",
        "from sklearn.pipeline import Pipeline\n",
        "from sklearn.neighbors import KNeighborsClassifier\n",
        "from sklearn.model_selection import train_test_split\n",
        "\n",
        "# Setup do pipeline\n",
        "steps = [('scaler', StandardScaler()),\n",
        "        ('knn', KNeighborsClassifier())]\n",
        "\n",
        "# Criação do Pipeline: pipeline\n",
        "pipeline = Pipeline(steps)\n",
        "\n",
        "# Criação dos conjuntos de treino e teste\n",
        "X_train, X_test, y_train, y_test = train_test_split(X, y, test_size=0.3, random_state=42)\n",
        "\n",
        "# Fit do pipeline par ao conjunto de treino: knn_scaled\n",
        "knn_scaled = pipeline.fit(X_train, y_train)\n",
        "\n",
        "# Instanciação e fit de um classificador do tipo k-NN com dados não escalonados\n",
        "knn_unscaled = KNeighborsClassifier().fit(X_train, y_train)\n",
        "\n",
        "# Computação de métricas de desempenho\n",
        "print('Accuracy with Scaling: {}'.format(knn_scaled.score(X_test, y_test)))\n",
        "print('Accuracy without Scaling: {}'.format(knn_unscaled.score(X_test, y_test)))"
      ],
      "execution_count": 104,
      "outputs": [
        {
          "output_type": "stream",
          "name": "stdout",
          "text": [
            "Accuracy with Scaling: 1.0\n",
            "Accuracy without Scaling: 1.0\n"
          ]
        }
      ]
    },
    {
      "cell_type": "markdown",
      "metadata": {
        "id": "_-sk-8ZcK7r8"
      },
      "source": [
        "## 6.3. Pipeline - Etapa Busca por valor de Hiper-parâmetros\n",
        "`-  Utilização do método GridSearchCV(.) para se avaliar o desempenho do modelo para um conjunto de valores de hiper-parâmetros.`"
      ]
    },
    {
      "cell_type": "code",
      "metadata": {
        "id": "OkEBDGaBLj-Y",
        "colab": {
          "base_uri": "https://localhost:8080/"
        },
        "outputId": "02d28ef6-5e1a-4c5b-9552-8b7a9f978af0"
      },
      "source": [
        "from sklearn.model_selection import GridSearchCV\n",
        "from sklearn.metrics import classification_report\n",
        "\n",
        "steps2 = [('scaler', StandardScaler()),\n",
        "        ('knn', KNeighborsClassifier())]\n",
        "\n",
        "pipeline2 = Pipeline(steps2)\n",
        "\n",
        "X_train, X_test, y_train, y_test = train_test_split(X, y, test_size=0.2, random_state=21)\n",
        "\n",
        "\n",
        "\n",
        "#n_neighbors\n",
        "parameters = {'knn__n_neighbors': [1,3,5,7,9]}\n",
        "cv = GridSearchCV(pipeline2, param_grid=parameters)\n",
        "\n",
        "cv.fit(X_train, y_train)\n",
        "y_pred = cv.predict(X_test)\n",
        "print(y_pred)"
      ],
      "execution_count": 105,
      "outputs": [
        {
          "output_type": "stream",
          "name": "stdout",
          "text": [
            "[1 0 0 0 1 1 0 2 0 0 1 1 2 2 0 1 2 1 0 2 2 1 2 1 0 1 0 0 1 2]\n"
          ]
        }
      ]
    },
    {
      "cell_type": "code",
      "metadata": {
        "id": "Kq-meIeKLov2",
        "colab": {
          "base_uri": "https://localhost:8080/"
        },
        "outputId": "5b673b6c-1a2d-4c2a-c781-fa9d628c4a12"
      },
      "source": [
        "print(cv.best_params_)"
      ],
      "execution_count": 106,
      "outputs": [
        {
          "output_type": "stream",
          "name": "stdout",
          "text": [
            "{'knn__n_neighbors': 3}\n"
          ]
        }
      ]
    },
    {
      "cell_type": "code",
      "metadata": {
        "id": "AuG9gupOK2kX",
        "colab": {
          "base_uri": "https://localhost:8080/"
        },
        "outputId": "0fa7f5e7-15da-454f-f4aa-76d792bfdad6"
      },
      "source": [
        "print(cv.score(X_test, y_test))"
      ],
      "execution_count": 107,
      "outputs": [
        {
          "output_type": "stream",
          "name": "stdout",
          "text": [
            "0.9666666666666667\n"
          ]
        }
      ]
    },
    {
      "cell_type": "code",
      "metadata": {
        "id": "m506-x5_LuG-",
        "colab": {
          "base_uri": "https://localhost:8080/"
        },
        "outputId": "98c02323-6ae8-446b-90d3-9d0c63c2a0f9"
      },
      "source": [
        "print(classification_report(y_test, y_pred))"
      ],
      "execution_count": 109,
      "outputs": [
        {
          "output_type": "stream",
          "name": "stdout",
          "text": [
            "              precision    recall  f1-score   support\n",
            "\n",
            "           0       1.00      1.00      1.00        11\n",
            "           1       1.00      0.92      0.96        12\n",
            "           2       0.88      1.00      0.93         7\n",
            "\n",
            "    accuracy                           0.97        30\n",
            "   macro avg       0.96      0.97      0.96        30\n",
            "weighted avg       0.97      0.97      0.97        30\n",
            "\n"
          ]
        }
      ]
    },
    {
      "cell_type": "markdown",
      "metadata": {
        "id": "AcT2MBHBNCwQ"
      },
      "source": [
        "## 6.4. Pipeline - Exemplo com classificador SVM"
      ]
    },
    {
      "cell_type": "code",
      "metadata": {
        "id": "oCAFJvECM93S",
        "colab": {
          "base_uri": "https://localhost:8080/"
        },
        "outputId": "d811ab4a-8fb4-4d16-ee28-82b8fd63d634"
      },
      "source": [
        "# Exemplo de uso do Pipeline com classificador SVM\n",
        "\n",
        "from sklearn.svm import SVC\n",
        "\n",
        "# Setup do pipeline\n",
        "steps = [('scaler', StandardScaler()),\n",
        "         ('SVM', SVC())]\n",
        "\n",
        "pipeline = Pipeline(steps)\n",
        "\n",
        "# Definição do espaço de hiper-parâmetros analisado\n",
        "parameters = {'SVM__C':[1, 10, 100],\n",
        "              'SVM__gamma':[0.1, 0.01]}\n",
        "\n",
        "# Criação dos conjuntos de treino e de teste\n",
        "X_train, X_test, y_train, y_test = train_test_split(X, y, test_size=0.2, random_state=21)\n",
        "\n",
        "# Instanciação do objeto GridSearchCV object: cv\n",
        "cv = GridSearchCV(pipeline, parameters)\n",
        "\n",
        "# Fit para o conjunto de treino\n",
        "cv.fit(X_train, y_train)\n",
        "\n",
        "# Predição dos rótulos do conjunto de teste: y_pred\n",
        "y_pred = cv.predict(X_test)\n",
        "\n",
        "# Computação das métricas de desempenho\n",
        "print(\"Accuracy: {}\".format(cv.score(X_test, y_test)))\n",
        "print(classification_report(y_test, y_pred))\n",
        "print(\"Tuned Model Parameters: {}\".format(cv.best_params_))"
      ],
      "execution_count": 110,
      "outputs": [
        {
          "output_type": "stream",
          "name": "stdout",
          "text": [
            "Accuracy: 0.9333333333333333\n",
            "              precision    recall  f1-score   support\n",
            "\n",
            "           0       1.00      1.00      1.00        11\n",
            "           1       1.00      0.83      0.91        12\n",
            "           2       0.78      1.00      0.88         7\n",
            "\n",
            "    accuracy                           0.93        30\n",
            "   macro avg       0.93      0.94      0.93        30\n",
            "weighted avg       0.95      0.93      0.93        30\n",
            "\n",
            "Tuned Model Parameters: {'SVM__C': 10, 'SVM__gamma': 0.1}\n"
          ]
        }
      ]
    },
    {
      "cell_type": "markdown",
      "metadata": {
        "id": "v3gMx_fF98ZK"
      },
      "source": [
        "## Sugestão de Pacote para se fazer Pipeline\n",
        "\n",
        "Como desenvolver uma aplicação baseada em aprendizagem de máquinas envolve várias etapas no tratamento e processamento dos dados, há a necessidade de se automatizar ao máximo essas atividades. Para isto, gera-e um procedimento sistemático para automatizar todo ou parte do processo, que é conhecido como Pipeline de processamento de Aprendizagem de Máquina.\n",
        "\n",
        "Pacote Dabl:\n",
        "- Opção para se criar pipeline para baseline (soluções básicas)\n",
        "- Inclui pré-processamento e modelagem de aprendizagem de máquinas\n",
        "\n",
        "https://towardsdatascience.com/creating-baseline-machine-learning-models-d40c99243311"
      ]
    }
  ]
}